{
 "cells": [
  {
   "cell_type": "markdown",
   "id": "8c2400b7",
   "metadata": {},
   "source": [
    "# **Quick Quality Check**\n",
    "\n",
    "This notebook performs a quick quality check on the Reddit data:\n",
    "- Data distributions\n",
    "- Sample review\n",
    "- Basic statistics\n",
    "\n",
    "[Next: Exploratory Data Analysis →](02_eda_weaklabels.ipynb)"
   ]
  },
  {
   "cell_type": "markdown",
   "id": "22eb63b6",
   "metadata": {},
   "source": []
  }
 ],
 "metadata": {
  "language_info": {
   "name": "python"
  }
 },
 "nbformat": 4,
 "nbformat_minor": 5
}

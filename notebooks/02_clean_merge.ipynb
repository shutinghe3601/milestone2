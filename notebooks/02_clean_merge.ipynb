{
 "cells": [
  {
   "cell_type": "markdown",
   "id": "acb6cac4",
   "metadata": {},
   "source": [
    "[← Previous: Quick Quality Check](01_quick_qc.ipynb)\n",
    "\n",
    "# **Cleaning & Merge**\n",
    "\n",
    "\n",
    "This notebook cleans raw Reddit submissions and comments, then merges them into an analysis ready dataset. We preserve negations for sentiment analysis, extract top-level comments ranked by score, and filter out near-empty posts to ensure content quality.\n",
    "\n",
    "**Process:**\n",
    "1. Load and clean submissions (6,503 posts) and comments\n",
    "2. Normalize text while preserving negations (`not`, `never`, `no`)\n",
    "3. Extract top-5 comments per post (ranked by score, depth=0 only)\n",
    "4. Merge into the final dataset with combined text fields\n",
    "5. Apply quality filters (minimum seven tokens per post)\n",
    "\n",
    "**Output:** `reddit_anxiety_v1.parquet` with 6,283 posts, each containing title, selftext, and top comments in `text_all` field."
   ]
  },
  {
   "cell_type": "markdown",
   "id": "0ad44995",
   "metadata": {},
   "source": [
    "---"
   ]
  },
  {
   "cell_type": "markdown",
   "id": "8ed79203",
   "metadata": {},
   "source": [
    "## Table of Contents\n",
    "\n",
    "- [1. BEFORE: quick peek at raw files](#1-before-quick-peek-at-raw-files)\n",
    "- [2. Normalize & light clean](#2-normalize--light-clean)\n",
    "- [3. BEFORE metrics snapshot](#3-before-metrics-snapshot)\n",
    "- [4. Build `comments_concat` (top‑k by score)](#4-build-comments_concat-topk-by-score)\n",
    "- [5. AFTER: merge into a single row per submission](#5-after-merge-into-a-single-row-per-submission)\n",
    "- [6. Save artifacts](#6-save-artifacts)\n",
    "- [7. Quick QC figures](#7-quick-qc-figures)\n",
    "- [8. Parameters & summary](#8-parameters--summary)\n",
    "\n",
    "[Next: Topic Modeling with NMF →](03_topic_modeling_byNMF.ipynb)"
   ]
  },
  {
   "cell_type": "markdown",
   "id": "e197f2d8",
   "metadata": {},
   "source": [
    "---"
   ]
  },
  {
   "cell_type": "code",
   "execution_count": 52,
   "id": "6d85ec2d",
   "metadata": {},
   "outputs": [
    {
     "name": "stdout",
     "output_type": "stream",
     "text": [
      "Note: you may need to restart the kernel to use updated packages.\n"
     ]
    }
   ],
   "source": [
    "# remove -q to see output\n",
    "%pip install -q -r ../requirements.txt"
   ]
  },
  {
   "cell_type": "code",
   "execution_count": 53,
   "id": "72c963db",
   "metadata": {},
   "outputs": [
    {
     "name": "stdout",
     "output_type": "stream",
     "text": [
      "Exists: True True\n"
     ]
    }
   ],
   "source": [
    "# Import required libraries\n",
    "from pathlib import Path\n",
    "import pandas as pd\n",
    "import numpy as np\n",
    "import json\n",
    "import re\n",
    "from itertools import islice\n",
    "import matplotlib.pyplot as plt\n",
    "import seaborn as sns\n",
    "\n",
    "# Set up directory paths for data pipeline\n",
    "DATA_RAW = Path(\"../data/raw\")                                                           # Raw input data\n",
    "DATA_INTERIM = Path(\"../data/interim\"); DATA_INTERIM.mkdir(parents=True, exist_ok=True)  # Intermediate cleaned data\n",
    "DATA_PROC = Path(\"../data/processed\"); DATA_PROC.mkdir(parents=True, exist_ok=True)      # Final processed data\n",
    "ARTIFACTS = Path(\"../artifacts/images/\"); ARTIFACTS.mkdir(parents=True, exist_ok=True)   # Output figures\n",
    "\n",
    "# Define input file paths\n",
    "RAW_SUBS = DATA_RAW / \"submission.jsonl\"    # Reddit submissions data\n",
    "RAW_COMS = DATA_RAW / \"comments_topk.jsonl\" # Reddit comments data\n",
    "\n",
    "# Verify input files exist\n",
    "print(\"Exists:\", RAW_SUBS.exists(), RAW_COMS.exists())\n"
   ]
  },
  {
   "cell_type": "markdown",
   "id": "ffc81a33",
   "metadata": {},
   "source": [
    "---"
   ]
  },
  {
   "cell_type": "markdown",
   "id": "78bef510",
   "metadata": {},
   "source": [
    "\n",
    "## **1. BEFORE: quick peek at raw files**\n",
    "We sample a few lines from each JSONL to show the schema and typical values.\n"
   ]
  },
  {
   "cell_type": "code",
   "execution_count": 54,
   "id": "eefe10c2",
   "metadata": {},
   "outputs": [
    {
     "data": {
      "text/html": [
       "<div>\n",
       "<style scoped>\n",
       "    .dataframe tbody tr th:only-of-type {\n",
       "        vertical-align: middle;\n",
       "    }\n",
       "\n",
       "    .dataframe tbody tr th {\n",
       "        vertical-align: top;\n",
       "    }\n",
       "\n",
       "    .dataframe thead th {\n",
       "        text-align: right;\n",
       "    }\n",
       "</style>\n",
       "<table border=\"1\" class=\"dataframe\">\n",
       "  <thead>\n",
       "    <tr style=\"text-align: right;\">\n",
       "      <th></th>\n",
       "      <th>post_id</th>\n",
       "      <th>subreddit</th>\n",
       "      <th>created_utc</th>\n",
       "      <th>title</th>\n",
       "      <th>selftext</th>\n",
       "      <th>score</th>\n",
       "      <th>num_comments</th>\n",
       "      <th>upvote_ratio</th>\n",
       "      <th>over_18</th>\n",
       "      <th>removed_by_category</th>\n",
       "    </tr>\n",
       "  </thead>\n",
       "  <tbody>\n",
       "    <tr>\n",
       "      <th>0</th>\n",
       "      <td>1nkes7e</td>\n",
       "      <td>Anxiety</td>\n",
       "      <td>1.758217e+09</td>\n",
       "      <td>Terrified of my symptoms</td>\n",
       "      <td>So I just got over a nasty cold but the cough ...</td>\n",
       "      <td>1</td>\n",
       "      <td>0</td>\n",
       "      <td>1.0</td>\n",
       "      <td>False</td>\n",
       "      <td>None</td>\n",
       "    </tr>\n",
       "    <tr>\n",
       "      <th>1</th>\n",
       "      <td>1nkes09</td>\n",
       "      <td>Anxiety</td>\n",
       "      <td>1.758217e+09</td>\n",
       "      <td>Does anyone else here have chronic tinnitus?</td>\n",
       "      <td>This crap is driving me insane.\\n\\nI’ve been a...</td>\n",
       "      <td>1</td>\n",
       "      <td>0</td>\n",
       "      <td>1.0</td>\n",
       "      <td>False</td>\n",
       "      <td>None</td>\n",
       "    </tr>\n",
       "    <tr>\n",
       "      <th>2</th>\n",
       "      <td>1njtn2a</td>\n",
       "      <td>Anxiety</td>\n",
       "      <td>1.758154e+09</td>\n",
       "      <td>I can't sleep anymore</td>\n",
       "      <td>Hey everyone, I've been diagnosed with anxiety...</td>\n",
       "      <td>1</td>\n",
       "      <td>1</td>\n",
       "      <td>1.0</td>\n",
       "      <td>False</td>\n",
       "      <td>None</td>\n",
       "    </tr>\n",
       "  </tbody>\n",
       "</table>\n",
       "</div>"
      ],
      "text/plain": [
       "   post_id subreddit   created_utc  \\\n",
       "0  1nkes7e   Anxiety  1.758217e+09   \n",
       "1  1nkes09   Anxiety  1.758217e+09   \n",
       "2  1njtn2a   Anxiety  1.758154e+09   \n",
       "\n",
       "                                          title  \\\n",
       "0                      Terrified of my symptoms   \n",
       "1  Does anyone else here have chronic tinnitus?   \n",
       "2                         I can't sleep anymore   \n",
       "\n",
       "                                            selftext  score  num_comments  \\\n",
       "0  So I just got over a nasty cold but the cough ...      1             0   \n",
       "1  This crap is driving me insane.\\n\\nI’ve been a...      1             0   \n",
       "2  Hey everyone, I've been diagnosed with anxiety...      1             1   \n",
       "\n",
       "   upvote_ratio  over_18 removed_by_category  \n",
       "0           1.0    False                None  \n",
       "1           1.0    False                None  \n",
       "2           1.0    False                None  "
      ]
     },
     "metadata": {},
     "output_type": "display_data"
    },
    {
     "data": {
      "text/html": [
       "<div>\n",
       "<style scoped>\n",
       "    .dataframe tbody tr th:only-of-type {\n",
       "        vertical-align: middle;\n",
       "    }\n",
       "\n",
       "    .dataframe tbody tr th {\n",
       "        vertical-align: top;\n",
       "    }\n",
       "\n",
       "    .dataframe thead th {\n",
       "        text-align: right;\n",
       "    }\n",
       "</style>\n",
       "<table border=\"1\" class=\"dataframe\">\n",
       "  <thead>\n",
       "    <tr style=\"text-align: right;\">\n",
       "      <th></th>\n",
       "      <th>comment_id</th>\n",
       "      <th>link_id</th>\n",
       "      <th>parent_id</th>\n",
       "      <th>body</th>\n",
       "      <th>created_utc</th>\n",
       "      <th>score</th>\n",
       "      <th>depth</th>\n",
       "    </tr>\n",
       "  </thead>\n",
       "  <tbody>\n",
       "    <tr>\n",
       "      <th>0</th>\n",
       "      <td>nex9mf6</td>\n",
       "      <td>1njtn2a</td>\n",
       "      <td>1njtn2a</td>\n",
       "      <td>Hello! \\n\\nI would suggest some deep breathing...</td>\n",
       "      <td>1.758217e+09</td>\n",
       "      <td>1</td>\n",
       "      <td>0</td>\n",
       "    </tr>\n",
       "    <tr>\n",
       "      <th>1</th>\n",
       "      <td>nex51um</td>\n",
       "      <td>1nke23t</td>\n",
       "      <td>1nke23t</td>\n",
       "      <td>Look into magnesium glycinate at night, I had ...</td>\n",
       "      <td>1.758216e+09</td>\n",
       "      <td>1</td>\n",
       "      <td>0</td>\n",
       "    </tr>\n",
       "    <tr>\n",
       "      <th>2</th>\n",
       "      <td>nex7wp1</td>\n",
       "      <td>1nke23t</td>\n",
       "      <td>1nke23t</td>\n",
       "      <td>If it gives you any peace, these are all sympt...</td>\n",
       "      <td>1.758216e+09</td>\n",
       "      <td>1</td>\n",
       "      <td>0</td>\n",
       "    </tr>\n",
       "  </tbody>\n",
       "</table>\n",
       "</div>"
      ],
      "text/plain": [
       "  comment_id  link_id parent_id  \\\n",
       "0    nex9mf6  1njtn2a   1njtn2a   \n",
       "1    nex51um  1nke23t   1nke23t   \n",
       "2    nex7wp1  1nke23t   1nke23t   \n",
       "\n",
       "                                                body   created_utc  score  \\\n",
       "0  Hello! \\n\\nI would suggest some deep breathing...  1.758217e+09      1   \n",
       "1  Look into magnesium glycinate at night, I had ...  1.758216e+09      1   \n",
       "2  If it gives you any peace, these are all sympt...  1.758216e+09      1   \n",
       "\n",
       "   depth  \n",
       "0      0  \n",
       "1      0  \n",
       "2      0  "
      ]
     },
     "metadata": {},
     "output_type": "display_data"
    },
    {
     "name": "stdout",
     "output_type": "stream",
     "text": [
      "Submissions columns: ['post_id', 'subreddit', 'created_utc', 'title', 'selftext', 'score', 'num_comments', 'upvote_ratio', 'over_18', 'removed_by_category']\n",
      "Comments columns: ['comment_id', 'link_id', 'parent_id', 'body', 'created_utc', 'score', 'depth']\n"
     ]
    }
   ],
   "source": [
    "def head_jsonl(path, n=3):\n",
    "    \"\"\"Load the first n rows of a JSONL file into a pandas DataFrame.\"\"\"\n",
    "    rows = []\n",
    "    with open(path, \"r\", encoding=\"utf-8\") as f:\n",
    "        # Read first n lines and parse each as JSON\n",
    "        for line in islice(f, n):\n",
    "            rows.append(json.loads(line))\n",
    "    return pd.DataFrame(rows)\n",
    "\n",
    "# Load sample data from both JSONL files\n",
    "subs_head = head_jsonl(RAW_SUBS, 5)\n",
    "coms_head = head_jsonl(RAW_COMS, 5)\n",
    "\n",
    "# Preview the data structure\n",
    "display(subs_head.head(3))\n",
    "display(coms_head.head(3))\n",
    "\n",
    "# Check available columns\n",
    "print(\"Submissions columns:\", list(subs_head.columns))\n",
    "print(\"Comments columns:\", list(coms_head.columns))"
   ]
  },
  {
   "cell_type": "markdown",
   "id": "57af93f2",
   "metadata": {},
   "source": [
    "---"
   ]
  },
  {
   "cell_type": "markdown",
   "id": "95a962cf",
   "metadata": {},
   "source": [
    "\n",
    "## **2. Normalize & light clean**\n",
    "We lowercase, strip URLs/usernames, and normalize whitespace...but we **keep** negation words.\n"
   ]
  },
  {
   "cell_type": "code",
   "execution_count": 55,
   "id": "136c1792",
   "metadata": {},
   "outputs": [],
   "source": [
    "def clean_text(s: str) -> str:\n",
    "    \"\"\"Normalize text by removing URLs, usernames, and extra whitespace.\"\"\"\n",
    "    if not isinstance(s, str): return \"\"\n",
    "    s = s.lower()\n",
    "    s = re.sub(r\"http\\S+|www\\.\\S+\", \" \", s)    # Remove URLs\n",
    "    s = re.sub(r\"u/[A-Za-z0-9_-]+\", \" \", s)    # Remove Reddit usernames\n",
    "    s = re.sub(r\"\\s+\", \" \", s).strip()         # Normalize whitespace\n",
    "    return s"
   ]
  },
  {
   "cell_type": "markdown",
   "id": "88d15dc0",
   "metadata": {},
   "source": [
    "\n",
    "### **2.1 Submissions -> minimal consistent schema**\n",
    "We keep the original text alongside cleaned columns for *before/after* comparison.\n"
   ]
  },
  {
   "cell_type": "code",
   "execution_count": 56,
   "id": "66854f8e",
   "metadata": {},
   "outputs": [
    {
     "name": "stdout",
     "output_type": "stream",
     "text": [
      "Submissions: 6503 -> 6503 after removing deleted/removed-only rows\n"
     ]
    },
    {
     "data": {
      "text/html": [
       "<div>\n",
       "<style scoped>\n",
       "    .dataframe tbody tr th:only-of-type {\n",
       "        vertical-align: middle;\n",
       "    }\n",
       "\n",
       "    .dataframe tbody tr th {\n",
       "        vertical-align: top;\n",
       "    }\n",
       "\n",
       "    .dataframe thead th {\n",
       "        text-align: right;\n",
       "    }\n",
       "</style>\n",
       "<table border=\"1\" class=\"dataframe\">\n",
       "  <thead>\n",
       "    <tr style=\"text-align: right;\">\n",
       "      <th></th>\n",
       "      <th>post_id</th>\n",
       "      <th>title</th>\n",
       "      <th>selftext</th>\n",
       "      <th>title_clean</th>\n",
       "      <th>selftext_clean</th>\n",
       "    </tr>\n",
       "  </thead>\n",
       "  <tbody>\n",
       "    <tr>\n",
       "      <th>0</th>\n",
       "      <td>1nkes7e</td>\n",
       "      <td>Terrified of my symptoms</td>\n",
       "      <td>So I just got over a nasty cold but the cough ...</td>\n",
       "      <td>terrified of my symptoms</td>\n",
       "      <td>so i just got over a nasty cold but the cough ...</td>\n",
       "    </tr>\n",
       "    <tr>\n",
       "      <th>1</th>\n",
       "      <td>1nkes09</td>\n",
       "      <td>Does anyone else here have chronic tinnitus?</td>\n",
       "      <td>This crap is driving me insane.\\n\\nI’ve been a...</td>\n",
       "      <td>does anyone else here have chronic tinnitus?</td>\n",
       "      <td>this crap is driving me insane. i’ve been avoi...</td>\n",
       "    </tr>\n",
       "    <tr>\n",
       "      <th>2</th>\n",
       "      <td>1njtn2a</td>\n",
       "      <td>I can't sleep anymore</td>\n",
       "      <td>Hey everyone, I've been diagnosed with anxiety...</td>\n",
       "      <td>i can't sleep anymore</td>\n",
       "      <td>hey everyone, i've been diagnosed with anxiety...</td>\n",
       "    </tr>\n",
       "  </tbody>\n",
       "</table>\n",
       "</div>"
      ],
      "text/plain": [
       "   post_id                                         title  \\\n",
       "0  1nkes7e                      Terrified of my symptoms   \n",
       "1  1nkes09  Does anyone else here have chronic tinnitus?   \n",
       "2  1njtn2a                         I can't sleep anymore   \n",
       "\n",
       "                                            selftext  \\\n",
       "0  So I just got over a nasty cold but the cough ...   \n",
       "1  This crap is driving me insane.\\n\\nI’ve been a...   \n",
       "2  Hey everyone, I've been diagnosed with anxiety...   \n",
       "\n",
       "                                    title_clean  \\\n",
       "0                      terrified of my symptoms   \n",
       "1  does anyone else here have chronic tinnitus?   \n",
       "2                         i can't sleep anymore   \n",
       "\n",
       "                                      selftext_clean  \n",
       "0  so i just got over a nasty cold but the cough ...  \n",
       "1  this crap is driving me insane. i’ve been avoi...  \n",
       "2  hey everyone, i've been diagnosed with anxiety...  "
      ]
     },
     "metadata": {},
     "output_type": "display_data"
    }
   ],
   "source": [
    "# Load submissions data from JSONL file\n",
    "subs_raw = pd.read_json(RAW_SUBS, lines=True)\n",
    "subs = subs_raw.rename(columns={\"created_utc\":\"created_ts\"}).copy()\n",
    "\n",
    "# Convert data types and handle missing values\n",
    "subs[\"post_id\"] = subs[\"post_id\"].astype(str)\n",
    "subs[\"created_dt\"] = pd.to_datetime(subs[\"created_ts\"], unit=\"s\", errors=\"coerce\")\n",
    "subs[\"title\"] = subs[\"title\"].fillna(\"\")\n",
    "subs[\"selftext\"] = subs[\"selftext\"].fillna(\"\")\n",
    "\n",
    "# Remove posts where both title and selftext are deleted/removed\n",
    "dead = subs[\"title\"].str.fullmatch(r\"\\[deleted\\]|\\[removed\\]\", na=False) & \\\n",
    "       subs[\"selftext\"].str.fullmatch(r\"\\[deleted\\]|\\[removed\\]\", na=False)\n",
    "before_n = len(subs)\n",
    "subs = subs[~dead].copy()\n",
    "after_n = len(subs)\n",
    "\n",
    "# Apply text cleaning to title and selftext\n",
    "subs[\"title_clean\"] = subs[\"title\"].map(clean_text)\n",
    "subs[\"selftext_clean\"] = subs[\"selftext\"].map(clean_text)\n",
    "\n",
    "# Show results\n",
    "print(f\"Submissions: {before_n} -> {after_n} after removing deleted/removed-only rows\")\n",
    "display(subs[[\"post_id\",\"title\",\"selftext\",\"title_clean\",\"selftext_clean\"]].head(3))"
   ]
  },
  {
   "cell_type": "markdown",
   "id": "92d4148e",
   "metadata": {},
   "source": [
    "\n",
    "### **2.2 Comments -> align to `post_id` and clean**\n",
    "We restrict to **top-level** comments (`depth==0`) as concise context.\n"
   ]
  },
  {
   "cell_type": "code",
   "execution_count": 57,
   "id": "52b1b199",
   "metadata": {},
   "outputs": [
    {
     "name": "stdout",
     "output_type": "stream",
     "text": [
      "Comments (all): 13422\n"
     ]
    },
    {
     "data": {
      "text/html": [
       "<div>\n",
       "<style scoped>\n",
       "    .dataframe tbody tr th:only-of-type {\n",
       "        vertical-align: middle;\n",
       "    }\n",
       "\n",
       "    .dataframe tbody tr th {\n",
       "        vertical-align: top;\n",
       "    }\n",
       "\n",
       "    .dataframe thead th {\n",
       "        text-align: right;\n",
       "    }\n",
       "</style>\n",
       "<table border=\"1\" class=\"dataframe\">\n",
       "  <thead>\n",
       "    <tr style=\"text-align: right;\">\n",
       "      <th></th>\n",
       "      <th>comment_id</th>\n",
       "      <th>post_id</th>\n",
       "      <th>depth</th>\n",
       "      <th>score</th>\n",
       "      <th>body</th>\n",
       "      <th>body_clean</th>\n",
       "    </tr>\n",
       "  </thead>\n",
       "  <tbody>\n",
       "    <tr>\n",
       "      <th>0</th>\n",
       "      <td>nex9mf6</td>\n",
       "      <td>1njtn2a</td>\n",
       "      <td>0</td>\n",
       "      <td>1</td>\n",
       "      <td>Hello! \\n\\nI would suggest some deep breathing...</td>\n",
       "      <td>hello! i would suggest some deep breathing exe...</td>\n",
       "    </tr>\n",
       "    <tr>\n",
       "      <th>1</th>\n",
       "      <td>nex51um</td>\n",
       "      <td>1nke23t</td>\n",
       "      <td>0</td>\n",
       "      <td>1</td>\n",
       "      <td>Look into magnesium glycinate at night, I had ...</td>\n",
       "      <td>look into magnesium glycinate at night, i had ...</td>\n",
       "    </tr>\n",
       "    <tr>\n",
       "      <th>2</th>\n",
       "      <td>nex7wp1</td>\n",
       "      <td>1nke23t</td>\n",
       "      <td>0</td>\n",
       "      <td>1</td>\n",
       "      <td>If it gives you any peace, these are all sympt...</td>\n",
       "      <td>if it gives you any peace, these are all sympt...</td>\n",
       "    </tr>\n",
       "  </tbody>\n",
       "</table>\n",
       "</div>"
      ],
      "text/plain": [
       "  comment_id  post_id  depth  score  \\\n",
       "0    nex9mf6  1njtn2a      0      1   \n",
       "1    nex51um  1nke23t      0      1   \n",
       "2    nex7wp1  1nke23t      0      1   \n",
       "\n",
       "                                                body  \\\n",
       "0  Hello! \\n\\nI would suggest some deep breathing...   \n",
       "1  Look into magnesium glycinate at night, I had ...   \n",
       "2  If it gives you any peace, these are all sympt...   \n",
       "\n",
       "                                          body_clean  \n",
       "0  hello! i would suggest some deep breathing exe...  \n",
       "1  look into magnesium glycinate at night, i had ...  \n",
       "2  if it gives you any peace, these are all sympt...  "
      ]
     },
     "metadata": {},
     "output_type": "display_data"
    },
    {
     "name": "stdout",
     "output_type": "stream",
     "text": [
      "Top-level comments: 10382\n"
     ]
    }
   ],
   "source": [
    "# Load comments data from JSONL file\n",
    "coms_raw = pd.read_json(RAW_COMS, lines=True)\n",
    "coms = coms_raw.rename(columns={\"created_utc\":\"created_ts\"}).copy()\n",
    "\n",
    "# Set up IDs and handle missing values (link_id already matches submission post_id)\n",
    "coms[\"post_id\"] = coms[\"link_id\"].astype(str)\n",
    "coms[\"comment_id\"] = coms[\"comment_id\"].astype(str)\n",
    "coms[\"body\"] = coms[\"body\"].fillna(\"\")\n",
    "\n",
    "# Remove deleted/removed comments and clean text\n",
    "coms = coms[~coms[\"body\"].str.fullmatch(r\"\\[deleted\\]|\\[removed\\]\", na=False)].copy()\n",
    "coms[\"body_clean\"] = coms[\"body\"].map(clean_text)\n",
    "\n",
    "# Show all comments\n",
    "print(\"Comments (all):\", len(coms))\n",
    "display(coms[[\"comment_id\",\"post_id\",\"depth\",\"score\",\"body\",\"body_clean\"]].head(3))\n",
    "\n",
    "# Filter to top-level comments only (depth == 0)\n",
    "coms_top = coms.query(\"depth == 0\").copy()\n",
    "print(\"Top-level comments:\", len(coms_top))"
   ]
  },
  {
   "cell_type": "markdown",
   "id": "e2289e73",
   "metadata": {},
   "source": [
    "---"
   ]
  },
  {
   "cell_type": "markdown",
   "id": "a4377a5e",
   "metadata": {},
   "source": [
    "\n",
    "## **3. BEFORE metrics snapshot**\n",
    "We’ll capture quick counts and nulls before transforming to the final table.\n"
   ]
  },
  {
   "cell_type": "code",
   "execution_count": 58,
   "id": "7e3404b5",
   "metadata": {},
   "outputs": [
    {
     "name": "stdout",
     "output_type": "stream",
     "text": [
      "Submissions shape: (6503, 13)\n",
      "removed_by_category    100.0\n",
      "dtype: float64\n",
      "\n",
      "Comments (top-level) shape: (10382, 9)\n",
      "Series([], dtype: float64)\n"
     ]
    }
   ],
   "source": [
    "def null_pct(df):\n",
    "    \"\"\"Calculate the percentage of null values in each column.\"\"\"\n",
    "    return (df.isna().mean().sort_values(ascending=False) * 100).round(2)\n",
    "\n",
    "# Check submissions data quality\n",
    "print(\"Submissions shape:\", subs.shape)\n",
    "print(null_pct(subs)[null_pct(subs) > 0])\n",
    "\n",
    "# Check top-level comments data quality\n",
    "print(\"\\nComments (top-level) shape:\", coms_top.shape)\n",
    "print(null_pct(coms_top)[null_pct(coms_top) > 0])"
   ]
  },
  {
   "cell_type": "markdown",
   "id": "9cec5777",
   "metadata": {},
   "source": [
    "---"
   ]
  },
  {
   "cell_type": "markdown",
   "id": "1dc2af45",
   "metadata": {},
   "source": [
    "\n",
    "## **4. Build `comments_concat` (top‑k by score)**\n",
    "We aggregate the **k highest‑score** top‑level comments per post into a compact string.\n"
   ]
  },
  {
   "cell_type": "code",
   "execution_count": 59,
   "id": "39fbd465",
   "metadata": {},
   "outputs": [
    {
     "data": {
      "text/html": [
       "<div>\n",
       "<style scoped>\n",
       "    .dataframe tbody tr th:only-of-type {\n",
       "        vertical-align: middle;\n",
       "    }\n",
       "\n",
       "    .dataframe tbody tr th {\n",
       "        vertical-align: top;\n",
       "    }\n",
       "\n",
       "    .dataframe thead th {\n",
       "        text-align: right;\n",
       "    }\n",
       "</style>\n",
       "<table border=\"1\" class=\"dataframe\">\n",
       "  <thead>\n",
       "    <tr style=\"text-align: right;\">\n",
       "      <th></th>\n",
       "      <th>post_id</th>\n",
       "      <th>comments_concat</th>\n",
       "    </tr>\n",
       "  </thead>\n",
       "  <tbody>\n",
       "    <tr>\n",
       "      <th>0</th>\n",
       "      <td>1fqk5d2</td>\n",
       "      <td>i try to think back on all the times i've spir...</td>\n",
       "    </tr>\n",
       "    <tr>\n",
       "      <th>1</th>\n",
       "      <td>1fryfai</td>\n",
       "      <td>starting it now! just made a fear ladder with ...</td>\n",
       "    </tr>\n",
       "    <tr>\n",
       "      <th>2</th>\n",
       "      <td>1frykue</td>\n",
       "      <td>i always tell my doctor that i struggle with a...</td>\n",
       "    </tr>\n",
       "  </tbody>\n",
       "</table>\n",
       "</div>"
      ],
      "text/plain": [
       "   post_id                                    comments_concat\n",
       "0  1fqk5d2  i try to think back on all the times i've spir...\n",
       "1  1fryfai  starting it now! just made a fear ladder with ...\n",
       "2  1frykue  i always tell my doctor that i struggle with a..."
      ]
     },
     "metadata": {},
     "output_type": "display_data"
    },
    {
     "data": {
      "text/html": [
       "<div>\n",
       "<style scoped>\n",
       "    .dataframe tbody tr th:only-of-type {\n",
       "        vertical-align: middle;\n",
       "    }\n",
       "\n",
       "    .dataframe tbody tr th {\n",
       "        vertical-align: top;\n",
       "    }\n",
       "\n",
       "    .dataframe thead th {\n",
       "        text-align: right;\n",
       "    }\n",
       "</style>\n",
       "<table border=\"1\" class=\"dataframe\">\n",
       "  <thead>\n",
       "    <tr style=\"text-align: right;\">\n",
       "      <th></th>\n",
       "      <th>post_id</th>\n",
       "      <th>comment_count</th>\n",
       "    </tr>\n",
       "  </thead>\n",
       "  <tbody>\n",
       "    <tr>\n",
       "      <th>0</th>\n",
       "      <td>1fqk5d2</td>\n",
       "      <td>3</td>\n",
       "    </tr>\n",
       "    <tr>\n",
       "      <th>1</th>\n",
       "      <td>1fryfai</td>\n",
       "      <td>3</td>\n",
       "    </tr>\n",
       "    <tr>\n",
       "      <th>2</th>\n",
       "      <td>1frykue</td>\n",
       "      <td>3</td>\n",
       "    </tr>\n",
       "  </tbody>\n",
       "</table>\n",
       "</div>"
      ],
      "text/plain": [
       "   post_id  comment_count\n",
       "0  1fqk5d2              3\n",
       "1  1fryfai              3\n",
       "2  1frykue              3"
      ]
     },
     "metadata": {},
     "output_type": "display_data"
    }
   ],
   "source": [
    "# Aggregate top k comments per post by score\n",
    "k = 5  # Number of top comments to include per post\n",
    "coms_top = coms_top.sort_values([\"post_id\",\"score\"], ascending=[True, False])\n",
    "agg_topk = (coms_top.groupby(\"post_id\")[\"body_clean\"]\n",
    "            .apply(lambda s: \" <cmt> \".join(s.head(k)))\n",
    "            .reset_index(name=\"comments_concat\"))\n",
    "\n",
    "# Count total comments per post\n",
    "counts = coms.groupby(\"post_id\")[\"comment_id\"].count().reset_index(name=\"comment_count\")\n",
    "\n",
    "# Preview aggregated data\n",
    "display(agg_topk.head(3))\n",
    "display(counts.head(3))"
   ]
  },
  {
   "cell_type": "markdown",
   "id": "eda3c74c",
   "metadata": {},
   "source": [
    "---"
   ]
  },
  {
   "cell_type": "markdown",
   "id": "3f8222ef",
   "metadata": {},
   "source": [
    "\n",
    "## **5. AFTER: merge into a single row per submission**\n",
    "We create:\n",
    "- `text_main = title_clean + selftext_clean`\n",
    "- `text_all  = text_main + comments_concat`\n",
    "\n",
    "We also apply a short‑text filter to remove near‑empty posts.\n"
   ]
  },
  {
   "cell_type": "code",
   "execution_count": 60,
   "id": "c6e0feaf",
   "metadata": {},
   "outputs": [
    {
     "name": "stdout",
     "output_type": "stream",
     "text": [
      "Length filter (≥7 tokens in text_main): 6503-> 6290 rows\n"
     ]
    },
    {
     "data": {
      "text/plain": [
       "post_id                                                      1nkes7e\n",
       "title                                       Terrified of my symptoms\n",
       "selftext           So I just got over a nasty cold but the cough ...\n",
       "comments_concat                                                     \n",
       "text_main          terrified of my symptoms\\n\\nso i just got over...\n",
       "text_all           terrified of my symptoms\\n\\nso i just got over...\n",
       "Name: 0, dtype: object"
      ]
     },
     "metadata": {},
     "output_type": "display_data"
    }
   ],
   "source": [
    "# Merge submissions with aggregated comments and comment counts\n",
    "df = (subs.merge(agg_topk, on=\"post_id\", how=\"left\")\n",
    "          .merge(counts, on=\"post_id\", how=\"left\"))\n",
    "\n",
    "# Handle missing comment data\n",
    "df[\"comments_concat\"] = df[\"comments_concat\"].fillna(\"\")\n",
    "df[\"comment_count\"] = df[\"comment_count\"].fillna(0).astype(int)\n",
    "\n",
    "# Create combined text fields\n",
    "df[\"text_main\"] = (df[\"title_clean\"] + \"\\n\\n\" + df[\"selftext_clean\"]).str.strip()\n",
    "df[\"text_all\"]  = (df[\"text_main\"] + \"\\n\\n\" + df[\"comments_concat\"]).str.strip()\n",
    "\n",
    "# Filter out posts with very short text (< 7 tokens)\n",
    "length_floor = 7\n",
    "before_len = len(df)\n",
    "df = df[df[\"text_main\"].str.split().str.len().fillna(0) >= length_floor].copy()\n",
    "after_len = len(df)\n",
    "print(f\"Length filter (≥{length_floor} tokens in text_main): {before_len}-> {after_len} rows\")\n",
    "\n",
    "# Show example of processed post\n",
    "example = df.iloc[0][[\"post_id\",\"title\",\"selftext\",\"comments_concat\",\"text_main\",\"text_all\"]]\n",
    "display(example)"
   ]
  },
  {
   "cell_type": "markdown",
   "id": "cfabf697",
   "metadata": {},
   "source": [
    "### **5.1 QC Fix-ups (dedupes, comment backfill, dtypes)**\n",
    "We apply small fixes discovered in QC **before** saving artifacts.\n"
   ]
  },
  {
   "cell_type": "code",
   "execution_count": 61,
   "id": "893f6503",
   "metadata": {},
   "outputs": [
    {
     "name": "stdout",
     "output_type": "stream",
     "text": [
      "De-duplicated text_all: 6290-> 6283 rows\n",
      "comments_missing=1 rows: 106\n",
      "...with empty comments_concat: 106\n",
      "Posts needing comment backfill: 106\n",
      "Backfilled 106 posts; remaining mismatches: 106\n"
     ]
    }
   ],
   "source": [
    "# Ensure removed_by_category is string type (handles NaN safely)\n",
    "if \"removed_by_category\" in df.columns:\n",
    "    df[\"removed_by_category\"] = df[\"removed_by_category\"].astype(\"string\")\n",
    "\n",
    "# Remove duplicate posts based on combined text to prevent data leakage\n",
    "before = len(df)\n",
    "df = df.sort_values(\"created_dt\").drop_duplicates(subset=[\"text_all\"], keep=\"first\")\n",
    "print(f\"De-duplicated text_all: {before}-> {len(df)} rows\")\n",
    "\n",
    "# Validate required columns exist\n",
    "if \"num_comments\" not in df.columns or \"comment_count\" not in df.columns:\n",
    "    raise ValueError(\"Expected columns 'num_comments' and 'comment_count' missing.\")\n",
    "\n",
    "# Flag posts where platform reported comments but none were captured\n",
    "df[\"comments_missing\"] = ((df[\"num_comments\"] > 0) & (df[\"comment_count\"] == 0)).astype(\"int8\")\n",
    "print(\"comments_missing=1 rows:\", int(df[\"comments_missing\"].sum()))\n",
    "print(\"...with empty comments_concat:\", int(((df[\"comments_missing\"]==1) & (df[\"comments_concat\"].str.len()==0)).sum()))\n",
    "\n",
    "# Identify posts needing comment backfill\n",
    "need_fill_mask = (df[\"num_comments\"] > 0) & (df[\"comment_count\"] == 0)\n",
    "need_fill_idx = df.index[need_fill_mask]\n",
    "print(\"Posts needing comment backfill:\", len(need_fill_idx))\n",
    "\n",
    "if len(need_fill_idx):\n",
    "    \n",
    "    # Validate expected columns\n",
    "    exp_cols = {\"post_id\",\"comment_id\",\"body_clean\",\"score\"}\n",
    "    missing = exp_cols - set(coms.columns)\n",
    "    if missing:\n",
    "        raise ValueError(f\"coms dataframe missing columns: {missing}\")\n",
    "\n",
    "    # Get top k comments by score from ALL depths for posts missing comments\n",
    "    k_backfill = 5\n",
    "    target_ids = set(df.loc[need_fill_idx, \"post_id\"])\n",
    "    subset = coms[coms[\"post_id\"].isin(target_ids)].copy()\n",
    "    subset = subset.sort_values([\"post_id\",\"score\"], ascending=[True, False])\n",
    "\n",
    "    # Create lookup dictionaries for concatenated comments and counts\n",
    "    cc_map = (subset.groupby(\"post_id\")[\"body_clean\"]\n",
    "                    .apply(lambda s: \" <cmt> \".join(s.head(k_backfill)))\n",
    "                    .to_dict())\n",
    "    cnt_map = subset.groupby(\"post_id\")[\"comment_id\"].count().to_dict()\n",
    "\n",
    "    # Backfill missing comment data\n",
    "    df.loc[need_fill_idx, \"comments_concat\"] = df.loc[need_fill_idx, \"post_id\"].map(cc_map).fillna(\"\")\n",
    "    df.loc[need_fill_idx, \"comment_count\"]   = df.loc[need_fill_idx, \"post_id\"].map(cnt_map).fillna(0).astype(int)\n",
    "    df.loc[need_fill_idx, \"text_all\"]        = (df.loc[need_fill_idx, \"text_main\"] + \"\\n\\n\" + df.loc[need_fill_idx, \"comments_concat\"]).str.strip()\n",
    "\n",
    "    # Check for any remaining mismatches after backfill\n",
    "    remaining = df.loc[need_fill_idx][(df.loc[need_fill_idx, \"num_comments\"]>0) & (df.loc[need_fill_idx, \"comment_count\"]==0)]\n",
    "    print(f\"Backfilled {len(need_fill_idx)} posts; remaining mismatches: {len(remaining)}\")\n",
    "else:\n",
    "    print(\"No backfill needed.\")"
   ]
  },
  {
   "cell_type": "markdown",
   "id": "1e8a4b1d",
   "metadata": {},
   "source": [
    "---"
   ]
  },
  {
   "cell_type": "markdown",
   "id": "185b2b70",
   "metadata": {},
   "source": [
    "\n",
    "## **6. Save artifacts**\n",
    "These become inputs to the next notebooks (topics, clusters, labels).\n"
   ]
  },
  {
   "cell_type": "code",
   "execution_count": 62,
   "id": "03401b2a",
   "metadata": {},
   "outputs": [
    {
     "name": "stdout",
     "output_type": "stream",
     "text": [
      "Saving artifacts with 6283 rows after fix-ups…\n",
      " - ../data/interim/submissions.parquet\n",
      " - ../data/interim/comments_all.parquet\n",
      " - ../data/processed/reddit_anxiety_v1.parquet (rows=6283)\n"
     ]
    }
   ],
   "source": [
    "# Define output paths\n",
    "subs_out = DATA_INTERIM / \"submissions.parquet\"\n",
    "coms_out = DATA_INTERIM / \"comments_all.parquet\"\n",
    "proc_out = DATA_PROC / \"reddit_anxiety_v1.parquet\"\n",
    "\n",
    "# Save intermediate and processed data\n",
    "subs.to_parquet(subs_out, index=False)\n",
    "coms[[\"comment_id\",\"post_id\",\"body_clean\",\"score\",\"depth\"]].to_parquet(coms_out, index=False)\n",
    "df.to_parquet(proc_out, index=False)\n",
    "\n",
    "# Confirm saves\n",
    "print(f\"Saving artifacts with {len(df)} rows after fix-ups…\")\n",
    "print(\" -\", subs_out)\n",
    "print(\" -\", coms_out)\n",
    "print(\" -\", proc_out, f\"(rows={len(df)})\")\n"
   ]
  },
  {
   "cell_type": "markdown",
   "id": "89f21b3b",
   "metadata": {},
   "source": [
    "---"
   ]
  },
  {
   "cell_type": "markdown",
   "id": "1754dade",
   "metadata": {},
   "source": [
    "\n",
    "## **7. Quick QC figures**\n",
    "We capture simple visuals for our final report.\n"
   ]
  },
  {
   "cell_type": "code",
   "execution_count": 63,
   "id": "7a998469",
   "metadata": {},
   "outputs": [
    {
     "data": {
      "image/png": "[encoded data removed]",
      "text/plain": [
       "<Figure size 1200x400 with 2 Axes>"
      ]
     },
     "metadata": {},
     "output_type": "display_data"
    }
   ],
   "source": [
    "# Set style\n",
    "sns.set_palette(\"husl\")\n",
    "plt.rcParams['font.sans-serif'] = ['Arial']\n",
    "plt.rcParams['axes.facecolor'] = '#f8f9fa'\n",
    "plt.rcParams['figure.facecolor'] = 'white'\n",
    "\n",
    "fig, (ax1, ax2) = plt.subplots(1, 2, figsize=(12, 4))\n",
    "\n",
    "# 1. Text Length Distribution\n",
    "lens = df[\"text_all\"].str.split().str.len().dropna()\n",
    "\n",
    "ax1.hist(lens, bins=40, color='#60A5FA', edgecolor='white', linewidth=1.2, alpha=0.9)\n",
    "ax1.set_title(\"Text Length Distribution (tokens)\", \n",
    "              fontsize=13, fontweight='bold', color='#1a1a1a', pad=15)\n",
    "ax1.set_xlabel(\"Token Count\", fontsize=11, fontweight='bold', color='#2c3e50')\n",
    "ax1.set_ylabel(\"Frequency\", fontsize=11, fontweight='bold', color='#2c3e50')\n",
    "ax1.spines['top'].set_visible(False)\n",
    "ax1.spines['right'].set_visible(False)\n",
    "ax1.spines['left'].set_color('#e0e0e0')\n",
    "ax1.spines['bottom'].set_color('#e0e0e0')\n",
    "ax1.tick_params(colors='#000000', labelsize=10)\n",
    "ax1.grid(axis='y', alpha=0.2, linestyle='--', linewidth=0.8, color='#95a5a6')\n",
    "ax1.set_axisbelow(True)\n",
    "\n",
    "# 2. Top Subreddits Bar Chart\n",
    "top_subs = (df.groupby(\"subreddit\")[\"post_id\"].count()\n",
    "              .sort_values(ascending=False).head(10))\n",
    "\n",
    "colors = ['#818CF8', '#2DD4BF', '#34D399', '#60A5FA', '#A78BFA', \n",
    "          '#FB7185', '#FBBF24', '#FB923C', '#F43F5E', '#6EE7B7']\n",
    "\n",
    "top_subs.plot(kind=\"bar\", color=colors[:len(top_subs)], \n",
    "              edgecolor='white', linewidth=1.5, alpha=0.9, ax=ax2)\n",
    "ax2.set_title(\"Top Subreddits by Post Count\", \n",
    "              fontsize=13, fontweight='bold', color='#1a1a1a', pad=15)\n",
    "ax2.set_xlabel(\"Subreddit\", fontsize=11, fontweight='bold', color='#2c3e50')\n",
    "ax2.set_ylabel(\"# Posts\", fontsize=11, fontweight='bold', color='#2c3e50')\n",
    "ax2.tick_params(axis='x', rotation=45, labelsize=10)\n",
    "ax2.spines['top'].set_visible(False)\n",
    "ax2.spines['right'].set_visible(False)\n",
    "ax2.spines['left'].set_color('#e0e0e0')\n",
    "ax2.spines['bottom'].set_color('#e0e0e0')\n",
    "ax2.tick_params(colors='#000000', labelsize=10)\n",
    "ax2.grid(axis='y', alpha=0.2, linestyle='--', linewidth=0.8, color='#95a5a6')\n",
    "ax2.set_axisbelow(True)\n",
    "\n",
    "plt.tight_layout()\n",
    "plt.savefig(ARTIFACTS / \"data_overview.png\", dpi=150, bbox_inches='tight', facecolor='white')\n",
    "plt.show()"
   ]
  },
  {
   "cell_type": "markdown",
   "id": "ce4c4cb8",
   "metadata": {},
   "source": [
    "---"
   ]
  },
  {
   "cell_type": "markdown",
   "id": "6ac8eec7",
   "metadata": {},
   "source": [
    "\n",
    "## **8. Parameters & summary**\n",
    "We persist the key decisions so downstream steps are reproducible.\n"
   ]
  },
  {
   "cell_type": "code",
   "execution_count": 64,
   "id": "ca9aae0c",
   "metadata": {},
   "outputs": [
    {
     "data": {
      "text/plain": [
       "{'keep_negations': True,\n",
       " 'remove_urls_usernames': True,\n",
       " 'comments_top_level_only': True,\n",
       " 'topk_comments': 5,\n",
       " 'length_floor_tokens': 7,\n",
       " 'date_range': {'min': '2024-09-27 09:58:44', 'max': '2025-09-18 17:34:21'}}"
      ]
     },
     "execution_count": 64,
     "metadata": {},
     "output_type": "execute_result"
    }
   ],
   "source": [
    "# Save preprocessing parameters for reproducibility\n",
    "params = {\n",
    "    \"keep_negations\": True,\n",
    "    \"remove_urls_usernames\": True,\n",
    "    \"comments_top_level_only\": True,\n",
    "    \"topk_comments\": int(k),\n",
    "    \"length_floor_tokens\": int(length_floor),\n",
    "    \"date_range\": {\n",
    "        \"min\": str(df[\"created_dt\"].min()) if \"created_dt\" in df else None,\n",
    "        \"max\": str(df[\"created_dt\"].max()) if \"created_dt\" in df else None,\n",
    "    }\n",
    "}\n",
    "\n",
    "# Write parameters to JSON file\n",
    "with open(DATA_PROC / \"02_clean_merge_params.json\", \"w\", encoding=\"utf-8\") as f:\n",
    "    json.dump(params, f, indent=2)\n",
    "    \n",
    "params"
   ]
  },
  {
   "cell_type": "markdown",
   "id": "bd30614e",
   "metadata": {},
   "source": [
    "---"
   ]
  },
  {
   "cell_type": "markdown",
   "id": "eb8b70bf",
   "metadata": {},
   "source": [
    "\n",
    "### **Next steps:**\n",
    "- **Topics (NMF on TF‑IDF)**: read `../data/processed/reddit_anxiety_v1.parquet`, column `text_all`.\n",
    "- **Clusters (k‑means on embeddings)**: same input; save `cluster_id` per post.\n",
    "- **Labels (NRC)**: compute per‑emotion densities and an anxiety index from `text_all`."
   ]
  },
  {
   "cell_type": "markdown",
   "id": "c180e5d2",
   "metadata": {},
   "source": [
    "[Next: Topic Modeling with NMF →](03_topic_modeling_byNMF.ipynb)"
   ]
  }
 ],
 "metadata": {
  "kernelspec": {
   "display_name": ".venv",
   "language": "python",
   "name": "python3"
  },
  "language_info": {
   "codemirror_mode": {
    "name": "ipython",
    "version": 3
   },
   "file_extension": ".py",
   "mimetype": "text/x-python",
   "name": "python",
   "nbconvert_exporter": "python",
   "pygments_lexer": "ipython3",
   "version": "3.11.14"
  }
 },
 "nbformat": 4,
 "nbformat_minor": 5
}

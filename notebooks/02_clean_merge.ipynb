{
 "cells": [
  {
   "cell_type": "markdown",
   "id": "acb6cac4",
   "metadata": {},
   "source": [
    "[← Previous: Quick QC](01_quick_qc.ipynb)\n",
    "\n",
    "# **Cleaning & Merge**\n",
    "\n",
    "\n",
    "---\n",
    "\n",
    "**Inputs**\n",
    "- `../data/raw/submission.jsonl` (1 row/post)\n",
    "- `../data/raw/comments_topk.jsonl` (many rows/post)\n",
    "\n",
    "**Outputs**\n",
    "- `../data/interim/submissions.parquet` (cleaned submissions)\n",
    "- `../data/interim/comments_all.parquet` (cleaned comments)\n",
    "- `../data/processed/reddit_anxiety_v1.parquet` (final merged, 1 row/post)\n",
    "- Figures saved to `../reports/`\n",
    "\n",
    "**Decisions**\n",
    "- Keep negations (`not`, `never`, `no`) for NRC/lexicon logic.\n",
    "- Use only **top‑level** comments (`depth==0`) and keep **top‑k by score** (default `k=5`).\n",
    "- Filter near‑empty posts (length floor)."
   ]
  },
  {
   "cell_type": "markdown",
   "id": "0ad44995",
   "metadata": {},
   "source": [
    "---"
   ]
  },
  {
   "cell_type": "markdown",
   "id": "8ed79203",
   "metadata": {},
   "source": [
    "## Table of Contents\n",
    "\n",
    "- [1. BEFORE: quick peek at raw files](#1-before-quick-peek-at-raw-files)\n",
    "- [2. Normalize & light clean (keep negations)](#2-normalize--light-clean-keep-negations)\n",
    "- [3. BEFORE metrics snapshot](#3-before-metrics-snapshot)\n",
    "- [4. Build `comments_concat` (top‑k by score)](#4-build-comments_concat-topk-by-score)\n",
    "- [5. AFTER: merge into a single row per submission](#5-after-merge-into-a-single-row-per-submission)\n",
    "- [6. Save artifacts](#6-save-artifacts)\n",
    "- [7. Quick QC figures](#7-quick-qc-figures)\n",
    "- [8. Parameters & summary](#8-parameters--summary)\n",
    "\n",
    "[Next: Topic Modeling & Anxiety Evaluation →](03_topic_modeling_and_anxiety_evaluation.ipynb)"
   ]
  },
  {
   "cell_type": "markdown",
   "id": "e197f2d8",
   "metadata": {},
   "source": [
    "---"
   ]
  },
  {
   "cell_type": "code",
   "execution_count": 26,
   "id": "6d85ec2d",
   "metadata": {},
   "outputs": [
    {
     "name": "stdout",
     "output_type": "stream",
     "text": [
      "Requirement already satisfied: praw==7.8.1 in /Users/mariamckay/code/umich/milestone2/.venv/lib/python3.13/site-packages (from -r ../requirements.txt (line 2)) (7.8.1)\n",
      "Requirement already satisfied: prawcore==2.4.0 in /Users/mariamckay/code/umich/milestone2/.venv/lib/python3.13/site-packages (from -r ../requirements.txt (line 3)) (2.4.0)\n",
      "Requirement already satisfied: requests==2.32.5 in /Users/mariamckay/code/umich/milestone2/.venv/lib/python3.13/site-packages (from -r ../requirements.txt (line 4)) (2.32.5)\n",
      "Requirement already satisfied: websocket-client==1.8.0 in /Users/mariamckay/code/umich/milestone2/.venv/lib/python3.13/site-packages (from -r ../requirements.txt (line 5)) (1.8.0)\n",
      "Requirement already satisfied: pandas==2.3.2 in /Users/mariamckay/code/umich/milestone2/.venv/lib/python3.13/site-packages (from -r ../requirements.txt (line 8)) (2.3.2)\n",
      "Requirement already satisfied: numpy==2.3.2 in /Users/mariamckay/code/umich/milestone2/.venv/lib/python3.13/site-packages (from -r ../requirements.txt (line 9)) (2.3.2)\n",
      "Requirement already satisfied: python-dateutil==2.9.0.post0 in /Users/mariamckay/code/umich/milestone2/.venv/lib/python3.13/site-packages (from -r ../requirements.txt (line 10)) (2.9.0.post0)\n",
      "Requirement already satisfied: pytz==2025.2 in /Users/mariamckay/code/umich/milestone2/.venv/lib/python3.13/site-packages (from -r ../requirements.txt (line 11)) (2025.2)\n",
      "Requirement already satisfied: tzdata==2025.2 in /Users/mariamckay/code/umich/milestone2/.venv/lib/python3.13/site-packages (from -r ../requirements.txt (line 12)) (2025.2)\n",
      "Requirement already satisfied: PyYAML==6.0.2 in /Users/mariamckay/code/umich/milestone2/.venv/lib/python3.13/site-packages (from -r ../requirements.txt (line 13)) (6.0.2)\n",
      "Requirement already satisfied: nltk==3.9.1 in /Users/mariamckay/code/umich/milestone2/.venv/lib/python3.13/site-packages (from -r ../requirements.txt (line 16)) (3.9.1)\n",
      "Requirement already satisfied: langdetect==1.0.9 in /Users/mariamckay/code/umich/milestone2/.venv/lib/python3.13/site-packages (from -r ../requirements.txt (line 17)) (1.0.9)\n",
      "Requirement already satisfied: scikit-learn==1.7.2 in /Users/mariamckay/code/umich/milestone2/.venv/lib/python3.13/site-packages (from -r ../requirements.txt (line 18)) (1.7.2)\n",
      "Requirement already satisfied: scipy==1.16.2 in /Users/mariamckay/code/umich/milestone2/.venv/lib/python3.13/site-packages (from -r ../requirements.txt (line 19)) (1.16.2)\n",
      "Requirement already satisfied: joblib==1.5.2 in /Users/mariamckay/code/umich/milestone2/.venv/lib/python3.13/site-packages (from -r ../requirements.txt (line 20)) (1.5.2)\n",
      "Requirement already satisfied: threadpoolctl==3.6.0 in /Users/mariamckay/code/umich/milestone2/.venv/lib/python3.13/site-packages (from -r ../requirements.txt (line 21)) (3.6.0)\n",
      "Requirement already satisfied: transformers==4.56.2 in /Users/mariamckay/code/umich/milestone2/.venv/lib/python3.13/site-packages (from -r ../requirements.txt (line 22)) (4.56.2)\n",
      "Requirement already satisfied: matplotlib==3.10.6 in /Users/mariamckay/code/umich/milestone2/.venv/lib/python3.13/site-packages (from -r ../requirements.txt (line 25)) (3.10.6)\n",
      "Requirement already satisfied: seaborn==0.13.2 in /Users/mariamckay/code/umich/milestone2/.venv/lib/python3.13/site-packages (from -r ../requirements.txt (line 26)) (0.13.2)\n",
      "Requirement already satisfied: jupyter==1.1.1 in /Users/mariamckay/code/umich/milestone2/.venv/lib/python3.13/site-packages (from -r ../requirements.txt (line 29)) (1.1.1)\n",
      "Requirement already satisfied: ipykernel==6.30.1 in /Users/mariamckay/code/umich/milestone2/.venv/lib/python3.13/site-packages (from -r ../requirements.txt (line 30)) (6.30.1)\n",
      "Requirement already satisfied: notebook==7.4.5 in /Users/mariamckay/code/umich/milestone2/.venv/lib/python3.13/site-packages (from -r ../requirements.txt (line 31)) (7.4.5)\n",
      "Requirement already satisfied: ipywidgets==8.1.7 in /Users/mariamckay/code/umich/milestone2/.venv/lib/python3.13/site-packages (from -r ../requirements.txt (line 32)) (8.1.7)\n",
      "Requirement already satisfied: certifi==2025.8.3 in /Users/mariamckay/code/umich/milestone2/.venv/lib/python3.13/site-packages (from -r ../requirements.txt (line 35)) (2025.8.3)\n",
      "Requirement already satisfied: charset-normalizer==3.4.3 in /Users/mariamckay/code/umich/milestone2/.venv/lib/python3.13/site-packages (from -r ../requirements.txt (line 36)) (3.4.3)\n",
      "Requirement already satisfied: idna==3.10 in /Users/mariamckay/code/umich/milestone2/.venv/lib/python3.13/site-packages (from -r ../requirements.txt (line 37)) (3.10)\n",
      "Requirement already satisfied: urllib3==2.5.0 in /Users/mariamckay/code/umich/milestone2/.venv/lib/python3.13/site-packages (from -r ../requirements.txt (line 38)) (2.5.0)\n",
      "Requirement already satisfied: six==1.17.0 in /Users/mariamckay/code/umich/milestone2/.venv/lib/python3.13/site-packages (from -r ../requirements.txt (line 39)) (1.17.0)\n",
      "Requirement already satisfied: python-dotenv==1.1.1 in /Users/mariamckay/code/umich/milestone2/.venv/lib/python3.13/site-packages (from -r ../requirements.txt (line 42)) (1.1.1)\n",
      "Requirement already satisfied: update-checker==0.18.0 in /Users/mariamckay/code/umich/milestone2/.venv/lib/python3.13/site-packages (from -r ../requirements.txt (line 43)) (0.18.0)\n",
      "Collecting openai==1.54.3 (from -r ../requirements.txt (line 46))\n",
      "  Downloading openai-1.54.3-py3-none-any.whl.metadata (24 kB)\n",
      "Requirement already satisfied: click in /Users/mariamckay/code/umich/milestone2/.venv/lib/python3.13/site-packages (from nltk==3.9.1->-r ../requirements.txt (line 16)) (8.2.1)\n",
      "Requirement already satisfied: regex>=2021.8.3 in /Users/mariamckay/code/umich/milestone2/.venv/lib/python3.13/site-packages (from nltk==3.9.1->-r ../requirements.txt (line 16)) (2025.9.1)\n",
      "Requirement already satisfied: tqdm in /Users/mariamckay/code/umich/milestone2/.venv/lib/python3.13/site-packages (from nltk==3.9.1->-r ../requirements.txt (line 16)) (4.67.1)\n",
      "Requirement already satisfied: filelock in /Users/mariamckay/code/umich/milestone2/.venv/lib/python3.13/site-packages (from transformers==4.56.2->-r ../requirements.txt (line 22)) (3.19.1)\n",
      "Requirement already satisfied: huggingface-hub<1.0,>=0.34.0 in /Users/mariamckay/code/umich/milestone2/.venv/lib/python3.13/site-packages (from transformers==4.56.2->-r ../requirements.txt (line 22)) (0.35.3)\n",
      "Requirement already satisfied: packaging>=20.0 in /Users/mariamckay/code/umich/milestone2/.venv/lib/python3.13/site-packages (from transformers==4.56.2->-r ../requirements.txt (line 22)) (25.0)\n",
      "Requirement already satisfied: tokenizers<=0.23.0,>=0.22.0 in /Users/mariamckay/code/umich/milestone2/.venv/lib/python3.13/site-packages (from transformers==4.56.2->-r ../requirements.txt (line 22)) (0.22.1)\n",
      "Requirement already satisfied: safetensors>=0.4.3 in /Users/mariamckay/code/umich/milestone2/.venv/lib/python3.13/site-packages (from transformers==4.56.2->-r ../requirements.txt (line 22)) (0.6.2)\n",
      "Requirement already satisfied: contourpy>=1.0.1 in /Users/mariamckay/code/umich/milestone2/.venv/lib/python3.13/site-packages (from matplotlib==3.10.6->-r ../requirements.txt (line 25)) (1.3.3)\n",
      "Requirement already satisfied: cycler>=0.10 in /Users/mariamckay/code/umich/milestone2/.venv/lib/python3.13/site-packages (from matplotlib==3.10.6->-r ../requirements.txt (line 25)) (0.12.1)\n",
      "Requirement already satisfied: fonttools>=4.22.0 in /Users/mariamckay/code/umich/milestone2/.venv/lib/python3.13/site-packages (from matplotlib==3.10.6->-r ../requirements.txt (line 25)) (4.59.2)\n",
      "Requirement already satisfied: kiwisolver>=1.3.1 in /Users/mariamckay/code/umich/milestone2/.venv/lib/python3.13/site-packages (from matplotlib==3.10.6->-r ../requirements.txt (line 25)) (1.4.9)\n",
      "Requirement already satisfied: pillow>=8 in /Users/mariamckay/code/umich/milestone2/.venv/lib/python3.13/site-packages (from matplotlib==3.10.6->-r ../requirements.txt (line 25)) (11.3.0)\n",
      "Requirement already satisfied: pyparsing>=2.3.1 in /Users/mariamckay/code/umich/milestone2/.venv/lib/python3.13/site-packages (from matplotlib==3.10.6->-r ../requirements.txt (line 25)) (3.2.3)\n",
      "Requirement already satisfied: jupyter-console in /Users/mariamckay/code/umich/milestone2/.venv/lib/python3.13/site-packages (from jupyter==1.1.1->-r ../requirements.txt (line 29)) (6.6.3)\n",
      "Requirement already satisfied: nbconvert in /Users/mariamckay/code/umich/milestone2/.venv/lib/python3.13/site-packages (from jupyter==1.1.1->-r ../requirements.txt (line 29)) (7.16.6)\n",
      "Requirement already satisfied: jupyterlab in /Users/mariamckay/code/umich/milestone2/.venv/lib/python3.13/site-packages (from jupyter==1.1.1->-r ../requirements.txt (line 29)) (4.4.7)\n",
      "Requirement already satisfied: appnope>=0.1.2 in /Users/mariamckay/code/umich/milestone2/.venv/lib/python3.13/site-packages (from ipykernel==6.30.1->-r ../requirements.txt (line 30)) (0.1.4)\n",
      "Requirement already satisfied: comm>=0.1.1 in /Users/mariamckay/code/umich/milestone2/.venv/lib/python3.13/site-packages (from ipykernel==6.30.1->-r ../requirements.txt (line 30)) (0.2.3)\n",
      "Requirement already satisfied: debugpy>=1.6.5 in /Users/mariamckay/code/umich/milestone2/.venv/lib/python3.13/site-packages (from ipykernel==6.30.1->-r ../requirements.txt (line 30)) (1.8.16)\n",
      "Requirement already satisfied: ipython>=7.23.1 in /Users/mariamckay/code/umich/milestone2/.venv/lib/python3.13/site-packages (from ipykernel==6.30.1->-r ../requirements.txt (line 30)) (9.5.0)\n",
      "Requirement already satisfied: jupyter-client>=8.0.0 in /Users/mariamckay/code/umich/milestone2/.venv/lib/python3.13/site-packages (from ipykernel==6.30.1->-r ../requirements.txt (line 30)) (8.6.3)\n",
      "Requirement already satisfied: jupyter-core!=5.0.*,>=4.12 in /Users/mariamckay/code/umich/milestone2/.venv/lib/python3.13/site-packages (from ipykernel==6.30.1->-r ../requirements.txt (line 30)) (5.8.1)\n",
      "Requirement already satisfied: matplotlib-inline>=0.1 in /Users/mariamckay/code/umich/milestone2/.venv/lib/python3.13/site-packages (from ipykernel==6.30.1->-r ../requirements.txt (line 30)) (0.1.7)\n",
      "Requirement already satisfied: nest-asyncio>=1.4 in /Users/mariamckay/code/umich/milestone2/.venv/lib/python3.13/site-packages (from ipykernel==6.30.1->-r ../requirements.txt (line 30)) (1.6.0)\n",
      "Requirement already satisfied: psutil>=5.7 in /Users/mariamckay/code/umich/milestone2/.venv/lib/python3.13/site-packages (from ipykernel==6.30.1->-r ../requirements.txt (line 30)) (7.0.0)\n",
      "Requirement already satisfied: pyzmq>=25 in /Users/mariamckay/code/umich/milestone2/.venv/lib/python3.13/site-packages (from ipykernel==6.30.1->-r ../requirements.txt (line 30)) (27.0.2)\n",
      "Requirement already satisfied: tornado>=6.2 in /Users/mariamckay/code/umich/milestone2/.venv/lib/python3.13/site-packages (from ipykernel==6.30.1->-r ../requirements.txt (line 30)) (6.5.2)\n",
      "Requirement already satisfied: traitlets>=5.4.0 in /Users/mariamckay/code/umich/milestone2/.venv/lib/python3.13/site-packages (from ipykernel==6.30.1->-r ../requirements.txt (line 30)) (5.14.3)\n",
      "Requirement already satisfied: jupyter-server<3,>=2.4.0 in /Users/mariamckay/code/umich/milestone2/.venv/lib/python3.13/site-packages (from notebook==7.4.5->-r ../requirements.txt (line 31)) (2.17.0)\n",
      "Requirement already satisfied: jupyterlab-server<3,>=2.27.1 in /Users/mariamckay/code/umich/milestone2/.venv/lib/python3.13/site-packages (from notebook==7.4.5->-r ../requirements.txt (line 31)) (2.27.3)\n",
      "Requirement already satisfied: notebook-shim<0.3,>=0.2 in /Users/mariamckay/code/umich/milestone2/.venv/lib/python3.13/site-packages (from notebook==7.4.5->-r ../requirements.txt (line 31)) (0.2.4)\n",
      "Requirement already satisfied: widgetsnbextension~=4.0.14 in /Users/mariamckay/code/umich/milestone2/.venv/lib/python3.13/site-packages (from ipywidgets==8.1.7->-r ../requirements.txt (line 32)) (4.0.14)\n",
      "Requirement already satisfied: jupyterlab_widgets~=3.0.15 in /Users/mariamckay/code/umich/milestone2/.venv/lib/python3.13/site-packages (from ipywidgets==8.1.7->-r ../requirements.txt (line 32)) (3.0.15)\n",
      "Requirement already satisfied: anyio<5,>=3.5.0 in /Users/mariamckay/code/umich/milestone2/.venv/lib/python3.13/site-packages (from openai==1.54.3->-r ../requirements.txt (line 46)) (4.10.0)\n",
      "Collecting distro<2,>=1.7.0 (from openai==1.54.3->-r ../requirements.txt (line 46))\n",
      "  Downloading distro-1.9.0-py3-none-any.whl.metadata (6.8 kB)\n",
      "Requirement already satisfied: httpx<1,>=0.23.0 in /Users/mariamckay/code/umich/milestone2/.venv/lib/python3.13/site-packages (from openai==1.54.3->-r ../requirements.txt (line 46)) (0.28.1)\n",
      "Collecting jiter<1,>=0.4.0 (from openai==1.54.3->-r ../requirements.txt (line 46))\n",
      "  Downloading jiter-0.11.0-cp313-cp313-macosx_11_0_arm64.whl.metadata (5.2 kB)\n",
      "Collecting pydantic<3,>=1.9.0 (from openai==1.54.3->-r ../requirements.txt (line 46))\n",
      "  Downloading pydantic-2.11.10-py3-none-any.whl.metadata (68 kB)\n",
      "Requirement already satisfied: sniffio in /Users/mariamckay/code/umich/milestone2/.venv/lib/python3.13/site-packages (from openai==1.54.3->-r ../requirements.txt (line 46)) (1.3.1)\n",
      "Requirement already satisfied: typing-extensions<5,>=4.11 in /Users/mariamckay/code/umich/milestone2/.venv/lib/python3.13/site-packages (from openai==1.54.3->-r ../requirements.txt (line 46)) (4.15.0)\n",
      "Requirement already satisfied: httpcore==1.* in /Users/mariamckay/code/umich/milestone2/.venv/lib/python3.13/site-packages (from httpx<1,>=0.23.0->openai==1.54.3->-r ../requirements.txt (line 46)) (1.0.9)\n",
      "Requirement already satisfied: h11>=0.16 in /Users/mariamckay/code/umich/milestone2/.venv/lib/python3.13/site-packages (from httpcore==1.*->httpx<1,>=0.23.0->openai==1.54.3->-r ../requirements.txt (line 46)) (0.16.0)\n",
      "Requirement already satisfied: fsspec>=2023.5.0 in /Users/mariamckay/code/umich/milestone2/.venv/lib/python3.13/site-packages (from huggingface-hub<1.0,>=0.34.0->transformers==4.56.2->-r ../requirements.txt (line 22)) (2025.9.0)\n",
      "Requirement already satisfied: hf-xet<2.0.0,>=1.1.3 in /Users/mariamckay/code/umich/milestone2/.venv/lib/python3.13/site-packages (from huggingface-hub<1.0,>=0.34.0->transformers==4.56.2->-r ../requirements.txt (line 22)) (1.1.10)\n",
      "Requirement already satisfied: argon2-cffi>=21.1 in /Users/mariamckay/code/umich/milestone2/.venv/lib/python3.13/site-packages (from jupyter-server<3,>=2.4.0->notebook==7.4.5->-r ../requirements.txt (line 31)) (25.1.0)\n",
      "Requirement already satisfied: jinja2>=3.0.3 in /Users/mariamckay/code/umich/milestone2/.venv/lib/python3.13/site-packages (from jupyter-server<3,>=2.4.0->notebook==7.4.5->-r ../requirements.txt (line 31)) (3.1.6)\n",
      "Requirement already satisfied: jupyter-events>=0.11.0 in /Users/mariamckay/code/umich/milestone2/.venv/lib/python3.13/site-packages (from jupyter-server<3,>=2.4.0->notebook==7.4.5->-r ../requirements.txt (line 31)) (0.12.0)\n",
      "Requirement already satisfied: jupyter-server-terminals>=0.4.4 in /Users/mariamckay/code/umich/milestone2/.venv/lib/python3.13/site-packages (from jupyter-server<3,>=2.4.0->notebook==7.4.5->-r ../requirements.txt (line 31)) (0.5.3)\n",
      "Requirement already satisfied: nbformat>=5.3.0 in /Users/mariamckay/code/umich/milestone2/.venv/lib/python3.13/site-packages (from jupyter-server<3,>=2.4.0->notebook==7.4.5->-r ../requirements.txt (line 31)) (5.10.4)\n",
      "Requirement already satisfied: prometheus-client>=0.9 in /Users/mariamckay/code/umich/milestone2/.venv/lib/python3.13/site-packages (from jupyter-server<3,>=2.4.0->notebook==7.4.5->-r ../requirements.txt (line 31)) (0.22.1)\n",
      "Requirement already satisfied: send2trash>=1.8.2 in /Users/mariamckay/code/umich/milestone2/.venv/lib/python3.13/site-packages (from jupyter-server<3,>=2.4.0->notebook==7.4.5->-r ../requirements.txt (line 31)) (1.8.3)\n",
      "Requirement already satisfied: terminado>=0.8.3 in /Users/mariamckay/code/umich/milestone2/.venv/lib/python3.13/site-packages (from jupyter-server<3,>=2.4.0->notebook==7.4.5->-r ../requirements.txt (line 31)) (0.18.1)\n",
      "Requirement already satisfied: async-lru>=1.0.0 in /Users/mariamckay/code/umich/milestone2/.venv/lib/python3.13/site-packages (from jupyterlab->jupyter==1.1.1->-r ../requirements.txt (line 29)) (2.0.5)\n",
      "Requirement already satisfied: jupyter-lsp>=2.0.0 in /Users/mariamckay/code/umich/milestone2/.venv/lib/python3.13/site-packages (from jupyterlab->jupyter==1.1.1->-r ../requirements.txt (line 29)) (2.3.0)\n",
      "Requirement already satisfied: setuptools>=41.1.0 in /Users/mariamckay/code/umich/milestone2/.venv/lib/python3.13/site-packages (from jupyterlab->jupyter==1.1.1->-r ../requirements.txt (line 29)) (80.9.0)\n",
      "Requirement already satisfied: babel>=2.10 in /Users/mariamckay/code/umich/milestone2/.venv/lib/python3.13/site-packages (from jupyterlab-server<3,>=2.27.1->notebook==7.4.5->-r ../requirements.txt (line 31)) (2.17.0)\n",
      "Requirement already satisfied: json5>=0.9.0 in /Users/mariamckay/code/umich/milestone2/.venv/lib/python3.13/site-packages (from jupyterlab-server<3,>=2.27.1->notebook==7.4.5->-r ../requirements.txt (line 31)) (0.12.1)\n",
      "Requirement already satisfied: jsonschema>=4.18.0 in /Users/mariamckay/code/umich/milestone2/.venv/lib/python3.13/site-packages (from jupyterlab-server<3,>=2.27.1->notebook==7.4.5->-r ../requirements.txt (line 31)) (4.25.1)\n",
      "Collecting annotated-types>=0.6.0 (from pydantic<3,>=1.9.0->openai==1.54.3->-r ../requirements.txt (line 46))\n",
      "  Using cached annotated_types-0.7.0-py3-none-any.whl.metadata (15 kB)\n",
      "Collecting pydantic-core==2.33.2 (from pydantic<3,>=1.9.0->openai==1.54.3->-r ../requirements.txt (line 46))\n",
      "  Downloading pydantic_core-2.33.2-cp313-cp313-macosx_11_0_arm64.whl.metadata (6.8 kB)\n",
      "Collecting typing-inspection>=0.4.0 (from pydantic<3,>=1.9.0->openai==1.54.3->-r ../requirements.txt (line 46))\n",
      "  Downloading typing_inspection-0.4.2-py3-none-any.whl.metadata (2.6 kB)\n",
      "Requirement already satisfied: argon2-cffi-bindings in /Users/mariamckay/code/umich/milestone2/.venv/lib/python3.13/site-packages (from argon2-cffi>=21.1->jupyter-server<3,>=2.4.0->notebook==7.4.5->-r ../requirements.txt (line 31)) (25.1.0)\n",
      "Requirement already satisfied: decorator in /Users/mariamckay/code/umich/milestone2/.venv/lib/python3.13/site-packages (from ipython>=7.23.1->ipykernel==6.30.1->-r ../requirements.txt (line 30)) (5.2.1)\n",
      "Requirement already satisfied: ipython-pygments-lexers in /Users/mariamckay/code/umich/milestone2/.venv/lib/python3.13/site-packages (from ipython>=7.23.1->ipykernel==6.30.1->-r ../requirements.txt (line 30)) (1.1.1)\n",
      "Requirement already satisfied: jedi>=0.16 in /Users/mariamckay/code/umich/milestone2/.venv/lib/python3.13/site-packages (from ipython>=7.23.1->ipykernel==6.30.1->-r ../requirements.txt (line 30)) (0.19.2)\n",
      "Requirement already satisfied: pexpect>4.3 in /Users/mariamckay/code/umich/milestone2/.venv/lib/python3.13/site-packages (from ipython>=7.23.1->ipykernel==6.30.1->-r ../requirements.txt (line 30)) (4.9.0)\n",
      "Requirement already satisfied: prompt_toolkit<3.1.0,>=3.0.41 in /Users/mariamckay/code/umich/milestone2/.venv/lib/python3.13/site-packages (from ipython>=7.23.1->ipykernel==6.30.1->-r ../requirements.txt (line 30)) (3.0.52)\n",
      "Requirement already satisfied: pygments>=2.4.0 in /Users/mariamckay/code/umich/milestone2/.venv/lib/python3.13/site-packages (from ipython>=7.23.1->ipykernel==6.30.1->-r ../requirements.txt (line 30)) (2.19.2)\n",
      "Requirement already satisfied: stack_data in /Users/mariamckay/code/umich/milestone2/.venv/lib/python3.13/site-packages (from ipython>=7.23.1->ipykernel==6.30.1->-r ../requirements.txt (line 30)) (0.6.3)\n",
      "Requirement already satisfied: wcwidth in /Users/mariamckay/code/umich/milestone2/.venv/lib/python3.13/site-packages (from prompt_toolkit<3.1.0,>=3.0.41->ipython>=7.23.1->ipykernel==6.30.1->-r ../requirements.txt (line 30)) (0.2.13)\n",
      "Requirement already satisfied: parso<0.9.0,>=0.8.4 in /Users/mariamckay/code/umich/milestone2/.venv/lib/python3.13/site-packages (from jedi>=0.16->ipython>=7.23.1->ipykernel==6.30.1->-r ../requirements.txt (line 30)) (0.8.5)\n",
      "Requirement already satisfied: MarkupSafe>=2.0 in /Users/mariamckay/code/umich/milestone2/.venv/lib/python3.13/site-packages (from jinja2>=3.0.3->jupyter-server<3,>=2.4.0->notebook==7.4.5->-r ../requirements.txt (line 31)) (3.0.2)\n",
      "Requirement already satisfied: attrs>=22.2.0 in /Users/mariamckay/code/umich/milestone2/.venv/lib/python3.13/site-packages (from jsonschema>=4.18.0->jupyterlab-server<3,>=2.27.1->notebook==7.4.5->-r ../requirements.txt (line 31)) (25.3.0)\n",
      "Requirement already satisfied: jsonschema-specifications>=2023.03.6 in /Users/mariamckay/code/umich/milestone2/.venv/lib/python3.13/site-packages (from jsonschema>=4.18.0->jupyterlab-server<3,>=2.27.1->notebook==7.4.5->-r ../requirements.txt (line 31)) (2025.4.1)\n",
      "Requirement already satisfied: referencing>=0.28.4 in /Users/mariamckay/code/umich/milestone2/.venv/lib/python3.13/site-packages (from jsonschema>=4.18.0->jupyterlab-server<3,>=2.27.1->notebook==7.4.5->-r ../requirements.txt (line 31)) (0.36.2)\n",
      "Requirement already satisfied: rpds-py>=0.7.1 in /Users/mariamckay/code/umich/milestone2/.venv/lib/python3.13/site-packages (from jsonschema>=4.18.0->jupyterlab-server<3,>=2.27.1->notebook==7.4.5->-r ../requirements.txt (line 31)) (0.27.1)\n",
      "Requirement already satisfied: platformdirs>=2.5 in /Users/mariamckay/code/umich/milestone2/.venv/lib/python3.13/site-packages (from jupyter-core!=5.0.*,>=4.12->ipykernel==6.30.1->-r ../requirements.txt (line 30)) (4.4.0)\n",
      "Requirement already satisfied: python-json-logger>=2.0.4 in /Users/mariamckay/code/umich/milestone2/.venv/lib/python3.13/site-packages (from jupyter-events>=0.11.0->jupyter-server<3,>=2.4.0->notebook==7.4.5->-r ../requirements.txt (line 31)) (3.3.0)\n",
      "Requirement already satisfied: rfc3339-validator in /Users/mariamckay/code/umich/milestone2/.venv/lib/python3.13/site-packages (from jupyter-events>=0.11.0->jupyter-server<3,>=2.4.0->notebook==7.4.5->-r ../requirements.txt (line 31)) (0.1.4)\n",
      "Requirement already satisfied: rfc3986-validator>=0.1.1 in /Users/mariamckay/code/umich/milestone2/.venv/lib/python3.13/site-packages (from jupyter-events>=0.11.0->jupyter-server<3,>=2.4.0->notebook==7.4.5->-r ../requirements.txt (line 31)) (0.1.1)\n",
      "Requirement already satisfied: fqdn in /Users/mariamckay/code/umich/milestone2/.venv/lib/python3.13/site-packages (from jsonschema[format-nongpl]>=4.18.0->jupyter-events>=0.11.0->jupyter-server<3,>=2.4.0->notebook==7.4.5->-r ../requirements.txt (line 31)) (1.5.1)\n",
      "Requirement already satisfied: isoduration in /Users/mariamckay/code/umich/milestone2/.venv/lib/python3.13/site-packages (from jsonschema[format-nongpl]>=4.18.0->jupyter-events>=0.11.0->jupyter-server<3,>=2.4.0->notebook==7.4.5->-r ../requirements.txt (line 31)) (20.11.0)\n",
      "Requirement already satisfied: jsonpointer>1.13 in /Users/mariamckay/code/umich/milestone2/.venv/lib/python3.13/site-packages (from jsonschema[format-nongpl]>=4.18.0->jupyter-events>=0.11.0->jupyter-server<3,>=2.4.0->notebook==7.4.5->-r ../requirements.txt (line 31)) (3.0.0)\n",
      "Requirement already satisfied: rfc3987-syntax>=1.1.0 in /Users/mariamckay/code/umich/milestone2/.venv/lib/python3.13/site-packages (from jsonschema[format-nongpl]>=4.18.0->jupyter-events>=0.11.0->jupyter-server<3,>=2.4.0->notebook==7.4.5->-r ../requirements.txt (line 31)) (1.1.0)\n",
      "Requirement already satisfied: uri-template in /Users/mariamckay/code/umich/milestone2/.venv/lib/python3.13/site-packages (from jsonschema[format-nongpl]>=4.18.0->jupyter-events>=0.11.0->jupyter-server<3,>=2.4.0->notebook==7.4.5->-r ../requirements.txt (line 31)) (1.3.0)\n",
      "Requirement already satisfied: webcolors>=24.6.0 in /Users/mariamckay/code/umich/milestone2/.venv/lib/python3.13/site-packages (from jsonschema[format-nongpl]>=4.18.0->jupyter-events>=0.11.0->jupyter-server<3,>=2.4.0->notebook==7.4.5->-r ../requirements.txt (line 31)) (24.11.1)\n",
      "Requirement already satisfied: beautifulsoup4 in /Users/mariamckay/code/umich/milestone2/.venv/lib/python3.13/site-packages (from nbconvert->jupyter==1.1.1->-r ../requirements.txt (line 29)) (4.13.5)\n",
      "Requirement already satisfied: bleach!=5.0.0 in /Users/mariamckay/code/umich/milestone2/.venv/lib/python3.13/site-packages (from bleach[css]!=5.0.0->nbconvert->jupyter==1.1.1->-r ../requirements.txt (line 29)) (6.2.0)\n",
      "Requirement already satisfied: defusedxml in /Users/mariamckay/code/umich/milestone2/.venv/lib/python3.13/site-packages (from nbconvert->jupyter==1.1.1->-r ../requirements.txt (line 29)) (0.7.1)\n",
      "Requirement already satisfied: jupyterlab-pygments in /Users/mariamckay/code/umich/milestone2/.venv/lib/python3.13/site-packages (from nbconvert->jupyter==1.1.1->-r ../requirements.txt (line 29)) (0.3.0)\n",
      "Requirement already satisfied: mistune<4,>=2.0.3 in /Users/mariamckay/code/umich/milestone2/.venv/lib/python3.13/site-packages (from nbconvert->jupyter==1.1.1->-r ../requirements.txt (line 29)) (3.1.4)\n",
      "Requirement already satisfied: nbclient>=0.5.0 in /Users/mariamckay/code/umich/milestone2/.venv/lib/python3.13/site-packages (from nbconvert->jupyter==1.1.1->-r ../requirements.txt (line 29)) (0.10.2)\n",
      "Requirement already satisfied: pandocfilters>=1.4.1 in /Users/mariamckay/code/umich/milestone2/.venv/lib/python3.13/site-packages (from nbconvert->jupyter==1.1.1->-r ../requirements.txt (line 29)) (1.5.1)\n",
      "Requirement already satisfied: webencodings in /Users/mariamckay/code/umich/milestone2/.venv/lib/python3.13/site-packages (from bleach!=5.0.0->bleach[css]!=5.0.0->nbconvert->jupyter==1.1.1->-r ../requirements.txt (line 29)) (0.5.1)\n",
      "Requirement already satisfied: tinycss2<1.5,>=1.1.0 in /Users/mariamckay/code/umich/milestone2/.venv/lib/python3.13/site-packages (from bleach[css]!=5.0.0->nbconvert->jupyter==1.1.1->-r ../requirements.txt (line 29)) (1.4.0)\n",
      "Requirement already satisfied: fastjsonschema>=2.15 in /Users/mariamckay/code/umich/milestone2/.venv/lib/python3.13/site-packages (from nbformat>=5.3.0->jupyter-server<3,>=2.4.0->notebook==7.4.5->-r ../requirements.txt (line 31)) (2.21.2)\n",
      "Requirement already satisfied: ptyprocess>=0.5 in /Users/mariamckay/code/umich/milestone2/.venv/lib/python3.13/site-packages (from pexpect>4.3->ipython>=7.23.1->ipykernel==6.30.1->-r ../requirements.txt (line 30)) (0.7.0)\n",
      "Requirement already satisfied: lark>=1.2.2 in /Users/mariamckay/code/umich/milestone2/.venv/lib/python3.13/site-packages (from rfc3987-syntax>=1.1.0->jsonschema[format-nongpl]>=4.18.0->jupyter-events>=0.11.0->jupyter-server<3,>=2.4.0->notebook==7.4.5->-r ../requirements.txt (line 31)) (1.2.2)\n",
      "Requirement already satisfied: cffi>=1.0.1 in /Users/mariamckay/code/umich/milestone2/.venv/lib/python3.13/site-packages (from argon2-cffi-bindings->argon2-cffi>=21.1->jupyter-server<3,>=2.4.0->notebook==7.4.5->-r ../requirements.txt (line 31)) (1.17.1)\n",
      "Requirement already satisfied: pycparser in /Users/mariamckay/code/umich/milestone2/.venv/lib/python3.13/site-packages (from cffi>=1.0.1->argon2-cffi-bindings->argon2-cffi>=21.1->jupyter-server<3,>=2.4.0->notebook==7.4.5->-r ../requirements.txt (line 31)) (2.22)\n",
      "Requirement already satisfied: soupsieve>1.2 in /Users/mariamckay/code/umich/milestone2/.venv/lib/python3.13/site-packages (from beautifulsoup4->nbconvert->jupyter==1.1.1->-r ../requirements.txt (line 29)) (2.8)\n",
      "Requirement already satisfied: arrow>=0.15.0 in /Users/mariamckay/code/umich/milestone2/.venv/lib/python3.13/site-packages (from isoduration->jsonschema[format-nongpl]>=4.18.0->jupyter-events>=0.11.0->jupyter-server<3,>=2.4.0->notebook==7.4.5->-r ../requirements.txt (line 31)) (1.3.0)\n",
      "Requirement already satisfied: types-python-dateutil>=2.8.10 in /Users/mariamckay/code/umich/milestone2/.venv/lib/python3.13/site-packages (from arrow>=0.15.0->isoduration->jsonschema[format-nongpl]>=4.18.0->jupyter-events>=0.11.0->jupyter-server<3,>=2.4.0->notebook==7.4.5->-r ../requirements.txt (line 31)) (2.9.0.20250822)\n",
      "Requirement already satisfied: executing>=1.2.0 in /Users/mariamckay/code/umich/milestone2/.venv/lib/python3.13/site-packages (from stack_data->ipython>=7.23.1->ipykernel==6.30.1->-r ../requirements.txt (line 30)) (2.2.1)\n",
      "Requirement already satisfied: asttokens>=2.1.0 in /Users/mariamckay/code/umich/milestone2/.venv/lib/python3.13/site-packages (from stack_data->ipython>=7.23.1->ipykernel==6.30.1->-r ../requirements.txt (line 30)) (3.0.0)\n",
      "Requirement already satisfied: pure-eval in /Users/mariamckay/code/umich/milestone2/.venv/lib/python3.13/site-packages (from stack_data->ipython>=7.23.1->ipykernel==6.30.1->-r ../requirements.txt (line 30)) (0.2.3)\n",
      "Downloading openai-1.54.3-py3-none-any.whl (389 kB)\n",
      "Downloading distro-1.9.0-py3-none-any.whl (20 kB)\n",
      "Downloading jiter-0.11.0-cp313-cp313-macosx_11_0_arm64.whl (314 kB)\n",
      "Downloading pydantic-2.11.10-py3-none-any.whl (444 kB)\n",
      "Downloading pydantic_core-2.33.2-cp313-cp313-macosx_11_0_arm64.whl (1.8 MB)\n",
      "\u001b[2K   \u001b[38;2;114;156;31m━━━━━━━━━━━━━━━━━━━━━━━━━━━━━━━━━━━━━━━━\u001b[0m \u001b[32m1.8/1.8 MB\u001b[0m \u001b[31m17.1 MB/s\u001b[0m  \u001b[33m0:00:00\u001b[0m\n",
      "\u001b[?25hUsing cached annotated_types-0.7.0-py3-none-any.whl (13 kB)\n",
      "Downloading typing_inspection-0.4.2-py3-none-any.whl (14 kB)\n",
      "Installing collected packages: typing-inspection, pydantic-core, jiter, distro, annotated-types, pydantic, openai\n",
      "\u001b[2K   \u001b[38;2;114;156;31m━━━━━━━━━━━━━━━━━━━━━━━━━━━━━━━━━━━━━━━━\u001b[0m \u001b[32m7/7\u001b[0m [openai]━━━━\u001b[0m \u001b[32m6/7\u001b[0m [openai]pydantic]\n",
      "\u001b[1A\u001b[2KSuccessfully installed annotated-types-0.7.0 distro-1.9.0 jiter-0.11.0 openai-1.54.3 pydantic-2.11.10 pydantic-core-2.33.2 typing-inspection-0.4.2\n",
      "Note: you may need to restart the kernel to use updated packages.\n"
     ]
    }
   ],
   "source": [
    "%pip install -r ../requirements.txt"
   ]
  },
  {
   "cell_type": "code",
   "execution_count": 27,
   "id": "72c963db",
   "metadata": {},
   "outputs": [
    {
     "name": "stdout",
     "output_type": "stream",
     "text": [
      "Exists: True True\n"
     ]
    }
   ],
   "source": [
    "# Import required libraries\n",
    "from pathlib import Path\n",
    "import pandas as pd\n",
    "import numpy as np\n",
    "import json\n",
    "import re\n",
    "from itertools import islice\n",
    "import matplotlib.pyplot as plt\n",
    "\n",
    "# Set up directory paths for data pipeline\n",
    "DATA_RAW = Path(\"../data/raw\")                    # Raw input data\n",
    "DATA_INTERIM = Path(\"../data/interim\"); DATA_INTERIM.mkdir(parents=True, exist_ok=True)  # Intermediate cleaned data\n",
    "DATA_PROC = Path(\"../data/processed\"); DATA_PROC.mkdir(parents=True, exist_ok=True)     # Final processed data\n",
    "REPORTS = Path(\"../reports\"); REPORTS.mkdir(parents=True, exist_ok=True)               # Output figures\n",
    "\n",
    "# Define input file paths\n",
    "RAW_SUBS = DATA_RAW / \"submission.jsonl\"    # Reddit submissions data\n",
    "RAW_COMS = DATA_RAW / \"comments_topk.jsonl\" # Reddit comments data\n",
    "\n",
    "# Verify input files exist\n",
    "print(\"Exists:\", RAW_SUBS.exists(), RAW_COMS.exists())\n"
   ]
  },
  {
   "cell_type": "markdown",
   "id": "ffc81a33",
   "metadata": {},
   "source": [
    "---"
   ]
  },
  {
   "cell_type": "markdown",
   "id": "78bef510",
   "metadata": {},
   "source": [
    "\n",
    "## **1. BEFORE: quick peek at raw files**\n",
    "We sample a few lines from each JSONL to show the schema and typical values.\n"
   ]
  },
  {
   "cell_type": "code",
   "execution_count": null,
   "id": "eefe10c2",
   "metadata": {},
   "outputs": [
    {
     "data": {
      "text/html": [
       "<div>\n",
       "<style scoped>\n",
       "    .dataframe tbody tr th:only-of-type {\n",
       "        vertical-align: middle;\n",
       "    }\n",
       "\n",
       "    .dataframe tbody tr th {\n",
       "        vertical-align: top;\n",
       "    }\n",
       "\n",
       "    .dataframe thead th {\n",
       "        text-align: right;\n",
       "    }\n",
       "</style>\n",
       "<table border=\"1\" class=\"dataframe\">\n",
       "  <thead>\n",
       "    <tr style=\"text-align: right;\">\n",
       "      <th></th>\n",
       "      <th>post_id</th>\n",
       "      <th>subreddit</th>\n",
       "      <th>created_utc</th>\n",
       "      <th>title</th>\n",
       "      <th>selftext</th>\n",
       "      <th>score</th>\n",
       "      <th>num_comments</th>\n",
       "      <th>upvote_ratio</th>\n",
       "      <th>over_18</th>\n",
       "      <th>removed_by_category</th>\n",
       "    </tr>\n",
       "  </thead>\n",
       "  <tbody>\n",
       "    <tr>\n",
       "      <th>0</th>\n",
       "      <td>1nkes7e</td>\n",
       "      <td>Anxiety</td>\n",
       "      <td>1.758217e+09</td>\n",
       "      <td>Terrified of my symptoms</td>\n",
       "      <td>So I just got over a nasty cold but the cough ...</td>\n",
       "      <td>1</td>\n",
       "      <td>0</td>\n",
       "      <td>1.0</td>\n",
       "      <td>False</td>\n",
       "      <td>None</td>\n",
       "    </tr>\n",
       "    <tr>\n",
       "      <th>1</th>\n",
       "      <td>1nkes09</td>\n",
       "      <td>Anxiety</td>\n",
       "      <td>1.758217e+09</td>\n",
       "      <td>Does anyone else here have chronic tinnitus?</td>\n",
       "      <td>This crap is driving me insane.\\n\\nI’ve been a...</td>\n",
       "      <td>1</td>\n",
       "      <td>0</td>\n",
       "      <td>1.0</td>\n",
       "      <td>False</td>\n",
       "      <td>None</td>\n",
       "    </tr>\n",
       "    <tr>\n",
       "      <th>2</th>\n",
       "      <td>1njtn2a</td>\n",
       "      <td>Anxiety</td>\n",
       "      <td>1.758154e+09</td>\n",
       "      <td>I can't sleep anymore</td>\n",
       "      <td>Hey everyone, I've been diagnosed with anxiety...</td>\n",
       "      <td>1</td>\n",
       "      <td>1</td>\n",
       "      <td>1.0</td>\n",
       "      <td>False</td>\n",
       "      <td>None</td>\n",
       "    </tr>\n",
       "  </tbody>\n",
       "</table>\n",
       "</div>"
      ],
      "text/plain": [
       "   post_id subreddit   created_utc  \\\n",
       "0  1nkes7e   Anxiety  1.758217e+09   \n",
       "1  1nkes09   Anxiety  1.758217e+09   \n",
       "2  1njtn2a   Anxiety  1.758154e+09   \n",
       "\n",
       "                                          title  \\\n",
       "0                      Terrified of my symptoms   \n",
       "1  Does anyone else here have chronic tinnitus?   \n",
       "2                         I can't sleep anymore   \n",
       "\n",
       "                                            selftext  score  num_comments  \\\n",
       "0  So I just got over a nasty cold but the cough ...      1             0   \n",
       "1  This crap is driving me insane.\\n\\nI’ve been a...      1             0   \n",
       "2  Hey everyone, I've been diagnosed with anxiety...      1             1   \n",
       "\n",
       "   upvote_ratio  over_18 removed_by_category  \n",
       "0           1.0    False                None  \n",
       "1           1.0    False                None  \n",
       "2           1.0    False                None  "
      ]
     },
     "metadata": {},
     "output_type": "display_data"
    },
    {
     "data": {
      "text/html": [
       "<div>\n",
       "<style scoped>\n",
       "    .dataframe tbody tr th:only-of-type {\n",
       "        vertical-align: middle;\n",
       "    }\n",
       "\n",
       "    .dataframe tbody tr th {\n",
       "        vertical-align: top;\n",
       "    }\n",
       "\n",
       "    .dataframe thead th {\n",
       "        text-align: right;\n",
       "    }\n",
       "</style>\n",
       "<table border=\"1\" class=\"dataframe\">\n",
       "  <thead>\n",
       "    <tr style=\"text-align: right;\">\n",
       "      <th></th>\n",
       "      <th>comment_id</th>\n",
       "      <th>link_id</th>\n",
       "      <th>parent_id</th>\n",
       "      <th>body</th>\n",
       "      <th>created_utc</th>\n",
       "      <th>score</th>\n",
       "      <th>depth</th>\n",
       "    </tr>\n",
       "  </thead>\n",
       "  <tbody>\n",
       "    <tr>\n",
       "      <th>0</th>\n",
       "      <td>nex9mf6</td>\n",
       "      <td>1njtn2a</td>\n",
       "      <td>1njtn2a</td>\n",
       "      <td>Hello! \\n\\nI would suggest some deep breathing...</td>\n",
       "      <td>1.758217e+09</td>\n",
       "      <td>1</td>\n",
       "      <td>0</td>\n",
       "    </tr>\n",
       "    <tr>\n",
       "      <th>1</th>\n",
       "      <td>nex51um</td>\n",
       "      <td>1nke23t</td>\n",
       "      <td>1nke23t</td>\n",
       "      <td>Look into magnesium glycinate at night, I had ...</td>\n",
       "      <td>1.758216e+09</td>\n",
       "      <td>1</td>\n",
       "      <td>0</td>\n",
       "    </tr>\n",
       "    <tr>\n",
       "      <th>2</th>\n",
       "      <td>nex7wp1</td>\n",
       "      <td>1nke23t</td>\n",
       "      <td>1nke23t</td>\n",
       "      <td>If it gives you any peace, these are all sympt...</td>\n",
       "      <td>1.758216e+09</td>\n",
       "      <td>1</td>\n",
       "      <td>0</td>\n",
       "    </tr>\n",
       "  </tbody>\n",
       "</table>\n",
       "</div>"
      ],
      "text/plain": [
       "  comment_id  link_id parent_id  \\\n",
       "0    nex9mf6  1njtn2a   1njtn2a   \n",
       "1    nex51um  1nke23t   1nke23t   \n",
       "2    nex7wp1  1nke23t   1nke23t   \n",
       "\n",
       "                                                body   created_utc  score  \\\n",
       "0  Hello! \\n\\nI would suggest some deep breathing...  1.758217e+09      1   \n",
       "1  Look into magnesium glycinate at night, I had ...  1.758216e+09      1   \n",
       "2  If it gives you any peace, these are all sympt...  1.758216e+09      1   \n",
       "\n",
       "   depth  \n",
       "0      0  \n",
       "1      0  \n",
       "2      0  "
      ]
     },
     "metadata": {},
     "output_type": "display_data"
    },
    {
     "name": "stdout",
     "output_type": "stream",
     "text": [
      "Submissions columns: ['post_id', 'subreddit', 'created_utc', 'title', 'selftext', 'score', 'num_comments', 'upvote_ratio', 'over_18', 'removed_by_category']\n",
      "Comments columns: ['comment_id', 'link_id', 'parent_id', 'body', 'created_utc', 'score', 'depth']\n"
     ]
    }
   ],
   "source": [
    "def head_jsonl(path, n=3):\n",
    "    \"\"\"Load the first n rows of a JSONL file into a pandas DataFrame.\"\"\"\n",
    "    rows = []\n",
    "    with open(path, \"r\", encoding=\"utf-8\") as f:\n",
    "        # Read first n lines and parse each as JSON\n",
    "        for line in islice(f, n):\n",
    "            rows.append(json.loads(line))\n",
    "    return pd.DataFrame(rows)\n",
    "\n",
    "# Load sample data from both JSONL files\n",
    "subs_head = head_jsonl(RAW_SUBS, 5)\n",
    "coms_head = head_jsonl(RAW_COMS, 5)\n",
    "\n",
    "# Preview the data structure\n",
    "display(subs_head.head(3))\n",
    "display(coms_head.head(3))\n",
    "\n",
    "# Check available columns\n",
    "print(\"Submissions columns:\", list(subs_head.columns))\n",
    "print(\"Comments columns:\", list(coms_head.columns))"
   ]
  },
  {
   "cell_type": "markdown",
   "id": "57af93f2",
   "metadata": {},
   "source": [
    "---"
   ]
  },
  {
   "cell_type": "markdown",
   "id": "95a962cf",
   "metadata": {},
   "source": [
    "\n",
    "## **2. Normalize & light clean (keep negations)**\n",
    "We lowercase, strip URLs/usernames, and normalize whitespace — but **keep** negation words.\n"
   ]
  },
  {
   "cell_type": "code",
   "execution_count": 29,
   "id": "136c1792",
   "metadata": {},
   "outputs": [],
   "source": [
    "def clean_text(s: str) -> str:\n",
    "    \"\"\"Normalize text by removing URLs, usernames, and extra whitespace.\"\"\"\n",
    "    if not isinstance(s, str): return \"\"\n",
    "    s = s.lower()\n",
    "    s = re.sub(r\"http\\S+|www\\.\\S+\", \" \", s)    # Remove URLs\n",
    "    s = re.sub(r\"u/[A-Za-z0-9_-]+\", \" \", s)    # Remove Reddit usernames\n",
    "    s = re.sub(r\"\\s+\", \" \", s).strip()         # Normalize whitespace\n",
    "    return s"
   ]
  },
  {
   "cell_type": "markdown",
   "id": "88d15dc0",
   "metadata": {},
   "source": [
    "\n",
    "### 2.1 Submissions -> minimal consistent schema\n",
    "We keep the original text alongside cleaned columns for *before/after* comparison.\n"
   ]
  },
  {
   "cell_type": "code",
   "execution_count": 30,
   "id": "66854f8e",
   "metadata": {},
   "outputs": [
    {
     "name": "stdout",
     "output_type": "stream",
     "text": [
      "Submissions: 6503->6503 after removing deleted/removed-only rows\n"
     ]
    },
    {
     "data": {
      "text/html": [
       "<div>\n",
       "<style scoped>\n",
       "    .dataframe tbody tr th:only-of-type {\n",
       "        vertical-align: middle;\n",
       "    }\n",
       "\n",
       "    .dataframe tbody tr th {\n",
       "        vertical-align: top;\n",
       "    }\n",
       "\n",
       "    .dataframe thead th {\n",
       "        text-align: right;\n",
       "    }\n",
       "</style>\n",
       "<table border=\"1\" class=\"dataframe\">\n",
       "  <thead>\n",
       "    <tr style=\"text-align: right;\">\n",
       "      <th></th>\n",
       "      <th>post_id</th>\n",
       "      <th>title</th>\n",
       "      <th>selftext</th>\n",
       "      <th>title_clean</th>\n",
       "      <th>selftext_clean</th>\n",
       "    </tr>\n",
       "  </thead>\n",
       "  <tbody>\n",
       "    <tr>\n",
       "      <th>0</th>\n",
       "      <td>1nkes7e</td>\n",
       "      <td>Terrified of my symptoms</td>\n",
       "      <td>So I just got over a nasty cold but the cough ...</td>\n",
       "      <td>terrified of my symptoms</td>\n",
       "      <td>so i just got over a nasty cold but the cough ...</td>\n",
       "    </tr>\n",
       "    <tr>\n",
       "      <th>1</th>\n",
       "      <td>1nkes09</td>\n",
       "      <td>Does anyone else here have chronic tinnitus?</td>\n",
       "      <td>This crap is driving me insane.\\n\\nI’ve been a...</td>\n",
       "      <td>does anyone else here have chronic tinnitus?</td>\n",
       "      <td>this crap is driving me insane. i’ve been avoi...</td>\n",
       "    </tr>\n",
       "    <tr>\n",
       "      <th>2</th>\n",
       "      <td>1njtn2a</td>\n",
       "      <td>I can't sleep anymore</td>\n",
       "      <td>Hey everyone, I've been diagnosed with anxiety...</td>\n",
       "      <td>i can't sleep anymore</td>\n",
       "      <td>hey everyone, i've been diagnosed with anxiety...</td>\n",
       "    </tr>\n",
       "  </tbody>\n",
       "</table>\n",
       "</div>"
      ],
      "text/plain": [
       "   post_id                                         title  \\\n",
       "0  1nkes7e                      Terrified of my symptoms   \n",
       "1  1nkes09  Does anyone else here have chronic tinnitus?   \n",
       "2  1njtn2a                         I can't sleep anymore   \n",
       "\n",
       "                                            selftext  \\\n",
       "0  So I just got over a nasty cold but the cough ...   \n",
       "1  This crap is driving me insane.\\n\\nI’ve been a...   \n",
       "2  Hey everyone, I've been diagnosed with anxiety...   \n",
       "\n",
       "                                    title_clean  \\\n",
       "0                      terrified of my symptoms   \n",
       "1  does anyone else here have chronic tinnitus?   \n",
       "2                         i can't sleep anymore   \n",
       "\n",
       "                                      selftext_clean  \n",
       "0  so i just got over a nasty cold but the cough ...  \n",
       "1  this crap is driving me insane. i’ve been avoi...  \n",
       "2  hey everyone, i've been diagnosed with anxiety...  "
      ]
     },
     "metadata": {},
     "output_type": "display_data"
    }
   ],
   "source": [
    "# Load submissions data from JSONL file\n",
    "subs_raw = pd.read_json(RAW_SUBS, lines=True)\n",
    "subs = subs_raw.rename(columns={\"created_utc\":\"created_ts\"}).copy()\n",
    "\n",
    "# Convert data types and handle missing values\n",
    "subs[\"post_id\"] = subs[\"post_id\"].astype(str)\n",
    "subs[\"created_dt\"] = pd.to_datetime(subs[\"created_ts\"], unit=\"s\", errors=\"coerce\")\n",
    "subs[\"title\"] = subs[\"title\"].fillna(\"\")\n",
    "subs[\"selftext\"] = subs[\"selftext\"].fillna(\"\")\n",
    "\n",
    "# Remove posts where both title and selftext are deleted/removed\n",
    "dead = subs[\"title\"].str.fullmatch(r\"\\[deleted\\]|\\[removed\\]\", na=False) & \\\n",
    "       subs[\"selftext\"].str.fullmatch(r\"\\[deleted\\]|\\[removed\\]\", na=False)\n",
    "before_n = len(subs)\n",
    "subs = subs[~dead].copy()\n",
    "after_n = len(subs)\n",
    "\n",
    "# Apply text cleaning to title and selftext\n",
    "subs[\"title_clean\"] = subs[\"title\"].map(clean_text)\n",
    "subs[\"selftext_clean\"] = subs[\"selftext\"].map(clean_text)\n",
    "\n",
    "# Show results\n",
    "print(f\"Submissions: {before_n}->{after_n} after removing deleted/removed-only rows\")\n",
    "display(subs[[\"post_id\",\"title\",\"selftext\",\"title_clean\",\"selftext_clean\"]].head(3))"
   ]
  },
  {
   "cell_type": "markdown",
   "id": "92d4148e",
   "metadata": {},
   "source": [
    "\n",
    "### 2.2 Comments -> align to `post_id` and clean\n",
    "We restrict to **top-level** comments (`depth==0`) as concise context.\n"
   ]
  },
  {
   "cell_type": "code",
   "execution_count": 31,
   "id": "52b1b199",
   "metadata": {},
   "outputs": [
    {
     "name": "stdout",
     "output_type": "stream",
     "text": [
      "Comments (all): 13422\n"
     ]
    },
    {
     "data": {
      "text/html": [
       "<div>\n",
       "<style scoped>\n",
       "    .dataframe tbody tr th:only-of-type {\n",
       "        vertical-align: middle;\n",
       "    }\n",
       "\n",
       "    .dataframe tbody tr th {\n",
       "        vertical-align: top;\n",
       "    }\n",
       "\n",
       "    .dataframe thead th {\n",
       "        text-align: right;\n",
       "    }\n",
       "</style>\n",
       "<table border=\"1\" class=\"dataframe\">\n",
       "  <thead>\n",
       "    <tr style=\"text-align: right;\">\n",
       "      <th></th>\n",
       "      <th>comment_id</th>\n",
       "      <th>post_id</th>\n",
       "      <th>depth</th>\n",
       "      <th>score</th>\n",
       "      <th>body</th>\n",
       "      <th>body_clean</th>\n",
       "    </tr>\n",
       "  </thead>\n",
       "  <tbody>\n",
       "    <tr>\n",
       "      <th>0</th>\n",
       "      <td>nex9mf6</td>\n",
       "      <td>1njtn2a</td>\n",
       "      <td>0</td>\n",
       "      <td>1</td>\n",
       "      <td>Hello! \\n\\nI would suggest some deep breathing...</td>\n",
       "      <td>hello! i would suggest some deep breathing exe...</td>\n",
       "    </tr>\n",
       "    <tr>\n",
       "      <th>1</th>\n",
       "      <td>nex51um</td>\n",
       "      <td>1nke23t</td>\n",
       "      <td>0</td>\n",
       "      <td>1</td>\n",
       "      <td>Look into magnesium glycinate at night, I had ...</td>\n",
       "      <td>look into magnesium glycinate at night, i had ...</td>\n",
       "    </tr>\n",
       "    <tr>\n",
       "      <th>2</th>\n",
       "      <td>nex7wp1</td>\n",
       "      <td>1nke23t</td>\n",
       "      <td>0</td>\n",
       "      <td>1</td>\n",
       "      <td>If it gives you any peace, these are all sympt...</td>\n",
       "      <td>if it gives you any peace, these are all sympt...</td>\n",
       "    </tr>\n",
       "  </tbody>\n",
       "</table>\n",
       "</div>"
      ],
      "text/plain": [
       "  comment_id  post_id  depth  score  \\\n",
       "0    nex9mf6  1njtn2a      0      1   \n",
       "1    nex51um  1nke23t      0      1   \n",
       "2    nex7wp1  1nke23t      0      1   \n",
       "\n",
       "                                                body  \\\n",
       "0  Hello! \\n\\nI would suggest some deep breathing...   \n",
       "1  Look into magnesium glycinate at night, I had ...   \n",
       "2  If it gives you any peace, these are all sympt...   \n",
       "\n",
       "                                          body_clean  \n",
       "0  hello! i would suggest some deep breathing exe...  \n",
       "1  look into magnesium glycinate at night, i had ...  \n",
       "2  if it gives you any peace, these are all sympt...  "
      ]
     },
     "metadata": {},
     "output_type": "display_data"
    },
    {
     "name": "stdout",
     "output_type": "stream",
     "text": [
      "Top-level comments: 10382\n"
     ]
    }
   ],
   "source": [
    "# Load comments data from JSONL file\n",
    "coms_raw = pd.read_json(RAW_COMS, lines=True)\n",
    "coms = coms_raw.rename(columns={\"created_utc\":\"created_ts\"}).copy()\n",
    "\n",
    "# Set up IDs and handle missing values (link_id already matches submission post_id)\n",
    "coms[\"post_id\"] = coms[\"link_id\"].astype(str)\n",
    "coms[\"comment_id\"] = coms[\"comment_id\"].astype(str)\n",
    "coms[\"body\"] = coms[\"body\"].fillna(\"\")\n",
    "\n",
    "# Remove deleted/removed comments and clean text\n",
    "coms = coms[~coms[\"body\"].str.fullmatch(r\"\\[deleted\\]|\\[removed\\]\", na=False)].copy()\n",
    "coms[\"body_clean\"] = coms[\"body\"].map(clean_text)\n",
    "\n",
    "# Show all comments\n",
    "print(\"Comments (all):\", len(coms))\n",
    "display(coms[[\"comment_id\",\"post_id\",\"depth\",\"score\",\"body\",\"body_clean\"]].head(3))\n",
    "\n",
    "# Filter to top-level comments only (depth == 0)\n",
    "coms_top = coms.query(\"depth == 0\").copy()\n",
    "print(\"Top-level comments:\", len(coms_top))"
   ]
  },
  {
   "cell_type": "markdown",
   "id": "e2289e73",
   "metadata": {},
   "source": [
    "---"
   ]
  },
  {
   "cell_type": "markdown",
   "id": "a4377a5e",
   "metadata": {},
   "source": [
    "\n",
    "## **3. BEFORE metrics snapshot**\n",
    "We’ll capture quick counts and nulls before transforming to the final table.\n"
   ]
  },
  {
   "cell_type": "code",
   "execution_count": 32,
   "id": "7e3404b5",
   "metadata": {},
   "outputs": [
    {
     "name": "stdout",
     "output_type": "stream",
     "text": [
      "Submissions shape: (6503, 13)\n",
      "removed_by_category    100.0\n",
      "dtype: float64\n",
      "\n",
      "Comments (top-level) shape: (10382, 9)\n",
      "Series([], dtype: float64)\n"
     ]
    }
   ],
   "source": [
    "def null_pct(df):\n",
    "    \"\"\"Calculate the percentage of null values in each column.\"\"\"\n",
    "    return (df.isna().mean().sort_values(ascending=False) * 100).round(2)\n",
    "\n",
    "# Check submissions data quality\n",
    "print(\"Submissions shape:\", subs.shape)\n",
    "print(null_pct(subs)[null_pct(subs) > 0])\n",
    "\n",
    "# Check top-level comments data quality\n",
    "print(\"\\nComments (top-level) shape:\", coms_top.shape)\n",
    "print(null_pct(coms_top)[null_pct(coms_top) > 0])"
   ]
  },
  {
   "cell_type": "markdown",
   "id": "9cec5777",
   "metadata": {},
   "source": [
    "---"
   ]
  },
  {
   "cell_type": "markdown",
   "id": "1dc2af45",
   "metadata": {},
   "source": [
    "\n",
    "## **4. Build `comments_concat` (top‑k by score)**\n",
    "We aggregate the **k highest‑score** top‑level comments per post into a compact string.\n"
   ]
  },
  {
   "cell_type": "code",
   "execution_count": 33,
   "id": "39fbd465",
   "metadata": {},
   "outputs": [
    {
     "data": {
      "text/html": [
       "<div>\n",
       "<style scoped>\n",
       "    .dataframe tbody tr th:only-of-type {\n",
       "        vertical-align: middle;\n",
       "    }\n",
       "\n",
       "    .dataframe tbody tr th {\n",
       "        vertical-align: top;\n",
       "    }\n",
       "\n",
       "    .dataframe thead th {\n",
       "        text-align: right;\n",
       "    }\n",
       "</style>\n",
       "<table border=\"1\" class=\"dataframe\">\n",
       "  <thead>\n",
       "    <tr style=\"text-align: right;\">\n",
       "      <th></th>\n",
       "      <th>post_id</th>\n",
       "      <th>comments_concat</th>\n",
       "    </tr>\n",
       "  </thead>\n",
       "  <tbody>\n",
       "    <tr>\n",
       "      <th>0</th>\n",
       "      <td>1fqk5d2</td>\n",
       "      <td>i try to think back on all the times i've spir...</td>\n",
       "    </tr>\n",
       "    <tr>\n",
       "      <th>1</th>\n",
       "      <td>1fryfai</td>\n",
       "      <td>starting it now! just made a fear ladder with ...</td>\n",
       "    </tr>\n",
       "    <tr>\n",
       "      <th>2</th>\n",
       "      <td>1frykue</td>\n",
       "      <td>i always tell my doctor that i struggle with a...</td>\n",
       "    </tr>\n",
       "  </tbody>\n",
       "</table>\n",
       "</div>"
      ],
      "text/plain": [
       "   post_id                                    comments_concat\n",
       "0  1fqk5d2  i try to think back on all the times i've spir...\n",
       "1  1fryfai  starting it now! just made a fear ladder with ...\n",
       "2  1frykue  i always tell my doctor that i struggle with a..."
      ]
     },
     "metadata": {},
     "output_type": "display_data"
    },
    {
     "data": {
      "text/html": [
       "<div>\n",
       "<style scoped>\n",
       "    .dataframe tbody tr th:only-of-type {\n",
       "        vertical-align: middle;\n",
       "    }\n",
       "\n",
       "    .dataframe tbody tr th {\n",
       "        vertical-align: top;\n",
       "    }\n",
       "\n",
       "    .dataframe thead th {\n",
       "        text-align: right;\n",
       "    }\n",
       "</style>\n",
       "<table border=\"1\" class=\"dataframe\">\n",
       "  <thead>\n",
       "    <tr style=\"text-align: right;\">\n",
       "      <th></th>\n",
       "      <th>post_id</th>\n",
       "      <th>comment_count</th>\n",
       "    </tr>\n",
       "  </thead>\n",
       "  <tbody>\n",
       "    <tr>\n",
       "      <th>0</th>\n",
       "      <td>1fqk5d2</td>\n",
       "      <td>3</td>\n",
       "    </tr>\n",
       "    <tr>\n",
       "      <th>1</th>\n",
       "      <td>1fryfai</td>\n",
       "      <td>3</td>\n",
       "    </tr>\n",
       "    <tr>\n",
       "      <th>2</th>\n",
       "      <td>1frykue</td>\n",
       "      <td>3</td>\n",
       "    </tr>\n",
       "  </tbody>\n",
       "</table>\n",
       "</div>"
      ],
      "text/plain": [
       "   post_id  comment_count\n",
       "0  1fqk5d2              3\n",
       "1  1fryfai              3\n",
       "2  1frykue              3"
      ]
     },
     "metadata": {},
     "output_type": "display_data"
    }
   ],
   "source": [
    "# Aggregate top k comments per post by score\n",
    "k = 5  # Number of top comments to include per post\n",
    "coms_top = coms_top.sort_values([\"post_id\",\"score\"], ascending=[True, False])\n",
    "agg_topk = (coms_top.groupby(\"post_id\")[\"body_clean\"]\n",
    "            .apply(lambda s: \" <cmt> \".join(s.head(k)))\n",
    "            .reset_index(name=\"comments_concat\"))\n",
    "\n",
    "# Count total comments per post\n",
    "counts = coms.groupby(\"post_id\")[\"comment_id\"].count().reset_index(name=\"comment_count\")\n",
    "\n",
    "# Preview aggregated data\n",
    "display(agg_topk.head(3))\n",
    "display(counts.head(3))"
   ]
  },
  {
   "cell_type": "markdown",
   "id": "eda3c74c",
   "metadata": {},
   "source": [
    "---"
   ]
  },
  {
   "cell_type": "markdown",
   "id": "3f8222ef",
   "metadata": {},
   "source": [
    "\n",
    "## **5. AFTER: merge into a single row per submission**\n",
    "We create:\n",
    "- `text_main = title_clean + selftext_clean`\n",
    "- `text_all  = text_main + comments_concat`\n",
    "\n",
    "We also apply a short‑text filter to remove near‑empty posts.\n"
   ]
  },
  {
   "cell_type": "code",
   "execution_count": 34,
   "id": "c6e0feaf",
   "metadata": {},
   "outputs": [
    {
     "name": "stdout",
     "output_type": "stream",
     "text": [
      "Length filter (≥7 tokens in text_main): 6503-> 6290 rows\n"
     ]
    },
    {
     "data": {
      "text/plain": [
       "post_id                                                      1nkes7e\n",
       "title                                       Terrified of my symptoms\n",
       "selftext           So I just got over a nasty cold but the cough ...\n",
       "comments_concat                                                     \n",
       "text_main          terrified of my symptoms\\n\\nso i just got over...\n",
       "text_all           terrified of my symptoms\\n\\nso i just got over...\n",
       "Name: 0, dtype: object"
      ]
     },
     "metadata": {},
     "output_type": "display_data"
    }
   ],
   "source": [
    "# Merge submissions with aggregated comments and comment counts\n",
    "df = (subs.merge(agg_topk, on=\"post_id\", how=\"left\")\n",
    "          .merge(counts, on=\"post_id\", how=\"left\"))\n",
    "\n",
    "# Handle missing comment data\n",
    "df[\"comments_concat\"] = df[\"comments_concat\"].fillna(\"\")\n",
    "df[\"comment_count\"] = df[\"comment_count\"].fillna(0).astype(int)\n",
    "\n",
    "# Create combined text fields\n",
    "df[\"text_main\"] = (df[\"title_clean\"] + \"\\n\\n\" + df[\"selftext_clean\"]).str.strip()\n",
    "df[\"text_all\"]  = (df[\"text_main\"] + \"\\n\\n\" + df[\"comments_concat\"]).str.strip()\n",
    "\n",
    "# Filter out posts with very short text (< 7 tokens)\n",
    "length_floor = 7\n",
    "before_len = len(df)\n",
    "df = df[df[\"text_main\"].str.split().str.len().fillna(0) >= length_floor].copy()\n",
    "after_len = len(df)\n",
    "print(f\"Length filter (≥{length_floor} tokens in text_main): {before_len}-> {after_len} rows\")\n",
    "\n",
    "# Show example of processed post\n",
    "example = df.iloc[0][[\"post_id\",\"title\",\"selftext\",\"comments_concat\",\"text_main\",\"text_all\"]]\n",
    "display(example)"
   ]
  },
  {
   "cell_type": "markdown",
   "id": "cfabf697",
   "metadata": {},
   "source": [
    "### 5.1 QC Fix-ups (dedupes, comment backfill, dtypes)\n",
    "We apply small fixes discovered in QC **before** saving artifacts.\n"
   ]
  },
  {
   "cell_type": "code",
   "execution_count": 35,
   "id": "893f6503",
   "metadata": {},
   "outputs": [
    {
     "name": "stdout",
     "output_type": "stream",
     "text": [
      "De-duplicated text_all: 6290-> 6283 rows\n",
      "comments_missing=1 rows: 106\n",
      "...with empty comments_concat: 106\n",
      "Posts needing comment backfill: 106\n",
      "Backfilled 106 posts; remaining mismatches: 106\n"
     ]
    }
   ],
   "source": [
    "# Ensure removed_by_category is string type (handles NaN safely)\n",
    "if \"removed_by_category\" in df.columns:\n",
    "    df[\"removed_by_category\"] = df[\"removed_by_category\"].astype(\"string\")\n",
    "\n",
    "# Remove duplicate posts based on combined text to prevent data leakage\n",
    "before = len(df)\n",
    "df = df.sort_values(\"created_dt\").drop_duplicates(subset=[\"text_all\"], keep=\"first\")\n",
    "print(f\"De-duplicated text_all: {before}-> {len(df)} rows\")\n",
    "\n",
    "# Validate required columns exist\n",
    "if \"num_comments\" not in df.columns or \"comment_count\" not in df.columns:\n",
    "    raise ValueError(\"Expected columns 'num_comments' and 'comment_count' missing.\")\n",
    "\n",
    "# Flag posts where platform reported comments but none were captured\n",
    "df[\"comments_missing\"] = ((df[\"num_comments\"] > 0) & (df[\"comment_count\"] == 0)).astype(\"int8\")\n",
    "print(\"comments_missing=1 rows:\", int(df[\"comments_missing\"].sum()))\n",
    "print(\"...with empty comments_concat:\", int(((df[\"comments_missing\"]==1) & (df[\"comments_concat\"].str.len()==0)).sum()))\n",
    "\n",
    "# Identify posts needing comment backfill\n",
    "need_fill_mask = (df[\"num_comments\"] > 0) & (df[\"comment_count\"] == 0)\n",
    "need_fill_idx = df.index[need_fill_mask]\n",
    "print(\"Posts needing comment backfill:\", len(need_fill_idx))\n",
    "\n",
    "if len(need_fill_idx):\n",
    "    # Load all comments (including nested) for backfill\n",
    "    coms_all_path = DATA_INTERIM / \"comments_all.parquet\"\n",
    "    if not coms_all_path.exists():\n",
    "        raise FileNotFoundError(f\"Missing {coms_all_path}. Re-run the earlier save cell that writes comments_all.parquet.\")\n",
    "\n",
    "    coms_all = pd.read_parquet(coms_all_path)\n",
    "\n",
    "    # Validate expected columns\n",
    "    exp_cols = {\"post_id\",\"comment_id\",\"body_clean\",\"score\"}\n",
    "    missing = exp_cols - set(coms_all.columns)\n",
    "    if missing:\n",
    "        raise ValueError(f\"comments_all.parquet missing columns: {missing}\")\n",
    "\n",
    "    # Get top k comments by score from ALL depths for posts missing comments\n",
    "    k_backfill = 5\n",
    "    target_ids = set(df.loc[need_fill_idx, \"post_id\"])\n",
    "    subset = coms_all[coms_all[\"post_id\"].isin(target_ids)].copy()\n",
    "    subset = subset.sort_values([\"post_id\",\"score\"], ascending=[True, False])\n",
    "\n",
    "    # Create lookup dictionaries for concatenated comments and counts\n",
    "    cc_map = (subset.groupby(\"post_id\")[\"body_clean\"]\n",
    "                    .apply(lambda s: \" <cmt> \".join(s.head(k_backfill)))\n",
    "                    .to_dict())\n",
    "    cnt_map = subset.groupby(\"post_id\")[\"comment_id\"].count().to_dict()\n",
    "\n",
    "    # Backfill missing comment data\n",
    "    df.loc[need_fill_idx, \"comments_concat\"] = df.loc[need_fill_idx, \"post_id\"].map(cc_map).fillna(\"\")\n",
    "    df.loc[need_fill_idx, \"comment_count\"]   = df.loc[need_fill_idx, \"post_id\"].map(cnt_map).fillna(0).astype(int)\n",
    "    df.loc[need_fill_idx, \"text_all\"]        = (df.loc[need_fill_idx, \"text_main\"] + \"\\n\\n\" + df.loc[need_fill_idx, \"comments_concat\"]).str.strip()\n",
    "\n",
    "    # Check for any remaining mismatches after backfill\n",
    "    remaining = df.loc[need_fill_idx][(df.loc[need_fill_idx, \"num_comments\"]>0) & (df.loc[need_fill_idx, \"comment_count\"]==0)]\n",
    "    print(f\"Backfilled {len(need_fill_idx)} posts; remaining mismatches: {len(remaining)}\")\n",
    "else:\n",
    "    print(\"No backfill needed.\")"
   ]
  },
  {
   "cell_type": "markdown",
   "id": "1e8a4b1d",
   "metadata": {},
   "source": [
    "---"
   ]
  },
  {
   "cell_type": "markdown",
   "id": "185b2b70",
   "metadata": {},
   "source": [
    "\n",
    "## **6. Save artifacts**\n",
    "These become inputs to the next notebooks (topics, clusters, labels).\n"
   ]
  },
  {
   "cell_type": "code",
   "execution_count": 36,
   "id": "03401b2a",
   "metadata": {},
   "outputs": [
    {
     "name": "stdout",
     "output_type": "stream",
     "text": [
      "Saving artifacts with 6283 rows after fix-ups…\n",
      " - ../data/interim/submissions.parquet\n",
      " - ../data/interim/comments_all.parquet\n",
      " - ../data/processed/reddit_anxiety_v1.parquet (rows=6283)\n"
     ]
    }
   ],
   "source": [
    "# Define output paths\n",
    "subs_out = DATA_INTERIM / \"submissions.parquet\"\n",
    "coms_out = DATA_INTERIM / \"comments_all.parquet\"\n",
    "proc_out = DATA_PROC / \"reddit_anxiety_v1.parquet\"\n",
    "\n",
    "# Save intermediate and processed data\n",
    "subs.to_parquet(subs_out, index=False)\n",
    "coms[[\"comment_id\",\"post_id\",\"body_clean\",\"score\",\"depth\"]].to_parquet(coms_out, index=False)\n",
    "df.to_parquet(proc_out, index=False)\n",
    "\n",
    "# Confirm saves\n",
    "print(f\"Saving artifacts with {len(df)} rows after fix-ups…\")\n",
    "print(\" -\", subs_out)\n",
    "print(\" -\", coms_out)\n",
    "print(\" -\", proc_out, f\"(rows={len(df)})\")"
   ]
  },
  {
   "cell_type": "markdown",
   "id": "89f21b3b",
   "metadata": {},
   "source": [
    "---"
   ]
  },
  {
   "cell_type": "markdown",
   "id": "1754dade",
   "metadata": {},
   "source": [
    "\n",
    "## **7. Quick QC figures**\n",
    "We capture simple visuals for our final report.\n"
   ]
  },
  {
   "cell_type": "code",
   "execution_count": 37,
   "id": "7a998469",
   "metadata": {},
   "outputs": [
    {
     "data": {
      "image/png": "[encoded data removed]",
      "text/plain": [
       "<Figure size 600x400 with 1 Axes>"
      ]
     },
     "metadata": {},
     "output_type": "display_data"
    },
    {
     "data": {
      "image/png": "[encoded data removed]",
      "text/plain": [
       "<Figure size 600x400 with 1 Axes>"
      ]
     },
     "metadata": {},
     "output_type": "display_data"
    }
   ],
   "source": [
    "# Visualize text length distribution\n",
    "lens = df[\"text_all\"].str.split().str.len().dropna()\n",
    "plt.figure(figsize=(6,4))\n",
    "plt.hist(lens, bins=40)\n",
    "plt.title(\"Text length distribution (tokens) — text_all\")\n",
    "plt.xlabel(\"Token count\"); plt.ylabel(\"Frequency\")\n",
    "plt.tight_layout()\n",
    "plt.savefig(REPORTS / \"len_text_all_hist.png\", dpi=150)\n",
    "plt.show()\n",
    "\n",
    "# Show top 10 subreddits by post count\n",
    "top_subs = (df.groupby(\"subreddit\")[\"post_id\"].count()\n",
    "              .sort_values(ascending=False).head(10))\n",
    "plt.figure(figsize=(6,4))\n",
    "top_subs.plot(kind=\"bar\")\n",
    "plt.title(\"Top subreddits by posts\")\n",
    "plt.xlabel(\"Subreddit\"); plt.ylabel(\"# Posts\")\n",
    "plt.tight_layout()\n",
    "plt.savefig(REPORTS / \"top_subreddits_bar.png\", dpi=150)\n",
    "plt.show()"
   ]
  },
  {
   "cell_type": "markdown",
   "id": "ce4c4cb8",
   "metadata": {},
   "source": [
    "---"
   ]
  },
  {
   "cell_type": "markdown",
   "id": "6ac8eec7",
   "metadata": {},
   "source": [
    "\n",
    "## **8. Parameters & summary**\n",
    "We persist the key decisions so downstream steps are reproducible.\n"
   ]
  },
  {
   "cell_type": "code",
   "execution_count": 38,
   "id": "ca9aae0c",
   "metadata": {},
   "outputs": [
    {
     "data": {
      "text/plain": [
       "{'keep_negations': True,\n",
       " 'remove_urls_usernames': True,\n",
       " 'comments_top_level_only': True,\n",
       " 'topk_comments': 5,\n",
       " 'length_floor_tokens': 7,\n",
       " 'date_range': {'min': '2024-09-27 09:58:44', 'max': '2025-09-18 17:34:21'}}"
      ]
     },
     "execution_count": 38,
     "metadata": {},
     "output_type": "execute_result"
    }
   ],
   "source": [
    "# Save preprocessing parameters for reproducibility\n",
    "params = {\n",
    "    \"keep_negations\": True,\n",
    "    \"remove_urls_usernames\": True,\n",
    "    \"comments_top_level_only\": True,\n",
    "    \"topk_comments\": int(k),\n",
    "    \"length_floor_tokens\": int(length_floor),\n",
    "    \"date_range\": {\n",
    "        \"min\": str(df[\"created_dt\"].min()) if \"created_dt\" in df else None,\n",
    "        \"max\": str(df[\"created_dt\"].max()) if \"created_dt\" in df else None,\n",
    "    }\n",
    "}\n",
    "\n",
    "# Write parameters to JSON file\n",
    "with open(DATA_PROC / \"02_clean_merge_params.json\", \"w\", encoding=\"utf-8\") as f:\n",
    "    json.dump(params, f, indent=2)\n",
    "    \n",
    "params"
   ]
  },
  {
   "cell_type": "markdown",
   "id": "bd30614e",
   "metadata": {},
   "source": [
    "---"
   ]
  },
  {
   "cell_type": "markdown",
   "id": "eb8b70bf",
   "metadata": {},
   "source": [
    "\n",
    "### Next steps:\n",
    "- **Topics (NMF on TF‑IDF)**: read `../data/processed/reddit_anxiety_v1.parquet`, column `text_all`.\n",
    "- **Clusters (k‑means on embeddings)**: same input; save `cluster_id` per post.\n",
    "- **Labels (NRC)**: compute per‑emotion densities and an anxiety index from `text_all`."
   ]
  },
  {
   "cell_type": "markdown",
   "id": "c180e5d2",
   "metadata": {},
   "source": [
    "[Next: Topic Modeling & Anxiety Evaluation →](03_topic_modeling_and_anxiety_evaluation.ipynb)"
   ]
  }
 ],
 "metadata": {
  "kernelspec": {
   "display_name": ".venv",
   "language": "python",
   "name": "python3"
  },
  "language_info": {
   "codemirror_mode": {
    "name": "ipython",
    "version": 3
   },
   "file_extension": ".py",
   "mimetype": "text/x-python",
   "name": "python",
   "nbconvert_exporter": "python",
   "pygments_lexer": "ipython3",
   "version": "3.13.5"
  }
 },
 "nbformat": 4,
 "nbformat_minor": 5
}

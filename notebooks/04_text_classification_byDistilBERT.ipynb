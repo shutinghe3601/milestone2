{
 "cells": [
  {
   "cell_type": "markdown",
   "id": "dec36894",
   "metadata": {},
   "source": [
    "# Text Classification by DistilBERT\n",
    "\n",
    "Purpose: \n",
    "Explore using DistilBERT, an unsupervised pretrained model from Hugging Face, to classify the anxiery level (low or high) for Reddit posts."
   ]
  },
  {
   "cell_type": "code",
   "execution_count": 1,
   "id": "87c28f9d",
   "metadata": {},
   "outputs": [],
   "source": [
    "import pandas as pd\n",
    "import numpy as np\n"
   ]
  },
  {
   "cell_type": "code",
   "execution_count": 2,
   "id": "e8bed83e",
   "metadata": {},
   "outputs": [
    {
     "ename": "FileNotFoundError",
     "evalue": "[Errno 2] No such file or directory: '../data/processed/reddit_submission.csv'",
     "output_type": "error",
     "traceback": [
      "\u001b[31m---------------------------------------------------------------------------\u001b[39m",
      "\u001b[31mFileNotFoundError\u001b[39m                         Traceback (most recent call last)",
      "\u001b[36mCell\u001b[39m\u001b[36m \u001b[39m\u001b[32mIn[2]\u001b[39m\u001b[32m, line 1\u001b[39m\n\u001b[32m----> \u001b[39m\u001b[32m1\u001b[39m raw_data = \u001b[43mpd\u001b[49m\u001b[43m.\u001b[49m\u001b[43mread_csv\u001b[49m\u001b[43m(\u001b[49m\u001b[33;43m'\u001b[39;49m\u001b[33;43m../data/processed/reddit_submission.csv\u001b[39;49m\u001b[33;43m'\u001b[39;49m\u001b[43m)\u001b[49m\n\u001b[32m      2\u001b[39m raw_data.dropna(subset=[\u001b[33m'\u001b[39m\u001b[33mselftext\u001b[39m\u001b[33m'\u001b[39m], inplace=\u001b[38;5;28;01mTrue\u001b[39;00m)\n\u001b[32m      3\u001b[39m raw_data[\u001b[33m'\u001b[39m\u001b[33mfull_text\u001b[39m\u001b[33m'\u001b[39m] = raw_data[\u001b[33m'\u001b[39m\u001b[33mtitle\u001b[39m\u001b[33m'\u001b[39m] + \u001b[33m'\u001b[39m\u001b[33m \u001b[39m\u001b[33m'\u001b[39m + raw_data[\u001b[33m'\u001b[39m\u001b[33mselftext\u001b[39m\u001b[33m'\u001b[39m]\n",
      "\u001b[36mFile \u001b[39m\u001b[32m~/code/umich/milestone2/.venv/lib/python3.13/site-packages/pandas/io/parsers/readers.py:1026\u001b[39m, in \u001b[36mread_csv\u001b[39m\u001b[34m(filepath_or_buffer, sep, delimiter, header, names, index_col, usecols, dtype, engine, converters, true_values, false_values, skipinitialspace, skiprows, skipfooter, nrows, na_values, keep_default_na, na_filter, verbose, skip_blank_lines, parse_dates, infer_datetime_format, keep_date_col, date_parser, date_format, dayfirst, cache_dates, iterator, chunksize, compression, thousands, decimal, lineterminator, quotechar, quoting, doublequote, escapechar, comment, encoding, encoding_errors, dialect, on_bad_lines, delim_whitespace, low_memory, memory_map, float_precision, storage_options, dtype_backend)\u001b[39m\n\u001b[32m   1013\u001b[39m kwds_defaults = _refine_defaults_read(\n\u001b[32m   1014\u001b[39m     dialect,\n\u001b[32m   1015\u001b[39m     delimiter,\n\u001b[32m   (...)\u001b[39m\u001b[32m   1022\u001b[39m     dtype_backend=dtype_backend,\n\u001b[32m   1023\u001b[39m )\n\u001b[32m   1024\u001b[39m kwds.update(kwds_defaults)\n\u001b[32m-> \u001b[39m\u001b[32m1026\u001b[39m \u001b[38;5;28;01mreturn\u001b[39;00m \u001b[43m_read\u001b[49m\u001b[43m(\u001b[49m\u001b[43mfilepath_or_buffer\u001b[49m\u001b[43m,\u001b[49m\u001b[43m \u001b[49m\u001b[43mkwds\u001b[49m\u001b[43m)\u001b[49m\n",
      "\u001b[36mFile \u001b[39m\u001b[32m~/code/umich/milestone2/.venv/lib/python3.13/site-packages/pandas/io/parsers/readers.py:620\u001b[39m, in \u001b[36m_read\u001b[39m\u001b[34m(filepath_or_buffer, kwds)\u001b[39m\n\u001b[32m    617\u001b[39m _validate_names(kwds.get(\u001b[33m\"\u001b[39m\u001b[33mnames\u001b[39m\u001b[33m\"\u001b[39m, \u001b[38;5;28;01mNone\u001b[39;00m))\n\u001b[32m    619\u001b[39m \u001b[38;5;66;03m# Create the parser.\u001b[39;00m\n\u001b[32m--> \u001b[39m\u001b[32m620\u001b[39m parser = \u001b[43mTextFileReader\u001b[49m\u001b[43m(\u001b[49m\u001b[43mfilepath_or_buffer\u001b[49m\u001b[43m,\u001b[49m\u001b[43m \u001b[49m\u001b[43m*\u001b[49m\u001b[43m*\u001b[49m\u001b[43mkwds\u001b[49m\u001b[43m)\u001b[49m\n\u001b[32m    622\u001b[39m \u001b[38;5;28;01mif\u001b[39;00m chunksize \u001b[38;5;129;01mor\u001b[39;00m iterator:\n\u001b[32m    623\u001b[39m     \u001b[38;5;28;01mreturn\u001b[39;00m parser\n",
      "\u001b[36mFile \u001b[39m\u001b[32m~/code/umich/milestone2/.venv/lib/python3.13/site-packages/pandas/io/parsers/readers.py:1620\u001b[39m, in \u001b[36mTextFileReader.__init__\u001b[39m\u001b[34m(self, f, engine, **kwds)\u001b[39m\n\u001b[32m   1617\u001b[39m     \u001b[38;5;28mself\u001b[39m.options[\u001b[33m\"\u001b[39m\u001b[33mhas_index_names\u001b[39m\u001b[33m\"\u001b[39m] = kwds[\u001b[33m\"\u001b[39m\u001b[33mhas_index_names\u001b[39m\u001b[33m\"\u001b[39m]\n\u001b[32m   1619\u001b[39m \u001b[38;5;28mself\u001b[39m.handles: IOHandles | \u001b[38;5;28;01mNone\u001b[39;00m = \u001b[38;5;28;01mNone\u001b[39;00m\n\u001b[32m-> \u001b[39m\u001b[32m1620\u001b[39m \u001b[38;5;28mself\u001b[39m._engine = \u001b[38;5;28;43mself\u001b[39;49m\u001b[43m.\u001b[49m\u001b[43m_make_engine\u001b[49m\u001b[43m(\u001b[49m\u001b[43mf\u001b[49m\u001b[43m,\u001b[49m\u001b[43m \u001b[49m\u001b[38;5;28;43mself\u001b[39;49m\u001b[43m.\u001b[49m\u001b[43mengine\u001b[49m\u001b[43m)\u001b[49m\n",
      "\u001b[36mFile \u001b[39m\u001b[32m~/code/umich/milestone2/.venv/lib/python3.13/site-packages/pandas/io/parsers/readers.py:1880\u001b[39m, in \u001b[36mTextFileReader._make_engine\u001b[39m\u001b[34m(self, f, engine)\u001b[39m\n\u001b[32m   1878\u001b[39m     \u001b[38;5;28;01mif\u001b[39;00m \u001b[33m\"\u001b[39m\u001b[33mb\u001b[39m\u001b[33m\"\u001b[39m \u001b[38;5;129;01mnot\u001b[39;00m \u001b[38;5;129;01min\u001b[39;00m mode:\n\u001b[32m   1879\u001b[39m         mode += \u001b[33m\"\u001b[39m\u001b[33mb\u001b[39m\u001b[33m\"\u001b[39m\n\u001b[32m-> \u001b[39m\u001b[32m1880\u001b[39m \u001b[38;5;28mself\u001b[39m.handles = \u001b[43mget_handle\u001b[49m\u001b[43m(\u001b[49m\n\u001b[32m   1881\u001b[39m \u001b[43m    \u001b[49m\u001b[43mf\u001b[49m\u001b[43m,\u001b[49m\n\u001b[32m   1882\u001b[39m \u001b[43m    \u001b[49m\u001b[43mmode\u001b[49m\u001b[43m,\u001b[49m\n\u001b[32m   1883\u001b[39m \u001b[43m    \u001b[49m\u001b[43mencoding\u001b[49m\u001b[43m=\u001b[49m\u001b[38;5;28;43mself\u001b[39;49m\u001b[43m.\u001b[49m\u001b[43moptions\u001b[49m\u001b[43m.\u001b[49m\u001b[43mget\u001b[49m\u001b[43m(\u001b[49m\u001b[33;43m\"\u001b[39;49m\u001b[33;43mencoding\u001b[39;49m\u001b[33;43m\"\u001b[39;49m\u001b[43m,\u001b[49m\u001b[43m \u001b[49m\u001b[38;5;28;43;01mNone\u001b[39;49;00m\u001b[43m)\u001b[49m\u001b[43m,\u001b[49m\n\u001b[32m   1884\u001b[39m \u001b[43m    \u001b[49m\u001b[43mcompression\u001b[49m\u001b[43m=\u001b[49m\u001b[38;5;28;43mself\u001b[39;49m\u001b[43m.\u001b[49m\u001b[43moptions\u001b[49m\u001b[43m.\u001b[49m\u001b[43mget\u001b[49m\u001b[43m(\u001b[49m\u001b[33;43m\"\u001b[39;49m\u001b[33;43mcompression\u001b[39;49m\u001b[33;43m\"\u001b[39;49m\u001b[43m,\u001b[49m\u001b[43m \u001b[49m\u001b[38;5;28;43;01mNone\u001b[39;49;00m\u001b[43m)\u001b[49m\u001b[43m,\u001b[49m\n\u001b[32m   1885\u001b[39m \u001b[43m    \u001b[49m\u001b[43mmemory_map\u001b[49m\u001b[43m=\u001b[49m\u001b[38;5;28;43mself\u001b[39;49m\u001b[43m.\u001b[49m\u001b[43moptions\u001b[49m\u001b[43m.\u001b[49m\u001b[43mget\u001b[49m\u001b[43m(\u001b[49m\u001b[33;43m\"\u001b[39;49m\u001b[33;43mmemory_map\u001b[39;49m\u001b[33;43m\"\u001b[39;49m\u001b[43m,\u001b[49m\u001b[43m \u001b[49m\u001b[38;5;28;43;01mFalse\u001b[39;49;00m\u001b[43m)\u001b[49m\u001b[43m,\u001b[49m\n\u001b[32m   1886\u001b[39m \u001b[43m    \u001b[49m\u001b[43mis_text\u001b[49m\u001b[43m=\u001b[49m\u001b[43mis_text\u001b[49m\u001b[43m,\u001b[49m\n\u001b[32m   1887\u001b[39m \u001b[43m    \u001b[49m\u001b[43merrors\u001b[49m\u001b[43m=\u001b[49m\u001b[38;5;28;43mself\u001b[39;49m\u001b[43m.\u001b[49m\u001b[43moptions\u001b[49m\u001b[43m.\u001b[49m\u001b[43mget\u001b[49m\u001b[43m(\u001b[49m\u001b[33;43m\"\u001b[39;49m\u001b[33;43mencoding_errors\u001b[39;49m\u001b[33;43m\"\u001b[39;49m\u001b[43m,\u001b[49m\u001b[43m \u001b[49m\u001b[33;43m\"\u001b[39;49m\u001b[33;43mstrict\u001b[39;49m\u001b[33;43m\"\u001b[39;49m\u001b[43m)\u001b[49m\u001b[43m,\u001b[49m\n\u001b[32m   1888\u001b[39m \u001b[43m    \u001b[49m\u001b[43mstorage_options\u001b[49m\u001b[43m=\u001b[49m\u001b[38;5;28;43mself\u001b[39;49m\u001b[43m.\u001b[49m\u001b[43moptions\u001b[49m\u001b[43m.\u001b[49m\u001b[43mget\u001b[49m\u001b[43m(\u001b[49m\u001b[33;43m\"\u001b[39;49m\u001b[33;43mstorage_options\u001b[39;49m\u001b[33;43m\"\u001b[39;49m\u001b[43m,\u001b[49m\u001b[43m \u001b[49m\u001b[38;5;28;43;01mNone\u001b[39;49;00m\u001b[43m)\u001b[49m\u001b[43m,\u001b[49m\n\u001b[32m   1889\u001b[39m \u001b[43m\u001b[49m\u001b[43m)\u001b[49m\n\u001b[32m   1890\u001b[39m \u001b[38;5;28;01massert\u001b[39;00m \u001b[38;5;28mself\u001b[39m.handles \u001b[38;5;129;01mis\u001b[39;00m \u001b[38;5;129;01mnot\u001b[39;00m \u001b[38;5;28;01mNone\u001b[39;00m\n\u001b[32m   1891\u001b[39m f = \u001b[38;5;28mself\u001b[39m.handles.handle\n",
      "\u001b[36mFile \u001b[39m\u001b[32m~/code/umich/milestone2/.venv/lib/python3.13/site-packages/pandas/io/common.py:873\u001b[39m, in \u001b[36mget_handle\u001b[39m\u001b[34m(path_or_buf, mode, encoding, compression, memory_map, is_text, errors, storage_options)\u001b[39m\n\u001b[32m    868\u001b[39m \u001b[38;5;28;01melif\u001b[39;00m \u001b[38;5;28misinstance\u001b[39m(handle, \u001b[38;5;28mstr\u001b[39m):\n\u001b[32m    869\u001b[39m     \u001b[38;5;66;03m# Check whether the filename is to be opened in binary mode.\u001b[39;00m\n\u001b[32m    870\u001b[39m     \u001b[38;5;66;03m# Binary mode does not support 'encoding' and 'newline'.\u001b[39;00m\n\u001b[32m    871\u001b[39m     \u001b[38;5;28;01mif\u001b[39;00m ioargs.encoding \u001b[38;5;129;01mand\u001b[39;00m \u001b[33m\"\u001b[39m\u001b[33mb\u001b[39m\u001b[33m\"\u001b[39m \u001b[38;5;129;01mnot\u001b[39;00m \u001b[38;5;129;01min\u001b[39;00m ioargs.mode:\n\u001b[32m    872\u001b[39m         \u001b[38;5;66;03m# Encoding\u001b[39;00m\n\u001b[32m--> \u001b[39m\u001b[32m873\u001b[39m         handle = \u001b[38;5;28;43mopen\u001b[39;49m\u001b[43m(\u001b[49m\n\u001b[32m    874\u001b[39m \u001b[43m            \u001b[49m\u001b[43mhandle\u001b[49m\u001b[43m,\u001b[49m\n\u001b[32m    875\u001b[39m \u001b[43m            \u001b[49m\u001b[43mioargs\u001b[49m\u001b[43m.\u001b[49m\u001b[43mmode\u001b[49m\u001b[43m,\u001b[49m\n\u001b[32m    876\u001b[39m \u001b[43m            \u001b[49m\u001b[43mencoding\u001b[49m\u001b[43m=\u001b[49m\u001b[43mioargs\u001b[49m\u001b[43m.\u001b[49m\u001b[43mencoding\u001b[49m\u001b[43m,\u001b[49m\n\u001b[32m    877\u001b[39m \u001b[43m            \u001b[49m\u001b[43merrors\u001b[49m\u001b[43m=\u001b[49m\u001b[43merrors\u001b[49m\u001b[43m,\u001b[49m\n\u001b[32m    878\u001b[39m \u001b[43m            \u001b[49m\u001b[43mnewline\u001b[49m\u001b[43m=\u001b[49m\u001b[33;43m\"\u001b[39;49m\u001b[33;43m\"\u001b[39;49m\u001b[43m,\u001b[49m\n\u001b[32m    879\u001b[39m \u001b[43m        \u001b[49m\u001b[43m)\u001b[49m\n\u001b[32m    880\u001b[39m     \u001b[38;5;28;01melse\u001b[39;00m:\n\u001b[32m    881\u001b[39m         \u001b[38;5;66;03m# Binary mode\u001b[39;00m\n\u001b[32m    882\u001b[39m         handle = \u001b[38;5;28mopen\u001b[39m(handle, ioargs.mode)\n",
      "\u001b[31mFileNotFoundError\u001b[39m: [Errno 2] No such file or directory: '../data/processed/reddit_submission.csv'"
     ]
    }
   ],
   "source": [
    "raw_data = pd.read_csv('../data/processed/reddit_submission.csv')\n",
    "raw_data.dropna(subset=['selftext'], inplace=True)\n",
    "raw_data['full_text'] = raw_data['title'] + ' ' + raw_data['selftext']\n",
    "print(raw_data.info())\n",
    "raw_data.head()"
   ]
  },
  {
   "cell_type": "markdown",
   "id": "10333e87",
   "metadata": {},
   "source": [
    "## Extract and Label Sample Data\n",
    "\n",
    "**Purpose**: using stratified sampling with a floor-and-proportional-remainders method to extract sample data to test DistilBERT pipeline efficiently."
   ]
  },
  {
   "cell_type": "code",
   "execution_count": null,
   "id": "6e73246d",
   "metadata": {},
   "outputs": [],
   "source": [
    "# Extract Sample\n",
    "# display(raw_data['subreddit'].value_counts())\n",
    "\n",
    "# B = 50\n",
    "# F = 5\n",
    "# K = len(raw_data['subreddit'].unique())\n",
    "\n",
    "# num_samples_dict = {}\n",
    "\n",
    "# for subreddit in raw_data['subreddit'].unique():\n",
    "#     N_i = len(raw_data[raw_data['subreddit'] == subreddit])\n",
    "#     num_samples = F + round((B - F * K) * N_i / raw_data.shape[0])\n",
    "#     num_samples_dict[subreddit] = num_samples\n",
    "\n",
    "\n",
    "# sample_data = []\n",
    "# for key, value in num_samples_dict.items():\n",
    "#     print(f\"{key}: {value}\")\n",
    "#     sample = raw_data[raw_data['subreddit'] == key].sample(value, random_state=42)\n",
    "#     sample_data.append(sample)\n",
    "# sample_data = pd.concat(sample_data)\n",
    "# display(sample_data.head(10))\n",
    "# print(sample_data.shape)\n",
    "# sample_data.to_csv('../data/processed/reddit_sample_for_labeling.csv', index=False)\n",
    "\n",
    "# -- Delete this cell, function moved to an individual python file --- "
   ]
  },
  {
   "cell_type": "markdown",
   "id": "aee916f4",
   "metadata": {},
   "source": [
    "**Instruction for Labeling**\n",
    "- 0 – None: You don’t feel anxious when reading the full_text.\n",
    "- 1 – Minimal: The full_text raises brief concern, but with no impairment.\n",
    "- 2 – Mild: The full_text triggers occasional or situational worry, but daily functioning remains intact.\n",
    "- 3 – Moderate: The full_text leads to frequent worry or rumination, with some impact on focus or sleep.\n",
    "- 4 – Severe: The full_text evokes strong fear, anticipation, or catastrophizing language, showing clear impairment.\n",
    "- 5 – Crisis-level Severe: The full_text reflects major impairment"
   ]
  },
  {
   "cell_type": "code",
   "execution_count": null,
   "id": "ed2ce522",
   "metadata": {},
   "outputs": [
    {
     "name": "stdout",
     "output_type": "stream",
     "text": [
      "anxiety_level\n",
      "0    24\n",
      "3     8\n",
      "2     6\n",
      "4     5\n",
      "1     5\n",
      "5     3\n",
      "Name: count, dtype: int64\n",
      "--------------------\n",
      "Anxiety Level 0: 24 samples\n"
     ]
    },
    {
     "data": {
      "text/plain": [
       "array([['Health anxiety people who here is diagnosed with health ocd? \\n\\n[View Poll](https://www.reddit.com/poll/1gyab28)'],\n",
       "       [\"Equity X-Ray: In-Depth Research #23 I feel the market is misunderstanding the transitional shift in the Aebi Schmidt Group (AEBI). After its reverse merger with The Shyft Group, the market is stuck on the ghost of the old company and has yet to shift its view to a new global industrial leader, with a competitive business model, not to mention a remarkable valuation inconsistency. I feel investors are diluting their view on the company's strong, and non-discretionary revenue drivers, and historically powerful free-cash-flow-generative business model, because they view the merger as so complicated. Quite frankly, in my review, I believe the business model is simple, and the long-term growth prospects are fair, and because of my purposely conservative valuation model, I also feel that there is significant mispricing.\\n\\nI am officially covering the stock with a\\xa0**Buy**\\xa0rating and a\\xa0**price target of $18.00**, which implies a 50% upside from the current share price around $12.00.\\n\\n# Company Background\\n\\nTo fully comprehend Aebi Schmidt Group's investment case, we must first grasp the unique history and strategic rationale that shaped the company into the global industrial powerhouse it is today.\\n\\nThe story begins in two separate towns in Europe. In 1883, Johann Aebi commenced a workshop in Burgdorf, Switzerland, that became synonymous with greatness in mastering alpine agriculture. Aebi's brilliance was in engineering machinery that could safely and easily operate on steep, challenging slopes of land that were otherwise impossible to traverse. This inherent practicality developed an orientation of specialized, high-traction vehicles for challenging surfaces that became the foundation of the Aebi brand. For over a century, the Aebi brand has existed as the market-proven solution for municipalities and farmers with challenges of steep or mountainous terrain—a natural choice based on engineering capabilities in a highly specialized market.\\n\\nFull article [HERE](https://www.gb.capital/p/equity-x-ray-in-depth-research-23-aebi)\"],\n",
       "       [\"Why only Japan,Korea advanced outside West? Why are Japan and South Korea the only advanced economies outside the West? https://www.imf.org/en/Publications/WEO/weo-database/2023/April/groups-and-aggregates#a5\\n\\nIMF defines advanced economies as having high amount of the following metrics 1)per capita income (2) export diversification (3) integration into global finance\\n\\nAlmost all answers I got claimed that the reasons are either they were never colonised thereby avoiding plunder and suppression of local economy or that their growth was subsidized by US aid.\\n\\nBut Korea was colonized by Japan and faced atrocities. It was poorer than a lot of still developing countries until 80s which was long after peak of foreign aid it received. https://www.imf.org/external/datamapper/NGDPDPC@WEO/OEMDC/ADVEC/WEOWORLD\\n\\nJapan was the World's biggest exporter of textiles already by 1930s long before it fought and was occupied by USA http://www.tandfonline.com/doi/abs/10.1080/00076799000000143?journalCode=fbsh20\\n\\nI know Singapore, Taiwan and Hong Kong but Singapore is just a city state on the second most busiest Strait in the World. Taiwan's status as country is ambiguous. Hong Kong is part of China\"]],\n",
       "      dtype=object)"
      ]
     },
     "metadata": {},
     "output_type": "display_data"
    },
    {
     "name": "stdout",
     "output_type": "stream",
     "text": [
      "Anxiety Level 1: 5 samples\n"
     ]
    },
    {
     "data": {
      "text/plain": [
       "array([['Mirtazapine Side Effects On day 4 of 15 mg.  The hunger has already gotten better, along with the sedation.  However, I am now getting very vivid dreams, vivid to the point my sleep isn’t feeling very restful.  I also experience body zaps at night and my muscles, especially in my legs, are much tighter than they used to be, to the point where I’m getting cramps where I rarely got cramps in the past.  Curious if anyone else has experienced these side effects and if they go away with time.  I would like to stay on it l, as I can already feel a noticeable positive shift in my mood and I expect that to get better up until the 4-6 week mark.'],\n",
       "       [\"Psychologist's advice for me and you. So, I've been going through a medical whirlwind, and I cry about it to my psych often. Here's what she said. Rules of thumb, if you will.\\n\\nGoogling is bad, especially in specific side effects and symptoms! Because it compiles EVERY possible aspect, especially meds side effects! (because companies have to list them.) Google also isn't likely to take the rareness of these symptoms and side effects into consideration either. You likely read things that a FRACTION of people experience but of course Google compiles all of it. She said to me... weigh the chances, possibilities and operate with occam's razor in mind. Essentially, it is lacking nuance.\\n\\nAbout Reddit. When you research things, anecdotal evidence is usually not as impartial right? When people come to Reddit, they are coming with specific symptoms usually in SPECIFIC subreddits... essentially it is going to become a cycle of confirmation bias, once you start looking up your specific symptoms on reddit. This is what happened to me with the CUTI community, which I had to mute for my own sanity... She said, that mild things most likely won't have dedicated subreddits or posts with high engagement rates.\\n\\nMost importantly, people who heal, get better and don't experience complications, are NOT LIKELY TO POST ON REDDIT! Of course you feel terrified of the illness you might or might not have because you are only reading negative stories and experiences. Look up success stories. If you really need advice, seek out doctors. If that is expensive, like it was for me so many times, people working at pharmacies are also available for questions and can give supplements/suggestions for medications. I did this when I in fact was diagnosed but was still experiencing weirdness mid treatment. :-)))) \\n\\nSo, 1: Google isn't nuanced. 2: Reddit is biased. 3: DON'T keep yourself guessing, you are not a professional and you WILL spiral.\\n\\nMy psychiatrist advised to keep reminding myself of my own anxiety. I am constantly on high alert, and I am certain you guys are too. Before distractions, remind yourself of your hyper-vigilance. \\n\\nStay calm, give any symptoms time. The body is INCREDIBLY complicated. Mom always says: It's really hard to die. True! She was attacked by a panther at her old job at a Zoo at age 21. Still alive and kicking! If the symptoms subside, the body is bodying. 3-4 days in, doctor. You will be okay. \\n\\nMuch love.\"],\n",
       "       ['How to stop being an npc Hey 19m here. Since my teenage years started ive seen myself as an npc, a type of character in video games that has no role and is just existing without a purpose. Im an introvert, i dont face problems talking to strangers but i just don’t feel like doing it. Which lead me into being isolated for my whole teenage years and ending up lonely without memories or friends or hobbies. It’s not a serious thing that could lead me to commit self harm. Im studying a good branch in uni ive been blessed with wonderful parents who provided a stable life for me im so grateful for that. But it’s just that im a nobody in this world, i see other people’s interests boring and i sometimes force myself into some of them but i quickly realize this isn’t for me. Like watching sports or playing video games or watching movies etc. i dont like the beach i dont like practicing sports although i have been consistent in the gym for few months. I don’t like board games or clothe styling or anything. I feel like it’s all black and white. What’s wrong in me? What can i do? ']],\n",
       "      dtype=object)"
      ]
     },
     "metadata": {},
     "output_type": "display_data"
    },
    {
     "name": "stdout",
     "output_type": "stream",
     "text": [
      "Anxiety Level 2: 6 samples\n"
     ]
    },
    {
     "data": {
      "text/plain": [
       "array([[\"Discussing/Disclosing your HA to a doctor? Hello all! I have had some pretty intense health anxiety that developed from a combination of life situations and health situations. I'm curious if anyone has had success discussing their health anxiety with a doctor. I read stories all the time about how doctors are dismissive of symptoms and write them off as anxiety, or how doctors treat patients who have health anxiety like they're just paranoid and don't listen to their concerns. If you have, I'd love to know how that experience went for you. If it wasn't a good experience, is there anything you would do differently if you knew what you know now? I'm considering bringing it up with my doctor, but I'm concerned I'll be written off since I already have anxiety issues.\\n\\nThanks for any insight you can give!\"],\n",
       "       ['How do you calm HA when big events are approaching?    Hi everyone. I’ve been experiencing health anxiety for a while, but I often find it spiraling more when I have large events upcoming. \\n   I’m doing some extended traveling soon that I’ve had planned for years, and I’m more than excited. However, I find myself experiencing more health anxiety/fear of getting a random extreme disease the closer the date gets. \\n   I want to be excited for this, but any lasting pain, tenseness, soreness, etc. drives me nuts. What are some good techniques to calm down and differentiate perceived discomfort from reality? Any suggestions would be greatly appreciated! '],\n",
       "       ['quit or continue therapy?  I’m having a bit of a conundrum and would love any advice or different perspectives. I have been on and off therapy for about six years and in that time I’ve seen several different therapists. I don’t have a therapist through my insurance so I typically look for sliding scale therapy.\\n\\nDuring a particularly anxious summer, I decided to look for another therapist and was eventually matched with someone who focused on anxiety and also was trained in EMDR. The EMDR intrigued me as I’m someone who intellectualizes my problems and has done talk therapy for years. I don’t have any major big T traumas, but I certainly have memories that could use processing. I’ve been seeing this therapist for a little over a month and we’ve had maybe four or five sessions. The problem is I do not vibe with her energy whatsoever. It’s hard to explain what the issue is but she’s very soft spoken and quiet to the point that I feel awkward during sessions. I know the first few sessions are “getting to know you” but even when I’m discussing my past, she’s not really giving me any meaningful follow up questions. I’m also realizing that I think I prefer to have a therapist that is older than me (I’m 31).\\n\\nI’m hesitant to end my sessions with her because I JUST went through the process of finding someone new. Also, I’m intrigued by EMDR and happy I found someone in my budget who is EMDR trained. Overall, though, I do not think it is the right fit. I’ve been dreading our sessions. I am also concerned that EMDR might not even be helpful for me, especially if I don’t feel comfortable with the therapist. We are supposed to start EMDR soon.\\n\\nShould I cancel my future sessions? The thought of doing so makes me cringe. If so, what should I say? Should I try EMDR with the therapist? Any advice is appreciated.\\xa0']],\n",
       "      dtype=object)"
      ]
     },
     "metadata": {},
     "output_type": "display_data"
    },
    {
     "name": "stdout",
     "output_type": "stream",
     "text": [
      "Anxiety Level 3: 8 samples\n"
     ]
    },
    {
     "data": {
      "text/plain": [
       "array([['How to reduce anxiety during this specific occasion So I\\'m in uni and it\\'s exam period. I have always had stress before an exam but it never caused me any damage. But this exam period, on the first day I almost fainted in the bus (because of the hot weather, I hadn\\'t eaten well etc) but it kinda left me traumatized. During these last days my mind has really been torturing me and I\\'ve started being anxious without a reason. It\\'s like my mind has been stuck. So I wanted to ask if you have some advice on how to distract my mind while being in the bus, because I know for sure my mind won\\'t let me relax and I\\'m afraid it will happen again. It\\'s also a time when Im the most \"alone with myself\" because I don\\'t have anyone to talk with to distract myself or do things with my phone (except for listening to music) so I don\\'t really know what to do. '],\n",
       "       ['Reminder, take your medicine even if you’re afraid As someone who has been dealing with high stress and health anxiety with my recent diagnosis. \\n\\nI find it really hard during a panic attack to muster up the courage to take my medicine.\\n\\nI wanted to remind everyone who also feels this way that the medicine helps, take your medicine, get some fresh air, and you’re not alone. \\n\\nI had a horrible anxiety attack this morning with chest pain and had me spiraling. Took my medicine and i’m fine again. These things are temporary and you will get through today, tomorrow, and the rest of your days ❤️ Remember to breathe and relax. '],\n",
       "       [\"Shortness of breath is ruining my enjoyment I started having shortness of breath about 4 years ago, and it's been going on and off.\\n\\nI've had tests before and the doctors saw nothing abnormal, they did ECG, X-RAY, checked my Vitals and did a blood sample test, it freakin wierded me out cause I was almost sure that there was something wrong with me physically.\\n\\nI even got ambulanced because I had a panic attack cause I felt like couldn't get enough air and I was feeling light headed, but guess what everything was exactly as my tests before... perfectly fine, I honestly was wishing that something was gonna come up so I could finally get an answer and closure on this.\\n\\nFast forward to today, I'm having it again and it's kinda bad, I can't fully focus on things I do, and I can't fully enjoy alot of things because I lose focus on it because I unintentionally focus on satisfying my breathing, I also keep yawning which is another annoying quirk of this thing. I have tried some breathing excercises and it kinda works, having deep focus seems to be the most effective though, whenever I'm like fully focused and immersed on a task breathing becomes automatic and normal.. til all of a sudden I remember about my breathing... because for some reason whenever I'm focused and immersed it kinda feels foreign and awesome now to the point where my brain eventually notices that hey this feels really good you're deep into focus because you forgot about your breathing, which in return reminds me about it ruining the whole thing slowly.\\n\\nThere were times where I'm fully fine for about a month or 2 but then it just comes back, I am unbelievably annoyed that this is still not resolved and I'm just dealing with it feeling like there it no hope for me to go back to normal, it kinda feels like this is already attached to me mentally since it's been years so anytime I get reminded or I remember it, it just comes back to me almost without fail, it kinda feels like the only time I can go back to normal is if I get some sort of amnesia to forget this whole issue if you get what I mean.\\n\\nAnyways this is mostly venting as I don't know anyone who understands this feeling, if you have any suggestions though and advices I would honestly love to hear it and try it out.\\n\\n\\nTLDR: Just telling my story and venting about shortness of breath, I would love to hear suggestions and advices.\"]],\n",
       "      dtype=object)"
      ]
     },
     "metadata": {},
     "output_type": "display_data"
    },
    {
     "name": "stdout",
     "output_type": "stream",
     "text": [
      "Anxiety Level 4: 5 samples\n"
     ]
    },
    {
     "data": {
      "text/plain": [
       "array([['I had a panic attack just looking at jobs last night.. I’ve been working from home for the past 3 years, and I feel like it’s really caused my social skills to lack. I thought marijuana was causing it, but I’m 5 months sober and I still forget what I’m saying sometimes or forget to enunciate my words lol. I need a new job soon because I won’t be able to afford to stay at my current job, and I’m bored with it anyway. I know I’ve needed to look for jobs for a while now, but I’ve been avoiding to an extent that I never have before. After finally getting my resume mostly together after MONTHS, I figured I would just do a simple search on indeed to see what’s out there. Well, I saw a job that I thought would be cool and then I had a panic attack shortly after. Part of it excited me, but then I started thinking about having to interview, having to go into the office, am I capable of being a professional, what if people don’t like me, bad boss PTSD, etc. I feel so pathetic because I never used to be like this. I don’t know how I’m going to end up succeeding or moving forward in life at all if I couldn’t handle a simple indeed search. '],\n",
       "       [\"Exposure Hallo, \\nCan someome explain me in details how exposure works ? \\nI have Health anxiety, which Is worstening every day .\\nI have no Money for a therapist, i Need to find a solution.\\nI cannot open my Lab results which i have done Just for control . I avoid the news, i avoid doctors,i feel sick whenever i have to call the doctors for AN appointment, i feel .my Heart racing fast even thinking about It.\\nAnd then there's the news ,war, war ,war. \\nI cannot stand It anymore .\"],\n",
       "       ['How well do benzos stop your panic attacks ? I’ve been having them near daily the last few weeks after having a really bad one and I’m afraid I’m developing a panic disorder and want to break the cycle by taking a benzo . \\nIf you’ve taken them how well do they work for you? \\nI don’t want to rely on them daily , I’m hoping that using them a few times to get rid of it will give me a boost of confidence enough to not have them so easily and so often knowing a pill can take them away . ']],\n",
       "      dtype=object)"
      ]
     },
     "metadata": {},
     "output_type": "display_data"
    },
    {
     "name": "stdout",
     "output_type": "stream",
     "text": [
      "Anxiety Level 5: 3 samples\n"
     ]
    },
    {
     "data": {
      "text/plain": [
       "array([[\"I don't know what to do So I'm seeking help can't go to professional therapist so I often search and seek reassurance from @i or Google and ik it's bad but atp I simply don't know... I found reddit and it's been helpful to know I'm not alone going through this mental turmoil but there is just so much going on inside my head all the intrusive thoughts all the excessive feeling if I start writing down each and everything it would take me nice 20 mins the least and it's just to much confusing to even begin with, all the fucking things i have done in past eats me everyday and yes sucidial thoughts r always there but i am not gonna act upon it cuz I have someone who I need to live for and yes I do have people who love me but I feel like a disappointment of their life and I might be overthinking all this but one thing is for sure that even if I keep all my relations aside I can't handle myself anymore it's just getting more difficult and I always pray to god to do smthg about it maybe this is smthg I was asking for. But at the same time I feel am i making myself victim or am I actually one ?\\nAny advice help appreciated \\nThank you~\"],\n",
       "       ['I relapsed and hurt someone I care for. *Additional Trigger for alcoholism*\\n\\nI (30F) was sober for a little over a year (May 26th, 2024 to August 1st, 2025). At the time, I had a FWB that I had been steady with for about 3 months (Approximately end of April through beginning of August). We knew eachother prior from middle school and run around the same friend circles.\\n\\nTo make a long story short, in those 3 or so months, he healed and comforted parts of me that other people had broken, torn up, and abused. He is one of the most sweetest, genuine, understanding guys I have ever met in my life. In just that short amount of time, we got to where we shared everything with eachother, no holds barred.\\n\\nHe had done everything in his power to not tempt me to relapse, even saying he would abstain from alcohol around me. I encouraged him to do as he always did because \"My sobriety is my responsibility.\"\\n\\nHow did I repay that? I relapsed over one weekend over at his place and drank his alcohol when he wasn\\'t looking. He figured it out after I had left that weekend, and, deservedly, stopped talking to me. I started becoming suicidal from shame and guilt, not just from hurting him, but everyone I lied to. I started self harming and writing goodbyes in my phone notes. A couple days later, after nealy attempting to go through with it, I went to detox/rehab to get back on track. (August 6, 2025)\\n\\nFrom inside, I was able to get ahold of him since I took down his number before my phone was taken. He visited me while I was in rehab and assured me that he was still there for me, as much as he could be, but we would need to just be friends for awhile. I agreed since my recovery had to take priority.\\n\\nI am one month sober now, going to an IOP program and working the steps like my life depends on it (because it does), but he has grown more and more absent, stating he\\'s \"busy\" which I know is true. But it feels like when the benefits went away, some of the friendship we had to start died too. Maybe I\\'m overreacting, but that\\'s just how I am feeling.\\n\\nI don\\'t know why its breaking my heart so bad. Do I have feelings for him? I guess maybe I developed some somewhere down the line, but I don\\'t even have any ground to stand on with them. I screwed up. I get that.\\n\\nAnyway, what triggered this offmychest was the song \"Back To Friends\" by sombr. I am feeling the full weight of my actions and its so painful that the person I confided everything and anything to a month ago, I can\\'t even ask how he\\'s doing some days. I just feel like I\\'m bothering him. I don\\'t think any amends I make will ever be enough to restore the friendship, at the least, and I am starting to feel hopeless. I just want my friend back.\\n\\nI just needed to get this out. Thank you.'],\n",
       "       ['i’m broken that’s it. i’m on the floor at work crying. i just want to go home and have it all end']],\n",
       "      dtype=object)"
      ]
     },
     "metadata": {},
     "output_type": "display_data"
    }
   ],
   "source": [
    "label_data = pd.read_csv('../data/processed/reddit_sample_for_labeled.csv')\n",
    "print(label_data['anxiety_level'].value_counts())\n",
    "\n",
    "print('-'*20)\n",
    "\n",
    "for i in range(6):\n",
    "    print(f\"Anxiety Level {i}: {len(label_data[label_data['anxiety_level'] == i])} samples\")\n",
    "    display(label_data[label_data['anxiety_level'] == i][['full_text']].values[:3])"
   ]
  },
  {
   "cell_type": "markdown",
   "id": "4fd4f745",
   "metadata": {},
   "source": [
    "## Train DistilBERT Model"
   ]
  },
  {
   "cell_type": "code",
   "execution_count": null,
   "id": "8c290fa5",
   "metadata": {},
   "outputs": [],
   "source": [
    "import numpy as np, pandas as pd, torch\n",
    "from transformers import (AutoTokenizer, AutoModelForSequenceClassification,\n",
    "                          TrainingArguments, Trainer, DataCollatorWithPadding)                         \n",
    "from sklearn.model_selection import train_test_split\n",
    "from datasets import Dataset"
   ]
  },
  {
   "cell_type": "code",
   "execution_count": null,
   "id": "9053fcd0",
   "metadata": {},
   "outputs": [
    {
     "name": "stdout",
     "output_type": "stream",
     "text": [
      "Train size: 40, Test size: 11\n"
     ]
    }
   ],
   "source": [
    "label_data.head(2)\n",
    "processed_data = label_data.drop(columns=['post_id', 'subreddit', 'subreddit', 'title', 'title'])\n",
    "\n",
    "test_size = 0.2\n",
    "X_train, X_test, y_train, y_test = train_test_split(processed_data['full_text'], processed_data['anxiety_level'], test_size=test_size, stratify=processed_data['anxiety_level'], random_state=42)\n",
    "print(f\"Train size: {len(X_train)}, Test size: {len(X_test)}\")\n",
    "\n",
    "def make_ds(frame):\n",
    "    return Dataset.from_pandas(frame[[\"text\",\"label\"]].reset_index(drop=True))\n",
    "\n",
    "train_ds = Dataset.from_dict({\"text\": X_train, \"label\": y_train})\n",
    "test_ds  = Dataset.from_dict({\"text\": X_test,  \"label\": y_test})"
   ]
  },
  {
   "cell_type": "code",
   "execution_count": null,
   "id": "92ecaa4a",
   "metadata": {},
   "outputs": [
    {
     "data": {
      "application/vnd.jupyter.widget-view+json": {
       "model_id": "8c7fc0ecb5004180891cfd51ea447887",
       "version_major": 2,
       "version_minor": 0
      },
      "text/plain": [
       "Map:   0%|          | 0/40 [00:00<?, ? examples/s]"
      ]
     },
     "metadata": {},
     "output_type": "display_data"
    },
    {
     "data": {
      "application/vnd.jupyter.widget-view+json": {
       "model_id": "fac30ea84ff747ac819b300a38c03895",
       "version_major": 2,
       "version_minor": 0
      },
      "text/plain": [
       "Map:   0%|          | 0/11 [00:00<?, ? examples/s]"
      ]
     },
     "metadata": {},
     "output_type": "display_data"
    }
   ],
   "source": [
    "tokenizer = AutoTokenizer.from_pretrained(\"distilbert-base-uncased\")\n",
    "\n",
    "def tokenize(batch):\n",
    "    return tokenizer(batch[\"text\"], truncation=True)\n",
    "\n",
    "train_ds = train_ds.map(tokenize, batched=True)\n",
    "test_ds  = test_ds.map(tokenize, batched=True)\n",
    "\n",
    "\n",
    "cols = [\"input_ids\", \"attention_mask\", \"label\"]\n",
    "train_ds.set_format(type=\"torch\", columns=cols)\n",
    "test_ds.set_format(type=\"torch\", columns=cols)"
   ]
  },
  {
   "cell_type": "code",
   "execution_count": null,
   "id": "e8b0f22b",
   "metadata": {},
   "outputs": [
    {
     "name": "stderr",
     "output_type": "stream",
     "text": [
      "Some weights of DistilBertForSequenceClassification were not initialized from the model checkpoint at distilbert-base-uncased and are newly initialized: ['classifier.bias', 'classifier.weight', 'pre_classifier.bias', 'pre_classifier.weight']\n",
      "You should probably TRAIN this model on a down-stream task to be able to use it for predictions and inference.\n",
      "/var/folders/yb/d_bc07_j1pb7jwn15cj432mm0000gn/T/ipykernel_85958/585949566.py:31: FutureWarning: `tokenizer` is deprecated and will be removed in version 5.0.0 for `Trainer.__init__`. Use `processing_class` instead.\n",
      "  trainer = Trainer(\n"
     ]
    },
    {
     "data": {
      "text/html": [
       "\n",
       "    <div>\n",
       "      \n",
       "      <progress value='9' max='9' style='width:300px; height:20px; vertical-align: middle;'></progress>\n",
       "      [9/9 07:24, Epoch 3/3]\n",
       "    </div>\n",
       "    <table border=\"1\" class=\"dataframe\">\n",
       "  <thead>\n",
       " <tr style=\"text-align: left;\">\n",
       "      <th>Epoch</th>\n",
       "      <th>Training Loss</th>\n",
       "      <th>Validation Loss</th>\n",
       "      <th>Accuracy</th>\n",
       "      <th>Macro F1</th>\n",
       "      <th>Mean Squared Error</th>\n",
       "      <th>Root Mean Squared Error</th>\n",
       "    </tr>\n",
       "  </thead>\n",
       "  <tbody>\n",
       "    <tr>\n",
       "      <td>1</td>\n",
       "      <td>No log</td>\n",
       "      <td>1.717561</td>\n",
       "      <td>0.454545</td>\n",
       "      <td>0.104167</td>\n",
       "      <td>5.818182</td>\n",
       "      <td>2.412091</td>\n",
       "    </tr>\n",
       "    <tr>\n",
       "      <td>2</td>\n",
       "      <td>No log</td>\n",
       "      <td>1.695269</td>\n",
       "      <td>0.454545</td>\n",
       "      <td>0.104167</td>\n",
       "      <td>5.818182</td>\n",
       "      <td>2.412091</td>\n",
       "    </tr>\n",
       "    <tr>\n",
       "      <td>3</td>\n",
       "      <td>No log</td>\n",
       "      <td>1.684683</td>\n",
       "      <td>0.454545</td>\n",
       "      <td>0.104167</td>\n",
       "      <td>5.818182</td>\n",
       "      <td>2.412091</td>\n",
       "    </tr>\n",
       "  </tbody>\n",
       "</table><p>"
      ],
      "text/plain": [
       "<IPython.core.display.HTML object>"
      ]
     },
     "metadata": {},
     "output_type": "display_data"
    },
    {
     "data": {
      "text/html": [
       "\n",
       "    <div>\n",
       "      \n",
       "      <progress value='1' max='1' style='width:300px; height:20px; vertical-align: middle;'></progress>\n",
       "      [1/1 : < :]\n",
       "    </div>\n",
       "    "
      ],
      "text/plain": [
       "<IPython.core.display.HTML object>"
      ]
     },
     "metadata": {},
     "output_type": "display_data"
    },
    {
     "name": "stdout",
     "output_type": "stream",
     "text": [
      "{'eval_loss': 1.6846829652786255, 'eval_accuracy': 0.45454545454545453, 'eval_macro_f1': 0.10416666666666667, 'eval_mean_squared_error': 5.818181818181818, 'eval_root_mean_squared_error': 2.412090756622109, 'eval_runtime': 17.226, 'eval_samples_per_second': 0.639, 'eval_steps_per_second': 0.058, 'epoch': 3.0}\n"
     ]
    }
   ],
   "source": [
    "num_labels = len(np.unique(y_train))\n",
    "model = AutoModelForSequenceClassification.from_pretrained(\n",
    "    \"distilbert-base-uncased\", num_labels=num_labels\n",
    ")\n",
    "\n",
    "data_collator = DataCollatorWithPadding(tokenizer=tokenizer)\n",
    "\n",
    "training_args = TrainingArguments(\n",
    "    output_dir=\"distilbert-anxiety\",\n",
    "    eval_strategy=\"epoch\",\n",
    "    save_strategy=\"epoch\",\n",
    "    learning_rate=2e-5,\n",
    "    per_device_train_batch_size=16,\n",
    "    per_device_eval_batch_size=32,\n",
    "    num_train_epochs=3,\n",
    "    weight_decay=0.01,\n",
    "    load_best_model_at_end=True,\n",
    ")\n",
    "\n",
    "def compute_metrics(eval_pred):\n",
    "    from sklearn.metrics import accuracy_score, f1_score, mean_squared_error, root_mean_squared_error\n",
    "    logits, labels = eval_pred\n",
    "    preds = logits.argmax(axis=-1)\n",
    "    return {\n",
    "        \"accuracy\": accuracy_score(labels, preds),\n",
    "        \"macro_f1\": f1_score(labels, preds, average=\"macro\"),\n",
    "        \"mean_squared_error\": mean_squared_error(labels, preds),\n",
    "        \"root_mean_squared_error\": root_mean_squared_error(labels, preds)\n",
    "    }\n",
    "\n",
    "trainer = Trainer(\n",
    "    model=model,\n",
    "    args=training_args,\n",
    "    train_dataset=train_ds,\n",
    "    eval_dataset=test_ds,   # or a separate validation set if you have one\n",
    "    tokenizer=tokenizer,\n",
    "    data_collator=data_collator,\n",
    "    compute_metrics=compute_metrics,\n",
    ")\n",
    "\n",
    "# 5. Train & evaluate\n",
    "trainer.train()\n",
    "metrics = trainer.evaluate()\n",
    "print(metrics)"
   ]
  },
  {
   "cell_type": "markdown",
   "id": "05261c4f",
   "metadata": {},
   "source": []
  }
 ],
 "metadata": {
  "kernelspec": {
   "display_name": ".venv",
   "language": "python",
   "name": "python3"
  },
  "language_info": {
   "codemirror_mode": {
    "name": "ipython",
    "version": 3
   },
   "file_extension": ".py",
   "mimetype": "text/x-python",
   "name": "python",
   "nbconvert_exporter": "python",
   "pygments_lexer": "ipython3",
   "version": "3.13.5"
  }
 },
 "nbformat": 4,
 "nbformat_minor": 5
}

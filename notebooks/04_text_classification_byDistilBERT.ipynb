{
 "cells": [
  {
   "cell_type": "markdown",
   "id": "dec36894",
   "metadata": {},
   "source": [
    "# Text Classification by DistilBERT\n",
    "\n",
    "Purpose: \n",
    "Explore using DistilBERT, an unsupervised pretrained model from Hugging Face, to classify the anxiery level (low or high) for Reddit posts."
   ]
  },
  {
   "cell_type": "code",
   "execution_count": 2,
   "id": "87c28f9d",
   "metadata": {},
   "outputs": [],
   "source": [
    "import pandas as pd\n",
    "import numpy as np\n"
   ]
  },
  {
   "cell_type": "code",
   "execution_count": 3,
   "id": "e8bed83e",
   "metadata": {},
   "outputs": [
    {
     "name": "stdout",
     "output_type": "stream",
     "text": [
      "<class 'pandas.core.frame.DataFrame'>\n",
      "Index: 5393 entries, 0 to 6502\n",
      "Data columns (total 9 columns):\n",
      " #   Column        Non-Null Count  Dtype  \n",
      "---  ------        --------------  -----  \n",
      " 0   post_id       5393 non-null   object \n",
      " 1   subreddit     5393 non-null   object \n",
      " 2   created_utc   5393 non-null   float64\n",
      " 3   title         5393 non-null   object \n",
      " 4   selftext      5393 non-null   object \n",
      " 5   score         5393 non-null   int64  \n",
      " 6   num_comments  5393 non-null   int64  \n",
      " 7   upvote_ratio  5393 non-null   float64\n",
      " 8   full_text     5393 non-null   object \n",
      "dtypes: float64(2), int64(2), object(5)\n",
      "memory usage: 421.3+ KB\n",
      "None\n"
     ]
    },
    {
     "data": {
      "text/html": [
       "<div>\n",
       "<style scoped>\n",
       "    .dataframe tbody tr th:only-of-type {\n",
       "        vertical-align: middle;\n",
       "    }\n",
       "\n",
       "    .dataframe tbody tr th {\n",
       "        vertical-align: top;\n",
       "    }\n",
       "\n",
       "    .dataframe thead th {\n",
       "        text-align: right;\n",
       "    }\n",
       "</style>\n",
       "<table border=\"1\" class=\"dataframe\">\n",
       "  <thead>\n",
       "    <tr style=\"text-align: right;\">\n",
       "      <th></th>\n",
       "      <th>post_id</th>\n",
       "      <th>subreddit</th>\n",
       "      <th>created_utc</th>\n",
       "      <th>title</th>\n",
       "      <th>selftext</th>\n",
       "      <th>score</th>\n",
       "      <th>num_comments</th>\n",
       "      <th>upvote_ratio</th>\n",
       "      <th>full_text</th>\n",
       "    </tr>\n",
       "  </thead>\n",
       "  <tbody>\n",
       "    <tr>\n",
       "      <th>0</th>\n",
       "      <td>1nkes7e</td>\n",
       "      <td>Anxiety</td>\n",
       "      <td>1.758217e+09</td>\n",
       "      <td>Terrified of my symptoms</td>\n",
       "      <td>So I just got over a nasty cold but the cough ...</td>\n",
       "      <td>1</td>\n",
       "      <td>0</td>\n",
       "      <td>1.0</td>\n",
       "      <td>Terrified of my symptoms So I just got over a ...</td>\n",
       "    </tr>\n",
       "    <tr>\n",
       "      <th>1</th>\n",
       "      <td>1nkes09</td>\n",
       "      <td>Anxiety</td>\n",
       "      <td>1.758217e+09</td>\n",
       "      <td>Does anyone else here have chronic tinnitus?</td>\n",
       "      <td>This crap is driving me insane.\\n\\nI’ve been a...</td>\n",
       "      <td>1</td>\n",
       "      <td>0</td>\n",
       "      <td>1.0</td>\n",
       "      <td>Does anyone else here have chronic tinnitus? T...</td>\n",
       "    </tr>\n",
       "    <tr>\n",
       "      <th>2</th>\n",
       "      <td>1njtn2a</td>\n",
       "      <td>Anxiety</td>\n",
       "      <td>1.758154e+09</td>\n",
       "      <td>I can't sleep anymore</td>\n",
       "      <td>Hey everyone, I've been diagnosed with anxiety...</td>\n",
       "      <td>1</td>\n",
       "      <td>1</td>\n",
       "      <td>1.0</td>\n",
       "      <td>I can't sleep anymore Hey everyone, I've been ...</td>\n",
       "    </tr>\n",
       "    <tr>\n",
       "      <th>3</th>\n",
       "      <td>1nke28u</td>\n",
       "      <td>Anxiety</td>\n",
       "      <td>1.758215e+09</td>\n",
       "      <td>Losing hope</td>\n",
       "      <td>Ive had health anxiety for 2 minths now. Ever ...</td>\n",
       "      <td>1</td>\n",
       "      <td>0</td>\n",
       "      <td>1.0</td>\n",
       "      <td>Losing hope Ive had health anxiety for 2 minth...</td>\n",
       "    </tr>\n",
       "    <tr>\n",
       "      <th>4</th>\n",
       "      <td>1nke23t</td>\n",
       "      <td>Anxiety</td>\n",
       "      <td>1.758215e+09</td>\n",
       "      <td>Can someone give me a logical explanation as t...</td>\n",
       "      <td>I'm dizzy all the time and lately my heart fee...</td>\n",
       "      <td>1</td>\n",
       "      <td>2</td>\n",
       "      <td>1.0</td>\n",
       "      <td>Can someone give me a logical explanation as t...</td>\n",
       "    </tr>\n",
       "  </tbody>\n",
       "</table>\n",
       "</div>"
      ],
      "text/plain": [
       "   post_id subreddit   created_utc  \\\n",
       "0  1nkes7e   Anxiety  1.758217e+09   \n",
       "1  1nkes09   Anxiety  1.758217e+09   \n",
       "2  1njtn2a   Anxiety  1.758154e+09   \n",
       "3  1nke28u   Anxiety  1.758215e+09   \n",
       "4  1nke23t   Anxiety  1.758215e+09   \n",
       "\n",
       "                                               title  \\\n",
       "0                           Terrified of my symptoms   \n",
       "1       Does anyone else here have chronic tinnitus?   \n",
       "2                              I can't sleep anymore   \n",
       "3                                        Losing hope   \n",
       "4  Can someone give me a logical explanation as t...   \n",
       "\n",
       "                                            selftext  score  num_comments  \\\n",
       "0  So I just got over a nasty cold but the cough ...      1             0   \n",
       "1  This crap is driving me insane.\\n\\nI’ve been a...      1             0   \n",
       "2  Hey everyone, I've been diagnosed with anxiety...      1             1   \n",
       "3  Ive had health anxiety for 2 minths now. Ever ...      1             0   \n",
       "4  I'm dizzy all the time and lately my heart fee...      1             2   \n",
       "\n",
       "   upvote_ratio                                          full_text  \n",
       "0           1.0  Terrified of my symptoms So I just got over a ...  \n",
       "1           1.0  Does anyone else here have chronic tinnitus? T...  \n",
       "2           1.0  I can't sleep anymore Hey everyone, I've been ...  \n",
       "3           1.0  Losing hope Ive had health anxiety for 2 minth...  \n",
       "4           1.0  Can someone give me a logical explanation as t...  "
      ]
     },
     "execution_count": 3,
     "metadata": {},
     "output_type": "execute_result"
    }
   ],
   "source": [
    "raw_data = pd.read_csv('../data/processed/reddit_submission.csv')\n",
    "raw_data.dropna(subset=['selftext'], inplace=True)\n",
    "raw_data['full_text'] = raw_data['title'] + ' ' + raw_data['selftext']\n",
    "print(raw_data.info())\n",
    "raw_data.head()"
   ]
  },
  {
   "cell_type": "markdown",
   "id": "10333e87",
   "metadata": {},
   "source": [
    "## Extract and Label Sample Data\n",
    "\n",
    "**Purpose**: using stratified sampling with a floor-and-proportional-remainders method to extract sample data to test DistilBERT pipeline efficiently."
   ]
  },
  {
   "cell_type": "code",
   "execution_count": null,
   "id": "6e73246d",
   "metadata": {},
   "outputs": [
    {
     "data": {
      "text/plain": [
       "subreddit\n",
       "unpopularopinion    980\n",
       "Anxiety             954\n",
       "TrueOffMyChest      905\n",
       "mentalhealth        784\n",
       "OpenAI              662\n",
       "GetMotivated        531\n",
       "HealthAnxiety       298\n",
       "economy             279\n",
       "Name: count, dtype: int64"
      ]
     },
     "metadata": {},
     "output_type": "display_data"
    },
    {
     "name": "stdout",
     "output_type": "stream",
     "text": [
      "Anxiety: 7\n",
      "HealthAnxiety: 6\n",
      "mentalhealth: 6\n",
      "TrueOffMyChest: 7\n",
      "economy: 6\n",
      "OpenAI: 6\n",
      "GetMotivated: 6\n",
      "unpopularopinion: 7\n"
     ]
    },
    {
     "data": {
      "text/html": [
       "<div>\n",
       "<style scoped>\n",
       "    .dataframe tbody tr th:only-of-type {\n",
       "        vertical-align: middle;\n",
       "    }\n",
       "\n",
       "    .dataframe tbody tr th {\n",
       "        vertical-align: top;\n",
       "    }\n",
       "\n",
       "    .dataframe thead th {\n",
       "        text-align: right;\n",
       "    }\n",
       "</style>\n",
       "<table border=\"1\" class=\"dataframe\">\n",
       "  <thead>\n",
       "    <tr style=\"text-align: right;\">\n",
       "      <th></th>\n",
       "      <th>post_id</th>\n",
       "      <th>subreddit</th>\n",
       "      <th>created_utc</th>\n",
       "      <th>title</th>\n",
       "      <th>selftext</th>\n",
       "      <th>score</th>\n",
       "      <th>num_comments</th>\n",
       "      <th>upvote_ratio</th>\n",
       "      <th>full_text</th>\n",
       "    </tr>\n",
       "  </thead>\n",
       "  <tbody>\n",
       "    <tr>\n",
       "      <th>205</th>\n",
       "      <td>1njhwj0</td>\n",
       "      <td>Anxiety</td>\n",
       "      <td>1.758127e+09</td>\n",
       "      <td>I had a panic attack just looking at jobs last...</td>\n",
       "      <td>I’ve been working from home for the past 3 yea...</td>\n",
       "      <td>47</td>\n",
       "      <td>10</td>\n",
       "      <td>0.99</td>\n",
       "      <td>I had a panic attack just looking at jobs last...</td>\n",
       "    </tr>\n",
       "    <tr>\n",
       "      <th>431</th>\n",
       "      <td>1nidoq5</td>\n",
       "      <td>Anxiety</td>\n",
       "      <td>1.758018e+09</td>\n",
       "      <td>Exposure</td>\n",
       "      <td>Hallo, \\nCan someome explain me in details how...</td>\n",
       "      <td>1</td>\n",
       "      <td>1</td>\n",
       "      <td>1.00</td>\n",
       "      <td>Exposure Hallo, \\nCan someome explain me in de...</td>\n",
       "    </tr>\n",
       "    <tr>\n",
       "      <th>710</th>\n",
       "      <td>1nh230u</td>\n",
       "      <td>Anxiety</td>\n",
       "      <td>1.757882e+09</td>\n",
       "      <td>How well do benzos stop your panic attacks ?</td>\n",
       "      <td>I’ve been having them near daily the last few ...</td>\n",
       "      <td>4</td>\n",
       "      <td>12</td>\n",
       "      <td>1.00</td>\n",
       "      <td>How well do benzos stop your panic attacks ? I...</td>\n",
       "    </tr>\n",
       "    <tr>\n",
       "      <th>767</th>\n",
       "      <td>1ngs6ma</td>\n",
       "      <td>Anxiety</td>\n",
       "      <td>1.757859e+09</td>\n",
       "      <td>How to reduce anxiety during this specific occ...</td>\n",
       "      <td>So I'm in uni and it's exam period. I have alw...</td>\n",
       "      <td>1</td>\n",
       "      <td>4</td>\n",
       "      <td>1.00</td>\n",
       "      <td>How to reduce anxiety during this specific occ...</td>\n",
       "    </tr>\n",
       "    <tr>\n",
       "      <th>397</th>\n",
       "      <td>1niksmt</td>\n",
       "      <td>Anxiety</td>\n",
       "      <td>1.758037e+09</td>\n",
       "      <td>Mirtazapine Side Effects</td>\n",
       "      <td>On day 4 of 15 mg.  The hunger has already got...</td>\n",
       "      <td>2</td>\n",
       "      <td>0</td>\n",
       "      <td>1.00</td>\n",
       "      <td>Mirtazapine Side Effects On day 4 of 15 mg.  T...</td>\n",
       "    </tr>\n",
       "    <tr>\n",
       "      <th>593</th>\n",
       "      <td>1nhoc8q</td>\n",
       "      <td>Anxiety</td>\n",
       "      <td>1.757949e+09</td>\n",
       "      <td>Reminder, take your medicine even if you’re af...</td>\n",
       "      <td>As someone who has been dealing with high stre...</td>\n",
       "      <td>20</td>\n",
       "      <td>0</td>\n",
       "      <td>0.95</td>\n",
       "      <td>Reminder, take your medicine even if you’re af...</td>\n",
       "    </tr>\n",
       "    <tr>\n",
       "      <th>843</th>\n",
       "      <td>1ngdmhj</td>\n",
       "      <td>Anxiety</td>\n",
       "      <td>1.757811e+09</td>\n",
       "      <td>Shortness of breath is ruining my enjoyment</td>\n",
       "      <td>I started having shortness of breath about 4 y...</td>\n",
       "      <td>2</td>\n",
       "      <td>1</td>\n",
       "      <td>1.00</td>\n",
       "      <td>Shortness of breath is ruining my enjoyment I ...</td>\n",
       "    </tr>\n",
       "    <tr>\n",
       "      <th>1130</th>\n",
       "      <td>1mgyu4w</td>\n",
       "      <td>HealthAnxiety</td>\n",
       "      <td>1.754266e+09</td>\n",
       "      <td>Discussing/Disclosing your HA to a doctor?</td>\n",
       "      <td>Hello all! I have had some pretty intense heal...</td>\n",
       "      <td>12</td>\n",
       "      <td>13</td>\n",
       "      <td>0.93</td>\n",
       "      <td>Discussing/Disclosing your HA to a doctor? Hel...</td>\n",
       "    </tr>\n",
       "    <tr>\n",
       "      <th>1236</th>\n",
       "      <td>1gyab28</td>\n",
       "      <td>HealthAnxiety</td>\n",
       "      <td>1.732397e+09</td>\n",
       "      <td>Health anxiety people who here is diagnosed wi...</td>\n",
       "      <td>\\n\\n[View Poll](https://www.reddit.com/poll/1g...</td>\n",
       "      <td>10</td>\n",
       "      <td>4</td>\n",
       "      <td>1.00</td>\n",
       "      <td>Health anxiety people who here is diagnosed wi...</td>\n",
       "    </tr>\n",
       "    <tr>\n",
       "      <th>1226</th>\n",
       "      <td>1h7xzyb</td>\n",
       "      <td>HealthAnxiety</td>\n",
       "      <td>1.733479e+09</td>\n",
       "      <td>How do you calm HA when big events are approac...</td>\n",
       "      <td>Hi everyone. I’ve been experiencing health a...</td>\n",
       "      <td>48</td>\n",
       "      <td>12</td>\n",
       "      <td>0.98</td>\n",
       "      <td>How do you calm HA when big events are approac...</td>\n",
       "    </tr>\n",
       "  </tbody>\n",
       "</table>\n",
       "</div>"
      ],
      "text/plain": [
       "      post_id      subreddit   created_utc  \\\n",
       "205   1njhwj0        Anxiety  1.758127e+09   \n",
       "431   1nidoq5        Anxiety  1.758018e+09   \n",
       "710   1nh230u        Anxiety  1.757882e+09   \n",
       "767   1ngs6ma        Anxiety  1.757859e+09   \n",
       "397   1niksmt        Anxiety  1.758037e+09   \n",
       "593   1nhoc8q        Anxiety  1.757949e+09   \n",
       "843   1ngdmhj        Anxiety  1.757811e+09   \n",
       "1130  1mgyu4w  HealthAnxiety  1.754266e+09   \n",
       "1236  1gyab28  HealthAnxiety  1.732397e+09   \n",
       "1226  1h7xzyb  HealthAnxiety  1.733479e+09   \n",
       "\n",
       "                                                  title  \\\n",
       "205   I had a panic attack just looking at jobs last...   \n",
       "431                                            Exposure   \n",
       "710        How well do benzos stop your panic attacks ?   \n",
       "767   How to reduce anxiety during this specific occ...   \n",
       "397                            Mirtazapine Side Effects   \n",
       "593   Reminder, take your medicine even if you’re af...   \n",
       "843         Shortness of breath is ruining my enjoyment   \n",
       "1130         Discussing/Disclosing your HA to a doctor?   \n",
       "1236  Health anxiety people who here is diagnosed wi...   \n",
       "1226  How do you calm HA when big events are approac...   \n",
       "\n",
       "                                               selftext  score  num_comments  \\\n",
       "205   I’ve been working from home for the past 3 yea...     47            10   \n",
       "431   Hallo, \\nCan someome explain me in details how...      1             1   \n",
       "710   I’ve been having them near daily the last few ...      4            12   \n",
       "767   So I'm in uni and it's exam period. I have alw...      1             4   \n",
       "397   On day 4 of 15 mg.  The hunger has already got...      2             0   \n",
       "593   As someone who has been dealing with high stre...     20             0   \n",
       "843   I started having shortness of breath about 4 y...      2             1   \n",
       "1130  Hello all! I have had some pretty intense heal...     12            13   \n",
       "1236  \\n\\n[View Poll](https://www.reddit.com/poll/1g...     10             4   \n",
       "1226    Hi everyone. I’ve been experiencing health a...     48            12   \n",
       "\n",
       "      upvote_ratio                                          full_text  \n",
       "205           0.99  I had a panic attack just looking at jobs last...  \n",
       "431           1.00  Exposure Hallo, \\nCan someome explain me in de...  \n",
       "710           1.00  How well do benzos stop your panic attacks ? I...  \n",
       "767           1.00  How to reduce anxiety during this specific occ...  \n",
       "397           1.00  Mirtazapine Side Effects On day 4 of 15 mg.  T...  \n",
       "593           0.95  Reminder, take your medicine even if you’re af...  \n",
       "843           1.00  Shortness of breath is ruining my enjoyment I ...  \n",
       "1130          0.93  Discussing/Disclosing your HA to a doctor? Hel...  \n",
       "1236          1.00  Health anxiety people who here is diagnosed wi...  \n",
       "1226          0.98  How do you calm HA when big events are approac...  "
      ]
     },
     "metadata": {},
     "output_type": "display_data"
    },
    {
     "name": "stdout",
     "output_type": "stream",
     "text": [
      "(51, 9)\n"
     ]
    }
   ],
   "source": [
    "# Extract Sample\n",
    "display(raw_data['subreddit'].value_counts())\n",
    "\n",
    "B = 50\n",
    "F = 5\n",
    "K = len(raw_data['subreddit'].unique())\n",
    "\n",
    "num_samples_dict = {}\n",
    "\n",
    "for subreddit in raw_data['subreddit'].unique():\n",
    "    N_i = len(raw_data[raw_data['subreddit'] == subreddit])\n",
    "    num_samples = F + round((B - F * K) * N_i / raw_data.shape[0])\n",
    "    num_samples_dict[subreddit] = num_samples\n",
    "\n",
    "\n",
    "sample_data = []\n",
    "for key, value in num_samples_dict.items():\n",
    "    print(f\"{key}: {value}\")\n",
    "    sample = raw_data[raw_data['subreddit'] == key].sample(value, random_state=42)\n",
    "    sample_data.append(sample)\n",
    "sample_data = pd.concat(sample_data)\n",
    "display(sample_data.head(10))\n",
    "print(sample_data.shape)\n",
    "sample_data.to_csv('../data/processed/reddit_sample_for_labeling.csv', index=False)"
   ]
  },
  {
   "cell_type": "markdown",
   "id": "aee916f4",
   "metadata": {},
   "source": [
    "**Instruction for Labeling**\n",
    "- 0 – None: You don’t feel anxious when reading the full_text.\n",
    "- 1 – Minimal: The full_text raises brief concern, but with no impairment.\n",
    "- 2 – Mild: The full_text triggers occasional or situational worry, but daily functioning remains intact.\n",
    "- 3 – Moderate: The full_text leads to frequent worry or rumination, with some impact on focus or sleep.\n",
    "- 4 – Severe: The full_text evokes strong fear, anticipation, or catastrophizing language, showing clear impairment.\n",
    "- 5 – Crisis-level Severe: The full_text reflects major impairment"
   ]
  },
  {
   "cell_type": "code",
   "execution_count": 11,
   "id": "ed2ce522",
   "metadata": {},
   "outputs": [
    {
     "name": "stdout",
     "output_type": "stream",
     "text": [
      "anxiety_level\n",
      "0    24\n",
      "3     8\n",
      "2     6\n",
      "4     5\n",
      "1     5\n",
      "5     3\n",
      "Name: count, dtype: int64\n",
      "--------------------\n",
      "Anxiety Level 0: 24 samples\n"
     ]
    },
    {
     "data": {
      "text/plain": [
       "array([['Health anxiety people who here is diagnosed with health ocd? \\n\\n[View Poll](https://www.reddit.com/poll/1gyab28)'],\n",
       "       [\"Equity X-Ray: In-Depth Research #23 I feel the market is misunderstanding the transitional shift in the Aebi Schmidt Group (AEBI). After its reverse merger with The Shyft Group, the market is stuck on the ghost of the old company and has yet to shift its view to a new global industrial leader, with a competitive business model, not to mention a remarkable valuation inconsistency. I feel investors are diluting their view on the company's strong, and non-discretionary revenue drivers, and historically powerful free-cash-flow-generative business model, because they view the merger as so complicated. Quite frankly, in my review, I believe the business model is simple, and the long-term growth prospects are fair, and because of my purposely conservative valuation model, I also feel that there is significant mispricing.\\n\\nI am officially covering the stock with a\\xa0**Buy**\\xa0rating and a\\xa0**price target of $18.00**, which implies a 50% upside from the current share price around $12.00.\\n\\n# Company Background\\n\\nTo fully comprehend Aebi Schmidt Group's investment case, we must first grasp the unique history and strategic rationale that shaped the company into the global industrial powerhouse it is today.\\n\\nThe story begins in two separate towns in Europe. In 1883, Johann Aebi commenced a workshop in Burgdorf, Switzerland, that became synonymous with greatness in mastering alpine agriculture. Aebi's brilliance was in engineering machinery that could safely and easily operate on steep, challenging slopes of land that were otherwise impossible to traverse. This inherent practicality developed an orientation of specialized, high-traction vehicles for challenging surfaces that became the foundation of the Aebi brand. For over a century, the Aebi brand has existed as the market-proven solution for municipalities and farmers with challenges of steep or mountainous terrain—a natural choice based on engineering capabilities in a highly specialized market.\\n\\nFull article [HERE](https://www.gb.capital/p/equity-x-ray-in-depth-research-23-aebi)\"],\n",
       "       [\"Why only Japan,Korea advanced outside West? Why are Japan and South Korea the only advanced economies outside the West? https://www.imf.org/en/Publications/WEO/weo-database/2023/April/groups-and-aggregates#a5\\n\\nIMF defines advanced economies as having high amount of the following metrics 1)per capita income (2) export diversification (3) integration into global finance\\n\\nAlmost all answers I got claimed that the reasons are either they were never colonised thereby avoiding plunder and suppression of local economy or that their growth was subsidized by US aid.\\n\\nBut Korea was colonized by Japan and faced atrocities. It was poorer than a lot of still developing countries until 80s which was long after peak of foreign aid it received. https://www.imf.org/external/datamapper/NGDPDPC@WEO/OEMDC/ADVEC/WEOWORLD\\n\\nJapan was the World's biggest exporter of textiles already by 1930s long before it fought and was occupied by USA http://www.tandfonline.com/doi/abs/10.1080/00076799000000143?journalCode=fbsh20\\n\\nI know Singapore, Taiwan and Hong Kong but Singapore is just a city state on the second most busiest Strait in the World. Taiwan's status as country is ambiguous. Hong Kong is part of China\"]],\n",
       "      dtype=object)"
      ]
     },
     "metadata": {},
     "output_type": "display_data"
    },
    {
     "name": "stdout",
     "output_type": "stream",
     "text": [
      "Anxiety Level 1: 5 samples\n"
     ]
    },
    {
     "data": {
      "text/plain": [
       "array([['Mirtazapine Side Effects On day 4 of 15 mg.  The hunger has already gotten better, along with the sedation.  However, I am now getting very vivid dreams, vivid to the point my sleep isn’t feeling very restful.  I also experience body zaps at night and my muscles, especially in my legs, are much tighter than they used to be, to the point where I’m getting cramps where I rarely got cramps in the past.  Curious if anyone else has experienced these side effects and if they go away with time.  I would like to stay on it l, as I can already feel a noticeable positive shift in my mood and I expect that to get better up until the 4-6 week mark.'],\n",
       "       [\"Psychologist's advice for me and you. So, I've been going through a medical whirlwind, and I cry about it to my psych often. Here's what she said. Rules of thumb, if you will.\\n\\nGoogling is bad, especially in specific side effects and symptoms! Because it compiles EVERY possible aspect, especially meds side effects! (because companies have to list them.) Google also isn't likely to take the rareness of these symptoms and side effects into consideration either. You likely read things that a FRACTION of people experience but of course Google compiles all of it. She said to me... weigh the chances, possibilities and operate with occam's razor in mind. Essentially, it is lacking nuance.\\n\\nAbout Reddit. When you research things, anecdotal evidence is usually not as impartial right? When people come to Reddit, they are coming with specific symptoms usually in SPECIFIC subreddits... essentially it is going to become a cycle of confirmation bias, once you start looking up your specific symptoms on reddit. This is what happened to me with the CUTI community, which I had to mute for my own sanity... She said, that mild things most likely won't have dedicated subreddits or posts with high engagement rates.\\n\\nMost importantly, people who heal, get better and don't experience complications, are NOT LIKELY TO POST ON REDDIT! Of course you feel terrified of the illness you might or might not have because you are only reading negative stories and experiences. Look up success stories. If you really need advice, seek out doctors. If that is expensive, like it was for me so many times, people working at pharmacies are also available for questions and can give supplements/suggestions for medications. I did this when I in fact was diagnosed but was still experiencing weirdness mid treatment. :-)))) \\n\\nSo, 1: Google isn't nuanced. 2: Reddit is biased. 3: DON'T keep yourself guessing, you are not a professional and you WILL spiral.\\n\\nMy psychiatrist advised to keep reminding myself of my own anxiety. I am constantly on high alert, and I am certain you guys are too. Before distractions, remind yourself of your hyper-vigilance. \\n\\nStay calm, give any symptoms time. The body is INCREDIBLY complicated. Mom always says: It's really hard to die. True! She was attacked by a panther at her old job at a Zoo at age 21. Still alive and kicking! If the symptoms subside, the body is bodying. 3-4 days in, doctor. You will be okay. \\n\\nMuch love.\"],\n",
       "       ['How to stop being an npc Hey 19m here. Since my teenage years started ive seen myself as an npc, a type of character in video games that has no role and is just existing without a purpose. Im an introvert, i dont face problems talking to strangers but i just don’t feel like doing it. Which lead me into being isolated for my whole teenage years and ending up lonely without memories or friends or hobbies. It’s not a serious thing that could lead me to commit self harm. Im studying a good branch in uni ive been blessed with wonderful parents who provided a stable life for me im so grateful for that. But it’s just that im a nobody in this world, i see other people’s interests boring and i sometimes force myself into some of them but i quickly realize this isn’t for me. Like watching sports or playing video games or watching movies etc. i dont like the beach i dont like practicing sports although i have been consistent in the gym for few months. I don’t like board games or clothe styling or anything. I feel like it’s all black and white. What’s wrong in me? What can i do? ']],\n",
       "      dtype=object)"
      ]
     },
     "metadata": {},
     "output_type": "display_data"
    },
    {
     "name": "stdout",
     "output_type": "stream",
     "text": [
      "Anxiety Level 2: 6 samples\n"
     ]
    },
    {
     "data": {
      "text/plain": [
       "array([[\"Discussing/Disclosing your HA to a doctor? Hello all! I have had some pretty intense health anxiety that developed from a combination of life situations and health situations. I'm curious if anyone has had success discussing their health anxiety with a doctor. I read stories all the time about how doctors are dismissive of symptoms and write them off as anxiety, or how doctors treat patients who have health anxiety like they're just paranoid and don't listen to their concerns. If you have, I'd love to know how that experience went for you. If it wasn't a good experience, is there anything you would do differently if you knew what you know now? I'm considering bringing it up with my doctor, but I'm concerned I'll be written off since I already have anxiety issues.\\n\\nThanks for any insight you can give!\"],\n",
       "       ['How do you calm HA when big events are approaching?    Hi everyone. I’ve been experiencing health anxiety for a while, but I often find it spiraling more when I have large events upcoming. \\n   I’m doing some extended traveling soon that I’ve had planned for years, and I’m more than excited. However, I find myself experiencing more health anxiety/fear of getting a random extreme disease the closer the date gets. \\n   I want to be excited for this, but any lasting pain, tenseness, soreness, etc. drives me nuts. What are some good techniques to calm down and differentiate perceived discomfort from reality? Any suggestions would be greatly appreciated! '],\n",
       "       ['quit or continue therapy?  I’m having a bit of a conundrum and would love any advice or different perspectives. I have been on and off therapy for about six years and in that time I’ve seen several different therapists. I don’t have a therapist through my insurance so I typically look for sliding scale therapy.\\n\\nDuring a particularly anxious summer, I decided to look for another therapist and was eventually matched with someone who focused on anxiety and also was trained in EMDR. The EMDR intrigued me as I’m someone who intellectualizes my problems and has done talk therapy for years. I don’t have any major big T traumas, but I certainly have memories that could use processing. I’ve been seeing this therapist for a little over a month and we’ve had maybe four or five sessions. The problem is I do not vibe with her energy whatsoever. It’s hard to explain what the issue is but she’s very soft spoken and quiet to the point that I feel awkward during sessions. I know the first few sessions are “getting to know you” but even when I’m discussing my past, she’s not really giving me any meaningful follow up questions. I’m also realizing that I think I prefer to have a therapist that is older than me (I’m 31).\\n\\nI’m hesitant to end my sessions with her because I JUST went through the process of finding someone new. Also, I’m intrigued by EMDR and happy I found someone in my budget who is EMDR trained. Overall, though, I do not think it is the right fit. I’ve been dreading our sessions. I am also concerned that EMDR might not even be helpful for me, especially if I don’t feel comfortable with the therapist. We are supposed to start EMDR soon.\\n\\nShould I cancel my future sessions? The thought of doing so makes me cringe. If so, what should I say? Should I try EMDR with the therapist? Any advice is appreciated.\\xa0']],\n",
       "      dtype=object)"
      ]
     },
     "metadata": {},
     "output_type": "display_data"
    },
    {
     "name": "stdout",
     "output_type": "stream",
     "text": [
      "Anxiety Level 3: 8 samples\n"
     ]
    },
    {
     "data": {
      "text/plain": [
       "array([['How to reduce anxiety during this specific occasion So I\\'m in uni and it\\'s exam period. I have always had stress before an exam but it never caused me any damage. But this exam period, on the first day I almost fainted in the bus (because of the hot weather, I hadn\\'t eaten well etc) but it kinda left me traumatized. During these last days my mind has really been torturing me and I\\'ve started being anxious without a reason. It\\'s like my mind has been stuck. So I wanted to ask if you have some advice on how to distract my mind while being in the bus, because I know for sure my mind won\\'t let me relax and I\\'m afraid it will happen again. It\\'s also a time when Im the most \"alone with myself\" because I don\\'t have anyone to talk with to distract myself or do things with my phone (except for listening to music) so I don\\'t really know what to do. '],\n",
       "       ['Reminder, take your medicine even if you’re afraid As someone who has been dealing with high stress and health anxiety with my recent diagnosis. \\n\\nI find it really hard during a panic attack to muster up the courage to take my medicine.\\n\\nI wanted to remind everyone who also feels this way that the medicine helps, take your medicine, get some fresh air, and you’re not alone. \\n\\nI had a horrible anxiety attack this morning with chest pain and had me spiraling. Took my medicine and i’m fine again. These things are temporary and you will get through today, tomorrow, and the rest of your days ❤️ Remember to breathe and relax. '],\n",
       "       [\"Shortness of breath is ruining my enjoyment I started having shortness of breath about 4 years ago, and it's been going on and off.\\n\\nI've had tests before and the doctors saw nothing abnormal, they did ECG, X-RAY, checked my Vitals and did a blood sample test, it freakin wierded me out cause I was almost sure that there was something wrong with me physically.\\n\\nI even got ambulanced because I had a panic attack cause I felt like couldn't get enough air and I was feeling light headed, but guess what everything was exactly as my tests before... perfectly fine, I honestly was wishing that something was gonna come up so I could finally get an answer and closure on this.\\n\\nFast forward to today, I'm having it again and it's kinda bad, I can't fully focus on things I do, and I can't fully enjoy alot of things because I lose focus on it because I unintentionally focus on satisfying my breathing, I also keep yawning which is another annoying quirk of this thing. I have tried some breathing excercises and it kinda works, having deep focus seems to be the most effective though, whenever I'm like fully focused and immersed on a task breathing becomes automatic and normal.. til all of a sudden I remember about my breathing... because for some reason whenever I'm focused and immersed it kinda feels foreign and awesome now to the point where my brain eventually notices that hey this feels really good you're deep into focus because you forgot about your breathing, which in return reminds me about it ruining the whole thing slowly.\\n\\nThere were times where I'm fully fine for about a month or 2 but then it just comes back, I am unbelievably annoyed that this is still not resolved and I'm just dealing with it feeling like there it no hope for me to go back to normal, it kinda feels like this is already attached to me mentally since it's been years so anytime I get reminded or I remember it, it just comes back to me almost without fail, it kinda feels like the only time I can go back to normal is if I get some sort of amnesia to forget this whole issue if you get what I mean.\\n\\nAnyways this is mostly venting as I don't know anyone who understands this feeling, if you have any suggestions though and advices I would honestly love to hear it and try it out.\\n\\n\\nTLDR: Just telling my story and venting about shortness of breath, I would love to hear suggestions and advices.\"]],\n",
       "      dtype=object)"
      ]
     },
     "metadata": {},
     "output_type": "display_data"
    },
    {
     "name": "stdout",
     "output_type": "stream",
     "text": [
      "Anxiety Level 4: 5 samples\n"
     ]
    },
    {
     "data": {
      "text/plain": [
       "array([['I had a panic attack just looking at jobs last night.. I’ve been working from home for the past 3 years, and I feel like it’s really caused my social skills to lack. I thought marijuana was causing it, but I’m 5 months sober and I still forget what I’m saying sometimes or forget to enunciate my words lol. I need a new job soon because I won’t be able to afford to stay at my current job, and I’m bored with it anyway. I know I’ve needed to look for jobs for a while now, but I’ve been avoiding to an extent that I never have before. After finally getting my resume mostly together after MONTHS, I figured I would just do a simple search on indeed to see what’s out there. Well, I saw a job that I thought would be cool and then I had a panic attack shortly after. Part of it excited me, but then I started thinking about having to interview, having to go into the office, am I capable of being a professional, what if people don’t like me, bad boss PTSD, etc. I feel so pathetic because I never used to be like this. I don’t know how I’m going to end up succeeding or moving forward in life at all if I couldn’t handle a simple indeed search. '],\n",
       "       [\"Exposure Hallo, \\nCan someome explain me in details how exposure works ? \\nI have Health anxiety, which Is worstening every day .\\nI have no Money for a therapist, i Need to find a solution.\\nI cannot open my Lab results which i have done Just for control . I avoid the news, i avoid doctors,i feel sick whenever i have to call the doctors for AN appointment, i feel .my Heart racing fast even thinking about It.\\nAnd then there's the news ,war, war ,war. \\nI cannot stand It anymore .\"],\n",
       "       ['How well do benzos stop your panic attacks ? I’ve been having them near daily the last few weeks after having a really bad one and I’m afraid I’m developing a panic disorder and want to break the cycle by taking a benzo . \\nIf you’ve taken them how well do they work for you? \\nI don’t want to rely on them daily , I’m hoping that using them a few times to get rid of it will give me a boost of confidence enough to not have them so easily and so often knowing a pill can take them away . ']],\n",
       "      dtype=object)"
      ]
     },
     "metadata": {},
     "output_type": "display_data"
    },
    {
     "name": "stdout",
     "output_type": "stream",
     "text": [
      "Anxiety Level 5: 3 samples\n"
     ]
    },
    {
     "data": {
      "text/plain": [
       "array([[\"I don't know what to do So I'm seeking help can't go to professional therapist so I often search and seek reassurance from @i or Google and ik it's bad but atp I simply don't know... I found reddit and it's been helpful to know I'm not alone going through this mental turmoil but there is just so much going on inside my head all the intrusive thoughts all the excessive feeling if I start writing down each and everything it would take me nice 20 mins the least and it's just to much confusing to even begin with, all the fucking things i have done in past eats me everyday and yes sucidial thoughts r always there but i am not gonna act upon it cuz I have someone who I need to live for and yes I do have people who love me but I feel like a disappointment of their life and I might be overthinking all this but one thing is for sure that even if I keep all my relations aside I can't handle myself anymore it's just getting more difficult and I always pray to god to do smthg about it maybe this is smthg I was asking for. But at the same time I feel am i making myself victim or am I actually one ?\\nAny advice help appreciated \\nThank you~\"],\n",
       "       ['I relapsed and hurt someone I care for. *Additional Trigger for alcoholism*\\n\\nI (30F) was sober for a little over a year (May 26th, 2024 to August 1st, 2025). At the time, I had a FWB that I had been steady with for about 3 months (Approximately end of April through beginning of August). We knew eachother prior from middle school and run around the same friend circles.\\n\\nTo make a long story short, in those 3 or so months, he healed and comforted parts of me that other people had broken, torn up, and abused. He is one of the most sweetest, genuine, understanding guys I have ever met in my life. In just that short amount of time, we got to where we shared everything with eachother, no holds barred.\\n\\nHe had done everything in his power to not tempt me to relapse, even saying he would abstain from alcohol around me. I encouraged him to do as he always did because \"My sobriety is my responsibility.\"\\n\\nHow did I repay that? I relapsed over one weekend over at his place and drank his alcohol when he wasn\\'t looking. He figured it out after I had left that weekend, and, deservedly, stopped talking to me. I started becoming suicidal from shame and guilt, not just from hurting him, but everyone I lied to. I started self harming and writing goodbyes in my phone notes. A couple days later, after nealy attempting to go through with it, I went to detox/rehab to get back on track. (August 6, 2025)\\n\\nFrom inside, I was able to get ahold of him since I took down his number before my phone was taken. He visited me while I was in rehab and assured me that he was still there for me, as much as he could be, but we would need to just be friends for awhile. I agreed since my recovery had to take priority.\\n\\nI am one month sober now, going to an IOP program and working the steps like my life depends on it (because it does), but he has grown more and more absent, stating he\\'s \"busy\" which I know is true. But it feels like when the benefits went away, some of the friendship we had to start died too. Maybe I\\'m overreacting, but that\\'s just how I am feeling.\\n\\nI don\\'t know why its breaking my heart so bad. Do I have feelings for him? I guess maybe I developed some somewhere down the line, but I don\\'t even have any ground to stand on with them. I screwed up. I get that.\\n\\nAnyway, what triggered this offmychest was the song \"Back To Friends\" by sombr. I am feeling the full weight of my actions and its so painful that the person I confided everything and anything to a month ago, I can\\'t even ask how he\\'s doing some days. I just feel like I\\'m bothering him. I don\\'t think any amends I make will ever be enough to restore the friendship, at the least, and I am starting to feel hopeless. I just want my friend back.\\n\\nI just needed to get this out. Thank you.'],\n",
       "       ['i’m broken that’s it. i’m on the floor at work crying. i just want to go home and have it all end']],\n",
       "      dtype=object)"
      ]
     },
     "metadata": {},
     "output_type": "display_data"
    }
   ],
   "source": [
    "label_data = pd.read_csv('../data/processed/reddit_sample_for_labeled.csv')\n",
    "print(label_data['anxiety_level'].value_counts())\n",
    "\n",
    "print('-'*20)\n",
    "\n",
    "for i in range(6):\n",
    "    print(f\"Anxiety Level {i}: {len(label_data[label_data['anxiety_level'] == i])} samples\")\n",
    "    display(label_data[label_data['anxiety_level'] == i][['full_text']].values[:3])"
   ]
  },
  {
   "cell_type": "markdown",
   "id": "4fd4f745",
   "metadata": {},
   "source": [
    "## Train DistilBERT Model"
   ]
  },
  {
   "cell_type": "code",
   "execution_count": null,
   "id": "98477979",
   "metadata": {},
   "outputs": [
    {
     "name": "stderr",
     "output_type": "stream",
     "text": [
      "huggingface/tokenizers: The current process just got forked, after parallelism has already been used. Disabling parallelism to avoid deadlocks...\n",
      "To disable this warning, you can either:\n",
      "\t- Avoid using `tokenizers` before the fork if possible\n",
      "\t- Explicitly set the environment variable TOKENIZERS_PARALLELISM=(true | false)\n"
     ]
    },
    {
     "name": "stdout",
     "output_type": "stream",
     "text": [
      "Collecting datasets\n",
      "  Downloading datasets-4.1.1-py3-none-any.whl.metadata (18 kB)\n",
      "Requirement already satisfied: filelock in /Users/shutinghe/.pyenv/versions/3.12.4/envs/garden_env/lib/python3.12/site-packages (from datasets) (3.15.4)\n",
      "Requirement already satisfied: numpy>=1.17 in /Users/shutinghe/.pyenv/versions/3.12.4/envs/garden_env/lib/python3.12/site-packages (from datasets) (2.3.2)\n",
      "Collecting pyarrow>=21.0.0 (from datasets)\n",
      "  Downloading pyarrow-21.0.0-cp312-cp312-macosx_12_0_arm64.whl.metadata (3.3 kB)\n",
      "Collecting dill<0.4.1,>=0.3.0 (from datasets)\n",
      "  Downloading dill-0.4.0-py3-none-any.whl.metadata (10 kB)\n",
      "Requirement already satisfied: pandas in /Users/shutinghe/.pyenv/versions/3.12.4/envs/garden_env/lib/python3.12/site-packages (from datasets) (2.3.2)\n",
      "Requirement already satisfied: requests>=2.32.2 in /Users/shutinghe/.pyenv/versions/3.12.4/envs/garden_env/lib/python3.12/site-packages (from datasets) (2.32.5)\n",
      "Requirement already satisfied: tqdm>=4.66.3 in /Users/shutinghe/.pyenv/versions/3.12.4/envs/garden_env/lib/python3.12/site-packages (from datasets) (4.66.5)\n",
      "Collecting xxhash (from datasets)\n",
      "  Downloading xxhash-3.5.0-cp312-cp312-macosx_11_0_arm64.whl.metadata (12 kB)\n",
      "Collecting multiprocess<0.70.17 (from datasets)\n",
      "  Downloading multiprocess-0.70.16-py312-none-any.whl.metadata (7.2 kB)\n",
      "Requirement already satisfied: fsspec<=2025.9.0,>=2023.1.0 in /Users/shutinghe/.pyenv/versions/3.12.4/envs/garden_env/lib/python3.12/site-packages (from fsspec[http]<=2025.9.0,>=2023.1.0->datasets) (2024.6.1)\n",
      "Requirement already satisfied: huggingface-hub>=0.24.0 in /Users/shutinghe/.pyenv/versions/3.12.4/envs/garden_env/lib/python3.12/site-packages (from datasets) (0.35.3)\n",
      "Requirement already satisfied: packaging in /Users/shutinghe/.pyenv/versions/3.12.4/envs/garden_env/lib/python3.12/site-packages (from datasets) (24.1)\n",
      "Requirement already satisfied: pyyaml>=5.1 in /Users/shutinghe/.pyenv/versions/3.12.4/envs/garden_env/lib/python3.12/site-packages (from datasets) (6.0.2)\n",
      "Collecting aiohttp!=4.0.0a0,!=4.0.0a1 (from fsspec[http]<=2025.9.0,>=2023.1.0->datasets)\n",
      "  Downloading aiohttp-3.12.15-cp312-cp312-macosx_11_0_arm64.whl.metadata (7.7 kB)\n",
      "Collecting aiohappyeyeballs>=2.5.0 (from aiohttp!=4.0.0a0,!=4.0.0a1->fsspec[http]<=2025.9.0,>=2023.1.0->datasets)\n",
      "  Downloading aiohappyeyeballs-2.6.1-py3-none-any.whl.metadata (5.9 kB)\n",
      "Collecting aiosignal>=1.4.0 (from aiohttp!=4.0.0a0,!=4.0.0a1->fsspec[http]<=2025.9.0,>=2023.1.0->datasets)\n",
      "  Downloading aiosignal-1.4.0-py3-none-any.whl.metadata (3.7 kB)\n",
      "Requirement already satisfied: attrs>=17.3.0 in /Users/shutinghe/.pyenv/versions/3.12.4/envs/garden_env/lib/python3.12/site-packages (from aiohttp!=4.0.0a0,!=4.0.0a1->fsspec[http]<=2025.9.0,>=2023.1.0->datasets) (23.2.0)\n",
      "Collecting frozenlist>=1.1.1 (from aiohttp!=4.0.0a0,!=4.0.0a1->fsspec[http]<=2025.9.0,>=2023.1.0->datasets)\n",
      "  Downloading frozenlist-1.7.0-cp312-cp312-macosx_11_0_arm64.whl.metadata (18 kB)\n",
      "Collecting multidict<7.0,>=4.5 (from aiohttp!=4.0.0a0,!=4.0.0a1->fsspec[http]<=2025.9.0,>=2023.1.0->datasets)\n",
      "  Downloading multidict-6.6.4-cp312-cp312-macosx_11_0_arm64.whl.metadata (5.3 kB)\n",
      "Collecting propcache>=0.2.0 (from aiohttp!=4.0.0a0,!=4.0.0a1->fsspec[http]<=2025.9.0,>=2023.1.0->datasets)\n",
      "  Downloading propcache-0.3.2-cp312-cp312-macosx_11_0_arm64.whl.metadata (12 kB)\n",
      "Collecting yarl<2.0,>=1.17.0 (from aiohttp!=4.0.0a0,!=4.0.0a1->fsspec[http]<=2025.9.0,>=2023.1.0->datasets)\n",
      "  Downloading yarl-1.20.1-cp312-cp312-macosx_11_0_arm64.whl.metadata (73 kB)\n",
      "Requirement already satisfied: idna>=2.0 in /Users/shutinghe/.pyenv/versions/3.12.4/envs/garden_env/lib/python3.12/site-packages (from yarl<2.0,>=1.17.0->aiohttp!=4.0.0a0,!=4.0.0a1->fsspec[http]<=2025.9.0,>=2023.1.0->datasets) (3.10)\n",
      "Requirement already satisfied: typing-extensions>=4.2 in /Users/shutinghe/.pyenv/versions/3.12.4/envs/garden_env/lib/python3.12/site-packages (from aiosignal>=1.4.0->aiohttp!=4.0.0a0,!=4.0.0a1->fsspec[http]<=2025.9.0,>=2023.1.0->datasets) (4.12.2)\n",
      "Requirement already satisfied: hf-xet<2.0.0,>=1.1.3 in /Users/shutinghe/.pyenv/versions/3.12.4/envs/garden_env/lib/python3.12/site-packages (from huggingface-hub>=0.24.0->datasets) (1.1.10)\n",
      "Requirement already satisfied: charset_normalizer<4,>=2 in /Users/shutinghe/.pyenv/versions/3.12.4/envs/garden_env/lib/python3.12/site-packages (from requests>=2.32.2->datasets) (3.4.3)\n",
      "Requirement already satisfied: urllib3<3,>=1.21.1 in /Users/shutinghe/.pyenv/versions/3.12.4/envs/garden_env/lib/python3.12/site-packages (from requests>=2.32.2->datasets) (2.5.0)\n",
      "Requirement already satisfied: certifi>=2017.4.17 in /Users/shutinghe/.pyenv/versions/3.12.4/envs/garden_env/lib/python3.12/site-packages (from requests>=2.32.2->datasets) (2025.8.3)\n",
      "Requirement already satisfied: python-dateutil>=2.8.2 in /Users/shutinghe/.pyenv/versions/3.12.4/envs/garden_env/lib/python3.12/site-packages (from pandas->datasets) (2.9.0.post0)\n",
      "Requirement already satisfied: pytz>=2020.1 in /Users/shutinghe/.pyenv/versions/3.12.4/envs/garden_env/lib/python3.12/site-packages (from pandas->datasets) (2025.2)\n",
      "Requirement already satisfied: tzdata>=2022.7 in /Users/shutinghe/.pyenv/versions/3.12.4/envs/garden_env/lib/python3.12/site-packages (from pandas->datasets) (2025.2)\n",
      "Requirement already satisfied: six>=1.5 in /Users/shutinghe/.pyenv/versions/3.12.4/envs/garden_env/lib/python3.12/site-packages (from python-dateutil>=2.8.2->pandas->datasets) (1.17.0)\n",
      "Downloading datasets-4.1.1-py3-none-any.whl (503 kB)\n",
      "Downloading dill-0.4.0-py3-none-any.whl (119 kB)\n",
      "Downloading multiprocess-0.70.16-py312-none-any.whl (146 kB)\n",
      "Downloading aiohttp-3.12.15-cp312-cp312-macosx_11_0_arm64.whl (469 kB)\n",
      "Downloading multidict-6.6.4-cp312-cp312-macosx_11_0_arm64.whl (43 kB)\n",
      "Downloading yarl-1.20.1-cp312-cp312-macosx_11_0_arm64.whl (89 kB)\n",
      "Downloading aiohappyeyeballs-2.6.1-py3-none-any.whl (15 kB)\n",
      "Downloading aiosignal-1.4.0-py3-none-any.whl (7.5 kB)\n",
      "Downloading frozenlist-1.7.0-cp312-cp312-macosx_11_0_arm64.whl (46 kB)\n",
      "Downloading propcache-0.3.2-cp312-cp312-macosx_11_0_arm64.whl (43 kB)\n",
      "Downloading pyarrow-21.0.0-cp312-cp312-macosx_12_0_arm64.whl (31.2 MB)\n",
      "\u001b[2K   \u001b[38;2;114;156;31m━━━━━━━━━━━━━━━━━━━━━━━━━━━━━━━━━━━━━━━━\u001b[0m \u001b[32m31.2/31.2 MB\u001b[0m \u001b[31m38.1 MB/s\u001b[0m  \u001b[33m0:00:00\u001b[0m \u001b[31m38.0 MB/s\u001b[0m eta \u001b[36m0:00:01\u001b[0m\n",
      "\u001b[?25hDownloading xxhash-3.5.0-cp312-cp312-macosx_11_0_arm64.whl (30 kB)\n",
      "Installing collected packages: xxhash, pyarrow, propcache, multidict, frozenlist, dill, aiohappyeyeballs, yarl, multiprocess, aiosignal, aiohttp, datasets\n",
      "\u001b[2K   \u001b[38;2;114;156;31m━━━━━━━━━━━━━━━━━━━━━━━━━━━━━━━━━━━━━━━━\u001b[0m \u001b[32m12/12\u001b[0m [datasets]237m━━━\u001b[0m \u001b[32m11/12\u001b[0m [datasets]ess]\n",
      "\u001b[1A\u001b[2KSuccessfully installed aiohappyeyeballs-2.6.1 aiohttp-3.12.15 aiosignal-1.4.0 datasets-4.1.1 dill-0.4.0 frozenlist-1.7.0 multidict-6.6.4 multiprocess-0.70.16 propcache-0.3.2 pyarrow-21.0.0 xxhash-3.5.0 yarl-1.20.1\n"
     ]
    }
   ],
   "source": [
    "# !pip install transformers\n",
    "# !pip install 'accelerate>=0.26.0'\n",
    "# !pip install datasets"
   ]
  },
  {
   "cell_type": "code",
   "execution_count": 34,
   "id": "8c290fa5",
   "metadata": {},
   "outputs": [],
   "source": [
    "import numpy as np, pandas as pd, torch\n",
    "from transformers import (AutoTokenizer, AutoModelForSequenceClassification,\n",
    "                          TrainingArguments, Trainer, DataCollatorWithPadding)\n",
    "from sklearn.model_selection import train_test_split\n",
    "from datasets import Dataset"
   ]
  },
  {
   "cell_type": "code",
   "execution_count": 35,
   "id": "9053fcd0",
   "metadata": {},
   "outputs": [
    {
     "name": "stdout",
     "output_type": "stream",
     "text": [
      "Train size: 40, Test size: 11\n"
     ]
    }
   ],
   "source": [
    "label_data.head(2)\n",
    "processed_data = label_data.drop(columns=['post_id', 'subreddit', 'subreddit', 'title', 'title'])\n",
    "\n",
    "test_size = 0.2\n",
    "X_train, X_test, y_train, y_test = train_test_split(processed_data['full_text'], processed_data['anxiety_level'], test_size=test_size, stratify=processed_data['anxiety_level'], random_state=42)\n",
    "print(f\"Train size: {len(X_train)}, Test size: {len(X_test)}\")\n",
    "\n",
    "def make_ds(frame):\n",
    "    return Dataset.from_pandas(frame[[\"text\",\"label\"]].reset_index(drop=True))\n",
    "\n",
    "train_ds = Dataset.from_dict({\"text\": X_train, \"label\": y_train})\n",
    "test_ds  = Dataset.from_dict({\"text\": X_test,  \"label\": y_test})"
   ]
  },
  {
   "cell_type": "code",
   "execution_count": 36,
   "id": "92ecaa4a",
   "metadata": {},
   "outputs": [
    {
     "name": "stderr",
     "output_type": "stream",
     "text": [
      "huggingface/tokenizers: The current process just got forked, after parallelism has already been used. Disabling parallelism to avoid deadlocks...\n",
      "To disable this warning, you can either:\n",
      "\t- Avoid using `tokenizers` before the fork if possible\n",
      "\t- Explicitly set the environment variable TOKENIZERS_PARALLELISM=(true | false)\n"
     ]
    },
    {
     "data": {
      "application/vnd.jupyter.widget-view+json": {
       "model_id": "304dc11823984d81b431b09c2eec9601",
       "version_major": 2,
       "version_minor": 0
      },
      "text/plain": [
       "Map:   0%|          | 0/40 [00:00<?, ? examples/s]"
      ]
     },
     "metadata": {},
     "output_type": "display_data"
    },
    {
     "data": {
      "application/vnd.jupyter.widget-view+json": {
       "model_id": "e9d88cdd0c5649eab22340cd48585410",
       "version_major": 2,
       "version_minor": 0
      },
      "text/plain": [
       "Map:   0%|          | 0/11 [00:00<?, ? examples/s]"
      ]
     },
     "metadata": {},
     "output_type": "display_data"
    }
   ],
   "source": [
    "tokenizer = AutoTokenizer.from_pretrained(\"distilbert-base-uncased\")\n",
    "\n",
    "def tokenize(batch):\n",
    "    return tokenizer(batch[\"text\"], truncation=True)\n",
    "\n",
    "train_ds = train_ds.map(tokenize, batched=True)\n",
    "test_ds  = test_ds.map(tokenize, batched=True)\n",
    "\n",
    "\n",
    "cols = [\"input_ids\", \"attention_mask\", \"label\"]\n",
    "train_ds.set_format(type=\"torch\", columns=cols)\n",
    "test_ds.set_format(type=\"torch\", columns=cols)"
   ]
  },
  {
   "cell_type": "code",
   "execution_count": 38,
   "id": "e8b0f22b",
   "metadata": {},
   "outputs": [
    {
     "name": "stderr",
     "output_type": "stream",
     "text": [
      "Some weights of DistilBertForSequenceClassification were not initialized from the model checkpoint at distilbert-base-uncased and are newly initialized: ['classifier.bias', 'classifier.weight', 'pre_classifier.bias', 'pre_classifier.weight']\n",
      "You should probably TRAIN this model on a down-stream task to be able to use it for predictions and inference.\n"
     ]
    },
    {
     "ename": "ValueError",
     "evalue": "--load_best_model_at_end requires the save and eval strategy to match, but found\n- Evaluation strategy: IntervalStrategy.NO\n- Save strategy: SaveStrategy.EPOCH",
     "output_type": "error",
     "traceback": [
      "\u001b[0;31m---------------------------------------------------------------------------\u001b[0m",
      "\u001b[0;31mValueError\u001b[0m                                Traceback (most recent call last)",
      "Cell \u001b[0;32mIn[38], line 8\u001b[0m\n\u001b[1;32m      2\u001b[0m model \u001b[38;5;241m=\u001b[39m AutoModelForSequenceClassification\u001b[38;5;241m.\u001b[39mfrom_pretrained(\n\u001b[1;32m      3\u001b[0m     \u001b[38;5;124m\"\u001b[39m\u001b[38;5;124mdistilbert-base-uncased\u001b[39m\u001b[38;5;124m\"\u001b[39m, num_labels\u001b[38;5;241m=\u001b[39mnum_labels\n\u001b[1;32m      4\u001b[0m )\n\u001b[1;32m      6\u001b[0m data_collator \u001b[38;5;241m=\u001b[39m DataCollatorWithPadding(tokenizer\u001b[38;5;241m=\u001b[39mtokenizer)\n\u001b[0;32m----> 8\u001b[0m training_args \u001b[38;5;241m=\u001b[39m \u001b[43mTrainingArguments\u001b[49m\u001b[43m(\u001b[49m\n\u001b[1;32m      9\u001b[0m \u001b[43m    \u001b[49m\u001b[43moutput_dir\u001b[49m\u001b[38;5;241;43m=\u001b[39;49m\u001b[38;5;124;43m\"\u001b[39;49m\u001b[38;5;124;43mdistilbert-anxiety\u001b[39;49m\u001b[38;5;124;43m\"\u001b[39;49m\u001b[43m,\u001b[49m\n\u001b[1;32m     10\u001b[0m \u001b[43m    \u001b[49m\u001b[38;5;66;43;03m# evaluation_strategy=\"epoch\",\u001b[39;49;00m\n\u001b[1;32m     11\u001b[0m \u001b[43m    \u001b[49m\u001b[43msave_strategy\u001b[49m\u001b[38;5;241;43m=\u001b[39;49m\u001b[38;5;124;43m\"\u001b[39;49m\u001b[38;5;124;43mepoch\u001b[39;49m\u001b[38;5;124;43m\"\u001b[39;49m\u001b[43m,\u001b[49m\n\u001b[1;32m     12\u001b[0m \u001b[43m    \u001b[49m\u001b[43mlearning_rate\u001b[49m\u001b[38;5;241;43m=\u001b[39;49m\u001b[38;5;241;43m2e-5\u001b[39;49m\u001b[43m,\u001b[49m\n\u001b[1;32m     13\u001b[0m \u001b[43m    \u001b[49m\u001b[43mper_device_train_batch_size\u001b[49m\u001b[38;5;241;43m=\u001b[39;49m\u001b[38;5;241;43m16\u001b[39;49m\u001b[43m,\u001b[49m\n\u001b[1;32m     14\u001b[0m \u001b[43m    \u001b[49m\u001b[43mper_device_eval_batch_size\u001b[49m\u001b[38;5;241;43m=\u001b[39;49m\u001b[38;5;241;43m32\u001b[39;49m\u001b[43m,\u001b[49m\n\u001b[1;32m     15\u001b[0m \u001b[43m    \u001b[49m\u001b[43mnum_train_epochs\u001b[49m\u001b[38;5;241;43m=\u001b[39;49m\u001b[38;5;241;43m3\u001b[39;49m\u001b[43m,\u001b[49m\n\u001b[1;32m     16\u001b[0m \u001b[43m    \u001b[49m\u001b[43mweight_decay\u001b[49m\u001b[38;5;241;43m=\u001b[39;49m\u001b[38;5;241;43m0.01\u001b[39;49m\u001b[43m,\u001b[49m\n\u001b[1;32m     17\u001b[0m \u001b[43m    \u001b[49m\u001b[43mload_best_model_at_end\u001b[49m\u001b[38;5;241;43m=\u001b[39;49m\u001b[38;5;28;43;01mTrue\u001b[39;49;00m\u001b[43m,\u001b[49m\n\u001b[1;32m     18\u001b[0m \u001b[43m)\u001b[49m\n\u001b[1;32m     20\u001b[0m \u001b[38;5;28;01mdef\u001b[39;00m \u001b[38;5;21mcompute_metrics\u001b[39m(eval_pred):\n\u001b[1;32m     21\u001b[0m     \u001b[38;5;28;01mfrom\u001b[39;00m \u001b[38;5;21;01msklearn\u001b[39;00m\u001b[38;5;21;01m.\u001b[39;00m\u001b[38;5;21;01mmetrics\u001b[39;00m \u001b[38;5;28;01mimport\u001b[39;00m accuracy_score, f1_score\n",
      "File \u001b[0;32m<string>:134\u001b[0m, in \u001b[0;36m__init__\u001b[0;34m(self, output_dir, overwrite_output_dir, do_train, do_eval, do_predict, eval_strategy, prediction_loss_only, per_device_train_batch_size, per_device_eval_batch_size, per_gpu_train_batch_size, per_gpu_eval_batch_size, gradient_accumulation_steps, eval_accumulation_steps, eval_delay, torch_empty_cache_steps, learning_rate, weight_decay, adam_beta1, adam_beta2, adam_epsilon, max_grad_norm, num_train_epochs, max_steps, lr_scheduler_type, lr_scheduler_kwargs, warmup_ratio, warmup_steps, log_level, log_level_replica, log_on_each_node, logging_dir, logging_strategy, logging_first_step, logging_steps, logging_nan_inf_filter, save_strategy, save_steps, save_total_limit, save_safetensors, save_on_each_node, save_only_model, restore_callback_states_from_checkpoint, no_cuda, use_cpu, use_mps_device, seed, data_seed, jit_mode_eval, use_ipex, bf16, fp16, fp16_opt_level, half_precision_backend, bf16_full_eval, fp16_full_eval, tf32, local_rank, ddp_backend, tpu_num_cores, tpu_metrics_debug, debug, dataloader_drop_last, eval_steps, dataloader_num_workers, dataloader_prefetch_factor, past_index, run_name, disable_tqdm, remove_unused_columns, label_names, load_best_model_at_end, metric_for_best_model, greater_is_better, ignore_data_skip, fsdp, fsdp_min_num_params, fsdp_config, fsdp_transformer_layer_cls_to_wrap, accelerator_config, parallelism_config, deepspeed, label_smoothing_factor, optim, optim_args, adafactor, group_by_length, length_column_name, report_to, ddp_find_unused_parameters, ddp_bucket_cap_mb, ddp_broadcast_buffers, dataloader_pin_memory, dataloader_persistent_workers, skip_memory_metrics, use_legacy_prediction_loop, push_to_hub, resume_from_checkpoint, hub_model_id, hub_strategy, hub_token, hub_private_repo, hub_always_push, hub_revision, gradient_checkpointing, gradient_checkpointing_kwargs, include_inputs_for_metrics, include_for_metrics, eval_do_concat_batches, fp16_backend, push_to_hub_model_id, push_to_hub_organization, push_to_hub_token, mp_parameters, auto_find_batch_size, full_determinism, torchdynamo, ray_scope, ddp_timeout, torch_compile, torch_compile_backend, torch_compile_mode, include_tokens_per_second, include_num_input_tokens_seen, neftune_noise_alpha, optim_target_modules, batch_eval_metrics, eval_on_start, use_liger_kernel, liger_kernel_config, eval_use_gather_object, average_tokens_across_devices)\u001b[0m\n",
      "File \u001b[0;32m~/.pyenv/versions/garden_env/lib/python3.12/site-packages/transformers/training_args.py:1678\u001b[0m, in \u001b[0;36mTrainingArguments.__post_init__\u001b[0;34m(self)\u001b[0m\n\u001b[1;32m   1676\u001b[0m \u001b[38;5;28;01mif\u001b[39;00m \u001b[38;5;28mself\u001b[39m\u001b[38;5;241m.\u001b[39mload_best_model_at_end \u001b[38;5;129;01mand\u001b[39;00m \u001b[38;5;28mself\u001b[39m\u001b[38;5;241m.\u001b[39msave_strategy \u001b[38;5;241m!=\u001b[39m SaveStrategy\u001b[38;5;241m.\u001b[39mBEST:\n\u001b[1;32m   1677\u001b[0m     \u001b[38;5;28;01mif\u001b[39;00m \u001b[38;5;28mself\u001b[39m\u001b[38;5;241m.\u001b[39meval_strategy \u001b[38;5;241m!=\u001b[39m \u001b[38;5;28mself\u001b[39m\u001b[38;5;241m.\u001b[39msave_strategy:\n\u001b[0;32m-> 1678\u001b[0m         \u001b[38;5;28;01mraise\u001b[39;00m \u001b[38;5;167;01mValueError\u001b[39;00m(\n\u001b[1;32m   1679\u001b[0m             \u001b[38;5;124m\"\u001b[39m\u001b[38;5;124m--load_best_model_at_end requires the save and eval strategy to match, but found\u001b[39m\u001b[38;5;130;01m\\n\u001b[39;00m\u001b[38;5;124m- Evaluation \u001b[39m\u001b[38;5;124m\"\u001b[39m\n\u001b[1;32m   1680\u001b[0m             \u001b[38;5;124mf\u001b[39m\u001b[38;5;124m\"\u001b[39m\u001b[38;5;124mstrategy: \u001b[39m\u001b[38;5;132;01m{\u001b[39;00m\u001b[38;5;28mself\u001b[39m\u001b[38;5;241m.\u001b[39meval_strategy\u001b[38;5;132;01m}\u001b[39;00m\u001b[38;5;130;01m\\n\u001b[39;00m\u001b[38;5;124m- Save strategy: \u001b[39m\u001b[38;5;132;01m{\u001b[39;00m\u001b[38;5;28mself\u001b[39m\u001b[38;5;241m.\u001b[39msave_strategy\u001b[38;5;132;01m}\u001b[39;00m\u001b[38;5;124m\"\u001b[39m\n\u001b[1;32m   1681\u001b[0m         )\n\u001b[1;32m   1682\u001b[0m     \u001b[38;5;28;01mif\u001b[39;00m \u001b[38;5;28mself\u001b[39m\u001b[38;5;241m.\u001b[39meval_strategy \u001b[38;5;241m==\u001b[39m IntervalStrategy\u001b[38;5;241m.\u001b[39mSTEPS \u001b[38;5;129;01mand\u001b[39;00m \u001b[38;5;28mself\u001b[39m\u001b[38;5;241m.\u001b[39msave_steps \u001b[38;5;241m%\u001b[39m \u001b[38;5;28mself\u001b[39m\u001b[38;5;241m.\u001b[39meval_steps \u001b[38;5;241m!=\u001b[39m \u001b[38;5;241m0\u001b[39m:\n\u001b[1;32m   1683\u001b[0m         \u001b[38;5;28;01mif\u001b[39;00m \u001b[38;5;28mself\u001b[39m\u001b[38;5;241m.\u001b[39meval_steps \u001b[38;5;241m<\u001b[39m \u001b[38;5;241m1\u001b[39m \u001b[38;5;129;01mor\u001b[39;00m \u001b[38;5;28mself\u001b[39m\u001b[38;5;241m.\u001b[39msave_steps \u001b[38;5;241m<\u001b[39m \u001b[38;5;241m1\u001b[39m:\n",
      "\u001b[0;31mValueError\u001b[0m: --load_best_model_at_end requires the save and eval strategy to match, but found\n- Evaluation strategy: IntervalStrategy.NO\n- Save strategy: SaveStrategy.EPOCH"
     ]
    }
   ],
   "source": [
    "num_labels = len(np.unique(y_train))\n",
    "model = AutoModelForSequenceClassification.from_pretrained(\n",
    "    \"distilbert-base-uncased\", num_labels=num_labels\n",
    ")\n",
    "\n",
    "data_collator = DataCollatorWithPadding(tokenizer=tokenizer)\n",
    "\n",
    "training_args = TrainingArguments(\n",
    "    output_dir=\"distilbert-anxiety\",\n",
    "    # evaluation_strategy=\"epoch\",\n",
    "    save_strategy=\"epoch\",\n",
    "    learning_rate=2e-5,\n",
    "    per_device_train_batch_size=16,\n",
    "    per_device_eval_batch_size=32,\n",
    "    num_train_epochs=3,\n",
    "    weight_decay=0.01,\n",
    "    load_best_model_at_end=True,\n",
    ")\n",
    "\n",
    "def compute_metrics(eval_pred):\n",
    "    from sklearn.metrics import accuracy_score, f1_score\n",
    "    logits, labels = eval_pred\n",
    "    preds = logits.argmax(axis=-1)\n",
    "    return {\n",
    "        \"accuracy\": accuracy_score(labels, preds),\n",
    "        \"macro_f1\": f1_score(labels, preds, average=\"macro\"),\n",
    "    }\n",
    "\n",
    "trainer = Trainer(\n",
    "    model=model,\n",
    "    args=training_args,\n",
    "    train_dataset=train_ds,\n",
    "    eval_dataset=test_ds,   # or a separate validation set if you have one\n",
    "    tokenizer=tokenizer,\n",
    "    data_collator=data_collator,\n",
    "    compute_metrics=compute_metrics,\n",
    ")\n",
    "\n",
    "# 5. Train & evaluate\n",
    "trainer.train()\n",
    "metrics = trainer.evaluate()\n",
    "print(metrics)"
   ]
  }
 ],
 "metadata": {
  "kernelspec": {
   "display_name": "garden_env",
   "language": "python",
   "name": "python3"
  },
  "language_info": {
   "codemirror_mode": {
    "name": "ipython",
    "version": 3
   },
   "file_extension": ".py",
   "mimetype": "text/x-python",
   "name": "python",
   "nbconvert_exporter": "python",
   "pygments_lexer": "ipython3",
   "version": "3.12.4"
  }
 },
 "nbformat": 4,
 "nbformat_minor": 5
}

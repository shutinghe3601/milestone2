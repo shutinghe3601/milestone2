{
 "cells": [
  {
   "cell_type": "markdown",
   "id": "4d8631e6",
   "metadata": {},
   "source": [
    "[← Previous: Dataset Comparison Analysis](05_dataset_comparison_analysis.ipynb)\n",
    "\n",
    "# **Text Classification by DistilBERT**\n",
    "\n",
    "**Purpose**: Explore using DistilBERT, a pretrained transformer model from Hugging Face, to classify the anxiety level (0-5 scale) for Reddit posts."
   ]
  },
  {
   "cell_type": "markdown",
   "id": "f672edad",
   "metadata": {},
   "source": [
    "## Table of Contents\n",
    "\n",
    "1. [Import Packages and Datasets](#1-import-packages-and-datasets)\n",
    "2. [Helper Functions](#2-helper-functions)\n",
    "3. [Text Examination](#3-text-examination)\n",
    "4. [Dataset Comparison](#4-dataset-comparison)\n",
    "5. [Ablation Testing on Stop Words](#5-ablation-testing-on-stop-words)\n",
    "6. [Hyperparameter Tuning](#6-hyperparameter-tuning)\n",
    "7. [Training Data Comparison](#7-training-data-comparison)\n",
    "8. [Conclusion, Limitation and Future Work](#8-conclusion-limitation-and-future-work)\n",
    "\n",
    "[Next: Random Forest Classification →](07_text_classification_random_forest.ipynb)\n"
   ]
  },
  {
   "cell_type": "markdown",
   "id": "dec36894",
   "metadata": {},
   "source": [
    "---"
   ]
  },
  {
   "cell_type": "code",
   "execution_count": 1,
   "id": "a5d571dc",
   "metadata": {},
   "outputs": [],
   "source": [
    "# %pip install -r ../requirements.txt"
   ]
  },
  {
   "cell_type": "markdown",
   "id": "374a55a1",
   "metadata": {},
   "source": [
    "## **1. Import Packages and Datasets**\n",
    "\n",
    "**Purpose**: Import packages and load dataset.\n"
   ]
  },
  {
   "cell_type": "code",
   "execution_count": 2,
   "id": "87c28f9d",
   "metadata": {},
   "outputs": [],
   "source": [
    "import numpy as np\n",
    "import pandas as pd\n",
    "import torch\n",
    "from transformers import (AutoTokenizer,DistilBertForSequenceClassification,\n",
    "                          TrainingArguments, Trainer, DataCollatorWithPadding)                         \n",
    "from sklearn.model_selection import train_test_split\n",
    "from datasets import Dataset\n",
    "\n",
    "import sys\n",
    "sys.path.append('../src')\n",
    "import text_processing_functions as tp\n",
    "\n",
    "import time\n",
    "\n",
    "from sklearn.metrics import accuracy_score, precision_recall_fscore_support\n",
    "from transformers import set_seed\n",
    "import random\n",
    "\n",
    "seed = 42\n",
    "set_seed(seed)\n",
    "random.seed(seed)\n",
    "torch.manual_seed(seed)\n",
    "if torch.cuda.is_available():\n",
    "    torch.cuda.manual_seed_all(seed)\n",
    "\n",
    "import warnings\n",
    "from sklearn.exceptions import UndefinedMetricWarning\n",
    "\n",
    "warnings.filterwarnings(\"ignore\", category=UndefinedMetricWarning)\n",
    "\n",
    "from datasets import Dataset, DatasetDict\n",
    "from functools import partial\n",
    "import accelerate\n",
    "import os\n",
    "import time\n",
    "from copy import deepcopy\n",
    "from functools import partial\n",
    "\n",
    "import matplotlib.pyplot as plt\n",
    "import seaborn as sns\n",
    "from sklearn.metrics import roc_auc_score, average_precision_score\n"
   ]
  },
  {
   "cell_type": "code",
   "execution_count": 3,
   "id": "e8bed83e",
   "metadata": {},
   "outputs": [
    {
     "name": "stdout",
     "output_type": "stream",
     "text": [
      "<class 'pandas.core.frame.DataFrame'>\n",
      "RangeIndex: 599 entries, 0 to 598\n",
      "Data columns (total 3 columns):\n",
      " #   Column         Non-Null Count  Dtype \n",
      "---  ------         --------------  ----- \n",
      " 0   subreddit      599 non-null    object\n",
      " 1   text_all       599 non-null    object\n",
      " 2   anxiety_level  599 non-null    int64 \n",
      "dtypes: int64(1), object(2)\n",
      "memory usage: 14.2+ KB\n"
     ]
    },
    {
     "data": {
      "text/plain": [
       "None"
      ]
     },
     "metadata": {},
     "output_type": "display_data"
    },
    {
     "data": {
      "text/plain": [
       "subreddit\n",
       "unpopularopinion    81\n",
       "Anxiety             81\n",
       "TrueOffMyChest      79\n",
       "economy             78\n",
       "mentalhealth        75\n",
       "OpenAI              74\n",
       "GetMotivated        72\n",
       "HealthAnxiety       59\n",
       "Name: count, dtype: int64"
      ]
     },
     "metadata": {},
     "output_type": "display_data"
    },
    {
     "data": {
      "text/html": [
       "<div>\n",
       "<style scoped>\n",
       "    .dataframe tbody tr th:only-of-type {\n",
       "        vertical-align: middle;\n",
       "    }\n",
       "\n",
       "    .dataframe tbody tr th {\n",
       "        vertical-align: top;\n",
       "    }\n",
       "\n",
       "    .dataframe thead th {\n",
       "        text-align: right;\n",
       "    }\n",
       "</style>\n",
       "<table border=\"1\" class=\"dataframe\">\n",
       "  <thead>\n",
       "    <tr style=\"text-align: right;\">\n",
       "      <th></th>\n",
       "      <th>subreddit</th>\n",
       "      <th>text_all</th>\n",
       "      <th>anxiety_level</th>\n",
       "    </tr>\n",
       "  </thead>\n",
       "  <tbody>\n",
       "    <tr>\n",
       "      <th>0</th>\n",
       "      <td>HealthAnxiety</td>\n",
       "      <td>how do you stop thinking\\n\\nis today the day? ...</td>\n",
       "      <td>1</td>\n",
       "    </tr>\n",
       "    <tr>\n",
       "      <th>1</th>\n",
       "      <td>HealthAnxiety</td>\n",
       "      <td>mammogram\\n\\ni’m 42 and have suffered with hea...</td>\n",
       "      <td>1</td>\n",
       "    </tr>\n",
       "  </tbody>\n",
       "</table>\n",
       "</div>"
      ],
      "text/plain": [
       "       subreddit                                           text_all  \\\n",
       "0  HealthAnxiety  how do you stop thinking\\n\\nis today the day? ...   \n",
       "1  HealthAnxiety  mammogram\\n\\ni’m 42 and have suffered with hea...   \n",
       "\n",
       "   anxiety_level  \n",
       "0              1  \n",
       "1              1  "
      ]
     },
     "execution_count": 3,
     "metadata": {},
     "output_type": "execute_result"
    }
   ],
   "source": [
    "human_label = pd.read_csv('../data/processed/sample_human_labels.csv')\n",
    "human_label = human_label[['subreddit','text_all', 'anxiety_level']] #subreddit, column need to be tokenized and target\n",
    "display(human_label.info())\n",
    "display(human_label['subreddit'].value_counts())\n",
    "human_label.head(2)"
   ]
  },
  {
   "cell_type": "code",
   "execution_count": 4,
   "id": "092b4be8",
   "metadata": {},
   "outputs": [
    {
     "name": "stdout",
     "output_type": "stream",
     "text": [
      "<class 'pandas.core.frame.DataFrame'>\n",
      "RangeIndex: 1000 entries, 0 to 999\n",
      "Data columns (total 3 columns):\n",
      " #   Column         Non-Null Count  Dtype \n",
      "---  ------         --------------  ----- \n",
      " 0   subreddit      1000 non-null   object\n",
      " 1   text_all       1000 non-null   object\n",
      " 2   anxiety_level  1000 non-null   int64 \n",
      "dtypes: int64(1), object(2)\n",
      "memory usage: 23.6+ KB\n"
     ]
    },
    {
     "data": {
      "text/plain": [
       "None"
      ]
     },
     "metadata": {},
     "output_type": "display_data"
    },
    {
     "data": {
      "text/plain": [
       "subreddit\n",
       "unpopularopinion    157\n",
       "Anxiety             151\n",
       "TrueOffMyChest      143\n",
       "economy             140\n",
       "mentalhealth        125\n",
       "OpenAI              122\n",
       "GetMotivated        109\n",
       "HealthAnxiety        53\n",
       "Name: count, dtype: int64"
      ]
     },
     "metadata": {},
     "output_type": "display_data"
    },
    {
     "data": {
      "text/html": [
       "<div>\n",
       "<style scoped>\n",
       "    .dataframe tbody tr th:only-of-type {\n",
       "        vertical-align: middle;\n",
       "    }\n",
       "\n",
       "    .dataframe tbody tr th {\n",
       "        vertical-align: top;\n",
       "    }\n",
       "\n",
       "    .dataframe thead th {\n",
       "        text-align: right;\n",
       "    }\n",
       "</style>\n",
       "<table border=\"1\" class=\"dataframe\">\n",
       "  <thead>\n",
       "    <tr style=\"text-align: right;\">\n",
       "      <th></th>\n",
       "      <th>subreddit</th>\n",
       "      <th>text_all</th>\n",
       "      <th>anxiety_level</th>\n",
       "    </tr>\n",
       "  </thead>\n",
       "  <tbody>\n",
       "    <tr>\n",
       "      <th>0</th>\n",
       "      <td>economy</td>\n",
       "      <td>cre: the other real estate debacle developing</td>\n",
       "      <td>0</td>\n",
       "    </tr>\n",
       "    <tr>\n",
       "      <th>1</th>\n",
       "      <td>Anxiety</td>\n",
       "      <td>scared i have dementia or early onset or somet...</td>\n",
       "      <td>1</td>\n",
       "    </tr>\n",
       "  </tbody>\n",
       "</table>\n",
       "</div>"
      ],
      "text/plain": [
       "  subreddit                                           text_all  anxiety_level\n",
       "0   economy      cre: the other real estate debacle developing              0\n",
       "1   Anxiety  scared i have dementia or early onset or somet...              1"
      ]
     },
     "execution_count": 4,
     "metadata": {},
     "output_type": "execute_result"
    }
   ],
   "source": [
    "ai_label = pd.read_csv('../data/processed/simple_ai_labels.csv')\n",
    "ai_label['anxiety_level'] = np.where(ai_label['ai_severity']>=3, 1,0)\n",
    "\n",
    "raw_data = pd.read_parquet('../data/processed/reddit_anxiety_v1.parquet')\n",
    "ai_label = ai_label.merge(raw_data[['post_id', 'text_all']], on='post_id', how='left')\n",
    "ai_label = ai_label[['subreddit','text_all', 'anxiety_level']] # subreddit, column need to be tokenized and target\n",
    "display(ai_label.info())\n",
    "display(ai_label['subreddit'].value_counts())\n",
    "ai_label.head(2)"
   ]
  },
  {
   "cell_type": "markdown",
   "id": "53c80963",
   "metadata": {},
   "source": [
    "## **2. Helper Functions**\n",
    "\n",
    "**Purpose**: Provide utilities that support both text exploration and model training.\n"
   ]
  },
  {
   "cell_type": "code",
   "execution_count": 5,
   "id": "88051b08",
   "metadata": {},
   "outputs": [],
   "source": [
    "def examine_text(df, text_col, human_label=True):\n",
    "    df['text_length'] = df[text_col].apply(lambda x: len(x.split()))\n",
    "    df.sort_values('subreddit', ascending=False, inplace=True)\n",
    "    plt.figure(figsize=(12, 4))\n",
    "    sns.boxplot(data=df, x='subreddit', y='text_length')\n",
    "    if human_label:\n",
    "        plt.title('Distribution of Text Lengths (Human Labeled Data)')\n",
    "    else:\n",
    "        plt.title('Distribution of Text Lengths (AI Labeled Data)')\n",
    "    plt.xticks(rotation=90, fontsize=8)\n",
    "    plt.xlabel('Subreddit')\n",
    "    plt.ylabel('Number of Words')\n",
    "    plt.show()\n",
    "    df.drop(columns=['text_length'], inplace=True)\n",
    "\n",
    "def plot_anxiety_distribution_by_subreddit(df, subreddit_col=\"subreddit\", anxiety_col=\"anxiety_level\"):\n",
    "    \"\"\"\n",
    "    Plot the distribution of anxiety levels across subreddits.\n",
    "    \"\"\"\n",
    "    data = df.copy()\n",
    "\n",
    "    plt.figure(figsize=(12, 4))\n",
    "    sns.countplot(\n",
    "        data=data,\n",
    "        x=subreddit_col,\n",
    "        hue=anxiety_col,\n",
    "        order=data[subreddit_col].value_counts().index,\n",
    "        palette=\"viridis\"\n",
    "    )\n",
    "    plt.title(\"Anxiety Level Distribution by Subreddit\")\n",
    "    plt.xlabel(\"Subreddit\")\n",
    "    plt.ylabel(\"Number of Posts\")\n",
    "    plt.legend(title=\"Anxiety Level\")\n",
    "    plt.xticks(rotation=45, ha=\"right\")\n",
    "    plt.tight_layout()\n",
    "    plt.show()\n",
    "\n",
    "def plot_subreddit_ratios(df_left, df_right, label_left=\"Dataset A\", label_right=\"Dataset B\",\n",
    "                          subreddit_col=\"subreddit\", top_n=None):\n",
    "    \"\"\"\n",
    "    Compare subreddit representation (share of total rows) between two datasets.\n",
    "    \"\"\"\n",
    "    # Compute ratios\n",
    "    ratio_left = df_left[subreddit_col].value_counts(normalize=True)\n",
    "    ratio_right = df_right[subreddit_col].value_counts(normalize=True)\n",
    "\n",
    "    # Union of subreddits, optionally limited to most frequent overall\n",
    "    combined_counts = (df_left[subreddit_col].value_counts() +\n",
    "                       df_right[subreddit_col].value_counts()).sort_values(ascending=False)\n",
    "\n",
    "    if top_n is not None:\n",
    "        subreddits = combined_counts.head(top_n).index\n",
    "    else:\n",
    "        subreddits = combined_counts.index\n",
    "\n",
    "    # Build DataFrame for plotting\n",
    "    comparison = pd.DataFrame({\n",
    "        label_left: ratio_left.reindex(subreddits, fill_value=0),\n",
    "        label_right: ratio_right.reindex(subreddits, fill_value=0)\n",
    "    })\n",
    "\n",
    "    ax = comparison.plot(kind=\"bar\", figsize=(12, 4))\n",
    "    ax.set_title(\"Subreddit Share Comparison\")\n",
    "    ax.set_xlabel(\"Subreddit\")\n",
    "    ax.set_ylabel(\"Share of Dataset\")\n",
    "    ax.set_xticklabels(ax.get_xticklabels(), rotation=45, ha=\"right\")\n",
    "    plt.legend(title=\"Dataset\")\n",
    "    plt.tight_layout()\n",
    "    plt.show()\n",
    "\n",
    "def split_data(indf, target_col = 'anxiety_level', test_size=0.2, val_size=0.1, random_state=42):\n",
    "    \"\"\"\n",
    "    Split the dataframe into training, testing and validation sets.\n",
    "    \"\"\"\n",
    "    train_df, test_df = train_test_split(indf, test_size=test_size, random_state=random_state, stratify=indf[target_col])\n",
    "    train_val_df, val_df = train_test_split(train_df, test_size=val_size, random_state=random_state, stratify=train_df[target_col])\n",
    "\n",
    "    dataset = DatasetDict({\n",
    "        \"train\": Dataset.from_pandas(train_val_df.reset_index(drop=True)),\n",
    "        \"validation\": Dataset.from_pandas(val_df.reset_index(drop=True)),\n",
    "        \"test\": Dataset.from_pandas(test_df.reset_index(drop=True)),\n",
    "    })\n",
    "    return dataset\n",
    "\n",
    "# Tokenize the dataset\n",
    "def tokenize(batch, text_col):\n",
    "    return tokenizer(batch[text_col], truncation=True, padding=True)\n",
    "\n",
    "def compute_metrics(eval_pred):\n",
    "    logits, labels = eval_pred\n",
    "    logits = np.array(logits)\n",
    "    labels = np.array(labels)\n",
    "\n",
    "    if logits.ndim == 1:\n",
    "        logits = np.expand_dims(logits, -1)\n",
    "\n",
    "    preds = np.argmax(logits, axis=-1)\n",
    "\n",
    "    precision, recall, f1, _ = precision_recall_fscore_support(\n",
    "        labels,\n",
    "        preds,\n",
    "        average=\"weighted\",\n",
    "        zero_division=0,\n",
    "    )\n",
    "    accuracy = accuracy_score(labels, preds)\n",
    "\n",
    "    metrics = {\n",
    "        \"accuracy\": accuracy,\n",
    "        \"f1_weighted\": f1,\n",
    "        \"precision_weighted\": precision,\n",
    "        \"recall_weighted\": recall,\n",
    "    }\n",
    "    # Compute ROC AUC and Average Precision for binary classification\n",
    "    exp_logits = np.exp(logits - np.max(logits, axis=-1, keepdims=True))\n",
    "    probs = exp_logits / exp_logits.sum(axis=-1, keepdims=True)\n",
    "\n",
    "    prob_pos = probs[:, 1]\n",
    "    metrics[\"roc_auc\"] = roc_auc_score(labels, prob_pos)\n",
    "    metrics[\"average_precision\"] = average_precision_score(labels, prob_pos)\n",
    "\n",
    "    return metrics\n"
   ]
  },
  {
   "cell_type": "markdown",
   "id": "51e5a5e7",
   "metadata": {},
   "source": [
    "## **3. Dataset Examination**\n",
    "\n",
    "**Purpose**: Explore and understand the datasets."
   ]
  },
  {
   "cell_type": "code",
   "execution_count": 6,
   "id": "48f7b131",
   "metadata": {},
   "outputs": [
    {
     "data": {
      "image/png": "[encoded data removed]",
      "text/plain": [
       "<Figure size 1200x400 with 1 Axes>"
      ]
     },
     "metadata": {},
     "output_type": "display_data"
    },
    {
     "data": {
      "image/png": "[encoded data removed]",
      "text/plain": [
       "<Figure size 1200x400 with 1 Axes>"
      ]
     },
     "metadata": {},
     "output_type": "display_data"
    }
   ],
   "source": [
    "examine_text(human_label, 'text_all')\n",
    "examine_text(ai_label, 'text_all')"
   ]
  },
  {
   "cell_type": "code",
   "execution_count": 7,
   "id": "1bdf2126",
   "metadata": {},
   "outputs": [
    {
     "name": "stdout",
     "output_type": "stream",
     "text": [
      "Human-labeled dataset:\n"
     ]
    },
    {
     "data": {
      "image/png": "[encoded data removed]",
      "text/plain": [
       "<Figure size 1200x400 with 1 Axes>"
      ]
     },
     "metadata": {},
     "output_type": "display_data"
    },
    {
     "name": "stdout",
     "output_type": "stream",
     "text": [
      "AI-labeled dataset:\n"
     ]
    },
    {
     "data": {
      "image/png": "[encoded data removed]",
      "text/plain": [
       "<Figure size 1200x400 with 1 Axes>"
      ]
     },
     "metadata": {},
     "output_type": "display_data"
    }
   ],
   "source": [
    "print(\"Human-labeled dataset:\")\n",
    "plot_anxiety_distribution_by_subreddit(df=human_label, subreddit_col=\"subreddit\", anxiety_col=\"anxiety_level\")\n",
    "print(\"AI-labeled dataset:\")\n",
    "plot_anxiety_distribution_by_subreddit(df=ai_label, subreddit_col=\"subreddit\", anxiety_col=\"anxiety_level\")"
   ]
  },
  {
   "cell_type": "code",
   "execution_count": 8,
   "id": "1507e18c",
   "metadata": {},
   "outputs": [
    {
     "data": {
      "image/png": "[encoded data removed]",
      "text/plain": [
       "<Figure size 1200x400 with 1 Axes>"
      ]
     },
     "metadata": {},
     "output_type": "display_data"
    }
   ],
   "source": [
    "plot_subreddit_ratios(human_label, ai_label, label_left=\"Human Labeled\", label_right=\"AI Labeled\", top_n=20)"
   ]
  },
  {
   "cell_type": "markdown",
   "id": "635ce712",
   "metadata": {},
   "source": [
    "**Key Findings**\n",
    "- **Text lengths** look similar across both datasets, with most posts under 500 words.\n",
    "- **Anxiety-level distributions** differ sharply by subreddit—especially for Anxiety, TrueOffMyChest, and HealthAnxiety. That gap could reflect instability in the AI labels, inconsistency in human labels, or how annotators’ fatigue and personal biases creep in when reading long batches of anxiety-related posts. \n",
    "- **Different subreddit-to-total ratios** also matter: HealthAnxiety shows up far less often in the AI-labeled set than in the human-labeled set. Looking just at subreddit shares, HealthAnxiety has a markedly smaller presence in the AI-labeled data, while unpopularopinion, Anxiety, TrueOffMyChest, and economy appear slightly more often. Because overall metrics average across all posts, this kind of imbalance can make one dataset look stronger or weaker for reasons unrelated to true model performance."
   ]
  },
  {
   "cell_type": "markdown",
   "id": "10333e87",
   "metadata": {},
   "source": [
    "## **4. Dataset Comparison**\n",
    "\n",
    "**Purpose**: Build a fast baseline model to compare human labels with AI-generated labels."
   ]
  },
  {
   "cell_type": "code",
   "execution_count": 9,
   "id": "92ecaa4a",
   "metadata": {},
   "outputs": [
    {
     "name": "stderr",
     "output_type": "stream",
     "text": [
      "Setting TOKENIZERS_PARALLELISM=false for forked processes.\n"
     ]
    },
    {
     "name": "stdout",
     "output_type": "stream",
     "text": [
      "Starting experiments...\n",
      "Testing human_label...\n"
     ]
    },
    {
     "data": {
      "application/vnd.jupyter.widget-view+json": {
       "model_id": "6fada3a875e54f08bd18565d628f3fa7",
       "version_major": 2,
       "version_minor": 0
      },
      "text/plain": [
       "Tokenizing human_label (num_proc=8):   0%|          | 0/431 [00:00<?, ? examples/s]"
      ]
     },
     "metadata": {},
     "output_type": "display_data"
    },
    {
     "name": "stderr",
     "output_type": "stream",
     "text": [
      "Setting TOKENIZERS_PARALLELISM=false for forked processes.\n"
     ]
    },
    {
     "data": {
      "application/vnd.jupyter.widget-view+json": {
       "model_id": "90306bb30b6b41e3af2cbe34cff3091b",
       "version_major": 2,
       "version_minor": 0
      },
      "text/plain": [
       "Tokenizing human_label (num_proc=8):   0%|          | 0/48 [00:00<?, ? examples/s]"
      ]
     },
     "metadata": {},
     "output_type": "display_data"
    },
    {
     "name": "stderr",
     "output_type": "stream",
     "text": [
      "Setting TOKENIZERS_PARALLELISM=false for forked processes.\n"
     ]
    },
    {
     "data": {
      "application/vnd.jupyter.widget-view+json": {
       "model_id": "ada57d30a6dd4bffb1932dcf25a439b1",
       "version_major": 2,
       "version_minor": 0
      },
      "text/plain": [
       "Tokenizing human_label (num_proc=8):   0%|          | 0/120 [00:00<?, ? examples/s]"
      ]
     },
     "metadata": {},
     "output_type": "display_data"
    },
    {
     "name": "stderr",
     "output_type": "stream",
     "text": [
      "Some weights of DistilBertForSequenceClassification were not initialized from the model checkpoint at distilbert-base-uncased and are newly initialized: ['classifier.bias', 'classifier.weight', 'pre_classifier.bias', 'pre_classifier.weight']\n",
      "You should probably TRAIN this model on a down-stream task to be able to use it for predictions and inference.\n"
     ]
    },
    {
     "data": {
      "text/html": [
       "\n",
       "    <div>\n",
       "      \n",
       "      <progress value='27' max='27' style='width:300px; height:20px; vertical-align: middle;'></progress>\n",
       "      [27/27 02:27, Epoch 1/1]\n",
       "    </div>\n",
       "    <table border=\"1\" class=\"dataframe\">\n",
       "  <thead>\n",
       " <tr style=\"text-align: left;\">\n",
       "      <th>Step</th>\n",
       "      <th>Training Loss</th>\n",
       "    </tr>\n",
       "  </thead>\n",
       "  <tbody>\n",
       "  </tbody>\n",
       "</table><p>"
      ],
      "text/plain": [
       "<IPython.core.display.HTML object>"
      ]
     },
     "metadata": {},
     "output_type": "display_data"
    },
    {
     "data": {
      "text/html": [
       "\n",
       "    <div>\n",
       "      \n",
       "      <progress value='4' max='4' style='width:300px; height:20px; vertical-align: middle;'></progress>\n",
       "      [4/4 00:10]\n",
       "    </div>\n",
       "    "
      ],
      "text/plain": [
       "<IPython.core.display.HTML object>"
      ]
     },
     "metadata": {},
     "output_type": "display_data"
    },
    {
     "name": "stderr",
     "output_type": "stream",
     "text": [
      "Setting TOKENIZERS_PARALLELISM=false for forked processes.\n"
     ]
    },
    {
     "name": "stdout",
     "output_type": "stream",
     "text": [
      "Testing ai_label...\n"
     ]
    },
    {
     "data": {
      "application/vnd.jupyter.widget-view+json": {
       "model_id": "573b45aaa57b477480b2436c3aab6ec2",
       "version_major": 2,
       "version_minor": 0
      },
      "text/plain": [
       "Tokenizing ai_label (num_proc=8):   0%|          | 0/720 [00:00<?, ? examples/s]"
      ]
     },
     "metadata": {},
     "output_type": "display_data"
    },
    {
     "name": "stderr",
     "output_type": "stream",
     "text": [
      "Setting TOKENIZERS_PARALLELISM=false for forked processes.\n"
     ]
    },
    {
     "data": {
      "application/vnd.jupyter.widget-view+json": {
       "model_id": "7939a781917349f6809ed253d8dd6edd",
       "version_major": 2,
       "version_minor": 0
      },
      "text/plain": [
       "Tokenizing ai_label (num_proc=8):   0%|          | 0/80 [00:00<?, ? examples/s]"
      ]
     },
     "metadata": {},
     "output_type": "display_data"
    },
    {
     "name": "stderr",
     "output_type": "stream",
     "text": [
      "Setting TOKENIZERS_PARALLELISM=false for forked processes.\n"
     ]
    },
    {
     "data": {
      "application/vnd.jupyter.widget-view+json": {
       "model_id": "80e5bf97c49c4b969143b5df45773ac1",
       "version_major": 2,
       "version_minor": 0
      },
      "text/plain": [
       "Tokenizing ai_label (num_proc=8):   0%|          | 0/200 [00:00<?, ? examples/s]"
      ]
     },
     "metadata": {},
     "output_type": "display_data"
    },
    {
     "name": "stderr",
     "output_type": "stream",
     "text": [
      "Some weights of DistilBertForSequenceClassification were not initialized from the model checkpoint at distilbert-base-uncased and are newly initialized: ['classifier.bias', 'classifier.weight', 'pre_classifier.bias', 'pre_classifier.weight']\n",
      "You should probably TRAIN this model on a down-stream task to be able to use it for predictions and inference.\n"
     ]
    },
    {
     "data": {
      "text/html": [
       "\n",
       "    <div>\n",
       "      \n",
       "      <progress value='45' max='45' style='width:300px; height:20px; vertical-align: middle;'></progress>\n",
       "      [45/45 04:03, Epoch 1/1]\n",
       "    </div>\n",
       "    <table border=\"1\" class=\"dataframe\">\n",
       "  <thead>\n",
       " <tr style=\"text-align: left;\">\n",
       "      <th>Step</th>\n",
       "      <th>Training Loss</th>\n",
       "    </tr>\n",
       "  </thead>\n",
       "  <tbody>\n",
       "  </tbody>\n",
       "</table><p>"
      ],
      "text/plain": [
       "<IPython.core.display.HTML object>"
      ]
     },
     "metadata": {},
     "output_type": "display_data"
    },
    {
     "data": {
      "text/html": [
       "\n",
       "    <div>\n",
       "      \n",
       "      <progress value='7' max='7' style='width:300px; height:20px; vertical-align: middle;'></progress>\n",
       "      [7/7 00:14]\n",
       "    </div>\n",
       "    "
      ],
      "text/plain": [
       "<IPython.core.display.HTML object>"
      ]
     },
     "metadata": {},
     "output_type": "display_data"
    },
    {
     "name": "stdout",
     "output_type": "stream",
     "text": [
      "Total time for all experiments: 440.17 seconds\n"
     ]
    },
    {
     "data": {
      "text/html": [
       "<div>\n",
       "<style scoped>\n",
       "    .dataframe tbody tr th:only-of-type {\n",
       "        vertical-align: middle;\n",
       "    }\n",
       "\n",
       "    .dataframe tbody tr th {\n",
       "        vertical-align: top;\n",
       "    }\n",
       "\n",
       "    .dataframe thead th {\n",
       "        text-align: right;\n",
       "    }\n",
       "</style>\n",
       "<table border=\"1\" class=\"dataframe\">\n",
       "  <thead>\n",
       "    <tr style=\"text-align: right;\">\n",
       "      <th></th>\n",
       "      <th>dataset</th>\n",
       "      <th>eval_loss</th>\n",
       "      <th>eval_accuracy</th>\n",
       "      <th>eval_f1_weighted</th>\n",
       "      <th>eval_precision_weighted</th>\n",
       "      <th>eval_recall_weighted</th>\n",
       "      <th>eval_roc_auc</th>\n",
       "      <th>eval_average_precision</th>\n",
       "      <th>eval_runtime</th>\n",
       "      <th>eval_samples_per_second</th>\n",
       "      <th>eval_steps_per_second</th>\n",
       "      <th>epoch</th>\n",
       "    </tr>\n",
       "  </thead>\n",
       "  <tbody>\n",
       "    <tr>\n",
       "      <th>0</th>\n",
       "      <td>human_label</td>\n",
       "      <td>2.705281</td>\n",
       "      <td>0.658333</td>\n",
       "      <td>0.522697</td>\n",
       "      <td>0.433403</td>\n",
       "      <td>0.658333</td>\n",
       "      <td>0.769991</td>\n",
       "      <td>0.613153</td>\n",
       "      <td>14.1836</td>\n",
       "      <td>8.460</td>\n",
       "      <td>0.282</td>\n",
       "      <td>1.0</td>\n",
       "    </tr>\n",
       "    <tr>\n",
       "      <th>1</th>\n",
       "      <td>ai_label</td>\n",
       "      <td>1.898472</td>\n",
       "      <td>0.800000</td>\n",
       "      <td>0.799520</td>\n",
       "      <td>0.809394</td>\n",
       "      <td>0.800000</td>\n",
       "      <td>0.880602</td>\n",
       "      <td>0.868940</td>\n",
       "      <td>17.1120</td>\n",
       "      <td>11.688</td>\n",
       "      <td>0.409</td>\n",
       "      <td>1.0</td>\n",
       "    </tr>\n",
       "  </tbody>\n",
       "</table>\n",
       "</div>"
      ],
      "text/plain": [
       "       dataset  eval_loss  eval_accuracy  eval_f1_weighted  \\\n",
       "0  human_label   2.705281       0.658333          0.522697   \n",
       "1     ai_label   1.898472       0.800000          0.799520   \n",
       "\n",
       "   eval_precision_weighted  eval_recall_weighted  eval_roc_auc  \\\n",
       "0                 0.433403              0.658333      0.769991   \n",
       "1                 0.809394              0.800000      0.880602   \n",
       "\n",
       "   eval_average_precision  eval_runtime  eval_samples_per_second  \\\n",
       "0                0.613153       14.1836                    8.460   \n",
       "1                0.868940       17.1120                   11.688   \n",
       "\n",
       "   eval_steps_per_second  epoch  \n",
       "0                  0.282    1.0  \n",
       "1                  0.409    1.0  "
      ]
     },
     "metadata": {},
     "output_type": "display_data"
    }
   ],
   "source": [
    "os.environ.setdefault(\"TOKENIZERS_PARALLELISM\", \"true\")\n",
    "# Load tokenizer\n",
    "checkpoint = \"distilbert-base-uncased\"\n",
    "tokenizer = AutoTokenizer.from_pretrained(checkpoint)\n",
    "\n",
    "data_collator = DataCollatorWithPadding(\n",
    "    tokenizer=tokenizer,\n",
    "    pad_to_multiple_of=8 if torch.cuda.is_available() else None,\n",
    ")\n",
    "\n",
    "human_dataset = split_data(human_label, \"anxiety_level\", test_size=0.2, val_size=0.1, random_state=42)\n",
    "ai_dataset = split_data(ai_label, \"anxiety_level\", test_size=0.2, val_size=0.1, random_state=42)\n",
    "\n",
    "configs = [\n",
    "    (human_dataset, \"human_label\"),\n",
    "    (ai_dataset, \"ai_label\")\n",
    "]\n",
    "\n",
    "num_proc = max(1, min(os.cpu_count() or 1, 8))\n",
    "tokenized_cache = {}\n",
    "model_cache = {}\n",
    "\n",
    "start_time = time.time()\n",
    "df_list, metrics_result = [], []\n",
    "print(\"Starting experiments...\")\n",
    "\n",
    "for dataset, dataset_name in configs:\n",
    "    print(f\"Testing {dataset_name}...\")\n",
    "\n",
    "    cache_key = (dataset_name)\n",
    "    if cache_key not in tokenized_cache:\n",
    "        map_kwargs = dict(\n",
    "            batched=True,\n",
    "            load_from_cache_file=True,\n",
    "            desc=f\"Tokenizing {dataset_name}\",\n",
    "        )\n",
    "        if num_proc > 1:\n",
    "            map_kwargs[\"num_proc\"] = num_proc\n",
    "\n",
    "        tokenized_dataset = dataset.map(partial(tokenize, text_col=\"text_all\"), **map_kwargs)\n",
    "        tokenized_dataset = tokenized_dataset.rename_column(\"anxiety_level\", \"labels\")\n",
    "        tokenized_dataset = tokenized_dataset.with_format(\"torch\")\n",
    "        tokenized_cache[cache_key] = tokenized_dataset\n",
    "    else:\n",
    "        tokenized_dataset = tokenized_cache[cache_key]\n",
    "\n",
    "    num_labels = len(set(tokenized_dataset[\"train\"][\"labels\"]))\n",
    "    if num_labels not in model_cache:\n",
    "        model_cache[num_labels] = DistilBertForSequenceClassification.from_pretrained(\n",
    "            checkpoint, num_labels=num_labels\n",
    "        )\n",
    "    model = deepcopy(model_cache[num_labels])\n",
    "\n",
    "    # simple args for quick testing\n",
    "    args = TrainingArguments(\n",
    "    output_dir=f\".ipynb_checkpoints/distilbert_dataset_{dataset_name}\",\n",
    "    save_strategy=\"no\",\n",
    "    learning_rate=7e-5,\n",
    "    per_device_train_batch_size=16,\n",
    "    per_device_eval_batch_size=32,\n",
    "    num_train_epochs=1,\n",
    "    weight_decay=0.0,\n",
    "    logging_strategy=\"no\",\n",
    "    )\n",
    "\n",
    "    trainer = Trainer(\n",
    "        model=model,\n",
    "        args=args,\n",
    "        train_dataset=tokenized_dataset[\"train\"],\n",
    "        eval_dataset=tokenized_dataset[\"validation\"],\n",
    "        processing_class=tokenizer,\n",
    "        data_collator=data_collator,\n",
    "        compute_metrics=compute_metrics,\n",
    "    )\n",
    "\n",
    "    trainer.train()\n",
    "    metrics = trainer.evaluate(tokenized_dataset[\"test\"])\n",
    "\n",
    "    df_list.append(dataset_name)\n",
    "    metrics_result.append(metrics)\n",
    "\n",
    "total_time = time.time() - start_time\n",
    "print(f\"Total time for all experiments: {total_time:.2f} seconds\")\n",
    "\n",
    "metrics_df = pd.DataFrame(metrics_result)\n",
    "metrics_df[\"dataset\"] = df_list\n",
    "metrics_df = metrics_df[\n",
    "    [\"dataset\"]\n",
    "    + [col for col in metrics_df.columns if col not in {\"dataset\"}]\n",
    "]\n",
    "display(metrics_df)"
   ]
  },
  {
   "cell_type": "markdown",
   "id": "4133b6e5",
   "metadata": {},
   "source": [
    "## **5. Ablation Testing on Stop Words**\n",
    "\n",
    "**Purpose**: Using Customized Stop Words with TF-IDF generated Stop Words as the baseline pipeline, then systematically remove pieces (drop TF-IDF, then drop stop words) while keeping everything else fixed and compare the resulting performance."
   ]
  },
  {
   "cell_type": "markdown",
   "id": "62cad529",
   "metadata": {},
   "source": [
    "**Key Finding** \n",
    "- The AI-labeled runs outperform the human-labeled runs on every metric we tracked:\n",
    "    - Higher accuracy (0.80 vs 0.66), \n",
    "    - Weighted F1 (0.80 vs 0.52), \n",
    "    - ROC AUC at 0.88 vs 0.77\n",
    "    - Average Precision at 0.87 vs 0.61. \n",
    "    - This points to AI annotations being either cleaner or more in tune with DistilBERT’s inductive bias.\n",
    "- Given that consistent lift, we’ll move forward using the AI-labeled dataset for the enhanced training pipeline."
   ]
  },
  {
   "cell_type": "code",
   "execution_count": 10,
   "id": "4007989f",
   "metadata": {},
   "outputs": [
    {
     "name": "stdout",
     "output_type": "stream",
     "text": [
      "Extracting stop words...\n",
      "Preprocessing text...\n",
      "Data preprocessing time: 76.18 seconds\n",
      "Loaded 1,000 submissions\n"
     ]
    },
    {
     "data": {
      "text/html": [
       "<div>\n",
       "<style scoped>\n",
       "    .dataframe tbody tr th:only-of-type {\n",
       "        vertical-align: middle;\n",
       "    }\n",
       "\n",
       "    .dataframe tbody tr th {\n",
       "        vertical-align: top;\n",
       "    }\n",
       "\n",
       "    .dataframe thead th {\n",
       "        text-align: right;\n",
       "    }\n",
       "</style>\n",
       "<table border=\"1\" class=\"dataframe\">\n",
       "  <thead>\n",
       "    <tr style=\"text-align: right;\">\n",
       "      <th></th>\n",
       "      <th>subreddit</th>\n",
       "      <th>text_all</th>\n",
       "      <th>anxiety_level</th>\n",
       "      <th>text_all_processed</th>\n",
       "      <th>text_all_processed_tfidf</th>\n",
       "    </tr>\n",
       "  </thead>\n",
       "  <tbody>\n",
       "    <tr>\n",
       "      <th>244</th>\n",
       "      <td>unpopularopinion</td>\n",
       "      <td>no, tour fave animation/cartoon would not have...</td>\n",
       "      <td>0</td>\n",
       "      <td>tour fave anim cartoon better children network...</td>\n",
       "      <td>anim titl state everi aim kid air cartoonnetwo...</td>\n",
       "    </tr>\n",
       "    <tr>\n",
       "      <th>728</th>\n",
       "      <td>unpopularopinion</td>\n",
       "      <td>the real cause of the cost of living crisis is...</td>\n",
       "      <td>0</td>\n",
       "      <td>real caus cost live crisi fiat monetari someon...</td>\n",
       "      <td>real caus live crisi monetari someon someon ha...</td>\n",
       "    </tr>\n",
       "  </tbody>\n",
       "</table>\n",
       "</div>"
      ],
      "text/plain": [
       "            subreddit                                           text_all  \\\n",
       "244  unpopularopinion  no, tour fave animation/cartoon would not have...   \n",
       "728  unpopularopinion  the real cause of the cost of living crisis is...   \n",
       "\n",
       "     anxiety_level                                 text_all_processed  \\\n",
       "244              0  tour fave anim cartoon better children network...   \n",
       "728              0  real caus cost live crisi fiat monetari someon...   \n",
       "\n",
       "                              text_all_processed_tfidf  \n",
       "244  anim titl state everi aim kid air cartoonnetwo...  \n",
       "728  real caus live crisi monetari someon someon ha...  "
      ]
     },
     "execution_count": 10,
     "metadata": {},
     "output_type": "execute_result"
    }
   ],
   "source": [
    "import sys\n",
    "sys.path.append(\"../src\") \n",
    "\n",
    "import text_processing_functions as tp\n",
    "start_time = time.time()\n",
    "print(\"Extracting stop words...\")\n",
    "_, _, stopwords_tfidf = tp.process_text_fordistilBERT(\n",
    "    \"\\n\\n\".join(raw_data[\"text_all\"].astype(str)),\n",
    "    tfidf=True,\n",
    "    return_stopwords=True,\n",
    ")\n",
    "\n",
    "_, _, stopwords = tp.process_text_fordistilBERT(\n",
    "     \"\\n\\n\".join(raw_data[\"text_all\"].astype(str)),\n",
    "    tfidf=False,\n",
    "    return_stopwords=True,\n",
    ")\n",
    "\n",
    "\n",
    "print(\"Preprocessing text...\")\n",
    "ai_label[\"text_all_processed\"] = (\n",
    "    ai_label[\"text_all\"]\n",
    "    .fillna(\"\")\n",
    "    .apply(lambda doc: tp.process_text(doc, extra_stopwords=stopwords))\n",
    "    .apply(lambda toks: \" \".join(toks))\n",
    ")\n",
    "ai_label[\"text_all_processed_tfidf\"] = (\n",
    "    ai_label[\"text_all\"]\n",
    "    .fillna(\"\")\n",
    "    .apply(lambda doc: tp.process_text_tfidf(doc, extra_stopwords=stopwords))\n",
    "    .apply(lambda toks: \" \".join(toks))\n",
    ")\n",
    "\n",
    "\n",
    "print(f\"Data preprocessing time: {time.time() - start_time:.2f} seconds\")\n",
    "print(f\"Loaded {len(ai_label):,} submissions\")\n",
    "ai_label.head(2)"
   ]
  },
  {
   "cell_type": "code",
   "execution_count": 11,
   "id": "d98147ee",
   "metadata": {},
   "outputs": [
    {
     "name": "stderr",
     "output_type": "stream",
     "text": [
      "Setting TOKENIZERS_PARALLELISM=false for forked processes.\n"
     ]
    },
    {
     "name": "stdout",
     "output_type": "stream",
     "text": [
      "Starting experiments...\n",
      "Testing TF-IDF Stop Words...\n"
     ]
    },
    {
     "data": {
      "application/vnd.jupyter.widget-view+json": {
       "model_id": "7a33e78cdd3e4dbeac328e1a15f00d3d",
       "version_major": 2,
       "version_minor": 0
      },
      "text/plain": [
       "Tokenizing TF-IDF Stop Words (num_proc=8):   0%|          | 0/720 [00:00<?, ? examples/s]"
      ]
     },
     "metadata": {},
     "output_type": "display_data"
    },
    {
     "name": "stderr",
     "output_type": "stream",
     "text": [
      "Setting TOKENIZERS_PARALLELISM=false for forked processes.\n"
     ]
    },
    {
     "data": {
      "application/vnd.jupyter.widget-view+json": {
       "model_id": "1eaa677a37dc490e8284e441d71c0ad9",
       "version_major": 2,
       "version_minor": 0
      },
      "text/plain": [
       "Tokenizing TF-IDF Stop Words (num_proc=8):   0%|          | 0/80 [00:00<?, ? examples/s]"
      ]
     },
     "metadata": {},
     "output_type": "display_data"
    },
    {
     "name": "stderr",
     "output_type": "stream",
     "text": [
      "Setting TOKENIZERS_PARALLELISM=false for forked processes.\n"
     ]
    },
    {
     "data": {
      "application/vnd.jupyter.widget-view+json": {
       "model_id": "e44a27b9f0c747e3ba184c9392a712ab",
       "version_major": 2,
       "version_minor": 0
      },
      "text/plain": [
       "Tokenizing TF-IDF Stop Words (num_proc=8):   0%|          | 0/200 [00:00<?, ? examples/s]"
      ]
     },
     "metadata": {},
     "output_type": "display_data"
    },
    {
     "name": "stderr",
     "output_type": "stream",
     "text": [
      "Some weights of DistilBertForSequenceClassification were not initialized from the model checkpoint at distilbert-base-uncased and are newly initialized: ['classifier.bias', 'classifier.weight', 'pre_classifier.bias', 'pre_classifier.weight']\n",
      "You should probably TRAIN this model on a down-stream task to be able to use it for predictions and inference.\n"
     ]
    },
    {
     "data": {
      "text/html": [
       "\n",
       "    <div>\n",
       "      \n",
       "      <progress value='45' max='45' style='width:300px; height:20px; vertical-align: middle;'></progress>\n",
       "      [45/45 03:05, Epoch 1/1]\n",
       "    </div>\n",
       "    <table border=\"1\" class=\"dataframe\">\n",
       "  <thead>\n",
       " <tr style=\"text-align: left;\">\n",
       "      <th>Step</th>\n",
       "      <th>Training Loss</th>\n",
       "    </tr>\n",
       "  </thead>\n",
       "  <tbody>\n",
       "  </tbody>\n",
       "</table><p>"
      ],
      "text/plain": [
       "<IPython.core.display.HTML object>"
      ]
     },
     "metadata": {},
     "output_type": "display_data"
    },
    {
     "data": {
      "text/html": [
       "\n",
       "    <div>\n",
       "      \n",
       "      <progress value='7' max='7' style='width:300px; height:20px; vertical-align: middle;'></progress>\n",
       "      [7/7 00:11]\n",
       "    </div>\n",
       "    "
      ],
      "text/plain": [
       "<IPython.core.display.HTML object>"
      ]
     },
     "metadata": {},
     "output_type": "display_data"
    },
    {
     "name": "stderr",
     "output_type": "stream",
     "text": [
      "Setting TOKENIZERS_PARALLELISM=false for forked processes.\n"
     ]
    },
    {
     "name": "stdout",
     "output_type": "stream",
     "text": [
      "Testing Stop Words...\n"
     ]
    },
    {
     "data": {
      "application/vnd.jupyter.widget-view+json": {
       "model_id": "35b27460115849689470238643356c96",
       "version_major": 2,
       "version_minor": 0
      },
      "text/plain": [
       "Tokenizing Stop Words (num_proc=8):   0%|          | 0/720 [00:00<?, ? examples/s]"
      ]
     },
     "metadata": {},
     "output_type": "display_data"
    },
    {
     "name": "stderr",
     "output_type": "stream",
     "text": [
      "Setting TOKENIZERS_PARALLELISM=false for forked processes.\n"
     ]
    },
    {
     "data": {
      "application/vnd.jupyter.widget-view+json": {
       "model_id": "237ddf646a384f26882486b3d88e1a42",
       "version_major": 2,
       "version_minor": 0
      },
      "text/plain": [
       "Tokenizing Stop Words (num_proc=8):   0%|          | 0/80 [00:00<?, ? examples/s]"
      ]
     },
     "metadata": {},
     "output_type": "display_data"
    },
    {
     "name": "stderr",
     "output_type": "stream",
     "text": [
      "Setting TOKENIZERS_PARALLELISM=false for forked processes.\n"
     ]
    },
    {
     "data": {
      "application/vnd.jupyter.widget-view+json": {
       "model_id": "683483007d9c4c5da10a28d61d224975",
       "version_major": 2,
       "version_minor": 0
      },
      "text/plain": [
       "Tokenizing Stop Words (num_proc=8):   0%|          | 0/200 [00:00<?, ? examples/s]"
      ]
     },
     "metadata": {},
     "output_type": "display_data"
    },
    {
     "data": {
      "text/html": [
       "\n",
       "    <div>\n",
       "      \n",
       "      <progress value='45' max='45' style='width:300px; height:20px; vertical-align: middle;'></progress>\n",
       "      [45/45 03:12, Epoch 1/1]\n",
       "    </div>\n",
       "    <table border=\"1\" class=\"dataframe\">\n",
       "  <thead>\n",
       " <tr style=\"text-align: left;\">\n",
       "      <th>Step</th>\n",
       "      <th>Training Loss</th>\n",
       "    </tr>\n",
       "  </thead>\n",
       "  <tbody>\n",
       "  </tbody>\n",
       "</table><p>"
      ],
      "text/plain": [
       "<IPython.core.display.HTML object>"
      ]
     },
     "metadata": {},
     "output_type": "display_data"
    },
    {
     "data": {
      "text/html": [
       "\n",
       "    <div>\n",
       "      \n",
       "      <progress value='7' max='7' style='width:300px; height:20px; vertical-align: middle;'></progress>\n",
       "      [7/7 00:14]\n",
       "    </div>\n",
       "    "
      ],
      "text/plain": [
       "<IPython.core.display.HTML object>"
      ]
     },
     "metadata": {},
     "output_type": "display_data"
    },
    {
     "name": "stderr",
     "output_type": "stream",
     "text": [
      "Setting TOKENIZERS_PARALLELISM=false for forked processes.\n"
     ]
    },
    {
     "name": "stdout",
     "output_type": "stream",
     "text": [
      "Testing No Stop Words...\n"
     ]
    },
    {
     "data": {
      "application/vnd.jupyter.widget-view+json": {
       "model_id": "7726c80e9a9243688dce735d0aa692cd",
       "version_major": 2,
       "version_minor": 0
      },
      "text/plain": [
       "Tokenizing No Stop Words (num_proc=8):   0%|          | 0/720 [00:00<?, ? examples/s]"
      ]
     },
     "metadata": {},
     "output_type": "display_data"
    },
    {
     "name": "stderr",
     "output_type": "stream",
     "text": [
      "Setting TOKENIZERS_PARALLELISM=false for forked processes.\n"
     ]
    },
    {
     "data": {
      "application/vnd.jupyter.widget-view+json": {
       "model_id": "5c81dcb9c90e4428a29c2c7b761fdc66",
       "version_major": 2,
       "version_minor": 0
      },
      "text/plain": [
       "Tokenizing No Stop Words (num_proc=8):   0%|          | 0/80 [00:00<?, ? examples/s]"
      ]
     },
     "metadata": {},
     "output_type": "display_data"
    },
    {
     "name": "stderr",
     "output_type": "stream",
     "text": [
      "Setting TOKENIZERS_PARALLELISM=false for forked processes.\n"
     ]
    },
    {
     "data": {
      "application/vnd.jupyter.widget-view+json": {
       "model_id": "57e8be734467418d8b6170fb8fb97ddc",
       "version_major": 2,
       "version_minor": 0
      },
      "text/plain": [
       "Tokenizing No Stop Words (num_proc=8):   0%|          | 0/200 [00:00<?, ? examples/s]"
      ]
     },
     "metadata": {},
     "output_type": "display_data"
    },
    {
     "data": {
      "text/html": [
       "\n",
       "    <div>\n",
       "      \n",
       "      <progress value='45' max='45' style='width:300px; height:20px; vertical-align: middle;'></progress>\n",
       "      [45/45 03:45, Epoch 1/1]\n",
       "    </div>\n",
       "    <table border=\"1\" class=\"dataframe\">\n",
       "  <thead>\n",
       " <tr style=\"text-align: left;\">\n",
       "      <th>Step</th>\n",
       "      <th>Training Loss</th>\n",
       "    </tr>\n",
       "  </thead>\n",
       "  <tbody>\n",
       "  </tbody>\n",
       "</table><p>"
      ],
      "text/plain": [
       "<IPython.core.display.HTML object>"
      ]
     },
     "metadata": {},
     "output_type": "display_data"
    },
    {
     "data": {
      "text/html": [
       "\n",
       "    <div>\n",
       "      \n",
       "      <progress value='7' max='7' style='width:300px; height:20px; vertical-align: middle;'></progress>\n",
       "      [7/7 00:12]\n",
       "    </div>\n",
       "    "
      ],
      "text/plain": [
       "<IPython.core.display.HTML object>"
      ]
     },
     "metadata": {},
     "output_type": "display_data"
    },
    {
     "name": "stdout",
     "output_type": "stream",
     "text": [
      "Total time for all experiments: 672.84 seconds\n"
     ]
    },
    {
     "data": {
      "text/html": [
       "<div>\n",
       "<style scoped>\n",
       "    .dataframe tbody tr th:only-of-type {\n",
       "        vertical-align: middle;\n",
       "    }\n",
       "\n",
       "    .dataframe tbody tr th {\n",
       "        vertical-align: top;\n",
       "    }\n",
       "\n",
       "    .dataframe thead th {\n",
       "        text-align: right;\n",
       "    }\n",
       "</style>\n",
       "<table border=\"1\" class=\"dataframe\">\n",
       "  <thead>\n",
       "    <tr style=\"text-align: right;\">\n",
       "      <th></th>\n",
       "      <th>stop_word</th>\n",
       "      <th>eval_loss</th>\n",
       "      <th>eval_accuracy</th>\n",
       "      <th>eval_f1_weighted</th>\n",
       "      <th>eval_precision_weighted</th>\n",
       "      <th>eval_recall_weighted</th>\n",
       "      <th>eval_roc_auc</th>\n",
       "      <th>eval_average_precision</th>\n",
       "      <th>eval_runtime</th>\n",
       "      <th>eval_samples_per_second</th>\n",
       "      <th>eval_steps_per_second</th>\n",
       "      <th>epoch</th>\n",
       "    </tr>\n",
       "  </thead>\n",
       "  <tbody>\n",
       "    <tr>\n",
       "      <th>0</th>\n",
       "      <td>TF-IDF Stop Words</td>\n",
       "      <td>1.841260</td>\n",
       "      <td>0.61</td>\n",
       "      <td>0.55650</td>\n",
       "      <td>0.672180</td>\n",
       "      <td>0.61</td>\n",
       "      <td>0.701654</td>\n",
       "      <td>0.688436</td>\n",
       "      <td>14.0586</td>\n",
       "      <td>14.226</td>\n",
       "      <td>0.498</td>\n",
       "      <td>1.0</td>\n",
       "    </tr>\n",
       "    <tr>\n",
       "      <th>1</th>\n",
       "      <td>Stop Words</td>\n",
       "      <td>1.914606</td>\n",
       "      <td>0.53</td>\n",
       "      <td>0.37256</td>\n",
       "      <td>0.752010</td>\n",
       "      <td>0.53</td>\n",
       "      <td>0.740551</td>\n",
       "      <td>0.733555</td>\n",
       "      <td>18.0171</td>\n",
       "      <td>11.101</td>\n",
       "      <td>0.389</td>\n",
       "      <td>1.0</td>\n",
       "    </tr>\n",
       "    <tr>\n",
       "      <th>2</th>\n",
       "      <td>No Stop Words</td>\n",
       "      <td>1.898472</td>\n",
       "      <td>0.80</td>\n",
       "      <td>0.79952</td>\n",
       "      <td>0.809394</td>\n",
       "      <td>0.80</td>\n",
       "      <td>0.880602</td>\n",
       "      <td>0.868940</td>\n",
       "      <td>15.6868</td>\n",
       "      <td>12.750</td>\n",
       "      <td>0.446</td>\n",
       "      <td>1.0</td>\n",
       "    </tr>\n",
       "  </tbody>\n",
       "</table>\n",
       "</div>"
      ],
      "text/plain": [
       "           stop_word  eval_loss  eval_accuracy  eval_f1_weighted  \\\n",
       "0  TF-IDF Stop Words   1.841260           0.61           0.55650   \n",
       "1         Stop Words   1.914606           0.53           0.37256   \n",
       "2      No Stop Words   1.898472           0.80           0.79952   \n",
       "\n",
       "   eval_precision_weighted  eval_recall_weighted  eval_roc_auc  \\\n",
       "0                 0.672180                  0.61      0.701654   \n",
       "1                 0.752010                  0.53      0.740551   \n",
       "2                 0.809394                  0.80      0.880602   \n",
       "\n",
       "   eval_average_precision  eval_runtime  eval_samples_per_second  \\\n",
       "0                0.688436       14.0586                   14.226   \n",
       "1                0.733555       18.0171                   11.101   \n",
       "2                0.868940       15.6868                   12.750   \n",
       "\n",
       "   eval_steps_per_second  epoch  \n",
       "0                  0.498    1.0  \n",
       "1                  0.389    1.0  \n",
       "2                  0.446    1.0  "
      ]
     },
     "metadata": {},
     "output_type": "display_data"
    }
   ],
   "source": [
    "comparing_dict = [\n",
    "    (\"TF-IDF Stop Words\", \"text_all_processed_tfidf\",),\n",
    "    (\"Stop Words\", \"text_all_processed\",),\n",
    "    (\"No Stop Words\", \"text_all\"),\n",
    "]\n",
    "\n",
    "num_proc = max(1, min(os.cpu_count() or 1, 8))\n",
    "tokenized_cache = {}\n",
    "model_cache = {}\n",
    "\n",
    "start_time = time.time()\n",
    "stop_word_list, metrics_result = [], []\n",
    "print(\"Starting experiments...\")\n",
    "\n",
    "for stop_words_name, text_col in comparing_dict:\n",
    "    print(f\"Testing {stop_words_name}...\")\n",
    "\n",
    "    ai_dataset_processed = split_data(ai_label, \"anxiety_level\", test_size=0.2, val_size=0.1, random_state=42)\n",
    "\n",
    "    cache_key = (stop_words_name)\n",
    "    if cache_key not in tokenized_cache:\n",
    "        map_kwargs = dict(\n",
    "            batched=True,\n",
    "            load_from_cache_file=True,\n",
    "            desc=f\"Tokenizing {stop_words_name}\",\n",
    "        )\n",
    "        if num_proc > 1:\n",
    "            map_kwargs[\"num_proc\"] = num_proc\n",
    "\n",
    "        tokenized_dataset = ai_dataset_processed.map(partial(tokenize, text_col=text_col), **map_kwargs)\n",
    "        tokenized_dataset = tokenized_dataset.rename_column(\"anxiety_level\", \"labels\")\n",
    "        tokenized_dataset = tokenized_dataset.with_format(\"torch\")\n",
    "        tokenized_cache[cache_key] = tokenized_dataset\n",
    "    else:\n",
    "        tokenized_dataset = tokenized_cache[cache_key]\n",
    "\n",
    "    num_labels = len(set(tokenized_dataset[\"train\"][\"labels\"]))\n",
    "    if num_labels not in model_cache:\n",
    "        model_cache[num_labels] = DistilBertForSequenceClassification.from_pretrained(\n",
    "            checkpoint, num_labels=num_labels\n",
    "        )\n",
    "    model = deepcopy(model_cache[num_labels])\n",
    "\n",
    "    # simple args for quick testing\n",
    "    args = TrainingArguments(\n",
    "    output_dir=f\".ipynb_checkpoints/distilbert_stopwords_{stop_words_name}\",\n",
    "    save_strategy=\"no\",\n",
    "    learning_rate=7e-5,\n",
    "    per_device_train_batch_size=16,\n",
    "    per_device_eval_batch_size=32,\n",
    "    num_train_epochs=1,\n",
    "    weight_decay=0.0,\n",
    "    logging_strategy=\"no\",\n",
    "    )\n",
    "\n",
    "    trainer = Trainer(\n",
    "        model=model,\n",
    "        args=args,\n",
    "        train_dataset=tokenized_dataset[\"train\"],\n",
    "        eval_dataset=tokenized_dataset[\"validation\"],\n",
    "        processing_class=tokenizer,\n",
    "        data_collator=data_collator,\n",
    "        compute_metrics=compute_metrics,\n",
    "    )\n",
    "\n",
    "    trainer.train()\n",
    "    metrics = trainer.evaluate(tokenized_dataset[\"test\"])\n",
    "\n",
    "    stop_word_list.append(stop_words_name)\n",
    "    metrics_result.append(metrics)\n",
    "\n",
    "total_time = time.time() - start_time\n",
    "print(f\"Total time for all experiments: {total_time:.2f} seconds\")\n",
    "\n",
    "metrics_df = pd.DataFrame(metrics_result)\n",
    "metrics_df[\"stop_word\"] = stop_word_list\n",
    "metrics_df = metrics_df[\n",
    "    [\"stop_word\"]\n",
    "    + [col for col in metrics_df.columns if col not in {\"stop_word\"}]\n",
    "]\n",
    "display(metrics_df)"
   ]
  },
  {
   "cell_type": "markdown",
   "id": "8098b2d5",
   "metadata": {},
   "source": [
    "**Key Finding**\n",
    "- TF-IDF-augmented stop list lands at 60% accuracy/F1≈0.54, so the model struggles to separate classes. \n",
    "- Plain stop words only drops further to 53% accuracy with heavily imbalanced predictions (precision high because it sticks to one label). \n",
    "- No-stop-word preprocessing gives 80% accuracy and weighted F1 almost 0.80, plus the strongest ROC-AUC and average precision.\n",
    "\n",
    "**Conclusion**\\\n",
    "We will use **No Stop Words** preprocessing because it provides the highest accuracy (0.80), best weighted F1 (~0.80), strongest ROC-AUC and average precision, and balanced precision/recall—so the model predicts both classes well without discarding potentially informative tokens."
   ]
  },
  {
   "cell_type": "markdown",
   "id": "c2917655",
   "metadata": {},
   "source": [
    "## **6. Hyperparameter Tuning**\n",
    "\n",
    "**Purpose**: Improve models' performance by hyperparameter tuning."
   ]
  },
  {
   "cell_type": "code",
   "execution_count": 12,
   "id": "dc23264a",
   "metadata": {},
   "outputs": [
    {
     "name": "stdout",
     "output_type": "stream",
     "text": [
      "Training with epochs=5, lr=0.0001, weight_decay=0.01\n"
     ]
    },
    {
     "data": {
      "text/html": [
       "\n",
       "    <div>\n",
       "      \n",
       "      <progress value='225' max='225' style='width:300px; height:20px; vertical-align: middle;'></progress>\n",
       "      [225/225 18:00, Epoch 5/5]\n",
       "    </div>\n",
       "    <table border=\"1\" class=\"dataframe\">\n",
       "  <thead>\n",
       " <tr style=\"text-align: left;\">\n",
       "      <th>Step</th>\n",
       "      <th>Training Loss</th>\n",
       "    </tr>\n",
       "  </thead>\n",
       "  <tbody>\n",
       "    <tr>\n",
       "      <td>45</td>\n",
       "      <td>2.237600</td>\n",
       "    </tr>\n",
       "    <tr>\n",
       "      <td>90</td>\n",
       "      <td>0.472000</td>\n",
       "    </tr>\n",
       "    <tr>\n",
       "      <td>135</td>\n",
       "      <td>0.290200</td>\n",
       "    </tr>\n",
       "    <tr>\n",
       "      <td>180</td>\n",
       "      <td>0.130700</td>\n",
       "    </tr>\n",
       "    <tr>\n",
       "      <td>225</td>\n",
       "      <td>0.047700</td>\n",
       "    </tr>\n",
       "  </tbody>\n",
       "</table><p>"
      ],
      "text/plain": [
       "<IPython.core.display.HTML object>"
      ]
     },
     "metadata": {},
     "output_type": "display_data"
    },
    {
     "data": {
      "text/html": [
       "\n",
       "    <div>\n",
       "      \n",
       "      <progress value='7' max='7' style='width:300px; height:20px; vertical-align: middle;'></progress>\n",
       "      [7/7 00:14]\n",
       "    </div>\n",
       "    "
      ],
      "text/plain": [
       "<IPython.core.display.HTML object>"
      ]
     },
     "metadata": {},
     "output_type": "display_data"
    },
    {
     "name": "stdout",
     "output_type": "stream",
     "text": [
      "Training with epochs=3, lr=3e-05, weight_decay=0.03\n"
     ]
    },
    {
     "data": {
      "text/html": [
       "\n",
       "    <div>\n",
       "      \n",
       "      <progress value='135' max='135' style='width:300px; height:20px; vertical-align: middle;'></progress>\n",
       "      [135/135 09:11, Epoch 3/3]\n",
       "    </div>\n",
       "    <table border=\"1\" class=\"dataframe\">\n",
       "  <thead>\n",
       " <tr style=\"text-align: left;\">\n",
       "      <th>Step</th>\n",
       "      <th>Training Loss</th>\n",
       "    </tr>\n",
       "  </thead>\n",
       "  <tbody>\n",
       "    <tr>\n",
       "      <td>45</td>\n",
       "      <td>0.050100</td>\n",
       "    </tr>\n",
       "    <tr>\n",
       "      <td>90</td>\n",
       "      <td>0.034200</td>\n",
       "    </tr>\n",
       "    <tr>\n",
       "      <td>135</td>\n",
       "      <td>0.028100</td>\n",
       "    </tr>\n",
       "  </tbody>\n",
       "</table><p>"
      ],
      "text/plain": [
       "<IPython.core.display.HTML object>"
      ]
     },
     "metadata": {},
     "output_type": "display_data"
    },
    {
     "data": {
      "text/html": [
       "\n",
       "    <div>\n",
       "      \n",
       "      <progress value='7' max='7' style='width:300px; height:20px; vertical-align: middle;'></progress>\n",
       "      [7/7 00:16]\n",
       "    </div>\n",
       "    "
      ],
      "text/plain": [
       "<IPython.core.display.HTML object>"
      ]
     },
     "metadata": {},
     "output_type": "display_data"
    },
    {
     "name": "stdout",
     "output_type": "stream",
     "text": [
      "Training with epochs=2, lr=5e-05, weight_decay=0.05\n"
     ]
    },
    {
     "data": {
      "text/html": [
       "\n",
       "    <div>\n",
       "      \n",
       "      <progress value='90' max='90' style='width:300px; height:20px; vertical-align: middle;'></progress>\n",
       "      [90/90 05:59, Epoch 2/2]\n",
       "    </div>\n",
       "    <table border=\"1\" class=\"dataframe\">\n",
       "  <thead>\n",
       " <tr style=\"text-align: left;\">\n",
       "      <th>Step</th>\n",
       "      <th>Training Loss</th>\n",
       "    </tr>\n",
       "  </thead>\n",
       "  <tbody>\n",
       "    <tr>\n",
       "      <td>45</td>\n",
       "      <td>0.073300</td>\n",
       "    </tr>\n",
       "    <tr>\n",
       "      <td>90</td>\n",
       "      <td>0.020900</td>\n",
       "    </tr>\n",
       "  </tbody>\n",
       "</table><p>"
      ],
      "text/plain": [
       "<IPython.core.display.HTML object>"
      ]
     },
     "metadata": {},
     "output_type": "display_data"
    },
    {
     "data": {
      "text/html": [
       "\n",
       "    <div>\n",
       "      \n",
       "      <progress value='7' max='7' style='width:300px; height:20px; vertical-align: middle;'></progress>\n",
       "      [7/7 00:13]\n",
       "    </div>\n",
       "    "
      ],
      "text/plain": [
       "<IPython.core.display.HTML object>"
      ]
     },
     "metadata": {},
     "output_type": "display_data"
    },
    {
     "name": "stdout",
     "output_type": "stream",
     "text": [
      "Total time for hyperparameter tuning: 2060.54 seconds\n"
     ]
    },
    {
     "data": {
      "text/html": [
       "<div>\n",
       "<style scoped>\n",
       "    .dataframe tbody tr th:only-of-type {\n",
       "        vertical-align: middle;\n",
       "    }\n",
       "\n",
       "    .dataframe tbody tr th {\n",
       "        vertical-align: top;\n",
       "    }\n",
       "\n",
       "    .dataframe thead th {\n",
       "        text-align: right;\n",
       "    }\n",
       "</style>\n",
       "<table border=\"1\" class=\"dataframe\">\n",
       "  <thead>\n",
       "    <tr style=\"text-align: right;\">\n",
       "      <th></th>\n",
       "      <th>epochs</th>\n",
       "      <th>learning_rate</th>\n",
       "      <th>weight_decay</th>\n",
       "      <th>eval_loss</th>\n",
       "      <th>eval_accuracy</th>\n",
       "      <th>eval_f1_weighted</th>\n",
       "      <th>eval_precision_weighted</th>\n",
       "      <th>eval_recall_weighted</th>\n",
       "      <th>eval_roc_auc</th>\n",
       "      <th>eval_average_precision</th>\n",
       "      <th>eval_runtime</th>\n",
       "      <th>eval_samples_per_second</th>\n",
       "      <th>eval_steps_per_second</th>\n",
       "      <th>epoch</th>\n",
       "    </tr>\n",
       "  </thead>\n",
       "  <tbody>\n",
       "    <tr>\n",
       "      <th>0</th>\n",
       "      <td>5</td>\n",
       "      <td>0.00010</td>\n",
       "      <td>0.01</td>\n",
       "      <td>0.676881</td>\n",
       "      <td>0.825</td>\n",
       "      <td>0.825109</td>\n",
       "      <td>0.826250</td>\n",
       "      <td>0.825</td>\n",
       "      <td>0.918797</td>\n",
       "      <td>0.924937</td>\n",
       "      <td>16.9286</td>\n",
       "      <td>11.814</td>\n",
       "      <td>0.414</td>\n",
       "      <td>5.0</td>\n",
       "    </tr>\n",
       "    <tr>\n",
       "      <th>1</th>\n",
       "      <td>3</td>\n",
       "      <td>0.00003</td>\n",
       "      <td>0.03</td>\n",
       "      <td>0.944471</td>\n",
       "      <td>0.830</td>\n",
       "      <td>0.829898</td>\n",
       "      <td>0.835800</td>\n",
       "      <td>0.830</td>\n",
       "      <td>0.927268</td>\n",
       "      <td>0.931781</td>\n",
       "      <td>19.6021</td>\n",
       "      <td>10.203</td>\n",
       "      <td>0.357</td>\n",
       "      <td>3.0</td>\n",
       "    </tr>\n",
       "    <tr>\n",
       "      <th>2</th>\n",
       "      <td>2</td>\n",
       "      <td>0.00005</td>\n",
       "      <td>0.05</td>\n",
       "      <td>1.021022</td>\n",
       "      <td>0.830</td>\n",
       "      <td>0.829762</td>\n",
       "      <td>0.837721</td>\n",
       "      <td>0.830</td>\n",
       "      <td>0.928020</td>\n",
       "      <td>0.930515</td>\n",
       "      <td>16.3620</td>\n",
       "      <td>12.223</td>\n",
       "      <td>0.428</td>\n",
       "      <td>2.0</td>\n",
       "    </tr>\n",
       "  </tbody>\n",
       "</table>\n",
       "</div>"
      ],
      "text/plain": [
       "   epochs  learning_rate  weight_decay  eval_loss  eval_accuracy  \\\n",
       "0       5        0.00010          0.01   0.676881          0.825   \n",
       "1       3        0.00003          0.03   0.944471          0.830   \n",
       "2       2        0.00005          0.05   1.021022          0.830   \n",
       "\n",
       "   eval_f1_weighted  eval_precision_weighted  eval_recall_weighted  \\\n",
       "0          0.825109                 0.826250                 0.825   \n",
       "1          0.829898                 0.835800                 0.830   \n",
       "2          0.829762                 0.837721                 0.830   \n",
       "\n",
       "   eval_roc_auc  eval_average_precision  eval_runtime  \\\n",
       "0      0.918797                0.924937       16.9286   \n",
       "1      0.927268                0.931781       19.6021   \n",
       "2      0.928020                0.930515       16.3620   \n",
       "\n",
       "   eval_samples_per_second  eval_steps_per_second  epoch  \n",
       "0                   11.814                  0.414    5.0  \n",
       "1                   10.203                  0.357    3.0  \n",
       "2                   12.223                  0.428    2.0  "
      ]
     },
     "metadata": {},
     "output_type": "display_data"
    }
   ],
   "source": [
    "# using cached tokenized dataset and model to do final training\n",
    "tokenized_dataset = tokenized_cache[(\"No Stop Words\")]\n",
    "model = deepcopy(model_cache[len(set(tokenized_dataset[\"train\"][\"labels\"]))])\n",
    "\n",
    "# Due to limited time and computation capacity, we only try 3 sets of hyperparameters\n",
    "epochs_list = [5, 3, 2]\n",
    "learning_rate_list = [1e-4, 3e-5, 5e-5]\n",
    "weight_decay_list = [0.01, 0.03, 0.05]\n",
    "\n",
    "use_cuda_fp16 = torch.cuda.is_available()\n",
    "\n",
    "\n",
    "epoch_result, learning_rate_result, weight_decay_result, metrics_result = [], [], [], []\n",
    "start_time = time.time()\n",
    "for i in range(len(epochs_list)):\n",
    "    epochs = epochs_list[i]\n",
    "    lr = learning_rate_list[i]\n",
    "    wd = weight_decay_list[i]\n",
    "    print(f\"Training with epochs={epochs}, lr={lr}, weight_decay={wd}\")\n",
    "    args = TrainingArguments(\n",
    "        output_dir=f\".ipynb_checkpoints/distilbert_hyperparam_{i}\",\n",
    "        save_strategy=\"epoch\",\n",
    "        learning_rate=lr,\n",
    "        per_device_train_batch_size=16,\n",
    "        per_device_eval_batch_size=32,\n",
    "        num_train_epochs=epochs,\n",
    "        weight_decay=wd,\n",
    "        logging_strategy=\"epoch\",\n",
    "        fp16=use_cuda_fp16\n",
    "    )\n",
    "\n",
    "    trainer = Trainer(\n",
    "        model=model,\n",
    "        args=args,\n",
    "        train_dataset=tokenized_dataset[\"train\"],\n",
    "        eval_dataset=tokenized_dataset[\"validation\"],\n",
    "        processing_class=tokenizer,\n",
    "        data_collator=data_collator,\n",
    "        compute_metrics=compute_metrics,\n",
    "    )\n",
    "\n",
    "    trainer.train()\n",
    "    trainer.save_model(args.output_dir)\n",
    "    tokenizer.save_pretrained(args.output_dir)\n",
    "    metrics = trainer.evaluate(tokenized_dataset[\"test\"])\n",
    "    epoch_result.append(epochs)\n",
    "    learning_rate_result.append(lr)\n",
    "    weight_decay_result.append(wd)\n",
    "    metrics_result.append(metrics)\n",
    "\n",
    "total_time = time.time() - start_time\n",
    "print(f\"Total time for hyperparameter tuning: {total_time:.2f} seconds\")\n",
    "\n",
    "metrics_comparison = pd.DataFrame(metrics_result)\n",
    "metrics_comparison[\"epochs\"] = epoch_result\n",
    "metrics_comparison[\"learning_rate\"] = learning_rate_result\n",
    "metrics_comparison[\"weight_decay\"] = weight_decay_result\n",
    "metrics_comparison = metrics_comparison[\n",
    "    [\"epochs\", \"learning_rate\", \"weight_decay\"]\n",
    "    + [col for col in metrics_comparison.columns if col not in {\"epochs\", \"learning_rate\", \"weight_decay\"}]\n",
    "]\n",
    "display(metrics_comparison)"
   ]
  },
  {
   "cell_type": "markdown",
   "id": "0e51109f",
   "metadata": {},
   "source": [
    "**Key Findings**\n",
    "- Configuration #1 (5 epochs, lr=1e-4, weight decay=0.01) shows lower eval loss but slightly worse discriminative ability, suggesting it may be slightly over-calibrated or less confident in positive predictions.\n",
    "- Configuration #2 (3 epochs, lr = 3e-5, weight decay = 0.03) achieves the best ranking metrics (highest ROC-AUC = 0.927, AP = 0.930), meaning it most effectively separates classes and retrieves positives. Although its evaluation loss is slightly higher than Config #1, this indicates only a small difference in probability calibration—not a meaningful drop in predictive quality.\n",
    "- Configuration #3 (2 epochs, lr=5e-5, weight decay=0.05) underperforms both, showing higher loss and no gain in metrics despite stronger regularization (weight decay = 0.05).\n",
    "\n",
    "**Conclusion**\n",
    "- Configuration #2 is recommended. It delivers the best overall discriminative performance (highest ROC-AUC and AP) while maintaining solid accuracy and F1. The small trade-off in evaluation loss is acceptable, as ranking metrics better capture real-world performance for imbalanced or nuanced classification tasks."
   ]
  },
  {
   "cell_type": "markdown",
   "id": "f0eced07",
   "metadata": {},
   "source": [
    "## **7. Training Data Comparison**\n",
    "\n",
    "**Purpose**: Compare model's performance with different training size ratio."
   ]
  },
  {
   "cell_type": "code",
   "execution_count": 20,
   "id": "574f26cc",
   "metadata": {},
   "outputs": [
    {
     "name": "stderr",
     "output_type": "stream",
     "text": [
      "Setting TOKENIZERS_PARALLELISM=false for forked processes.\n"
     ]
    },
    {
     "name": "stdout",
     "output_type": "stream",
     "text": [
      "Training size fraction: 0.3\n"
     ]
    },
    {
     "data": {
      "application/vnd.jupyter.widget-view+json": {
       "model_id": "2eb76cb10cad44a393dc8aa8a8da52f5",
       "version_major": 2,
       "version_minor": 0
      },
      "text/plain": [
       "Tokenizing No Stop Words (num_proc=8):   0%|          | 0/270 [00:00<?, ? examples/s]"
      ]
     },
     "metadata": {},
     "output_type": "display_data"
    },
    {
     "name": "stderr",
     "output_type": "stream",
     "text": [
      "Setting TOKENIZERS_PARALLELISM=false for forked processes.\n"
     ]
    },
    {
     "data": {
      "application/vnd.jupyter.widget-view+json": {
       "model_id": "5fc5c435589040f3932b72e0095fdc13",
       "version_major": 2,
       "version_minor": 0
      },
      "text/plain": [
       "Tokenizing No Stop Words (num_proc=8):   0%|          | 0/30 [00:00<?, ? examples/s]"
      ]
     },
     "metadata": {},
     "output_type": "display_data"
    },
    {
     "name": "stderr",
     "output_type": "stream",
     "text": [
      "Setting TOKENIZERS_PARALLELISM=false for forked processes.\n"
     ]
    },
    {
     "data": {
      "application/vnd.jupyter.widget-view+json": {
       "model_id": "ff5785b05be4411c94749991e39483f9",
       "version_major": 2,
       "version_minor": 0
      },
      "text/plain": [
       "Tokenizing No Stop Words (num_proc=8):   0%|          | 0/700 [00:00<?, ? examples/s]"
      ]
     },
     "metadata": {},
     "output_type": "display_data"
    },
    {
     "data": {
      "text/html": [
       "\n",
       "    <div>\n",
       "      \n",
       "      <progress value='51' max='51' style='width:300px; height:20px; vertical-align: middle;'></progress>\n",
       "      [51/51 03:58, Epoch 3/3]\n",
       "    </div>\n",
       "    <table border=\"1\" class=\"dataframe\">\n",
       "  <thead>\n",
       " <tr style=\"text-align: left;\">\n",
       "      <th>Step</th>\n",
       "      <th>Training Loss</th>\n",
       "    </tr>\n",
       "  </thead>\n",
       "  <tbody>\n",
       "    <tr>\n",
       "      <td>17</td>\n",
       "      <td>4.649200</td>\n",
       "    </tr>\n",
       "    <tr>\n",
       "      <td>34</td>\n",
       "      <td>3.288500</td>\n",
       "    </tr>\n",
       "    <tr>\n",
       "      <td>51</td>\n",
       "      <td>2.760000</td>\n",
       "    </tr>\n",
       "  </tbody>\n",
       "</table><p>"
      ],
      "text/plain": [
       "<IPython.core.display.HTML object>"
      ]
     },
     "metadata": {},
     "output_type": "display_data"
    },
    {
     "data": {
      "text/html": [
       "\n",
       "    <div>\n",
       "      \n",
       "      <progress value='22' max='22' style='width:300px; height:20px; vertical-align: middle;'></progress>\n",
       "      [22/22 01:11]\n",
       "    </div>\n",
       "    "
      ],
      "text/plain": [
       "<IPython.core.display.HTML object>"
      ]
     },
     "metadata": {},
     "output_type": "display_data"
    },
    {
     "name": "stderr",
     "output_type": "stream",
     "text": [
      "Setting TOKENIZERS_PARALLELISM=false for forked processes.\n"
     ]
    },
    {
     "name": "stdout",
     "output_type": "stream",
     "text": [
      "Training size fraction: 0.5\n"
     ]
    },
    {
     "data": {
      "application/vnd.jupyter.widget-view+json": {
       "model_id": "dc0d3b106aab4e2795cf88996b19f940",
       "version_major": 2,
       "version_minor": 0
      },
      "text/plain": [
       "Tokenizing No Stop Words (num_proc=8):   0%|          | 0/450 [00:00<?, ? examples/s]"
      ]
     },
     "metadata": {},
     "output_type": "display_data"
    },
    {
     "name": "stderr",
     "output_type": "stream",
     "text": [
      "Setting TOKENIZERS_PARALLELISM=false for forked processes.\n"
     ]
    },
    {
     "data": {
      "application/vnd.jupyter.widget-view+json": {
       "model_id": "e673c127550c4247ae090470449b0ec9",
       "version_major": 2,
       "version_minor": 0
      },
      "text/plain": [
       "Tokenizing No Stop Words (num_proc=8):   0%|          | 0/50 [00:00<?, ? examples/s]"
      ]
     },
     "metadata": {},
     "output_type": "display_data"
    },
    {
     "name": "stderr",
     "output_type": "stream",
     "text": [
      "Setting TOKENIZERS_PARALLELISM=false for forked processes.\n"
     ]
    },
    {
     "data": {
      "application/vnd.jupyter.widget-view+json": {
       "model_id": "9aacbcd9094048e4b8ad76951a2e73fc",
       "version_major": 2,
       "version_minor": 0
      },
      "text/plain": [
       "Tokenizing No Stop Words (num_proc=8):   0%|          | 0/500 [00:00<?, ? examples/s]"
      ]
     },
     "metadata": {},
     "output_type": "display_data"
    },
    {
     "data": {
      "text/html": [
       "\n",
       "    <div>\n",
       "      \n",
       "      <progress value='87' max='87' style='width:300px; height:20px; vertical-align: middle;'></progress>\n",
       "      [87/87 06:47, Epoch 3/3]\n",
       "    </div>\n",
       "    <table border=\"1\" class=\"dataframe\">\n",
       "  <thead>\n",
       " <tr style=\"text-align: left;\">\n",
       "      <th>Step</th>\n",
       "      <th>Training Loss</th>\n",
       "    </tr>\n",
       "  </thead>\n",
       "  <tbody>\n",
       "    <tr>\n",
       "      <td>29</td>\n",
       "      <td>4.594400</td>\n",
       "    </tr>\n",
       "    <tr>\n",
       "      <td>58</td>\n",
       "      <td>2.681400</td>\n",
       "    </tr>\n",
       "    <tr>\n",
       "      <td>87</td>\n",
       "      <td>2.018700</td>\n",
       "    </tr>\n",
       "  </tbody>\n",
       "</table><p>"
      ],
      "text/plain": [
       "<IPython.core.display.HTML object>"
      ]
     },
     "metadata": {},
     "output_type": "display_data"
    },
    {
     "data": {
      "text/html": [
       "\n",
       "    <div>\n",
       "      \n",
       "      <progress value='16' max='16' style='width:300px; height:20px; vertical-align: middle;'></progress>\n",
       "      [16/16 00:50]\n",
       "    </div>\n",
       "    "
      ],
      "text/plain": [
       "<IPython.core.display.HTML object>"
      ]
     },
     "metadata": {},
     "output_type": "display_data"
    },
    {
     "name": "stderr",
     "output_type": "stream",
     "text": [
      "Setting TOKENIZERS_PARALLELISM=false for forked processes.\n"
     ]
    },
    {
     "name": "stdout",
     "output_type": "stream",
     "text": [
      "Training size fraction: 0.7\n"
     ]
    },
    {
     "data": {
      "application/vnd.jupyter.widget-view+json": {
       "model_id": "24c9495afe1f4562a4d912bd472f5b9b",
       "version_major": 2,
       "version_minor": 0
      },
      "text/plain": [
       "Tokenizing No Stop Words (num_proc=8):   0%|          | 0/629 [00:00<?, ? examples/s]"
      ]
     },
     "metadata": {},
     "output_type": "display_data"
    },
    {
     "name": "stderr",
     "output_type": "stream",
     "text": [
      "Setting TOKENIZERS_PARALLELISM=false for forked processes.\n"
     ]
    },
    {
     "data": {
      "application/vnd.jupyter.widget-view+json": {
       "model_id": "ed4facf957314be3abbafea9eab4485b",
       "version_major": 2,
       "version_minor": 0
      },
      "text/plain": [
       "Tokenizing No Stop Words (num_proc=8):   0%|          | 0/70 [00:00<?, ? examples/s]"
      ]
     },
     "metadata": {},
     "output_type": "display_data"
    },
    {
     "name": "stderr",
     "output_type": "stream",
     "text": [
      "Setting TOKENIZERS_PARALLELISM=false for forked processes.\n"
     ]
    },
    {
     "data": {
      "application/vnd.jupyter.widget-view+json": {
       "model_id": "71fc61117acc4fd6b1b9992133872406",
       "version_major": 2,
       "version_minor": 0
      },
      "text/plain": [
       "Tokenizing No Stop Words (num_proc=8):   0%|          | 0/301 [00:00<?, ? examples/s]"
      ]
     },
     "metadata": {},
     "output_type": "display_data"
    },
    {
     "data": {
      "text/html": [
       "\n",
       "    <div>\n",
       "      \n",
       "      <progress value='120' max='120' style='width:300px; height:20px; vertical-align: middle;'></progress>\n",
       "      [120/120 10:24, Epoch 3/3]\n",
       "    </div>\n",
       "    <table border=\"1\" class=\"dataframe\">\n",
       "  <thead>\n",
       " <tr style=\"text-align: left;\">\n",
       "      <th>Step</th>\n",
       "      <th>Training Loss</th>\n",
       "    </tr>\n",
       "  </thead>\n",
       "  <tbody>\n",
       "    <tr>\n",
       "      <td>40</td>\n",
       "      <td>4.412800</td>\n",
       "    </tr>\n",
       "    <tr>\n",
       "      <td>80</td>\n",
       "      <td>2.116200</td>\n",
       "    </tr>\n",
       "    <tr>\n",
       "      <td>120</td>\n",
       "      <td>1.305400</td>\n",
       "    </tr>\n",
       "  </tbody>\n",
       "</table><p>"
      ],
      "text/plain": [
       "<IPython.core.display.HTML object>"
      ]
     },
     "metadata": {},
     "output_type": "display_data"
    },
    {
     "data": {
      "text/html": [
       "\n",
       "    <div>\n",
       "      \n",
       "      <progress value='10' max='10' style='width:300px; height:20px; vertical-align: middle;'></progress>\n",
       "      [10/10 00:34]\n",
       "    </div>\n",
       "    "
      ],
      "text/plain": [
       "<IPython.core.display.HTML object>"
      ]
     },
     "metadata": {},
     "output_type": "display_data"
    },
    {
     "name": "stdout",
     "output_type": "stream",
     "text": [
      "Training size fraction: 0.9\n"
     ]
    },
    {
     "name": "stderr",
     "output_type": "stream",
     "text": [
      "Setting TOKENIZERS_PARALLELISM=false for forked processes.\n"
     ]
    },
    {
     "data": {
      "application/vnd.jupyter.widget-view+json": {
       "model_id": "0b77fc7178fe4642b9203ebd5cbf0cbc",
       "version_major": 2,
       "version_minor": 0
      },
      "text/plain": [
       "Tokenizing No Stop Words (num_proc=8):   0%|          | 0/810 [00:00<?, ? examples/s]"
      ]
     },
     "metadata": {},
     "output_type": "display_data"
    },
    {
     "name": "stderr",
     "output_type": "stream",
     "text": [
      "Setting TOKENIZERS_PARALLELISM=false for forked processes.\n"
     ]
    },
    {
     "data": {
      "application/vnd.jupyter.widget-view+json": {
       "model_id": "3aa509f1af4a4afb9ecbbf5fe21566f6",
       "version_major": 2,
       "version_minor": 0
      },
      "text/plain": [
       "Tokenizing No Stop Words (num_proc=8):   0%|          | 0/90 [00:00<?, ? examples/s]"
      ]
     },
     "metadata": {},
     "output_type": "display_data"
    },
    {
     "name": "stderr",
     "output_type": "stream",
     "text": [
      "Setting TOKENIZERS_PARALLELISM=false for forked processes.\n"
     ]
    },
    {
     "data": {
      "application/vnd.jupyter.widget-view+json": {
       "model_id": "60747caeead74b1786762043edbc28ae",
       "version_major": 2,
       "version_minor": 0
      },
      "text/plain": [
       "Tokenizing No Stop Words (num_proc=8):   0%|          | 0/100 [00:00<?, ? examples/s]"
      ]
     },
     "metadata": {},
     "output_type": "display_data"
    },
    {
     "data": {
      "text/html": [
       "\n",
       "    <div>\n",
       "      \n",
       "      <progress value='153' max='153' style='width:300px; height:20px; vertical-align: middle;'></progress>\n",
       "      [153/153 13:20, Epoch 3/3]\n",
       "    </div>\n",
       "    <table border=\"1\" class=\"dataframe\">\n",
       "  <thead>\n",
       " <tr style=\"text-align: left;\">\n",
       "      <th>Step</th>\n",
       "      <th>Training Loss</th>\n",
       "    </tr>\n",
       "  </thead>\n",
       "  <tbody>\n",
       "    <tr>\n",
       "      <td>51</td>\n",
       "      <td>4.228300</td>\n",
       "    </tr>\n",
       "    <tr>\n",
       "      <td>102</td>\n",
       "      <td>1.601200</td>\n",
       "    </tr>\n",
       "    <tr>\n",
       "      <td>153</td>\n",
       "      <td>0.811600</td>\n",
       "    </tr>\n",
       "  </tbody>\n",
       "</table><p>"
      ],
      "text/plain": [
       "<IPython.core.display.HTML object>"
      ]
     },
     "metadata": {},
     "output_type": "display_data"
    },
    {
     "data": {
      "text/html": [
       "\n",
       "    <div>\n",
       "      \n",
       "      <progress value='4' max='4' style='width:300px; height:20px; vertical-align: middle;'></progress>\n",
       "      [4/4 00:07]\n",
       "    </div>\n",
       "    "
      ],
      "text/plain": [
       "<IPython.core.display.HTML object>"
      ]
     },
     "metadata": {},
     "output_type": "display_data"
    },
    {
     "name": "stdout",
     "output_type": "stream",
     "text": [
      "Total time for hyperparameter tuning: 2314.79 seconds\n"
     ]
    },
    {
     "data": {
      "text/html": [
       "<div>\n",
       "<style scoped>\n",
       "    .dataframe tbody tr th:only-of-type {\n",
       "        vertical-align: middle;\n",
       "    }\n",
       "\n",
       "    .dataframe tbody tr th {\n",
       "        vertical-align: top;\n",
       "    }\n",
       "\n",
       "    .dataframe thead th {\n",
       "        text-align: right;\n",
       "    }\n",
       "</style>\n",
       "<table border=\"1\" class=\"dataframe\">\n",
       "  <thead>\n",
       "    <tr style=\"text-align: right;\">\n",
       "      <th></th>\n",
       "      <th>training_size_fraction</th>\n",
       "      <th>eval_loss</th>\n",
       "      <th>eval_accuracy</th>\n",
       "      <th>eval_f1_weighted</th>\n",
       "      <th>eval_precision_weighted</th>\n",
       "      <th>eval_recall_weighted</th>\n",
       "      <th>eval_roc_auc</th>\n",
       "      <th>eval_average_precision</th>\n",
       "      <th>eval_runtime</th>\n",
       "      <th>eval_samples_per_second</th>\n",
       "      <th>eval_steps_per_second</th>\n",
       "      <th>epoch</th>\n",
       "    </tr>\n",
       "  </thead>\n",
       "  <tbody>\n",
       "    <tr>\n",
       "      <th>0</th>\n",
       "      <td>0.3</td>\n",
       "      <td>2.598697</td>\n",
       "      <td>0.782857</td>\n",
       "      <td>0.781247</td>\n",
       "      <td>0.786554</td>\n",
       "      <td>0.782857</td>\n",
       "      <td>0.850103</td>\n",
       "      <td>0.823552</td>\n",
       "      <td>75.6573</td>\n",
       "      <td>9.252</td>\n",
       "      <td>0.291</td>\n",
       "      <td>3.0</td>\n",
       "    </tr>\n",
       "    <tr>\n",
       "      <th>1</th>\n",
       "      <td>0.5</td>\n",
       "      <td>1.829228</td>\n",
       "      <td>0.696000</td>\n",
       "      <td>0.665627</td>\n",
       "      <td>0.776730</td>\n",
       "      <td>0.696000</td>\n",
       "      <td>0.854962</td>\n",
       "      <td>0.842865</td>\n",
       "      <td>57.5484</td>\n",
       "      <td>8.688</td>\n",
       "      <td>0.278</td>\n",
       "      <td>3.0</td>\n",
       "    </tr>\n",
       "    <tr>\n",
       "      <th>2</th>\n",
       "      <td>0.7</td>\n",
       "      <td>1.137707</td>\n",
       "      <td>0.820598</td>\n",
       "      <td>0.820598</td>\n",
       "      <td>0.820598</td>\n",
       "      <td>0.820598</td>\n",
       "      <td>0.882519</td>\n",
       "      <td>0.882159</td>\n",
       "      <td>39.8438</td>\n",
       "      <td>7.555</td>\n",
       "      <td>0.251</td>\n",
       "      <td>3.0</td>\n",
       "    </tr>\n",
       "    <tr>\n",
       "      <th>3</th>\n",
       "      <td>0.9</td>\n",
       "      <td>0.634632</td>\n",
       "      <td>0.870000</td>\n",
       "      <td>0.870039</td>\n",
       "      <td>0.871645</td>\n",
       "      <td>0.870000</td>\n",
       "      <td>0.945112</td>\n",
       "      <td>0.951194</td>\n",
       "      <td>10.5634</td>\n",
       "      <td>9.467</td>\n",
       "      <td>0.379</td>\n",
       "      <td>3.0</td>\n",
       "    </tr>\n",
       "  </tbody>\n",
       "</table>\n",
       "</div>"
      ],
      "text/plain": [
       "   training_size_fraction  eval_loss  eval_accuracy  eval_f1_weighted  \\\n",
       "0                     0.3   2.598697       0.782857          0.781247   \n",
       "1                     0.5   1.829228       0.696000          0.665627   \n",
       "2                     0.7   1.137707       0.820598          0.820598   \n",
       "3                     0.9   0.634632       0.870000          0.870039   \n",
       "\n",
       "   eval_precision_weighted  eval_recall_weighted  eval_roc_auc  \\\n",
       "0                 0.786554              0.782857      0.850103   \n",
       "1                 0.776730              0.696000      0.854962   \n",
       "2                 0.820598              0.820598      0.882519   \n",
       "3                 0.871645              0.870000      0.945112   \n",
       "\n",
       "   eval_average_precision  eval_runtime  eval_samples_per_second  \\\n",
       "0                0.823552       75.6573                    9.252   \n",
       "1                0.842865       57.5484                    8.688   \n",
       "2                0.882159       39.8438                    7.555   \n",
       "3                0.951194       10.5634                    9.467   \n",
       "\n",
       "   eval_steps_per_second  epoch  \n",
       "0                  0.291    3.0  \n",
       "1                  0.278    3.0  \n",
       "2                  0.251    3.0  \n",
       "3                  0.379    3.0  "
      ]
     },
     "metadata": {},
     "output_type": "display_data"
    }
   ],
   "source": [
    "training_size = [0.3, 0.5, 0.7, 0.9]\n",
    "metrics_result = []\n",
    "num_proc = max(1, min(os.cpu_count() or 1, 8))\n",
    "use_cuda_fp16 = torch.cuda.is_available()\n",
    "\n",
    "start_time = time.time()\n",
    "\n",
    "for size in training_size:\n",
    "    print(f\"Training size fraction: {size}\")\n",
    "    dataset = split_data(ai_label, \"anxiety_level\", test_size=(1-size), val_size=0.1, random_state=42)\n",
    "\n",
    "    tokenized_dataset = dataset.map(partial(tokenize, text_col=\"text_all\"), **map_kwargs)\n",
    "    tokenized_dataset = tokenized_dataset.rename_column(\"anxiety_level\", \"labels\")\n",
    "    tokenized_dataset = tokenized_dataset.with_format(\"torch\")\n",
    "    \n",
    "    num_labels = len(set(tokenized_dataset[\"train\"][\"labels\"]))\n",
    "    if num_labels not in model_cache:\n",
    "        print('non')\n",
    "        model_cache[num_labels] = DistilBertForSequenceClassification.from_pretrained(\n",
    "            checkpoint, num_labels=num_labels\n",
    "        )\n",
    "    model = deepcopy(model_cache[num_labels])\n",
    "    \n",
    "    args = TrainingArguments(\n",
    "        output_dir=f\".ipynb_checkpoints/distilbert_hyperparam_{size}\",\n",
    "        save_strategy=\"epoch\",\n",
    "        learning_rate=3e-5,\n",
    "        per_device_train_batch_size=16,\n",
    "        per_device_eval_batch_size=32,\n",
    "        num_train_epochs=3,\n",
    "        weight_decay=0.03,\n",
    "        logging_strategy=\"epoch\",\n",
    "        fp16=use_cuda_fp16\n",
    "    )\n",
    "\n",
    "    trainer = Trainer(\n",
    "        model=model,\n",
    "        args=args,\n",
    "        train_dataset=tokenized_dataset[\"train\"],\n",
    "        eval_dataset=tokenized_dataset[\"validation\"],\n",
    "        processing_class=tokenizer,\n",
    "        data_collator=data_collator,\n",
    "        compute_metrics=compute_metrics,\n",
    "    )\n",
    "\n",
    "    trainer.train()\n",
    "    trainer.save_model(args.output_dir)\n",
    "    tokenizer.save_pretrained(args.output_dir)\n",
    "    metrics = trainer.evaluate(tokenized_dataset[\"test\"])\n",
    "    metrics_result.append(metrics)\n",
    "\n",
    "total_time = time.time() - start_time\n",
    "print(f\"Total time for hyperparameter tuning: {total_time:.2f} seconds\")\n",
    "\n",
    "metrics_comparison = pd.DataFrame(metrics_result)\n",
    "metrics_comparison[\"training_size_fraction\"] = training_size\n",
    "metrics_comparison = metrics_comparison[[\"training_size_fraction\"] + list(metrics_comparison.columns[:-1])]\n",
    "display(metrics_comparison)"
   ]
  },
  {
   "cell_type": "code",
   "execution_count": 21,
   "id": "3da97725",
   "metadata": {},
   "outputs": [
    {
     "data": {
      "text/plain": [
       "<matplotlib.legend.Legend at 0x3099b5d60>"
      ]
     },
     "execution_count": 21,
     "metadata": {},
     "output_type": "execute_result"
    },
    {
     "data": {
      "image/png": "[encoded data removed]",
      "text/plain": [
       "<Figure size 1000x600 with 1 Axes>"
      ]
     },
     "metadata": {},
     "output_type": "display_data"
    }
   ],
   "source": [
    "metrics_list = [\"accuracy\", \"f1_weighted\", \"precision_weighted\", \"recall_weighted\", \"roc_auc\", \"average_precision\"]\n",
    "color_list = sns.color_palette(\"husl\", len(metrics_list))\n",
    "\n",
    "plt.figure(figsize=(10, 6))\n",
    "for i, metric in enumerate(metrics_list):\n",
    "    plt.plot(metrics_comparison['training_size_fraction'], metrics_comparison['eval_'+metric], marker='o', label=metric, color=color_list[i])\n",
    "plt.title('Training Data Curves of DistilBERT', fontsize=12)\n",
    "plt.xlabel('Training Size Fraction', fontsize=10)\n",
    "plt.ylabel('Score', fontsize=10)\n",
    "plt.xticks(training_size)\n",
    "plt.legend()"
   ]
  },
  {
   "cell_type": "markdown",
   "id": "079be1fb",
   "metadata": {},
   "source": [
    "**Key Finding**\n",
    "- **30% train split**: Model is learning basic patterns but still has high error; underfitting due to limited data.\n",
    "- **50% train split**: Accuracy actually drops, suggesting noise or imbalance in the extra data; model unstable.\n",
    "- **70% train split**: Clear improvement—loss drops and ranking metrics rise; model benefits from broader training coverage.\n",
    "- **90% train split**: Strongest overall performance—loss lowest, accuracy and AUC highest; model generalizes better with more data.\n",
    "\n",
    "**Conclusion**\n",
    "- Adding more data continues to benefit the model. The metrics demonstrates steady performance gains up to 90% of the training data—lower loss, higher accuracy, and stronger ranking metrics. The model is not yet saturated, meaning additional high-quality data could still improve generalization and stability."
   ]
  },
  {
   "cell_type": "markdown",
   "id": "615e00d7",
   "metadata": {},
   "source": [
    "## **8. Conclusion, Limitation and Future Work**\n",
    "**Conclusion**\n",
    "- We compared the human-labeled and AI-labeled datasets and found that the AI-labeled data offered better performance, with ROC-AUC = 0.88 and AP = 0.87, indicating some inconsistency issues within the human-labeled dataset.\n",
    "- We conducted an ablation test on stop-word removal and found that using no stop words produced the best performance (ROC-AUC = 0.88, AP = 0.87), suggesting that DistilBERT performs better with raw, unprocessed text.\n",
    "- We performed hyperparameter tuning and found that Configuration #2 (epochs = 3, learning rate = 3e-5, weight decay = 0.03) achieved the best performance, with ROC-AUC = 0.927 and AP = 0.93.\n",
    "- Finally, we tested different training data fractions and observed that the model can be benefited by adding more data.\n",
    "\n",
    "**Limitations**\n",
    "- Subreddit imbalance persists: communities like HealthAnxiety appear far less in the AI-labeled data, so the model sees uneven exposure. That imbalance likely skews both evaluation and real-world predictions toward the dominant subreddits.\n",
    "- Annotation noise is uneven: AI- and human-labeled posts show different labeling quirks, and training on a single source risks inheriting its specific biases. We currently have limited understanding of how label errors propagate through the pipeline.\n",
    "- Scope of hyperparameter search is narrow: only three combinations of epochs, learning rate, and weight decay were explored, so the chosen configuration may not be optimal.\n",
    "\n",
    "**Future Work**\n",
    "- Balance subreddit representation via stratified sampling, weighted loss functions, or targeted data augmentation to reduce bias toward heavily represented communities.\n",
    "- Blend or adjudicate labels using both AI and human annotations, possibly introducing human-in-the-loop checks on the noisiest subreddits to curb source-specific bias.\n",
    "- Expand hyperparameter and architecture searches, including layer freezing, dropout, learning-rate schedules, and batch-size sweeps—and consider ensemble methods to tighten performance bounds.\n",
    "- This notebook was designed to run on Great Lakes to take advantage of faster computation, but incompatible package imports blocked that plan. With limited time we left the issue unresolved; given more runway, fixing the environment would let us exploit that extra compute for deeper hyperparameter sweeps, cross-validation, and subgroup-specific evaluations that could further improve model performance."
   ]
  }
 ],
 "metadata": {
  "kernelspec": {
   "display_name": "garden_env",
   "language": "python",
   "name": "python3"
  },
  "language_info": {
   "codemirror_mode": {
    "name": "ipython",
    "version": 3
   },
   "file_extension": ".py",
   "mimetype": "text/x-python",
   "name": "python",
   "nbconvert_exporter": "python",
   "pygments_lexer": "ipython3",
   "version": "3.12.4"
  }
 },
 "nbformat": 4,
 "nbformat_minor": 5
}

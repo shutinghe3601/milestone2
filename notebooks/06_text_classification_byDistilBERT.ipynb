{
 "cells": [
  {
   "cell_type": "markdown",
   "id": "4d8631e6",
   "metadata": {},
   "source": [
    "[← Previous: Dataset Comparison Analysis](05_dataset_comparison_analysis.ipynb)\n",
    "\n",
    "# **Text Classification by DistilBERT**\n",
    "\n",
    "**Purpose**: Explore using DistilBERT, a pretrained transformer model from Hugging Face, to classify the anxiety level (0-5 scale) for Reddit posts."
   ]
  },
  {
   "cell_type": "markdown",
   "id": "f672edad",
   "metadata": {},
   "source": [
    "## Table of Contents\n",
    "\n",
    "1. [Import Packages and Datasets](#1-import-packages-and-datasets)\n",
    "2. [Helper Functions](#2-helper-functions)\n",
    "3. [Text Examination](#3-text-examination)\n",
    "4. [Dataset Comparison](#4-dataset-comparison)\n",
    "5. [Hyperparameter Tuning](#5-hyperparameter-tuning)\n",
    "6. [Limitation and Future Work](#6-limitations-and-future-work)\n",
    "\n",
    "[Next: Random Forest Classification →](07_text_classification_random_forest.ipynb)\n"
   ]
  },
  {
   "cell_type": "markdown",
   "id": "39472af5",
   "metadata": {},
   "source": [
    "### **Executive Summary**\n",
    "\n",
    "**Key Findings**\n",
    "- Across the **human-labeled** and **AI-labeled** datasets, anxiety-level distributions shift considerably by subreddit, and several communities appear in different proportions overall. Those shifts can bias both model training and any head-to-head dataset comparison.\n",
    "- **Dataset Comparison**: The AI-labeled runs top the human-labeled runs on every metric, highlighted by a **ROC AUC at 0.881** and **Average Precision at 0.869**.\n",
    "- **Hyperparameter Tuning**: With just three combinations explored (time and compute constraints), Set #2 — 3 epochs, learning rate = 3e-5, weight decay = 0.03 — delivers the strongest ranking metrics, reaching **ROC-AUC 0.927** and **average precision 0.932**."
   ]
  },
  {
   "cell_type": "markdown",
   "id": "dec36894",
   "metadata": {},
   "source": [
    "---"
   ]
  },
  {
   "cell_type": "code",
   "execution_count": 1,
   "id": "a5d571dc",
   "metadata": {},
   "outputs": [],
   "source": [
    "# %pip install -r ../requirements.txt"
   ]
  },
  {
   "cell_type": "markdown",
   "id": "374a55a1",
   "metadata": {},
   "source": [
    "## **1. Import Packages and Datasets**\n",
    "\n",
    "**Purpose**: Import packages and load dataset.\n"
   ]
  },
  {
   "cell_type": "code",
   "execution_count": 16,
   "id": "87c28f9d",
   "metadata": {},
   "outputs": [],
   "source": [
    "import numpy as np\n",
    "import pandas as pd\n",
    "import torch\n",
    "from transformers import (AutoTokenizer,DistilBertForSequenceClassification,\n",
    "                          TrainingArguments, Trainer, DataCollatorWithPadding)                         \n",
    "from sklearn.model_selection import train_test_split\n",
    "from datasets import Dataset\n",
    "\n",
    "import sys\n",
    "sys.path.append('../src')\n",
    "import text_processing_functions as tp\n",
    "\n",
    "import time\n",
    "\n",
    "from sklearn.metrics import accuracy_score, precision_recall_fscore_support\n",
    "from transformers import set_seed\n",
    "import random\n",
    "\n",
    "seed = 42\n",
    "set_seed(seed)\n",
    "random.seed(seed)\n",
    "torch.manual_seed(seed)\n",
    "if torch.cuda.is_available():\n",
    "    torch.cuda.manual_seed_all(seed)\n",
    "\n",
    "import warnings\n",
    "from sklearn.exceptions import UndefinedMetricWarning\n",
    "\n",
    "warnings.filterwarnings(\"ignore\", category=UndefinedMetricWarning)\n",
    "\n",
    "from datasets import Dataset, DatasetDict\n",
    "from functools import partial\n",
    "import accelerate\n",
    "import os\n",
    "import time\n",
    "from copy import deepcopy\n",
    "from functools import partial\n"
   ]
  },
  {
   "cell_type": "code",
   "execution_count": 3,
   "id": "e8bed83e",
   "metadata": {},
   "outputs": [
    {
     "name": "stdout",
     "output_type": "stream",
     "text": [
      "<class 'pandas.core.frame.DataFrame'>\n",
      "RangeIndex: 599 entries, 0 to 598\n",
      "Data columns (total 3 columns):\n",
      " #   Column         Non-Null Count  Dtype \n",
      "---  ------         --------------  ----- \n",
      " 0   subreddit      599 non-null    object\n",
      " 1   text_all       599 non-null    object\n",
      " 2   anxiety_level  599 non-null    int64 \n",
      "dtypes: int64(1), object(2)\n",
      "memory usage: 14.2+ KB\n"
     ]
    },
    {
     "data": {
      "text/plain": [
       "None"
      ]
     },
     "metadata": {},
     "output_type": "display_data"
    },
    {
     "data": {
      "text/plain": [
       "subreddit\n",
       "unpopularopinion    81\n",
       "Anxiety             81\n",
       "TrueOffMyChest      79\n",
       "economy             78\n",
       "mentalhealth        75\n",
       "OpenAI              74\n",
       "GetMotivated        72\n",
       "HealthAnxiety       59\n",
       "Name: count, dtype: int64"
      ]
     },
     "metadata": {},
     "output_type": "display_data"
    },
    {
     "data": {
      "text/html": [
       "<div>\n",
       "<style scoped>\n",
       "    .dataframe tbody tr th:only-of-type {\n",
       "        vertical-align: middle;\n",
       "    }\n",
       "\n",
       "    .dataframe tbody tr th {\n",
       "        vertical-align: top;\n",
       "    }\n",
       "\n",
       "    .dataframe thead th {\n",
       "        text-align: right;\n",
       "    }\n",
       "</style>\n",
       "<table border=\"1\" class=\"dataframe\">\n",
       "  <thead>\n",
       "    <tr style=\"text-align: right;\">\n",
       "      <th></th>\n",
       "      <th>subreddit</th>\n",
       "      <th>text_all</th>\n",
       "      <th>anxiety_level</th>\n",
       "    </tr>\n",
       "  </thead>\n",
       "  <tbody>\n",
       "    <tr>\n",
       "      <th>0</th>\n",
       "      <td>HealthAnxiety</td>\n",
       "      <td>how do you stop thinking\\n\\nis today the day? ...</td>\n",
       "      <td>1</td>\n",
       "    </tr>\n",
       "    <tr>\n",
       "      <th>1</th>\n",
       "      <td>HealthAnxiety</td>\n",
       "      <td>mammogram\\n\\ni’m 42 and have suffered with hea...</td>\n",
       "      <td>1</td>\n",
       "    </tr>\n",
       "  </tbody>\n",
       "</table>\n",
       "</div>"
      ],
      "text/plain": [
       "       subreddit                                           text_all  \\\n",
       "0  HealthAnxiety  how do you stop thinking\\n\\nis today the day? ...   \n",
       "1  HealthAnxiety  mammogram\\n\\ni’m 42 and have suffered with hea...   \n",
       "\n",
       "   anxiety_level  \n",
       "0              1  \n",
       "1              1  "
      ]
     },
     "execution_count": 3,
     "metadata": {},
     "output_type": "execute_result"
    }
   ],
   "source": [
    "human_label = pd.read_csv('../data/processed/sample_human_labels.csv')\n",
    "human_label = human_label[['subreddit','text_all', 'anxiety_level']] #subreddit, column need to be tokenized and target\n",
    "display(human_label.info())\n",
    "display(human_label['subreddit'].value_counts())\n",
    "human_label.head(2)"
   ]
  },
  {
   "cell_type": "code",
   "execution_count": 4,
   "id": "092b4be8",
   "metadata": {},
   "outputs": [
    {
     "name": "stdout",
     "output_type": "stream",
     "text": [
      "<class 'pandas.core.frame.DataFrame'>\n",
      "RangeIndex: 1000 entries, 0 to 999\n",
      "Data columns (total 3 columns):\n",
      " #   Column         Non-Null Count  Dtype \n",
      "---  ------         --------------  ----- \n",
      " 0   subreddit      1000 non-null   object\n",
      " 1   text_all       1000 non-null   object\n",
      " 2   anxiety_level  1000 non-null   int64 \n",
      "dtypes: int64(1), object(2)\n",
      "memory usage: 23.6+ KB\n"
     ]
    },
    {
     "data": {
      "text/plain": [
       "None"
      ]
     },
     "metadata": {},
     "output_type": "display_data"
    },
    {
     "data": {
      "text/plain": [
       "subreddit\n",
       "unpopularopinion    157\n",
       "Anxiety             151\n",
       "TrueOffMyChest      143\n",
       "economy             140\n",
       "mentalhealth        125\n",
       "OpenAI              122\n",
       "GetMotivated        109\n",
       "HealthAnxiety        53\n",
       "Name: count, dtype: int64"
      ]
     },
     "metadata": {},
     "output_type": "display_data"
    },
    {
     "data": {
      "text/html": [
       "<div>\n",
       "<style scoped>\n",
       "    .dataframe tbody tr th:only-of-type {\n",
       "        vertical-align: middle;\n",
       "    }\n",
       "\n",
       "    .dataframe tbody tr th {\n",
       "        vertical-align: top;\n",
       "    }\n",
       "\n",
       "    .dataframe thead th {\n",
       "        text-align: right;\n",
       "    }\n",
       "</style>\n",
       "<table border=\"1\" class=\"dataframe\">\n",
       "  <thead>\n",
       "    <tr style=\"text-align: right;\">\n",
       "      <th></th>\n",
       "      <th>subreddit</th>\n",
       "      <th>text_all</th>\n",
       "      <th>anxiety_level</th>\n",
       "    </tr>\n",
       "  </thead>\n",
       "  <tbody>\n",
       "    <tr>\n",
       "      <th>0</th>\n",
       "      <td>economy</td>\n",
       "      <td>cre: the other real estate debacle developing</td>\n",
       "      <td>0</td>\n",
       "    </tr>\n",
       "    <tr>\n",
       "      <th>1</th>\n",
       "      <td>Anxiety</td>\n",
       "      <td>scared i have dementia or early onset or somet...</td>\n",
       "      <td>1</td>\n",
       "    </tr>\n",
       "  </tbody>\n",
       "</table>\n",
       "</div>"
      ],
      "text/plain": [
       "  subreddit                                           text_all  anxiety_level\n",
       "0   economy      cre: the other real estate debacle developing              0\n",
       "1   Anxiety  scared i have dementia or early onset or somet...              1"
      ]
     },
     "execution_count": 4,
     "metadata": {},
     "output_type": "execute_result"
    }
   ],
   "source": [
    "ai_label = pd.read_csv('../data/processed/simple_ai_labels.csv')\n",
    "ai_label['anxiety_level'] = np.where(ai_label['ai_severity']>=3, 1,0)\n",
    "\n",
    "raw_data = pd.read_parquet('../data/processed/reddit_anxiety_v1.parquet')\n",
    "ai_label = ai_label.merge(raw_data[['post_id', 'text_all']], on='post_id', how='left')\n",
    "ai_label = ai_label[['subreddit','text_all', 'anxiety_level']] # subreddit, column need to be tokenized and target\n",
    "display(ai_label.info())\n",
    "display(ai_label['subreddit'].value_counts())\n",
    "ai_label.head(2)"
   ]
  },
  {
   "cell_type": "markdown",
   "id": "53c80963",
   "metadata": {},
   "source": [
    "## **2. Helper Functions**\n",
    "\n",
    "**Purpose**: Provide utilities that support both text exploration and model training.\n"
   ]
  },
  {
   "cell_type": "code",
   "execution_count": 11,
   "id": "88051b08",
   "metadata": {},
   "outputs": [],
   "source": [
    "import matplotlib.pyplot as plt\n",
    "import seaborn as sns\n",
    "from sklearn.metrics import roc_auc_score, average_precision_score\n",
    "\n",
    "def examine_text(df, text_col, human_label=True):\n",
    "    df['text_length'] = df[text_col].apply(lambda x: len(x.split()))\n",
    "    df.sort_values('subreddit', ascending=False, inplace=True)\n",
    "    plt.figure(figsize=(12, 4))\n",
    "    sns.boxplot(data=df, x='subreddit', y='text_length')\n",
    "    if human_label:\n",
    "        plt.title('Distribution of Text Lengths (Human Labeled Data)')\n",
    "    else:\n",
    "        plt.title('Distribution of Text Lengths (AI Labeled Data)')\n",
    "    plt.xticks(rotation=90, fontsize=8)\n",
    "    plt.xlabel('Subreddit')\n",
    "    plt.ylabel('Number of Words')\n",
    "    plt.show()\n",
    "    df.drop(columns=['text_length'], inplace=True)\n",
    "\n",
    "def plot_anxiety_distribution_by_subreddit(df, subreddit_col=\"subreddit\", anxiety_col=\"anxiety_level\"):\n",
    "    \"\"\"\n",
    "    Plot the distribution of anxiety levels across subreddits.\n",
    "    \"\"\"\n",
    "    data = df.copy()\n",
    "\n",
    "    plt.figure(figsize=(12, 4))\n",
    "    sns.countplot(\n",
    "        data=data,\n",
    "        x=subreddit_col,\n",
    "        hue=anxiety_col,\n",
    "        order=data[subreddit_col].value_counts().index,\n",
    "        palette=\"viridis\"\n",
    "    )\n",
    "    plt.title(\"Anxiety Level Distribution by Subreddit\")\n",
    "    plt.xlabel(\"Subreddit\")\n",
    "    plt.ylabel(\"Number of Posts\")\n",
    "    plt.legend(title=\"Anxiety Level\")\n",
    "    plt.xticks(rotation=45, ha=\"right\")\n",
    "    plt.tight_layout()\n",
    "    plt.show()\n",
    "\n",
    "def plot_subreddit_ratios(df_left, df_right, label_left=\"Dataset A\", label_right=\"Dataset B\",\n",
    "                          subreddit_col=\"subreddit\", top_n=None):\n",
    "    \"\"\"\n",
    "    Compare subreddit representation (share of total rows) between two datasets.\n",
    "    \"\"\"\n",
    "    # Compute ratios\n",
    "    ratio_left = df_left[subreddit_col].value_counts(normalize=True)\n",
    "    ratio_right = df_right[subreddit_col].value_counts(normalize=True)\n",
    "\n",
    "    # Union of subreddits, optionally limited to most frequent overall\n",
    "    combined_counts = (df_left[subreddit_col].value_counts() +\n",
    "                       df_right[subreddit_col].value_counts()).sort_values(ascending=False)\n",
    "\n",
    "    if top_n is not None:\n",
    "        subreddits = combined_counts.head(top_n).index\n",
    "    else:\n",
    "        subreddits = combined_counts.index\n",
    "\n",
    "    # Build DataFrame for plotting\n",
    "    comparison = pd.DataFrame({\n",
    "        label_left: ratio_left.reindex(subreddits, fill_value=0),\n",
    "        label_right: ratio_right.reindex(subreddits, fill_value=0)\n",
    "    })\n",
    "\n",
    "    ax = comparison.plot(kind=\"bar\", figsize=(12, 4))\n",
    "    ax.set_title(\"Subreddit Share Comparison\")\n",
    "    ax.set_xlabel(\"Subreddit\")\n",
    "    ax.set_ylabel(\"Share of Dataset\")\n",
    "    ax.set_xticklabels(ax.get_xticklabels(), rotation=45, ha=\"right\")\n",
    "    plt.legend(title=\"Dataset\")\n",
    "    plt.tight_layout()\n",
    "    plt.show()\n",
    "\n",
    "def split_data(indf, target_col = 'anxiety_level', test_size=0.2, val_size=0.1, random_state=42):\n",
    "    \"\"\"\n",
    "    Split the dataframe into training, testing and validation sets.\n",
    "    \"\"\"\n",
    "    train_df, test_df = train_test_split(indf, test_size=test_size, random_state=random_state, stratify=indf[target_col])\n",
    "    train_val_df, val_df = train_test_split(train_df, test_size=val_size, random_state=random_state, stratify=train_df[target_col])\n",
    "\n",
    "    dataset = DatasetDict({\n",
    "        \"train\": Dataset.from_pandas(train_val_df.reset_index(drop=True)),\n",
    "        \"validation\": Dataset.from_pandas(val_df.reset_index(drop=True)),\n",
    "        \"test\": Dataset.from_pandas(test_df.reset_index(drop=True)),\n",
    "    })\n",
    "    return dataset\n",
    "\n",
    "# Tokenize the dataset\n",
    "def tokenize(batch, text_col):\n",
    "    return tokenizer(batch[text_col], truncation=True, padding=True)\n",
    "\n",
    "def compute_metrics(eval_pred):\n",
    "    logits, labels = eval_pred\n",
    "    logits = np.array(logits)\n",
    "    labels = np.array(labels)\n",
    "\n",
    "    if logits.ndim == 1:\n",
    "        logits = np.expand_dims(logits, -1)\n",
    "\n",
    "    preds = np.argmax(logits, axis=-1)\n",
    "\n",
    "    precision, recall, f1, _ = precision_recall_fscore_support(\n",
    "        labels,\n",
    "        preds,\n",
    "        average=\"weighted\",\n",
    "        zero_division=0,\n",
    "    )\n",
    "    accuracy = accuracy_score(labels, preds)\n",
    "\n",
    "    metrics = {\n",
    "        \"accuracy\": accuracy,\n",
    "        \"f1_weighted\": f1,\n",
    "        \"precision_weighted\": precision,\n",
    "        \"recall_weighted\": recall,\n",
    "    }\n",
    "    # Compute ROC AUC and Average Precision for binary classification\n",
    "    exp_logits = np.exp(logits - np.max(logits, axis=-1, keepdims=True))\n",
    "    probs = exp_logits / exp_logits.sum(axis=-1, keepdims=True)\n",
    "\n",
    "    prob_pos = probs[:, 1]\n",
    "    metrics[\"roc_auc\"] = roc_auc_score(labels, prob_pos)\n",
    "    metrics[\"average_precision\"] = average_precision_score(labels, prob_pos)\n",
    "\n",
    "    return metrics\n"
   ]
  },
  {
   "cell_type": "markdown",
   "id": "51e5a5e7",
   "metadata": {},
   "source": [
    "## **3. Text Examination**\n",
    "\n",
    "**Purpose**: Explore and understand the text data."
   ]
  },
  {
   "cell_type": "code",
   "execution_count": 12,
   "id": "48f7b131",
   "metadata": {},
   "outputs": [
    {
     "data": {
      "image/png": "[encoded data removed]",
      "text/plain": [
       "<Figure size 1200x400 with 1 Axes>"
      ]
     },
     "metadata": {},
     "output_type": "display_data"
    },
    {
     "data": {
      "image/png": "[encoded data removed]",
      "text/plain": [
       "<Figure size 1200x400 with 1 Axes>"
      ]
     },
     "metadata": {},
     "output_type": "display_data"
    }
   ],
   "source": [
    "examine_text(human_label, 'text_all')\n",
    "examine_text(ai_label, 'text_all')"
   ]
  },
  {
   "cell_type": "code",
   "execution_count": 13,
   "id": "1bdf2126",
   "metadata": {},
   "outputs": [
    {
     "data": {
      "image/png": "[encoded data removed]",
      "text/plain": [
       "<Figure size 1200x400 with 1 Axes>"
      ]
     },
     "metadata": {},
     "output_type": "display_data"
    },
    {
     "data": {
      "image/png": "[encoded data removed]",
      "text/plain": [
       "<Figure size 1200x400 with 1 Axes>"
      ]
     },
     "metadata": {},
     "output_type": "display_data"
    }
   ],
   "source": [
    "plot_anxiety_distribution_by_subreddit(df=human_label, subreddit_col=\"subreddit\", anxiety_col=\"anxiety_level\")\n",
    "plot_anxiety_distribution_by_subreddit(df=ai_label, subreddit_col=\"subreddit\", anxiety_col=\"anxiety_level\")"
   ]
  },
  {
   "cell_type": "code",
   "execution_count": 14,
   "id": "1507e18c",
   "metadata": {},
   "outputs": [
    {
     "data": {
      "image/png": "[encoded data removed]",
      "text/plain": [
       "<Figure size 1200x400 with 1 Axes>"
      ]
     },
     "metadata": {},
     "output_type": "display_data"
    }
   ],
   "source": [
    "plot_subreddit_ratios(human_label, ai_label, label_left=\"Human Labeled\", label_right=\"AI Labeled\", top_n=20)"
   ]
  },
  {
   "cell_type": "markdown",
   "id": "635ce712",
   "metadata": {},
   "source": [
    "**Key Findings**\n",
    "- **Text lengths** look similar across both datasets, with most posts under 500 words.\n",
    "- **Anxiety-level distributions** differ sharply by subreddit—especially for Anxiety, TrueOffMyChest, and HealthAnxiety. That gap could reflect instability in the AI labels, inconsistency in human labels, or how annotators’ fatigue and personal biases creep in when reading long batches of anxiety-related posts. \n",
    "- **Different subreddit-to-total ratios** also matter: HealthAnxiety shows up far less often in the AI-labeled set than in the human-labeled set. Looking just at subreddit shares, HealthAnxiety has a markedly smaller presence in the AI-labeled data, while unpopularopinion, Anxiety, TrueOffMyChest, and economy appear slightly more often. Because overall metrics average across all posts, this kind of imbalance can make one dataset look stronger or weaker for reasons unrelated to true model performance."
   ]
  },
  {
   "cell_type": "markdown",
   "id": "10333e87",
   "metadata": {},
   "source": [
    "## **4. Dataset Comparison**\n",
    "\n",
    "**Purpose**: Build a fast baseline model to compare human labels with AI-generated labels."
   ]
  },
  {
   "cell_type": "code",
   "execution_count": 17,
   "id": "92ecaa4a",
   "metadata": {},
   "outputs": [
    {
     "name": "stderr",
     "output_type": "stream",
     "text": [
      "Setting TOKENIZERS_PARALLELISM=false for forked processes.\n"
     ]
    },
    {
     "name": "stdout",
     "output_type": "stream",
     "text": [
      "Starting experiments...\n",
      "Testing human_label...\n"
     ]
    },
    {
     "data": {
      "application/vnd.jupyter.widget-view+json": {
       "model_id": "255220b146854535a62bb4dc376211f8",
       "version_major": 2,
       "version_minor": 0
      },
      "text/plain": [
       "Tokenizing human_label (num_proc=8):   0%|          | 0/431 [00:00<?, ? examples/s]"
      ]
     },
     "metadata": {},
     "output_type": "display_data"
    },
    {
     "name": "stderr",
     "output_type": "stream",
     "text": [
      "Setting TOKENIZERS_PARALLELISM=false for forked processes.\n"
     ]
    },
    {
     "data": {
      "application/vnd.jupyter.widget-view+json": {
       "model_id": "dc625ea4586342a48b42f81b9f3a6c4e",
       "version_major": 2,
       "version_minor": 0
      },
      "text/plain": [
       "Tokenizing human_label (num_proc=8):   0%|          | 0/48 [00:00<?, ? examples/s]"
      ]
     },
     "metadata": {},
     "output_type": "display_data"
    },
    {
     "name": "stderr",
     "output_type": "stream",
     "text": [
      "Setting TOKENIZERS_PARALLELISM=false for forked processes.\n"
     ]
    },
    {
     "data": {
      "application/vnd.jupyter.widget-view+json": {
       "model_id": "01d0d2af7c7a49c5ab0e41eb6029b282",
       "version_major": 2,
       "version_minor": 0
      },
      "text/plain": [
       "Tokenizing human_label (num_proc=8):   0%|          | 0/120 [00:00<?, ? examples/s]"
      ]
     },
     "metadata": {},
     "output_type": "display_data"
    },
    {
     "name": "stderr",
     "output_type": "stream",
     "text": [
      "Some weights of DistilBertForSequenceClassification were not initialized from the model checkpoint at distilbert-base-uncased and are newly initialized: ['classifier.bias', 'classifier.weight', 'pre_classifier.bias', 'pre_classifier.weight']\n",
      "You should probably TRAIN this model on a down-stream task to be able to use it for predictions and inference.\n"
     ]
    },
    {
     "data": {
      "text/html": [
       "\n",
       "    <div>\n",
       "      \n",
       "      <progress value='27' max='27' style='width:300px; height:20px; vertical-align: middle;'></progress>\n",
       "      [27/27 02:10, Epoch 1/1]\n",
       "    </div>\n",
       "    <table border=\"1\" class=\"dataframe\">\n",
       "  <thead>\n",
       " <tr style=\"text-align: left;\">\n",
       "      <th>Step</th>\n",
       "      <th>Training Loss</th>\n",
       "    </tr>\n",
       "  </thead>\n",
       "  <tbody>\n",
       "  </tbody>\n",
       "</table><p>"
      ],
      "text/plain": [
       "<IPython.core.display.HTML object>"
      ]
     },
     "metadata": {},
     "output_type": "display_data"
    },
    {
     "data": {
      "text/html": [
       "\n",
       "    <div>\n",
       "      \n",
       "      <progress value='4' max='4' style='width:300px; height:20px; vertical-align: middle;'></progress>\n",
       "      [4/4 00:09]\n",
       "    </div>\n",
       "    "
      ],
      "text/plain": [
       "<IPython.core.display.HTML object>"
      ]
     },
     "metadata": {},
     "output_type": "display_data"
    },
    {
     "name": "stderr",
     "output_type": "stream",
     "text": [
      "Setting TOKENIZERS_PARALLELISM=false for forked processes.\n"
     ]
    },
    {
     "name": "stdout",
     "output_type": "stream",
     "text": [
      "Testing ai_label...\n"
     ]
    },
    {
     "data": {
      "application/vnd.jupyter.widget-view+json": {
       "model_id": "58c5fcab2f7748699efcfc47befac7c7",
       "version_major": 2,
       "version_minor": 0
      },
      "text/plain": [
       "Tokenizing ai_label (num_proc=8):   0%|          | 0/720 [00:00<?, ? examples/s]"
      ]
     },
     "metadata": {},
     "output_type": "display_data"
    },
    {
     "name": "stderr",
     "output_type": "stream",
     "text": [
      "Setting TOKENIZERS_PARALLELISM=false for forked processes.\n"
     ]
    },
    {
     "data": {
      "application/vnd.jupyter.widget-view+json": {
       "model_id": "5752e23c63294e85810c1f7a6b2de0fa",
       "version_major": 2,
       "version_minor": 0
      },
      "text/plain": [
       "Tokenizing ai_label (num_proc=8):   0%|          | 0/80 [00:00<?, ? examples/s]"
      ]
     },
     "metadata": {},
     "output_type": "display_data"
    },
    {
     "name": "stderr",
     "output_type": "stream",
     "text": [
      "Setting TOKENIZERS_PARALLELISM=false for forked processes.\n"
     ]
    },
    {
     "data": {
      "application/vnd.jupyter.widget-view+json": {
       "model_id": "28f9aaa884ac47aa9a9107188d5bf416",
       "version_major": 2,
       "version_minor": 0
      },
      "text/plain": [
       "Tokenizing ai_label (num_proc=8):   0%|          | 0/200 [00:00<?, ? examples/s]"
      ]
     },
     "metadata": {},
     "output_type": "display_data"
    },
    {
     "name": "stderr",
     "output_type": "stream",
     "text": [
      "Some weights of DistilBertForSequenceClassification were not initialized from the model checkpoint at distilbert-base-uncased and are newly initialized: ['classifier.bias', 'classifier.weight', 'pre_classifier.bias', 'pre_classifier.weight']\n",
      "You should probably TRAIN this model on a down-stream task to be able to use it for predictions and inference.\n"
     ]
    },
    {
     "data": {
      "text/html": [
       "\n",
       "    <div>\n",
       "      \n",
       "      <progress value='45' max='45' style='width:300px; height:20px; vertical-align: middle;'></progress>\n",
       "      [45/45 03:45, Epoch 1/1]\n",
       "    </div>\n",
       "    <table border=\"1\" class=\"dataframe\">\n",
       "  <thead>\n",
       " <tr style=\"text-align: left;\">\n",
       "      <th>Step</th>\n",
       "      <th>Training Loss</th>\n",
       "    </tr>\n",
       "  </thead>\n",
       "  <tbody>\n",
       "  </tbody>\n",
       "</table><p>"
      ],
      "text/plain": [
       "<IPython.core.display.HTML object>"
      ]
     },
     "metadata": {},
     "output_type": "display_data"
    },
    {
     "data": {
      "text/html": [
       "\n",
       "    <div>\n",
       "      \n",
       "      <progress value='7' max='7' style='width:300px; height:20px; vertical-align: middle;'></progress>\n",
       "      [7/7 00:20]\n",
       "    </div>\n",
       "    "
      ],
      "text/plain": [
       "<IPython.core.display.HTML object>"
      ]
     },
     "metadata": {},
     "output_type": "display_data"
    },
    {
     "name": "stdout",
     "output_type": "stream",
     "text": [
      "Total time for all experiments: 412.03 seconds\n"
     ]
    },
    {
     "data": {
      "text/html": [
       "<div>\n",
       "<style scoped>\n",
       "    .dataframe tbody tr th:only-of-type {\n",
       "        vertical-align: middle;\n",
       "    }\n",
       "\n",
       "    .dataframe tbody tr th {\n",
       "        vertical-align: top;\n",
       "    }\n",
       "\n",
       "    .dataframe thead th {\n",
       "        text-align: right;\n",
       "    }\n",
       "</style>\n",
       "<table border=\"1\" class=\"dataframe\">\n",
       "  <thead>\n",
       "    <tr style=\"text-align: right;\">\n",
       "      <th></th>\n",
       "      <th>dataset</th>\n",
       "      <th>eval_loss</th>\n",
       "      <th>eval_accuracy</th>\n",
       "      <th>eval_f1_weighted</th>\n",
       "      <th>eval_precision_weighted</th>\n",
       "      <th>eval_recall_weighted</th>\n",
       "      <th>eval_roc_auc</th>\n",
       "      <th>eval_average_precision</th>\n",
       "      <th>eval_runtime</th>\n",
       "      <th>eval_samples_per_second</th>\n",
       "      <th>eval_steps_per_second</th>\n",
       "      <th>epoch</th>\n",
       "    </tr>\n",
       "  </thead>\n",
       "  <tbody>\n",
       "    <tr>\n",
       "      <th>0</th>\n",
       "      <td>human_label</td>\n",
       "      <td>2.705281</td>\n",
       "      <td>0.658333</td>\n",
       "      <td>0.522697</td>\n",
       "      <td>0.433403</td>\n",
       "      <td>0.658333</td>\n",
       "      <td>0.769991</td>\n",
       "      <td>0.613153</td>\n",
       "      <td>12.7287</td>\n",
       "      <td>9.427</td>\n",
       "      <td>0.314</td>\n",
       "      <td>1.0</td>\n",
       "    </tr>\n",
       "    <tr>\n",
       "      <th>1</th>\n",
       "      <td>ai_label</td>\n",
       "      <td>1.898472</td>\n",
       "      <td>0.800000</td>\n",
       "      <td>0.799520</td>\n",
       "      <td>0.809394</td>\n",
       "      <td>0.800000</td>\n",
       "      <td>0.880602</td>\n",
       "      <td>0.868940</td>\n",
       "      <td>24.7061</td>\n",
       "      <td>8.095</td>\n",
       "      <td>0.283</td>\n",
       "      <td>1.0</td>\n",
       "    </tr>\n",
       "  </tbody>\n",
       "</table>\n",
       "</div>"
      ],
      "text/plain": [
       "       dataset  eval_loss  eval_accuracy  eval_f1_weighted  \\\n",
       "0  human_label   2.705281       0.658333          0.522697   \n",
       "1     ai_label   1.898472       0.800000          0.799520   \n",
       "\n",
       "   eval_precision_weighted  eval_recall_weighted  eval_roc_auc  \\\n",
       "0                 0.433403              0.658333      0.769991   \n",
       "1                 0.809394              0.800000      0.880602   \n",
       "\n",
       "   eval_average_precision  eval_runtime  eval_samples_per_second  \\\n",
       "0                0.613153       12.7287                    9.427   \n",
       "1                0.868940       24.7061                    8.095   \n",
       "\n",
       "   eval_steps_per_second  epoch  \n",
       "0                  0.314    1.0  \n",
       "1                  0.283    1.0  "
      ]
     },
     "metadata": {},
     "output_type": "display_data"
    }
   ],
   "source": [
    "os.environ.setdefault(\"TOKENIZERS_PARALLELISM\", \"true\")\n",
    "# Load tokenizer\n",
    "checkpoint = \"distilbert-base-uncased\"\n",
    "tokenizer = AutoTokenizer.from_pretrained(checkpoint)\n",
    "\n",
    "data_collator = DataCollatorWithPadding(\n",
    "    tokenizer=tokenizer,\n",
    "    pad_to_multiple_of=8 if torch.cuda.is_available() else None,\n",
    ")\n",
    "\n",
    "human_dataset = split_data(human_label, \"anxiety_level\", test_size=0.2, val_size=0.1, random_state=42)\n",
    "ai_dataset = split_data(ai_label, \"anxiety_level\", test_size=0.2, val_size=0.1, random_state=42)\n",
    "\n",
    "configs = [\n",
    "    (human_dataset, \"human_label\"),\n",
    "    (ai_dataset, \"ai_label\")\n",
    "]\n",
    "\n",
    "num_proc = max(1, min(os.cpu_count() or 1, 8))\n",
    "tokenized_cache = {}\n",
    "model_cache = {}\n",
    "\n",
    "start_time = time.time()\n",
    "df_list, metrics_result = [], []\n",
    "print(\"Starting experiments...\")\n",
    "\n",
    "for df, df_name in configs:\n",
    "    print(f\"Testing {df_name}...\")\n",
    "\n",
    "    cache_key = (df_name)\n",
    "    if cache_key not in tokenized_cache:\n",
    "        map_kwargs = dict(\n",
    "            batched=True,\n",
    "            load_from_cache_file=True,\n",
    "            desc=f\"Tokenizing {df_name}\",\n",
    "        )\n",
    "        if num_proc > 1:\n",
    "            map_kwargs[\"num_proc\"] = num_proc\n",
    "\n",
    "        tokenized_dataset = df.map(partial(tokenize, text_col=\"text_all\"), **map_kwargs)\n",
    "        tokenized_dataset = tokenized_dataset.rename_column(\"anxiety_level\", \"labels\")\n",
    "        tokenized_dataset = tokenized_dataset.with_format(\"torch\")\n",
    "        tokenized_cache[cache_key] = tokenized_dataset\n",
    "    else:\n",
    "        tokenized_dataset = tokenized_cache[cache_key]\n",
    "\n",
    "    num_labels = len(set(tokenized_dataset[\"train\"][\"labels\"]))\n",
    "    if num_labels not in model_cache:\n",
    "        model_cache[num_labels] = DistilBertForSequenceClassification.from_pretrained(\n",
    "            checkpoint, num_labels=num_labels\n",
    "        )\n",
    "    model = deepcopy(model_cache[num_labels])\n",
    "\n",
    "    # simple args for quick testing\n",
    "    args = TrainingArguments(\n",
    "    output_dir=\"distilbert-text-clf\",\n",
    "    save_strategy=\"no\",\n",
    "    learning_rate=7e-5,\n",
    "    per_device_train_batch_size=16,\n",
    "    per_device_eval_batch_size=32,\n",
    "    num_train_epochs=1,\n",
    "    weight_decay=0.0,\n",
    "    logging_strategy=\"no\",\n",
    "    )\n",
    "\n",
    "    trainer = Trainer(\n",
    "        model=model,\n",
    "        args=args,\n",
    "        train_dataset=tokenized_dataset[\"train\"],\n",
    "        eval_dataset=tokenized_dataset[\"validation\"],\n",
    "        processing_class=tokenizer,\n",
    "        data_collator=data_collator,\n",
    "        compute_metrics=compute_metrics,\n",
    "    )\n",
    "\n",
    "    trainer.train()\n",
    "    metrics = trainer.evaluate(tokenized_dataset[\"test\"])\n",
    "\n",
    "    df_list.append(df_name)\n",
    "    metrics_result.append(metrics)\n",
    "\n",
    "total_time = time.time() - start_time\n",
    "print(f\"Total time for all experiments: {total_time:.2f} seconds\")\n",
    "\n",
    "metrics_df = pd.DataFrame(metrics_result)\n",
    "metrics_df[\"dataset\"] = df_list\n",
    "metrics_df = metrics_df[\n",
    "    [\"dataset\"]\n",
    "    + [col for col in metrics_df.columns if col not in {\"dataset\"}]\n",
    "]\n",
    "display(metrics_df)"
   ]
  },
  {
   "cell_type": "markdown",
   "id": "62cad529",
   "metadata": {},
   "source": [
    "**Key Finding** \n",
    "- The AI-labeled runs outperform the human-labeled runs on every metric we tracked:\n",
    "    - Higher accuracy (0.80 vs 0.66), \n",
    "    - Weighted F1 (0.80 vs 0.52), \n",
    "    - Ranking metrics—ROC AUC at 0.881 vs 0.770 and \n",
    "    - Average Precision at 0.869 vs 0.613. \n",
    "    - This points to AI annotations being either cleaner or more in tune with DistilBERT’s inductive bias.\n",
    "- Given that consistent lift, we’ll move forward using the AI-labeled dataset for the enhanced training pipeline."
   ]
  },
  {
   "cell_type": "markdown",
   "id": "c2917655",
   "metadata": {},
   "source": [
    "## **5. Hyperparameter Tuning**\n",
    "\n",
    "**Purpose**: Improve models' performance by hyperparameter tuning."
   ]
  },
  {
   "cell_type": "code",
   "execution_count": null,
   "id": "dc23264a",
   "metadata": {},
   "outputs": [
    {
     "name": "stdout",
     "output_type": "stream",
     "text": [
      "Training with epochs=5, lr=0.0001, weight_decay=0.01\n"
     ]
    },
    {
     "data": {
      "text/html": [
       "\n",
       "    <div>\n",
       "      \n",
       "      <progress value='225' max='225' style='width:300px; height:20px; vertical-align: middle;'></progress>\n",
       "      [225/225 24:49, Epoch 5/5]\n",
       "    </div>\n",
       "    <table border=\"1\" class=\"dataframe\">\n",
       "  <thead>\n",
       " <tr style=\"text-align: left;\">\n",
       "      <th>Step</th>\n",
       "      <th>Training Loss</th>\n",
       "    </tr>\n",
       "  </thead>\n",
       "  <tbody>\n",
       "    <tr>\n",
       "      <td>45</td>\n",
       "      <td>2.237600</td>\n",
       "    </tr>\n",
       "    <tr>\n",
       "      <td>90</td>\n",
       "      <td>0.472000</td>\n",
       "    </tr>\n",
       "    <tr>\n",
       "      <td>135</td>\n",
       "      <td>0.290200</td>\n",
       "    </tr>\n",
       "    <tr>\n",
       "      <td>180</td>\n",
       "      <td>0.130700</td>\n",
       "    </tr>\n",
       "    <tr>\n",
       "      <td>225</td>\n",
       "      <td>0.047700</td>\n",
       "    </tr>\n",
       "  </tbody>\n",
       "</table><p>"
      ],
      "text/plain": [
       "<IPython.core.display.HTML object>"
      ]
     },
     "metadata": {},
     "output_type": "display_data"
    },
    {
     "data": {
      "text/html": [
       "\n",
       "    <div>\n",
       "      \n",
       "      <progress value='7' max='7' style='width:300px; height:20px; vertical-align: middle;'></progress>\n",
       "      [7/7 00:25]\n",
       "    </div>\n",
       "    "
      ],
      "text/plain": [
       "<IPython.core.display.HTML object>"
      ]
     },
     "metadata": {},
     "output_type": "display_data"
    },
    {
     "name": "stdout",
     "output_type": "stream",
     "text": [
      "Training with epochs=3, lr=3e-05, weight_decay=0.03\n"
     ]
    },
    {
     "data": {
      "text/html": [
       "\n",
       "    <div>\n",
       "      \n",
       "      <progress value='135' max='135' style='width:300px; height:20px; vertical-align: middle;'></progress>\n",
       "      [135/135 27:06, Epoch 3/3]\n",
       "    </div>\n",
       "    <table border=\"1\" class=\"dataframe\">\n",
       "  <thead>\n",
       " <tr style=\"text-align: left;\">\n",
       "      <th>Step</th>\n",
       "      <th>Training Loss</th>\n",
       "    </tr>\n",
       "  </thead>\n",
       "  <tbody>\n",
       "    <tr>\n",
       "      <td>45</td>\n",
       "      <td>0.050100</td>\n",
       "    </tr>\n",
       "    <tr>\n",
       "      <td>90</td>\n",
       "      <td>0.034200</td>\n",
       "    </tr>\n",
       "    <tr>\n",
       "      <td>135</td>\n",
       "      <td>0.028100</td>\n",
       "    </tr>\n",
       "  </tbody>\n",
       "</table><p>"
      ],
      "text/plain": [
       "<IPython.core.display.HTML object>"
      ]
     },
     "metadata": {},
     "output_type": "display_data"
    },
    {
     "data": {
      "text/html": [
       "\n",
       "    <div>\n",
       "      \n",
       "      <progress value='7' max='7' style='width:300px; height:20px; vertical-align: middle;'></progress>\n",
       "      [7/7 00:17]\n",
       "    </div>\n",
       "    "
      ],
      "text/plain": [
       "<IPython.core.display.HTML object>"
      ]
     },
     "metadata": {},
     "output_type": "display_data"
    },
    {
     "name": "stdout",
     "output_type": "stream",
     "text": [
      "Training with epochs=2, lr=5e-05, weight_decay=0.05\n"
     ]
    },
    {
     "data": {
      "text/html": [
       "\n",
       "    <div>\n",
       "      \n",
       "      <progress value='90' max='90' style='width:300px; height:20px; vertical-align: middle;'></progress>\n",
       "      [90/90 07:14, Epoch 2/2]\n",
       "    </div>\n",
       "    <table border=\"1\" class=\"dataframe\">\n",
       "  <thead>\n",
       " <tr style=\"text-align: left;\">\n",
       "      <th>Step</th>\n",
       "      <th>Training Loss</th>\n",
       "    </tr>\n",
       "  </thead>\n",
       "  <tbody>\n",
       "    <tr>\n",
       "      <td>45</td>\n",
       "      <td>0.065000</td>\n",
       "    </tr>\n",
       "    <tr>\n",
       "      <td>90</td>\n",
       "      <td>0.011800</td>\n",
       "    </tr>\n",
       "  </tbody>\n",
       "</table><p>"
      ],
      "text/plain": [
       "<IPython.core.display.HTML object>"
      ]
     },
     "metadata": {},
     "output_type": "display_data"
    },
    {
     "data": {
      "text/html": [
       "\n",
       "    <div>\n",
       "      \n",
       "      <progress value='7' max='7' style='width:300px; height:20px; vertical-align: middle;'></progress>\n",
       "      [7/7 00:16]\n",
       "    </div>\n",
       "    "
      ],
      "text/plain": [
       "<IPython.core.display.HTML object>"
      ]
     },
     "metadata": {},
     "output_type": "display_data"
    },
    {
     "name": "stdout",
     "output_type": "stream",
     "text": [
      "Total time for hyperparameter tuning: 3641.02 seconds\n"
     ]
    },
    {
     "data": {
      "text/html": [
       "<div>\n",
       "<style scoped>\n",
       "    .dataframe tbody tr th:only-of-type {\n",
       "        vertical-align: middle;\n",
       "    }\n",
       "\n",
       "    .dataframe tbody tr th {\n",
       "        vertical-align: top;\n",
       "    }\n",
       "\n",
       "    .dataframe thead th {\n",
       "        text-align: right;\n",
       "    }\n",
       "</style>\n",
       "<table border=\"1\" class=\"dataframe\">\n",
       "  <thead>\n",
       "    <tr style=\"text-align: right;\">\n",
       "      <th></th>\n",
       "      <th>epochs</th>\n",
       "      <th>learning_rate</th>\n",
       "      <th>weight_decay</th>\n",
       "      <th>eval_loss</th>\n",
       "      <th>eval_accuracy</th>\n",
       "      <th>eval_f1_weighted</th>\n",
       "      <th>eval_precision_weighted</th>\n",
       "      <th>eval_recall_weighted</th>\n",
       "      <th>eval_roc_auc</th>\n",
       "      <th>eval_average_precision</th>\n",
       "      <th>eval_runtime</th>\n",
       "      <th>eval_samples_per_second</th>\n",
       "      <th>eval_steps_per_second</th>\n",
       "      <th>epoch</th>\n",
       "    </tr>\n",
       "  </thead>\n",
       "  <tbody>\n",
       "    <tr>\n",
       "      <th>0</th>\n",
       "      <td>5</td>\n",
       "      <td>0.00010</td>\n",
       "      <td>0.01</td>\n",
       "      <td>0.676885</td>\n",
       "      <td>0.825</td>\n",
       "      <td>0.825109</td>\n",
       "      <td>0.826250</td>\n",
       "      <td>0.825</td>\n",
       "      <td>0.918797</td>\n",
       "      <td>0.924937</td>\n",
       "      <td>31.3425</td>\n",
       "      <td>6.381</td>\n",
       "      <td>0.223</td>\n",
       "      <td>5.0</td>\n",
       "    </tr>\n",
       "    <tr>\n",
       "      <th>1</th>\n",
       "      <td>3</td>\n",
       "      <td>0.00003</td>\n",
       "      <td>0.03</td>\n",
       "      <td>0.944411</td>\n",
       "      <td>0.830</td>\n",
       "      <td>0.829898</td>\n",
       "      <td>0.835800</td>\n",
       "      <td>0.830</td>\n",
       "      <td>0.927318</td>\n",
       "      <td>0.931835</td>\n",
       "      <td>20.4098</td>\n",
       "      <td>9.799</td>\n",
       "      <td>0.343</td>\n",
       "      <td>3.0</td>\n",
       "    </tr>\n",
       "    <tr>\n",
       "      <th>2</th>\n",
       "      <td>2</td>\n",
       "      <td>0.00005</td>\n",
       "      <td>0.05</td>\n",
       "      <td>1.271806</td>\n",
       "      <td>0.835</td>\n",
       "      <td>0.834839</td>\n",
       "      <td>0.841777</td>\n",
       "      <td>0.835</td>\n",
       "      <td>0.919749</td>\n",
       "      <td>0.923445</td>\n",
       "      <td>20.1903</td>\n",
       "      <td>9.906</td>\n",
       "      <td>0.347</td>\n",
       "      <td>2.0</td>\n",
       "    </tr>\n",
       "  </tbody>\n",
       "</table>\n",
       "</div>"
      ],
      "text/plain": [
       "   epochs  learning_rate  weight_decay  eval_loss  eval_accuracy  \\\n",
       "0       5        0.00010          0.01   0.676885          0.825   \n",
       "1       3        0.00003          0.03   0.944411          0.830   \n",
       "2       2        0.00005          0.05   1.271806          0.835   \n",
       "\n",
       "   eval_f1_weighted  eval_precision_weighted  eval_recall_weighted  \\\n",
       "0          0.825109                 0.826250                 0.825   \n",
       "1          0.829898                 0.835800                 0.830   \n",
       "2          0.834839                 0.841777                 0.835   \n",
       "\n",
       "   eval_roc_auc  eval_average_precision  eval_runtime  \\\n",
       "0      0.918797                0.924937       31.3425   \n",
       "1      0.927318                0.931835       20.4098   \n",
       "2      0.919749                0.923445       20.1903   \n",
       "\n",
       "   eval_samples_per_second  eval_steps_per_second  epoch  \n",
       "0                    6.381                  0.223    5.0  \n",
       "1                    9.799                  0.343    3.0  \n",
       "2                    9.906                  0.347    2.0  "
      ]
     },
     "metadata": {},
     "output_type": "display_data"
    }
   ],
   "source": [
    "# using cached tokenized dataset and model to do final training\n",
    "tokenized_dataset = tokenized_cache[(\"ai_label\")]\n",
    "model = deepcopy(model_cache[len(set(tokenized_dataset[\"train\"][\"labels\"]))])\n",
    "\n",
    "# Due to limited time and computation capacity, we only try 3 sets of hyperparameters\n",
    "epochs_list = [5, 3, 2]\n",
    "learning_rate_list = [1e-4, 3e-5, 5e-5]\n",
    "weight_decay_list = [0.01, 0.03, 0.05]\n",
    "\n",
    "use_cuda_fp16 = torch.cuda.is_available()\n",
    "\n",
    "\n",
    "epoch_result, learning_rate_result, weight_decay_result, metrics_result = [], [], [], []\n",
    "start_time = time.time()\n",
    "for i in range(len(epochs_list)):\n",
    "    epochs = epochs_list[i]\n",
    "    lr = learning_rate_list[i]\n",
    "    wd = weight_decay_list[i]\n",
    "    print(f\"Training with epochs={epochs}, lr={lr}, weight_decay={wd}\")\n",
    "    args = TrainingArguments(\n",
    "        output_dir=\"distilbert-text-clf\",\n",
    "        save_strategy=\"epoch\",\n",
    "        learning_rate=lr,\n",
    "        per_device_train_batch_size=16,\n",
    "        per_device_eval_batch_size=32,\n",
    "        num_train_epochs=epochs,\n",
    "        weight_decay=wd,\n",
    "        logging_strategy=\"epoch\",\n",
    "        fp16=use_cuda_fp16\n",
    "    )\n",
    "\n",
    "    trainer = Trainer(\n",
    "        model=model,\n",
    "        args=args,\n",
    "        train_dataset=tokenized_dataset[\"train\"],\n",
    "        eval_dataset=tokenized_dataset[\"validation\"],\n",
    "        processing_class=tokenizer,\n",
    "        data_collator=data_collator,\n",
    "        compute_metrics=compute_metrics,\n",
    "    )\n",
    "\n",
    "    trainer.train()\n",
    "    metrics = trainer.evaluate(tokenized_dataset[\"test\"])\n",
    "    epoch_result.append(epochs)\n",
    "    learning_rate_result.append(lr)\n",
    "    weight_decay_result.append(wd)\n",
    "    metrics_result.append(metrics)\n",
    "\n",
    "total_time = time.time() - start_time\n",
    "print(f\"Total time for hyperparameter tuning: {total_time:.2f} seconds\")\n",
    "\n",
    "metrics_comparison = pd.DataFrame(metrics_result)\n",
    "metrics_comparison[\"epochs\"] = epoch_result\n",
    "metrics_comparison[\"learning_rate\"] = learning_rate_result\n",
    "metrics_comparison[\"weight_decay\"] = weight_decay_result\n",
    "metrics_comparison = metrics_comparison[\n",
    "    [\"epochs\", \"learning_rate\", \"weight_decay\"]\n",
    "    + [col for col in metrics_comparison.columns if col not in {\"epochs\", \"learning_rate\", \"weight_decay\"}]\n",
    "]\n",
    "display(metrics_comparison)"
   ]
  },
  {
   "cell_type": "markdown",
   "id": "0e51109f",
   "metadata": {},
   "source": [
    "**Key Findings**\n",
    "- Run #1 (5 epochs, lr=1e-4, weight decay=0.01) balances a low validation loss (0.68) with strong accuracy and recall (~82.5%), and its ROC-AUC (0.919) plus average precision (0.925) show the model ranks anxious posts reliably; runtime was moderate (~6.4 samples/sec).\n",
    "- Run #2 (3 epochs, lr=3e-5, weight decay=0.03) nudges accuracy to 83% and lifts ROC-AUC to 0.927 and average precision to 0.932, though loss is higher (0.94), hinting at overconfidence; it also trains faster (~9.8 samples/sec).\n",
    "- Run #3 (2 epochs, lr=5e-5, weight decay=0.05) attains the highest accuracy (83.5%) and weighted F1, with similar precision/recall balance, but the loss rises to 1.27, suggesting the model is more uncertain overall; it ties Run #2 for speed (~9.9 samples/sec).\n",
    "\n",
    "**Conclusion**\n",
    "- **Run #2 (3 epochs, lr=3e-5, weight decay=0.03)** delivers the best ranking metrics (ROC-AUC 0.927, average precision 0.932) while matching or beating the others on accuracy and F1. The slightly higher validation loss just reflects a shift in calibration; overall it’s the most balanced performer."
   ]
  },
  {
   "cell_type": "markdown",
   "id": "615e00d7",
   "metadata": {},
   "source": [
    "## **6. Limitations and Future Work**\n",
    "\n",
    "**Limitations**\n",
    "- Subreddit imbalance persists: communities like HealthAnxiety appear far less in the AI-labeled data, so the model sees uneven exposure. That imbalance likely skews both evaluation and real-world predictions toward the dominant subreddits.\n",
    "- Annotation noise is uneven: AI- and human-labeled posts show different labeling quirks, and training on a single source risks inheriting its specific biases. We currently have limited understanding of how label errors propagate through the pipeline.\n",
    "- Scope of hyperparameter search is narrow: only three combinations of epochs, learning rate, and weight decay were explored, so the chosen configuration may not be optimal.\n",
    "\n",
    "**Future Work**\n",
    "- Balance subreddit representation via stratified sampling, weighted loss functions, or targeted data augmentation to reduce bias toward heavily represented communities.\n",
    "- Blend or adjudicate labels using both AI and human annotations, possibly introducing human-in-the-loop checks on the noisiest subreddits to curb source-specific bias.\n",
    "- Expand hyperparameter and architecture searches, including layer freezing, dropout, learning-rate schedules, and batch-size sweeps—and consider ensemble methods to tighten performance bounds.\n",
    "- This notebook was designed to run on Great Lakes to take advantage of faster computation, but incompatible package imports blocked that plan. With limited time we left the issue unresolved; given more runway, fixing the environment would let us exploit that extra compute for deeper hyperparameter sweeps, cross-validation, and subgroup-specific evaluations that could further improve model performance."
   ]
  }
 ],
 "metadata": {
  "kernelspec": {
   "display_name": "garden_env",
   "language": "python",
   "name": "python3"
  },
  "language_info": {
   "codemirror_mode": {
    "name": "ipython",
    "version": 3
   },
   "file_extension": ".py",
   "mimetype": "text/x-python",
   "name": "python",
   "nbconvert_exporter": "python",
   "pygments_lexer": "ipython3",
   "version": "3.12.4"
  }
 },
 "nbformat": 4,
 "nbformat_minor": 5
}

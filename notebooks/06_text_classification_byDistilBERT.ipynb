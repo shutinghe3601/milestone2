{
 "cells": [
  {
   "cell_type": "markdown",
   "id": "4d8631e6",
   "metadata": {},
   "source": [
    "[← Previous: Dataset Comparison Analysis](05_dataset_comparison_analysis.ipynb)\n",
    "\n",
    "# **Text Classification by DistilBERT**\n",
    "\n",
    "**Purpose**: Explore using DistilBERT, a pretrained transformer model from Hugging Face, to classify the anxiety level (0-5 scale) for Reddit posts."
   ]
  },
  {
   "cell_type": "markdown",
   "id": "f672edad",
   "metadata": {},
   "source": [
    "## Table of Contents\n",
    "\n",
    "1. [Data Loading](#1-data-loading)\n",
    "2. [Help Functions](#1-data-loading)\n",
    "2. [Model Training](#2-model-training)\n",
    "3. [Evaluation](#3-evaluation)\n",
    "\n",
    "[Next: Random Forest Classification →](07_text_classification_random_forest.ipynb)\n"
   ]
  },
  {
   "cell_type": "markdown",
   "id": "dec36894",
   "metadata": {},
   "source": [
    "---"
   ]
  },
  {
   "cell_type": "code",
   "execution_count": 1,
   "id": "a5d571dc",
   "metadata": {},
   "outputs": [
    {
     "name": "stdout",
     "output_type": "stream",
     "text": [
      "\u001b[33mWARNING: Ignoring invalid distribution ~ (/Users/shutinghe/.pyenv/versions/garden_env/lib/python3.12/site-packages)\u001b[0m\u001b[33m\n",
      "\u001b[0m\u001b[33mWARNING: Ignoring invalid distribution ~ (/Users/shutinghe/.pyenv/versions/garden_env/lib/python3.12/site-packages)\u001b[0m\u001b[33m\n",
      "\u001b[0m\u001b[33mWARNING: Ignoring invalid distribution ~ympy (/Users/shutinghe/.pyenv/versions/garden_env/lib/python3.12/site-packages)\u001b[0m\u001b[33m\n",
      "\u001b[0mRequirement already satisfied: praw==7.8.1 in /Users/shutinghe/.pyenv/versions/garden_env/lib/python3.12/site-packages (from -r ../requirements.txt (line 2)) (7.8.1)\n",
      "Requirement already satisfied: prawcore==2.4.0 in /Users/shutinghe/.pyenv/versions/garden_env/lib/python3.12/site-packages (from -r ../requirements.txt (line 3)) (2.4.0)\n",
      "Requirement already satisfied: requests==2.32.5 in /Users/shutinghe/.pyenv/versions/garden_env/lib/python3.12/site-packages (from -r ../requirements.txt (line 4)) (2.32.5)\n",
      "Requirement already satisfied: websocket-client==1.8.0 in /Users/shutinghe/.pyenv/versions/garden_env/lib/python3.12/site-packages (from -r ../requirements.txt (line 5)) (1.8.0)\n",
      "Requirement already satisfied: pandas==2.3.3 in /Users/shutinghe/.pyenv/versions/garden_env/lib/python3.12/site-packages (from -r ../requirements.txt (line 8)) (2.3.3)\n",
      "Requirement already satisfied: numpy==1.26.4 in /Users/shutinghe/.pyenv/versions/garden_env/lib/python3.12/site-packages (from -r ../requirements.txt (line 9)) (1.26.4)\n",
      "Requirement already satisfied: python-dateutil==2.9.0.post0 in /Users/shutinghe/.pyenv/versions/garden_env/lib/python3.12/site-packages (from -r ../requirements.txt (line 10)) (2.9.0.post0)\n",
      "Requirement already satisfied: pytz==2025.2 in /Users/shutinghe/.pyenv/versions/garden_env/lib/python3.12/site-packages (from -r ../requirements.txt (line 11)) (2025.2)\n",
      "Requirement already satisfied: tzdata==2025.2 in /Users/shutinghe/.pyenv/versions/garden_env/lib/python3.12/site-packages (from -r ../requirements.txt (line 12)) (2025.2)\n",
      "Requirement already satisfied: PyYAML==6.0.2 in /Users/shutinghe/.pyenv/versions/garden_env/lib/python3.12/site-packages (from -r ../requirements.txt (line 13)) (6.0.2)\n",
      "Requirement already satisfied: nltk==3.9.1 in /Users/shutinghe/.pyenv/versions/garden_env/lib/python3.12/site-packages (from -r ../requirements.txt (line 16)) (3.9.1)\n",
      "Requirement already satisfied: langdetect==1.0.9 in /Users/shutinghe/.pyenv/versions/garden_env/lib/python3.12/site-packages (from -r ../requirements.txt (line 17)) (1.0.9)\n",
      "Requirement already satisfied: scikit-learn==1.4.2 in /Users/shutinghe/.pyenv/versions/garden_env/lib/python3.12/site-packages (from -r ../requirements.txt (line 18)) (1.4.2)\n",
      "Requirement already satisfied: scipy==1.11.4 in /Users/shutinghe/.pyenv/versions/garden_env/lib/python3.12/site-packages (from -r ../requirements.txt (line 19)) (1.11.4)\n",
      "Requirement already satisfied: joblib==1.5.2 in /Users/shutinghe/.pyenv/versions/garden_env/lib/python3.12/site-packages (from -r ../requirements.txt (line 20)) (1.5.2)\n",
      "Requirement already satisfied: threadpoolctl==3.6.0 in /Users/shutinghe/.pyenv/versions/garden_env/lib/python3.12/site-packages (from -r ../requirements.txt (line 21)) (3.6.0)\n",
      "Requirement already satisfied: transformers==4.57.0 in /Users/shutinghe/.pyenv/versions/garden_env/lib/python3.12/site-packages (from -r ../requirements.txt (line 22)) (4.57.0)\n",
      "Requirement already satisfied: sentence-transformers==5.1.1 in /Users/shutinghe/.pyenv/versions/garden_env/lib/python3.12/site-packages (from -r ../requirements.txt (line 23)) (5.1.1)\n",
      "Requirement already satisfied: bertopic==0.16.0 in /Users/shutinghe/.pyenv/versions/garden_env/lib/python3.12/site-packages (from -r ../requirements.txt (line 24)) (0.16.0)\n",
      "Requirement already satisfied: umap-learn==0.5.5 in /Users/shutinghe/.pyenv/versions/garden_env/lib/python3.12/site-packages (from -r ../requirements.txt (line 25)) (0.5.5)\n",
      "Requirement already satisfied: hdbscan==0.8.33 in /Users/shutinghe/.pyenv/versions/garden_env/lib/python3.12/site-packages (from -r ../requirements.txt (line 26)) (0.8.33)\n",
      "Requirement already satisfied: wordcloud==1.9.4 in /Users/shutinghe/.pyenv/versions/garden_env/lib/python3.12/site-packages (from -r ../requirements.txt (line 27)) (1.9.4)\n",
      "Requirement already satisfied: gensim==4.3.3 in /Users/shutinghe/.pyenv/versions/garden_env/lib/python3.12/site-packages (from -r ../requirements.txt (line 28)) (4.3.3)\n",
      "Requirement already satisfied: torch==2.3.1 in /Users/shutinghe/.pyenv/versions/garden_env/lib/python3.12/site-packages (from -r ../requirements.txt (line 29)) (2.3.1)\n",
      "Requirement already satisfied: torchvision==0.18.1 in /Users/shutinghe/.pyenv/versions/garden_env/lib/python3.12/site-packages (from -r ../requirements.txt (line 30)) (0.18.1)\n",
      "Requirement already satisfied: torchaudio==2.3.1 in /Users/shutinghe/.pyenv/versions/garden_env/lib/python3.12/site-packages (from -r ../requirements.txt (line 31)) (2.3.1)\n",
      "Requirement already satisfied: matplotlib==3.10.6 in /Users/shutinghe/.pyenv/versions/garden_env/lib/python3.12/site-packages (from -r ../requirements.txt (line 34)) (3.10.6)\n",
      "Requirement already satisfied: seaborn==0.13.2 in /Users/shutinghe/.pyenv/versions/garden_env/lib/python3.12/site-packages (from -r ../requirements.txt (line 35)) (0.13.2)\n",
      "Requirement already satisfied: plotly==6.3.1 in /Users/shutinghe/.pyenv/versions/garden_env/lib/python3.12/site-packages (from -r ../requirements.txt (line 36)) (6.3.1)\n",
      "Requirement already satisfied: jupyter==1.1.1 in /Users/shutinghe/.pyenv/versions/garden_env/lib/python3.12/site-packages (from -r ../requirements.txt (line 39)) (1.1.1)\n",
      "Requirement already satisfied: ipykernel==6.30.1 in /Users/shutinghe/.pyenv/versions/garden_env/lib/python3.12/site-packages (from -r ../requirements.txt (line 40)) (6.30.1)\n",
      "Requirement already satisfied: notebook==7.4.5 in /Users/shutinghe/.pyenv/versions/garden_env/lib/python3.12/site-packages (from -r ../requirements.txt (line 41)) (7.4.5)\n",
      "Requirement already satisfied: python-dotenv==1.1.1 in /Users/shutinghe/.pyenv/versions/garden_env/lib/python3.12/site-packages (from -r ../requirements.txt (line 44)) (1.1.1)\n",
      "Requirement already satisfied: openai==1.54.3 in /Users/shutinghe/.pyenv/versions/garden_env/lib/python3.12/site-packages (from -r ../requirements.txt (line 45)) (1.54.3)\n",
      "Requirement already satisfied: update_checker>=0.18 in /Users/shutinghe/.pyenv/versions/garden_env/lib/python3.12/site-packages (from praw==7.8.1->-r ../requirements.txt (line 2)) (0.18.0)\n",
      "Requirement already satisfied: charset_normalizer<4,>=2 in /Users/shutinghe/.pyenv/versions/garden_env/lib/python3.12/site-packages (from requests==2.32.5->-r ../requirements.txt (line 4)) (3.4.3)\n",
      "Requirement already satisfied: idna<4,>=2.5 in /Users/shutinghe/.pyenv/versions/garden_env/lib/python3.12/site-packages (from requests==2.32.5->-r ../requirements.txt (line 4)) (3.11)\n",
      "Requirement already satisfied: urllib3<3,>=1.21.1 in /Users/shutinghe/.pyenv/versions/garden_env/lib/python3.12/site-packages (from requests==2.32.5->-r ../requirements.txt (line 4)) (2.5.0)\n",
      "Requirement already satisfied: certifi>=2017.4.17 in /Users/shutinghe/.pyenv/versions/garden_env/lib/python3.12/site-packages (from requests==2.32.5->-r ../requirements.txt (line 4)) (2025.10.5)\n",
      "Requirement already satisfied: six>=1.5 in /Users/shutinghe/.pyenv/versions/garden_env/lib/python3.12/site-packages (from python-dateutil==2.9.0.post0->-r ../requirements.txt (line 10)) (1.17.0)\n",
      "Requirement already satisfied: click in /Users/shutinghe/.pyenv/versions/garden_env/lib/python3.12/site-packages (from nltk==3.9.1->-r ../requirements.txt (line 16)) (8.3.0)\n",
      "Requirement already satisfied: regex>=2021.8.3 in /Users/shutinghe/.pyenv/versions/garden_env/lib/python3.12/site-packages (from nltk==3.9.1->-r ../requirements.txt (line 16)) (2025.9.18)\n",
      "Requirement already satisfied: tqdm in /Users/shutinghe/.pyenv/versions/garden_env/lib/python3.12/site-packages (from nltk==3.9.1->-r ../requirements.txt (line 16)) (4.67.1)\n",
      "Requirement already satisfied: filelock in /Users/shutinghe/.pyenv/versions/garden_env/lib/python3.12/site-packages (from transformers==4.57.0->-r ../requirements.txt (line 22)) (3.20.0)\n",
      "Requirement already satisfied: huggingface-hub<1.0,>=0.34.0 in /Users/shutinghe/.pyenv/versions/garden_env/lib/python3.12/site-packages (from transformers==4.57.0->-r ../requirements.txt (line 22)) (0.35.3)\n",
      "Requirement already satisfied: packaging>=20.0 in /Users/shutinghe/.pyenv/versions/garden_env/lib/python3.12/site-packages (from transformers==4.57.0->-r ../requirements.txt (line 22)) (25.0)\n",
      "Requirement already satisfied: tokenizers<=0.23.0,>=0.22.0 in /Users/shutinghe/.pyenv/versions/garden_env/lib/python3.12/site-packages (from transformers==4.57.0->-r ../requirements.txt (line 22)) (0.22.1)\n",
      "Requirement already satisfied: safetensors>=0.4.3 in /Users/shutinghe/.pyenv/versions/garden_env/lib/python3.12/site-packages (from transformers==4.57.0->-r ../requirements.txt (line 22)) (0.6.2)\n",
      "Requirement already satisfied: Pillow in /Users/shutinghe/.pyenv/versions/garden_env/lib/python3.12/site-packages (from sentence-transformers==5.1.1->-r ../requirements.txt (line 23)) (11.3.0)\n",
      "Requirement already satisfied: typing_extensions>=4.5.0 in /Users/shutinghe/.pyenv/versions/garden_env/lib/python3.12/site-packages (from sentence-transformers==5.1.1->-r ../requirements.txt (line 23)) (4.15.0)\n",
      "Requirement already satisfied: numba>=0.51.2 in /Users/shutinghe/.pyenv/versions/garden_env/lib/python3.12/site-packages (from umap-learn==0.5.5->-r ../requirements.txt (line 25)) (0.62.1)\n",
      "Requirement already satisfied: pynndescent>=0.5 in /Users/shutinghe/.pyenv/versions/garden_env/lib/python3.12/site-packages (from umap-learn==0.5.5->-r ../requirements.txt (line 25)) (0.5.13)\n",
      "Requirement already satisfied: cython<3,>=0.27 in /Users/shutinghe/.pyenv/versions/garden_env/lib/python3.12/site-packages (from hdbscan==0.8.33->-r ../requirements.txt (line 26)) (0.29.37)\n",
      "Requirement already satisfied: smart-open>=1.8.1 in /Users/shutinghe/.pyenv/versions/garden_env/lib/python3.12/site-packages (from gensim==4.3.3->-r ../requirements.txt (line 28)) (7.3.1)\n",
      "Requirement already satisfied: sympy in /Users/shutinghe/.pyenv/versions/garden_env/lib/python3.12/site-packages (from torch==2.3.1->-r ../requirements.txt (line 29)) (1.14.0)\n",
      "Requirement already satisfied: networkx in /Users/shutinghe/.pyenv/versions/garden_env/lib/python3.12/site-packages (from torch==2.3.1->-r ../requirements.txt (line 29)) (3.5)\n",
      "Requirement already satisfied: jinja2 in /Users/shutinghe/.pyenv/versions/garden_env/lib/python3.12/site-packages (from torch==2.3.1->-r ../requirements.txt (line 29)) (3.1.6)\n",
      "Requirement already satisfied: fsspec in /Users/shutinghe/.pyenv/versions/garden_env/lib/python3.12/site-packages (from torch==2.3.1->-r ../requirements.txt (line 29)) (2025.9.0)\n",
      "Requirement already satisfied: contourpy>=1.0.1 in /Users/shutinghe/.pyenv/versions/garden_env/lib/python3.12/site-packages (from matplotlib==3.10.6->-r ../requirements.txt (line 34)) (1.3.3)\n",
      "Requirement already satisfied: cycler>=0.10 in /Users/shutinghe/.pyenv/versions/garden_env/lib/python3.12/site-packages (from matplotlib==3.10.6->-r ../requirements.txt (line 34)) (0.12.1)\n",
      "Requirement already satisfied: fonttools>=4.22.0 in /Users/shutinghe/.pyenv/versions/garden_env/lib/python3.12/site-packages (from matplotlib==3.10.6->-r ../requirements.txt (line 34)) (4.60.1)\n",
      "Requirement already satisfied: kiwisolver>=1.3.1 in /Users/shutinghe/.pyenv/versions/garden_env/lib/python3.12/site-packages (from matplotlib==3.10.6->-r ../requirements.txt (line 34)) (1.4.9)\n",
      "Requirement already satisfied: pyparsing>=2.3.1 in /Users/shutinghe/.pyenv/versions/garden_env/lib/python3.12/site-packages (from matplotlib==3.10.6->-r ../requirements.txt (line 34)) (3.2.5)\n",
      "Requirement already satisfied: narwhals>=1.15.1 in /Users/shutinghe/.pyenv/versions/garden_env/lib/python3.12/site-packages (from plotly==6.3.1->-r ../requirements.txt (line 36)) (2.7.0)\n",
      "Requirement already satisfied: jupyter-console in /Users/shutinghe/.pyenv/versions/garden_env/lib/python3.12/site-packages (from jupyter==1.1.1->-r ../requirements.txt (line 39)) (6.6.3)\n",
      "Requirement already satisfied: nbconvert in /Users/shutinghe/.pyenv/versions/garden_env/lib/python3.12/site-packages (from jupyter==1.1.1->-r ../requirements.txt (line 39)) (7.16.6)\n",
      "Requirement already satisfied: ipywidgets in /Users/shutinghe/.pyenv/versions/garden_env/lib/python3.12/site-packages (from jupyter==1.1.1->-r ../requirements.txt (line 39)) (8.1.7)\n",
      "Requirement already satisfied: jupyterlab in /Users/shutinghe/.pyenv/versions/garden_env/lib/python3.12/site-packages (from jupyter==1.1.1->-r ../requirements.txt (line 39)) (4.4.9)\n",
      "Requirement already satisfied: appnope>=0.1.2 in /Users/shutinghe/.pyenv/versions/garden_env/lib/python3.12/site-packages (from ipykernel==6.30.1->-r ../requirements.txt (line 40)) (0.1.4)\n",
      "Requirement already satisfied: comm>=0.1.1 in /Users/shutinghe/.pyenv/versions/garden_env/lib/python3.12/site-packages (from ipykernel==6.30.1->-r ../requirements.txt (line 40)) (0.2.3)\n",
      "Requirement already satisfied: debugpy>=1.6.5 in /Users/shutinghe/.pyenv/versions/garden_env/lib/python3.12/site-packages (from ipykernel==6.30.1->-r ../requirements.txt (line 40)) (1.8.17)\n",
      "Requirement already satisfied: ipython>=7.23.1 in /Users/shutinghe/.pyenv/versions/garden_env/lib/python3.12/site-packages (from ipykernel==6.30.1->-r ../requirements.txt (line 40)) (9.6.0)\n",
      "Requirement already satisfied: jupyter-client>=8.0.0 in /Users/shutinghe/.pyenv/versions/garden_env/lib/python3.12/site-packages (from ipykernel==6.30.1->-r ../requirements.txt (line 40)) (8.6.3)\n",
      "Requirement already satisfied: jupyter-core!=5.0.*,>=4.12 in /Users/shutinghe/.pyenv/versions/garden_env/lib/python3.12/site-packages (from ipykernel==6.30.1->-r ../requirements.txt (line 40)) (5.8.1)\n",
      "Requirement already satisfied: matplotlib-inline>=0.1 in /Users/shutinghe/.pyenv/versions/garden_env/lib/python3.12/site-packages (from ipykernel==6.30.1->-r ../requirements.txt (line 40)) (0.1.7)\n",
      "Requirement already satisfied: nest-asyncio>=1.4 in /Users/shutinghe/.pyenv/versions/garden_env/lib/python3.12/site-packages (from ipykernel==6.30.1->-r ../requirements.txt (line 40)) (1.6.0)\n",
      "Requirement already satisfied: psutil>=5.7 in /Users/shutinghe/.pyenv/versions/garden_env/lib/python3.12/site-packages (from ipykernel==6.30.1->-r ../requirements.txt (line 40)) (7.1.0)\n",
      "Requirement already satisfied: pyzmq>=25 in /Users/shutinghe/.pyenv/versions/garden_env/lib/python3.12/site-packages (from ipykernel==6.30.1->-r ../requirements.txt (line 40)) (27.1.0)\n",
      "Requirement already satisfied: tornado>=6.2 in /Users/shutinghe/.pyenv/versions/garden_env/lib/python3.12/site-packages (from ipykernel==6.30.1->-r ../requirements.txt (line 40)) (6.5.2)\n",
      "Requirement already satisfied: traitlets>=5.4.0 in /Users/shutinghe/.pyenv/versions/garden_env/lib/python3.12/site-packages (from ipykernel==6.30.1->-r ../requirements.txt (line 40)) (5.14.3)\n",
      "Requirement already satisfied: jupyter-server<3,>=2.4.0 in /Users/shutinghe/.pyenv/versions/garden_env/lib/python3.12/site-packages (from notebook==7.4.5->-r ../requirements.txt (line 41)) (2.17.0)\n",
      "Requirement already satisfied: jupyterlab-server<3,>=2.27.1 in /Users/shutinghe/.pyenv/versions/garden_env/lib/python3.12/site-packages (from notebook==7.4.5->-r ../requirements.txt (line 41)) (2.27.3)\n",
      "Requirement already satisfied: notebook-shim<0.3,>=0.2 in /Users/shutinghe/.pyenv/versions/garden_env/lib/python3.12/site-packages (from notebook==7.4.5->-r ../requirements.txt (line 41)) (0.2.4)\n",
      "Requirement already satisfied: anyio<5,>=3.5.0 in /Users/shutinghe/.pyenv/versions/garden_env/lib/python3.12/site-packages (from openai==1.54.3->-r ../requirements.txt (line 45)) (4.11.0)\n",
      "Requirement already satisfied: distro<2,>=1.7.0 in /Users/shutinghe/.pyenv/versions/garden_env/lib/python3.12/site-packages (from openai==1.54.3->-r ../requirements.txt (line 45)) (1.9.0)\n",
      "Requirement already satisfied: httpx<1,>=0.23.0 in /Users/shutinghe/.pyenv/versions/garden_env/lib/python3.12/site-packages (from openai==1.54.3->-r ../requirements.txt (line 45)) (0.28.1)\n",
      "Requirement already satisfied: jiter<1,>=0.4.0 in /Users/shutinghe/.pyenv/versions/garden_env/lib/python3.12/site-packages (from openai==1.54.3->-r ../requirements.txt (line 45)) (0.11.0)\n",
      "Requirement already satisfied: pydantic<3,>=1.9.0 in /Users/shutinghe/.pyenv/versions/garden_env/lib/python3.12/site-packages (from openai==1.54.3->-r ../requirements.txt (line 45)) (2.12.0)\n",
      "Requirement already satisfied: sniffio in /Users/shutinghe/.pyenv/versions/garden_env/lib/python3.12/site-packages (from openai==1.54.3->-r ../requirements.txt (line 45)) (1.3.1)\n",
      "Requirement already satisfied: httpcore==1.* in /Users/shutinghe/.pyenv/versions/garden_env/lib/python3.12/site-packages (from httpx<1,>=0.23.0->openai==1.54.3->-r ../requirements.txt (line 45)) (1.0.9)\n",
      "Requirement already satisfied: h11>=0.16 in /Users/shutinghe/.pyenv/versions/garden_env/lib/python3.12/site-packages (from httpcore==1.*->httpx<1,>=0.23.0->openai==1.54.3->-r ../requirements.txt (line 45)) (0.16.0)\n",
      "Requirement already satisfied: hf-xet<2.0.0,>=1.1.3 in /Users/shutinghe/.pyenv/versions/garden_env/lib/python3.12/site-packages (from huggingface-hub<1.0,>=0.34.0->transformers==4.57.0->-r ../requirements.txt (line 22)) (1.1.10)\n",
      "Requirement already satisfied: argon2-cffi>=21.1 in /Users/shutinghe/.pyenv/versions/garden_env/lib/python3.12/site-packages (from jupyter-server<3,>=2.4.0->notebook==7.4.5->-r ../requirements.txt (line 41)) (25.1.0)\n",
      "Requirement already satisfied: jupyter-events>=0.11.0 in /Users/shutinghe/.pyenv/versions/garden_env/lib/python3.12/site-packages (from jupyter-server<3,>=2.4.0->notebook==7.4.5->-r ../requirements.txt (line 41)) (0.12.0)\n",
      "Requirement already satisfied: jupyter-server-terminals>=0.4.4 in /Users/shutinghe/.pyenv/versions/garden_env/lib/python3.12/site-packages (from jupyter-server<3,>=2.4.0->notebook==7.4.5->-r ../requirements.txt (line 41)) (0.5.3)\n",
      "Requirement already satisfied: nbformat>=5.3.0 in /Users/shutinghe/.pyenv/versions/garden_env/lib/python3.12/site-packages (from jupyter-server<3,>=2.4.0->notebook==7.4.5->-r ../requirements.txt (line 41)) (5.10.4)\n",
      "Requirement already satisfied: prometheus-client>=0.9 in /Users/shutinghe/.pyenv/versions/garden_env/lib/python3.12/site-packages (from jupyter-server<3,>=2.4.0->notebook==7.4.5->-r ../requirements.txt (line 41)) (0.23.1)\n",
      "Requirement already satisfied: send2trash>=1.8.2 in /Users/shutinghe/.pyenv/versions/garden_env/lib/python3.12/site-packages (from jupyter-server<3,>=2.4.0->notebook==7.4.5->-r ../requirements.txt (line 41)) (1.8.3)\n",
      "Requirement already satisfied: terminado>=0.8.3 in /Users/shutinghe/.pyenv/versions/garden_env/lib/python3.12/site-packages (from jupyter-server<3,>=2.4.0->notebook==7.4.5->-r ../requirements.txt (line 41)) (0.18.1)\n",
      "Requirement already satisfied: async-lru>=1.0.0 in /Users/shutinghe/.pyenv/versions/garden_env/lib/python3.12/site-packages (from jupyterlab->jupyter==1.1.1->-r ../requirements.txt (line 39)) (2.0.5)\n",
      "Requirement already satisfied: jupyter-lsp>=2.0.0 in /Users/shutinghe/.pyenv/versions/garden_env/lib/python3.12/site-packages (from jupyterlab->jupyter==1.1.1->-r ../requirements.txt (line 39)) (2.3.0)\n",
      "Requirement already satisfied: setuptools>=41.1.0 in /Users/shutinghe/.pyenv/versions/garden_env/lib/python3.12/site-packages (from jupyterlab->jupyter==1.1.1->-r ../requirements.txt (line 39)) (80.9.0)\n",
      "Requirement already satisfied: babel>=2.10 in /Users/shutinghe/.pyenv/versions/garden_env/lib/python3.12/site-packages (from jupyterlab-server<3,>=2.27.1->notebook==7.4.5->-r ../requirements.txt (line 41)) (2.17.0)\n",
      "Requirement already satisfied: json5>=0.9.0 in /Users/shutinghe/.pyenv/versions/garden_env/lib/python3.12/site-packages (from jupyterlab-server<3,>=2.27.1->notebook==7.4.5->-r ../requirements.txt (line 41)) (0.12.1)\n",
      "Requirement already satisfied: jsonschema>=4.18.0 in /Users/shutinghe/.pyenv/versions/garden_env/lib/python3.12/site-packages (from jupyterlab-server<3,>=2.27.1->notebook==7.4.5->-r ../requirements.txt (line 41)) (4.25.1)\n",
      "Requirement already satisfied: annotated-types>=0.6.0 in /Users/shutinghe/.pyenv/versions/garden_env/lib/python3.12/site-packages (from pydantic<3,>=1.9.0->openai==1.54.3->-r ../requirements.txt (line 45)) (0.7.0)\n",
      "Requirement already satisfied: pydantic-core==2.41.1 in /Users/shutinghe/.pyenv/versions/garden_env/lib/python3.12/site-packages (from pydantic<3,>=1.9.0->openai==1.54.3->-r ../requirements.txt (line 45)) (2.41.1)\n",
      "Requirement already satisfied: typing-inspection>=0.4.2 in /Users/shutinghe/.pyenv/versions/garden_env/lib/python3.12/site-packages (from pydantic<3,>=1.9.0->openai==1.54.3->-r ../requirements.txt (line 45)) (0.4.2)\n",
      "Requirement already satisfied: argon2-cffi-bindings in /Users/shutinghe/.pyenv/versions/garden_env/lib/python3.12/site-packages (from argon2-cffi>=21.1->jupyter-server<3,>=2.4.0->notebook==7.4.5->-r ../requirements.txt (line 41)) (25.1.0)\n",
      "Requirement already satisfied: decorator in /Users/shutinghe/.pyenv/versions/garden_env/lib/python3.12/site-packages (from ipython>=7.23.1->ipykernel==6.30.1->-r ../requirements.txt (line 40)) (5.2.1)\n",
      "Requirement already satisfied: ipython-pygments-lexers in /Users/shutinghe/.pyenv/versions/garden_env/lib/python3.12/site-packages (from ipython>=7.23.1->ipykernel==6.30.1->-r ../requirements.txt (line 40)) (1.1.1)\n",
      "Requirement already satisfied: jedi>=0.16 in /Users/shutinghe/.pyenv/versions/garden_env/lib/python3.12/site-packages (from ipython>=7.23.1->ipykernel==6.30.1->-r ../requirements.txt (line 40)) (0.19.2)\n",
      "Requirement already satisfied: pexpect>4.3 in /Users/shutinghe/.pyenv/versions/garden_env/lib/python3.12/site-packages (from ipython>=7.23.1->ipykernel==6.30.1->-r ../requirements.txt (line 40)) (4.9.0)\n",
      "Requirement already satisfied: prompt_toolkit<3.1.0,>=3.0.41 in /Users/shutinghe/.pyenv/versions/garden_env/lib/python3.12/site-packages (from ipython>=7.23.1->ipykernel==6.30.1->-r ../requirements.txt (line 40)) (3.0.52)\n",
      "Requirement already satisfied: pygments>=2.4.0 in /Users/shutinghe/.pyenv/versions/garden_env/lib/python3.12/site-packages (from ipython>=7.23.1->ipykernel==6.30.1->-r ../requirements.txt (line 40)) (2.19.2)\n",
      "Requirement already satisfied: stack_data in /Users/shutinghe/.pyenv/versions/garden_env/lib/python3.12/site-packages (from ipython>=7.23.1->ipykernel==6.30.1->-r ../requirements.txt (line 40)) (0.6.3)\n",
      "Requirement already satisfied: wcwidth in /Users/shutinghe/.pyenv/versions/garden_env/lib/python3.12/site-packages (from prompt_toolkit<3.1.0,>=3.0.41->ipython>=7.23.1->ipykernel==6.30.1->-r ../requirements.txt (line 40)) (0.2.14)\n",
      "Requirement already satisfied: parso<0.9.0,>=0.8.4 in /Users/shutinghe/.pyenv/versions/garden_env/lib/python3.12/site-packages (from jedi>=0.16->ipython>=7.23.1->ipykernel==6.30.1->-r ../requirements.txt (line 40)) (0.8.5)\n",
      "Requirement already satisfied: MarkupSafe>=2.0 in /Users/shutinghe/.pyenv/versions/garden_env/lib/python3.12/site-packages (from jinja2->torch==2.3.1->-r ../requirements.txt (line 29)) (3.0.3)\n",
      "Requirement already satisfied: attrs>=22.2.0 in /Users/shutinghe/.pyenv/versions/garden_env/lib/python3.12/site-packages (from jsonschema>=4.18.0->jupyterlab-server<3,>=2.27.1->notebook==7.4.5->-r ../requirements.txt (line 41)) (25.4.0)\n",
      "Requirement already satisfied: jsonschema-specifications>=2023.03.6 in /Users/shutinghe/.pyenv/versions/garden_env/lib/python3.12/site-packages (from jsonschema>=4.18.0->jupyterlab-server<3,>=2.27.1->notebook==7.4.5->-r ../requirements.txt (line 41)) (2025.9.1)\n",
      "Requirement already satisfied: referencing>=0.28.4 in /Users/shutinghe/.pyenv/versions/garden_env/lib/python3.12/site-packages (from jsonschema>=4.18.0->jupyterlab-server<3,>=2.27.1->notebook==7.4.5->-r ../requirements.txt (line 41)) (0.36.2)\n",
      "Requirement already satisfied: rpds-py>=0.7.1 in /Users/shutinghe/.pyenv/versions/garden_env/lib/python3.12/site-packages (from jsonschema>=4.18.0->jupyterlab-server<3,>=2.27.1->notebook==7.4.5->-r ../requirements.txt (line 41)) (0.27.1)\n",
      "Requirement already satisfied: platformdirs>=2.5 in /Users/shutinghe/.pyenv/versions/garden_env/lib/python3.12/site-packages (from jupyter-core!=5.0.*,>=4.12->ipykernel==6.30.1->-r ../requirements.txt (line 40)) (4.5.0)\n",
      "Requirement already satisfied: python-json-logger>=2.0.4 in /Users/shutinghe/.pyenv/versions/garden_env/lib/python3.12/site-packages (from jupyter-events>=0.11.0->jupyter-server<3,>=2.4.0->notebook==7.4.5->-r ../requirements.txt (line 41)) (4.0.0)\n",
      "Requirement already satisfied: rfc3339-validator in /Users/shutinghe/.pyenv/versions/garden_env/lib/python3.12/site-packages (from jupyter-events>=0.11.0->jupyter-server<3,>=2.4.0->notebook==7.4.5->-r ../requirements.txt (line 41)) (0.1.4)\n",
      "Requirement already satisfied: rfc3986-validator>=0.1.1 in /Users/shutinghe/.pyenv/versions/garden_env/lib/python3.12/site-packages (from jupyter-events>=0.11.0->jupyter-server<3,>=2.4.0->notebook==7.4.5->-r ../requirements.txt (line 41)) (0.1.1)\n",
      "Requirement already satisfied: fqdn in /Users/shutinghe/.pyenv/versions/garden_env/lib/python3.12/site-packages (from jsonschema[format-nongpl]>=4.18.0->jupyter-events>=0.11.0->jupyter-server<3,>=2.4.0->notebook==7.4.5->-r ../requirements.txt (line 41)) (1.5.1)\n",
      "Requirement already satisfied: isoduration in /Users/shutinghe/.pyenv/versions/garden_env/lib/python3.12/site-packages (from jsonschema[format-nongpl]>=4.18.0->jupyter-events>=0.11.0->jupyter-server<3,>=2.4.0->notebook==7.4.5->-r ../requirements.txt (line 41)) (20.11.0)\n",
      "Requirement already satisfied: jsonpointer>1.13 in /Users/shutinghe/.pyenv/versions/garden_env/lib/python3.12/site-packages (from jsonschema[format-nongpl]>=4.18.0->jupyter-events>=0.11.0->jupyter-server<3,>=2.4.0->notebook==7.4.5->-r ../requirements.txt (line 41)) (3.0.0)\n",
      "Requirement already satisfied: rfc3987-syntax>=1.1.0 in /Users/shutinghe/.pyenv/versions/garden_env/lib/python3.12/site-packages (from jsonschema[format-nongpl]>=4.18.0->jupyter-events>=0.11.0->jupyter-server<3,>=2.4.0->notebook==7.4.5->-r ../requirements.txt (line 41)) (1.1.0)\n",
      "Requirement already satisfied: uri-template in /Users/shutinghe/.pyenv/versions/garden_env/lib/python3.12/site-packages (from jsonschema[format-nongpl]>=4.18.0->jupyter-events>=0.11.0->jupyter-server<3,>=2.4.0->notebook==7.4.5->-r ../requirements.txt (line 41)) (1.3.0)\n",
      "Requirement already satisfied: webcolors>=24.6.0 in /Users/shutinghe/.pyenv/versions/garden_env/lib/python3.12/site-packages (from jsonschema[format-nongpl]>=4.18.0->jupyter-events>=0.11.0->jupyter-server<3,>=2.4.0->notebook==7.4.5->-r ../requirements.txt (line 41)) (24.11.1)\n",
      "Requirement already satisfied: beautifulsoup4 in /Users/shutinghe/.pyenv/versions/garden_env/lib/python3.12/site-packages (from nbconvert->jupyter==1.1.1->-r ../requirements.txt (line 39)) (4.14.2)\n",
      "Requirement already satisfied: bleach!=5.0.0 in /Users/shutinghe/.pyenv/versions/garden_env/lib/python3.12/site-packages (from bleach[css]!=5.0.0->nbconvert->jupyter==1.1.1->-r ../requirements.txt (line 39)) (6.2.0)\n",
      "Requirement already satisfied: defusedxml in /Users/shutinghe/.pyenv/versions/garden_env/lib/python3.12/site-packages (from nbconvert->jupyter==1.1.1->-r ../requirements.txt (line 39)) (0.7.1)\n",
      "Requirement already satisfied: jupyterlab-pygments in /Users/shutinghe/.pyenv/versions/garden_env/lib/python3.12/site-packages (from nbconvert->jupyter==1.1.1->-r ../requirements.txt (line 39)) (0.3.0)\n",
      "Requirement already satisfied: mistune<4,>=2.0.3 in /Users/shutinghe/.pyenv/versions/garden_env/lib/python3.12/site-packages (from nbconvert->jupyter==1.1.1->-r ../requirements.txt (line 39)) (3.1.4)\n",
      "Requirement already satisfied: nbclient>=0.5.0 in /Users/shutinghe/.pyenv/versions/garden_env/lib/python3.12/site-packages (from nbconvert->jupyter==1.1.1->-r ../requirements.txt (line 39)) (0.10.2)\n",
      "Requirement already satisfied: pandocfilters>=1.4.1 in /Users/shutinghe/.pyenv/versions/garden_env/lib/python3.12/site-packages (from nbconvert->jupyter==1.1.1->-r ../requirements.txt (line 39)) (1.5.1)\n",
      "Requirement already satisfied: webencodings in /Users/shutinghe/.pyenv/versions/garden_env/lib/python3.12/site-packages (from bleach!=5.0.0->bleach[css]!=5.0.0->nbconvert->jupyter==1.1.1->-r ../requirements.txt (line 39)) (0.5.1)\n",
      "Requirement already satisfied: tinycss2<1.5,>=1.1.0 in /Users/shutinghe/.pyenv/versions/garden_env/lib/python3.12/site-packages (from bleach[css]!=5.0.0->nbconvert->jupyter==1.1.1->-r ../requirements.txt (line 39)) (1.4.0)\n",
      "Requirement already satisfied: fastjsonschema>=2.15 in /Users/shutinghe/.pyenv/versions/garden_env/lib/python3.12/site-packages (from nbformat>=5.3.0->jupyter-server<3,>=2.4.0->notebook==7.4.5->-r ../requirements.txt (line 41)) (2.21.2)\n",
      "Requirement already satisfied: llvmlite<0.46,>=0.45.0dev0 in /Users/shutinghe/.pyenv/versions/garden_env/lib/python3.12/site-packages (from numba>=0.51.2->umap-learn==0.5.5->-r ../requirements.txt (line 25)) (0.45.1)\n",
      "Requirement already satisfied: ptyprocess>=0.5 in /Users/shutinghe/.pyenv/versions/garden_env/lib/python3.12/site-packages (from pexpect>4.3->ipython>=7.23.1->ipykernel==6.30.1->-r ../requirements.txt (line 40)) (0.7.0)\n",
      "Requirement already satisfied: lark>=1.2.2 in /Users/shutinghe/.pyenv/versions/garden_env/lib/python3.12/site-packages (from rfc3987-syntax>=1.1.0->jsonschema[format-nongpl]>=4.18.0->jupyter-events>=0.11.0->jupyter-server<3,>=2.4.0->notebook==7.4.5->-r ../requirements.txt (line 41)) (1.3.0)\n",
      "Requirement already satisfied: wrapt in /Users/shutinghe/.pyenv/versions/garden_env/lib/python3.12/site-packages (from smart-open>=1.8.1->gensim==4.3.3->-r ../requirements.txt (line 28)) (1.17.3)\n",
      "Requirement already satisfied: cffi>=1.0.1 in /Users/shutinghe/.pyenv/versions/garden_env/lib/python3.12/site-packages (from argon2-cffi-bindings->argon2-cffi>=21.1->jupyter-server<3,>=2.4.0->notebook==7.4.5->-r ../requirements.txt (line 41)) (2.0.0)\n",
      "Requirement already satisfied: pycparser in /Users/shutinghe/.pyenv/versions/garden_env/lib/python3.12/site-packages (from cffi>=1.0.1->argon2-cffi-bindings->argon2-cffi>=21.1->jupyter-server<3,>=2.4.0->notebook==7.4.5->-r ../requirements.txt (line 41)) (2.23)\n",
      "Requirement already satisfied: soupsieve>1.2 in /Users/shutinghe/.pyenv/versions/garden_env/lib/python3.12/site-packages (from beautifulsoup4->nbconvert->jupyter==1.1.1->-r ../requirements.txt (line 39)) (2.8)\n",
      "Requirement already satisfied: widgetsnbextension~=4.0.14 in /Users/shutinghe/.pyenv/versions/garden_env/lib/python3.12/site-packages (from ipywidgets->jupyter==1.1.1->-r ../requirements.txt (line 39)) (4.0.14)\n",
      "Requirement already satisfied: jupyterlab_widgets~=3.0.15 in /Users/shutinghe/.pyenv/versions/garden_env/lib/python3.12/site-packages (from ipywidgets->jupyter==1.1.1->-r ../requirements.txt (line 39)) (3.0.15)\n",
      "Requirement already satisfied: arrow>=0.15.0 in /Users/shutinghe/.pyenv/versions/garden_env/lib/python3.12/site-packages (from isoduration->jsonschema[format-nongpl]>=4.18.0->jupyter-events>=0.11.0->jupyter-server<3,>=2.4.0->notebook==7.4.5->-r ../requirements.txt (line 41)) (1.3.0)\n",
      "Requirement already satisfied: types-python-dateutil>=2.8.10 in /Users/shutinghe/.pyenv/versions/garden_env/lib/python3.12/site-packages (from arrow>=0.15.0->isoduration->jsonschema[format-nongpl]>=4.18.0->jupyter-events>=0.11.0->jupyter-server<3,>=2.4.0->notebook==7.4.5->-r ../requirements.txt (line 41)) (2.9.0.20251008)\n",
      "Requirement already satisfied: executing>=1.2.0 in /Users/shutinghe/.pyenv/versions/garden_env/lib/python3.12/site-packages (from stack_data->ipython>=7.23.1->ipykernel==6.30.1->-r ../requirements.txt (line 40)) (2.2.1)\n",
      "Requirement already satisfied: asttokens>=2.1.0 in /Users/shutinghe/.pyenv/versions/garden_env/lib/python3.12/site-packages (from stack_data->ipython>=7.23.1->ipykernel==6.30.1->-r ../requirements.txt (line 40)) (3.0.0)\n",
      "Requirement already satisfied: pure-eval in /Users/shutinghe/.pyenv/versions/garden_env/lib/python3.12/site-packages (from stack_data->ipython>=7.23.1->ipykernel==6.30.1->-r ../requirements.txt (line 40)) (0.2.3)\n",
      "Requirement already satisfied: mpmath<1.4,>=1.1.0 in /Users/shutinghe/.pyenv/versions/garden_env/lib/python3.12/site-packages (from sympy->torch==2.3.1->-r ../requirements.txt (line 29)) (1.3.0)\n",
      "\u001b[33mWARNING: Ignoring invalid distribution ~ (/Users/shutinghe/.pyenv/versions/garden_env/lib/python3.12/site-packages)\u001b[0m\u001b[33m\n",
      "\u001b[0m\u001b[33mWARNING: Ignoring invalid distribution ~ympy (/Users/shutinghe/.pyenv/versions/garden_env/lib/python3.12/site-packages)\u001b[0m\u001b[33m\n",
      "\u001b[0m\u001b[33mWARNING: Ignoring invalid distribution ~ (/Users/shutinghe/.pyenv/versions/garden_env/lib/python3.12/site-packages)\u001b[0m\u001b[33m\n",
      "\u001b[0m\u001b[33mWARNING: Ignoring invalid distribution ~ympy (/Users/shutinghe/.pyenv/versions/garden_env/lib/python3.12/site-packages)\u001b[0m\u001b[33m\n",
      "\u001b[0mNote: you may need to restart the kernel to use updated packages.\n"
     ]
    }
   ],
   "source": [
    "%pip install -r ../requirements.txt"
   ]
  },
  {
   "cell_type": "markdown",
   "id": "374a55a1",
   "metadata": {},
   "source": [
    "---\n",
    "\n",
    "## **1. Import Packages and Datasets**\n",
    "\n",
    "Load and prepare the labeled dataset for training.\n"
   ]
  },
  {
   "cell_type": "code",
   "execution_count": 2,
   "id": "87c28f9d",
   "metadata": {},
   "outputs": [],
   "source": [
    "import numpy as np\n",
    "import pandas as pd\n",
    "import torch\n",
    "from transformers import (AutoTokenizer,DistilBertForSequenceClassification,\n",
    "                          TrainingArguments, Trainer, DataCollatorWithPadding)                         \n",
    "from sklearn.model_selection import train_test_split\n",
    "from datasets import Dataset\n",
    "\n",
    "import sys\n",
    "sys.path.append('../src')\n",
    "import text_processing_functions as tp\n",
    "\n",
    "import time\n",
    "\n",
    "from sklearn.metrics import accuracy_score, precision_recall_fscore_support\n",
    "from transformers import set_seed\n",
    "import random\n",
    "\n",
    "seed = 42\n",
    "set_seed(seed)\n",
    "random.seed(seed)\n",
    "torch.manual_seed(seed)\n",
    "if torch.cuda.is_available():\n",
    "    torch.cuda.manual_seed_all(seed)\n",
    "\n",
    "import warnings\n",
    "from sklearn.exceptions import UndefinedMetricWarning\n",
    "\n",
    "warnings.filterwarnings(\"ignore\", category=UndefinedMetricWarning)\n"
   ]
  },
  {
   "cell_type": "code",
   "execution_count": 3,
   "id": "e8bed83e",
   "metadata": {},
   "outputs": [
    {
     "name": "stdout",
     "output_type": "stream",
     "text": [
      "<class 'pandas.core.frame.DataFrame'>\n",
      "RangeIndex: 599 entries, 0 to 598\n",
      "Data columns (total 3 columns):\n",
      " #   Column         Non-Null Count  Dtype \n",
      "---  ------         --------------  ----- \n",
      " 0   subreddit      599 non-null    object\n",
      " 1   text_all       599 non-null    object\n",
      " 2   anxiety_level  599 non-null    int64 \n",
      "dtypes: int64(1), object(2)\n",
      "memory usage: 14.2+ KB\n"
     ]
    },
    {
     "data": {
      "text/plain": [
       "None"
      ]
     },
     "metadata": {},
     "output_type": "display_data"
    },
    {
     "data": {
      "text/plain": [
       "subreddit\n",
       "unpopularopinion    81\n",
       "Anxiety             81\n",
       "TrueOffMyChest      79\n",
       "economy             78\n",
       "mentalhealth        75\n",
       "OpenAI              74\n",
       "GetMotivated        72\n",
       "HealthAnxiety       59\n",
       "Name: count, dtype: int64"
      ]
     },
     "metadata": {},
     "output_type": "display_data"
    },
    {
     "data": {
      "text/html": [
       "<div>\n",
       "<style scoped>\n",
       "    .dataframe tbody tr th:only-of-type {\n",
       "        vertical-align: middle;\n",
       "    }\n",
       "\n",
       "    .dataframe tbody tr th {\n",
       "        vertical-align: top;\n",
       "    }\n",
       "\n",
       "    .dataframe thead th {\n",
       "        text-align: right;\n",
       "    }\n",
       "</style>\n",
       "<table border=\"1\" class=\"dataframe\">\n",
       "  <thead>\n",
       "    <tr style=\"text-align: right;\">\n",
       "      <th></th>\n",
       "      <th>subreddit</th>\n",
       "      <th>text_all</th>\n",
       "      <th>anxiety_level</th>\n",
       "    </tr>\n",
       "  </thead>\n",
       "  <tbody>\n",
       "    <tr>\n",
       "      <th>0</th>\n",
       "      <td>HealthAnxiety</td>\n",
       "      <td>how do you stop thinking\\n\\nis today the day? ...</td>\n",
       "      <td>1</td>\n",
       "    </tr>\n",
       "    <tr>\n",
       "      <th>1</th>\n",
       "      <td>HealthAnxiety</td>\n",
       "      <td>mammogram\\n\\ni’m 42 and have suffered with hea...</td>\n",
       "      <td>1</td>\n",
       "    </tr>\n",
       "  </tbody>\n",
       "</table>\n",
       "</div>"
      ],
      "text/plain": [
       "       subreddit                                           text_all  \\\n",
       "0  HealthAnxiety  how do you stop thinking\\n\\nis today the day? ...   \n",
       "1  HealthAnxiety  mammogram\\n\\ni’m 42 and have suffered with hea...   \n",
       "\n",
       "   anxiety_level  \n",
       "0              1  \n",
       "1              1  "
      ]
     },
     "execution_count": 3,
     "metadata": {},
     "output_type": "execute_result"
    }
   ],
   "source": [
    "human_label = pd.read_csv('../data/processed/sample_human_labels.csv')\n",
    "human_label = human_label[['subreddit','text_all', 'anxiety_level']] #subreddit, column need to be tokenized and target\n",
    "display(human_label.info())\n",
    "display(human_label['subreddit'].value_counts())\n",
    "human_label.head(2)"
   ]
  },
  {
   "cell_type": "code",
   "execution_count": 4,
   "id": "092b4be8",
   "metadata": {},
   "outputs": [
    {
     "name": "stdout",
     "output_type": "stream",
     "text": [
      "<class 'pandas.core.frame.DataFrame'>\n",
      "RangeIndex: 1000 entries, 0 to 999\n",
      "Data columns (total 3 columns):\n",
      " #   Column         Non-Null Count  Dtype \n",
      "---  ------         --------------  ----- \n",
      " 0   subreddit      1000 non-null   object\n",
      " 1   text_all       1000 non-null   object\n",
      " 2   anxiety_level  1000 non-null   int64 \n",
      "dtypes: int64(1), object(2)\n",
      "memory usage: 23.6+ KB\n"
     ]
    },
    {
     "data": {
      "text/plain": [
       "None"
      ]
     },
     "metadata": {},
     "output_type": "display_data"
    },
    {
     "data": {
      "text/plain": [
       "subreddit\n",
       "unpopularopinion    157\n",
       "Anxiety             151\n",
       "TrueOffMyChest      143\n",
       "economy             140\n",
       "mentalhealth        125\n",
       "OpenAI              122\n",
       "GetMotivated        109\n",
       "HealthAnxiety        53\n",
       "Name: count, dtype: int64"
      ]
     },
     "metadata": {},
     "output_type": "display_data"
    },
    {
     "data": {
      "text/html": [
       "<div>\n",
       "<style scoped>\n",
       "    .dataframe tbody tr th:only-of-type {\n",
       "        vertical-align: middle;\n",
       "    }\n",
       "\n",
       "    .dataframe tbody tr th {\n",
       "        vertical-align: top;\n",
       "    }\n",
       "\n",
       "    .dataframe thead th {\n",
       "        text-align: right;\n",
       "    }\n",
       "</style>\n",
       "<table border=\"1\" class=\"dataframe\">\n",
       "  <thead>\n",
       "    <tr style=\"text-align: right;\">\n",
       "      <th></th>\n",
       "      <th>subreddit</th>\n",
       "      <th>text_all</th>\n",
       "      <th>anxiety_level</th>\n",
       "    </tr>\n",
       "  </thead>\n",
       "  <tbody>\n",
       "    <tr>\n",
       "      <th>0</th>\n",
       "      <td>economy</td>\n",
       "      <td>cre: the other real estate debacle developing</td>\n",
       "      <td>0</td>\n",
       "    </tr>\n",
       "    <tr>\n",
       "      <th>1</th>\n",
       "      <td>Anxiety</td>\n",
       "      <td>scared i have dementia or early onset or somet...</td>\n",
       "      <td>1</td>\n",
       "    </tr>\n",
       "  </tbody>\n",
       "</table>\n",
       "</div>"
      ],
      "text/plain": [
       "  subreddit                                           text_all  anxiety_level\n",
       "0   economy      cre: the other real estate debacle developing              0\n",
       "1   Anxiety  scared i have dementia or early onset or somet...              1"
      ]
     },
     "execution_count": 4,
     "metadata": {},
     "output_type": "execute_result"
    }
   ],
   "source": [
    "ai_label = pd.read_csv('../data/processed/simple_ai_labels.csv')\n",
    "ai_label['anxiety_level'] = np.where(ai_label['ai_severity']>=3, 1,0)\n",
    "\n",
    "raw_data = pd.read_parquet('../data/processed/reddit_anxiety_v1.parquet')\n",
    "ai_label = ai_label.merge(raw_data[['post_id', 'text_all']], on='post_id', how='left')\n",
    "ai_label = ai_label[['subreddit','text_all', 'anxiety_level']] # subreddit, column need to be tokenized and target\n",
    "display(ai_label.info())\n",
    "display(ai_label['subreddit'].value_counts())\n",
    "ai_label.head(2)"
   ]
  },
  {
   "cell_type": "markdown",
   "id": "53c80963",
   "metadata": {},
   "source": [
    "---\n",
    "\n",
    "## **2. Help Functions**\n",
    "\n",
    "Load and prepare the labeled dataset for training.\n"
   ]
  },
  {
   "cell_type": "code",
   "execution_count": 5,
   "id": "88051b08",
   "metadata": {},
   "outputs": [],
   "source": [
    "import matplotlib.pyplot as plt\n",
    "import seaborn as sns\n",
    "from sklearn.metrics import roc_auc_score, average_precision_score\n",
    "\n",
    "def examine_text(df, text_col, human_label=True):\n",
    "    df['text_length'] = df[text_col].apply(lambda x: len(x.split()))\n",
    "    df.sort_values('subreddit', ascending=False, inplace=True)\n",
    "    plt.figure(figsize=(12, 4))\n",
    "    sns.boxplot(data=df, x='subreddit', y='text_length')\n",
    "    if human_label:\n",
    "        plt.title('Distribution of Text Lengths (Human Labeled Data)')\n",
    "    else:\n",
    "        plt.title('Distribution of Text Lengths (AI Labeled Data)')\n",
    "    plt.xticks(rotation=90, fontsize=8)\n",
    "    plt.xlabel('Subreddit')\n",
    "    plt.ylabel('Number of Words')\n",
    "    plt.show()\n",
    "    df.drop(columns=['text_length'], inplace=True)\n",
    "\n",
    "def compute_metrics(eval_pred):\n",
    "    logits, labels = eval_pred\n",
    "    logits = np.array(logits)\n",
    "    labels = np.array(labels)\n",
    "\n",
    "    if logits.ndim == 1:\n",
    "        logits = np.expand_dims(logits, -1)\n",
    "\n",
    "    preds = np.argmax(logits, axis=-1)\n",
    "\n",
    "    precision, recall, f1, _ = precision_recall_fscore_support(\n",
    "        labels,\n",
    "        preds,\n",
    "        average=\"weighted\",\n",
    "        zero_division=0,\n",
    "    )\n",
    "    accuracy = accuracy_score(labels, preds)\n",
    "\n",
    "    metrics = {\n",
    "        \"accuracy\": accuracy,\n",
    "        \"f1_weighted\": f1,\n",
    "        \"precision_weighted\": precision,\n",
    "        \"recall_weighted\": recall,\n",
    "    }\n",
    "    # Compute ROC AUC and Average Precision for binary classification\n",
    "    exp_logits = np.exp(logits - np.max(logits, axis=-1, keepdims=True))\n",
    "    probs = exp_logits / exp_logits.sum(axis=-1, keepdims=True)\n",
    "\n",
    "    prob_pos = probs[:, 1]\n",
    "    metrics[\"roc_auc\"] = roc_auc_score(labels, prob_pos)\n",
    "    metrics[\"average_precision\"] = average_precision_score(labels, prob_pos)\n",
    "\n",
    "    return metrics\n"
   ]
  },
  {
   "cell_type": "markdown",
   "id": "51e5a5e7",
   "metadata": {},
   "source": [
    "---\n",
    "\n",
    "## **3. Text Examination and Process**"
   ]
  },
  {
   "cell_type": "code",
   "execution_count": 6,
   "id": "48f7b131",
   "metadata": {},
   "outputs": [
    {
     "data": {
      "image/png": "[encoded data removed]",
      "text/plain": [
       "<Figure size 1200x400 with 1 Axes>"
      ]
     },
     "metadata": {},
     "output_type": "display_data"
    },
    {
     "data": {
      "image/png": "[encoded data removed]",
      "text/plain": [
       "<Figure size 1200x400 with 1 Axes>"
      ]
     },
     "metadata": {},
     "output_type": "display_data"
    }
   ],
   "source": [
    "examine_text(human_label, 'text_all')\n",
    "examine_text(ai_label, 'text_all')"
   ]
  },
  {
   "cell_type": "markdown",
   "id": "635ce712",
   "metadata": {},
   "source": [
    "Major text length looks similar, mainly below 500 words."
   ]
  },
  {
   "cell_type": "markdown",
   "id": "10333e87",
   "metadata": {},
   "source": [
    "---\n",
    "\n",
    "## **2. Dataset Comparison**\n",
    "\n",
    "Prepare and train DistilBERT model on labeled Reddit posts."
   ]
  },
  {
   "cell_type": "code",
   "execution_count": 7,
   "id": "3fd3d55b",
   "metadata": {},
   "outputs": [],
   "source": [
    "# test text processing methods using simple distilBERT model\n",
    "from datasets import Dataset, DatasetDict\n",
    "def split_data(indf, target_col = 'anxiety_level', test_size=0.2, val_size=0.1, random_state=42):\n",
    "    \"\"\"\n",
    "    Split the dataframe into training, testing and validation sets.\n",
    "    \"\"\"\n",
    "    train_df, test_df = train_test_split(indf, test_size=test_size, random_state=random_state, stratify=indf[target_col])\n",
    "    train_val_df, val_df = train_test_split(train_df, test_size=val_size, random_state=random_state, stratify=train_df[target_col])\n",
    "\n",
    "    dataset = DatasetDict({\n",
    "        \"train\": Dataset.from_pandas(train_val_df.reset_index(drop=True)),\n",
    "        \"validation\": Dataset.from_pandas(val_df.reset_index(drop=True)),\n",
    "        \"test\": Dataset.from_pandas(test_df.reset_index(drop=True)),\n",
    "    })\n",
    "    return dataset"
   ]
  },
  {
   "cell_type": "code",
   "execution_count": 8,
   "id": "92ecaa4a",
   "metadata": {},
   "outputs": [
    {
     "name": "stderr",
     "output_type": "stream",
     "text": [
      "Setting TOKENIZERS_PARALLELISM=false for forked processes.\n"
     ]
    },
    {
     "name": "stdout",
     "output_type": "stream",
     "text": [
      "Starting experiments...\n",
      "Testing human_label...\n"
     ]
    },
    {
     "data": {
      "application/vnd.jupyter.widget-view+json": {
       "model_id": "f91c0d61612b4edea37d1b91dcb81992",
       "version_major": 2,
       "version_minor": 0
      },
      "text/plain": [
       "Tokenizing human_label (num_proc=8):   0%|          | 0/431 [00:00<?, ? examples/s]"
      ]
     },
     "metadata": {},
     "output_type": "display_data"
    },
    {
     "name": "stderr",
     "output_type": "stream",
     "text": [
      "Setting TOKENIZERS_PARALLELISM=false for forked processes.\n"
     ]
    },
    {
     "data": {
      "application/vnd.jupyter.widget-view+json": {
       "model_id": "d9074f9135ec484abc003744a13c544f",
       "version_major": 2,
       "version_minor": 0
      },
      "text/plain": [
       "Tokenizing human_label (num_proc=8):   0%|          | 0/48 [00:00<?, ? examples/s]"
      ]
     },
     "metadata": {},
     "output_type": "display_data"
    },
    {
     "name": "stderr",
     "output_type": "stream",
     "text": [
      "Setting TOKENIZERS_PARALLELISM=false for forked processes.\n"
     ]
    },
    {
     "data": {
      "application/vnd.jupyter.widget-view+json": {
       "model_id": "0d855958e90b4a21974b5cb6499b6260",
       "version_major": 2,
       "version_minor": 0
      },
      "text/plain": [
       "Tokenizing human_label (num_proc=8):   0%|          | 0/120 [00:00<?, ? examples/s]"
      ]
     },
     "metadata": {},
     "output_type": "display_data"
    },
    {
     "name": "stderr",
     "output_type": "stream",
     "text": [
      "Some weights of DistilBertForSequenceClassification were not initialized from the model checkpoint at distilbert-base-uncased and are newly initialized: ['classifier.bias', 'classifier.weight', 'pre_classifier.bias', 'pre_classifier.weight']\n",
      "You should probably TRAIN this model on a down-stream task to be able to use it for predictions and inference.\n"
     ]
    },
    {
     "data": {
      "text/html": [
       "\n",
       "    <div>\n",
       "      \n",
       "      <progress value='27' max='27' style='width:300px; height:20px; vertical-align: middle;'></progress>\n",
       "      [27/27 02:15, Epoch 1/1]\n",
       "    </div>\n",
       "    <table border=\"1\" class=\"dataframe\">\n",
       "  <thead>\n",
       " <tr style=\"text-align: left;\">\n",
       "      <th>Step</th>\n",
       "      <th>Training Loss</th>\n",
       "    </tr>\n",
       "  </thead>\n",
       "  <tbody>\n",
       "  </tbody>\n",
       "</table><p>"
      ],
      "text/plain": [
       "<IPython.core.display.HTML object>"
      ]
     },
     "metadata": {},
     "output_type": "display_data"
    },
    {
     "data": {
      "text/html": [
       "\n",
       "    <div>\n",
       "      \n",
       "      <progress value='4' max='4' style='width:300px; height:20px; vertical-align: middle;'></progress>\n",
       "      [4/4 00:08]\n",
       "    </div>\n",
       "    "
      ],
      "text/plain": [
       "<IPython.core.display.HTML object>"
      ]
     },
     "metadata": {},
     "output_type": "display_data"
    },
    {
     "name": "stderr",
     "output_type": "stream",
     "text": [
      "Setting TOKENIZERS_PARALLELISM=false for forked processes.\n"
     ]
    },
    {
     "name": "stdout",
     "output_type": "stream",
     "text": [
      "Testing ai_label...\n"
     ]
    },
    {
     "data": {
      "application/vnd.jupyter.widget-view+json": {
       "model_id": "46197ca7f65a4309b1765017841c500a",
       "version_major": 2,
       "version_minor": 0
      },
      "text/plain": [
       "Tokenizing ai_label (num_proc=8):   0%|          | 0/720 [00:00<?, ? examples/s]"
      ]
     },
     "metadata": {},
     "output_type": "display_data"
    },
    {
     "name": "stderr",
     "output_type": "stream",
     "text": [
      "Setting TOKENIZERS_PARALLELISM=false for forked processes.\n"
     ]
    },
    {
     "data": {
      "application/vnd.jupyter.widget-view+json": {
       "model_id": "564ace0d29184ced809732f05fb208fb",
       "version_major": 2,
       "version_minor": 0
      },
      "text/plain": [
       "Tokenizing ai_label (num_proc=8):   0%|          | 0/80 [00:00<?, ? examples/s]"
      ]
     },
     "metadata": {},
     "output_type": "display_data"
    },
    {
     "name": "stderr",
     "output_type": "stream",
     "text": [
      "Setting TOKENIZERS_PARALLELISM=false for forked processes.\n"
     ]
    },
    {
     "data": {
      "application/vnd.jupyter.widget-view+json": {
       "model_id": "1edb292cb52545beb6f25cab40820147",
       "version_major": 2,
       "version_minor": 0
      },
      "text/plain": [
       "Tokenizing ai_label (num_proc=8):   0%|          | 0/200 [00:00<?, ? examples/s]"
      ]
     },
     "metadata": {},
     "output_type": "display_data"
    },
    {
     "name": "stderr",
     "output_type": "stream",
     "text": [
      "Some weights of DistilBertForSequenceClassification were not initialized from the model checkpoint at distilbert-base-uncased and are newly initialized: ['classifier.bias', 'classifier.weight', 'pre_classifier.bias', 'pre_classifier.weight']\n",
      "You should probably TRAIN this model on a down-stream task to be able to use it for predictions and inference.\n"
     ]
    },
    {
     "data": {
      "text/html": [
       "\n",
       "    <div>\n",
       "      \n",
       "      <progress value='45' max='45' style='width:300px; height:20px; vertical-align: middle;'></progress>\n",
       "      [45/45 03:48, Epoch 1/1]\n",
       "    </div>\n",
       "    <table border=\"1\" class=\"dataframe\">\n",
       "  <thead>\n",
       " <tr style=\"text-align: left;\">\n",
       "      <th>Step</th>\n",
       "      <th>Training Loss</th>\n",
       "    </tr>\n",
       "  </thead>\n",
       "  <tbody>\n",
       "  </tbody>\n",
       "</table><p>"
      ],
      "text/plain": [
       "<IPython.core.display.HTML object>"
      ]
     },
     "metadata": {},
     "output_type": "display_data"
    },
    {
     "data": {
      "text/html": [
       "\n",
       "    <div>\n",
       "      \n",
       "      <progress value='7' max='7' style='width:300px; height:20px; vertical-align: middle;'></progress>\n",
       "      [7/7 00:23]\n",
       "    </div>\n",
       "    "
      ],
      "text/plain": [
       "<IPython.core.display.HTML object>"
      ]
     },
     "metadata": {},
     "output_type": "display_data"
    },
    {
     "name": "stdout",
     "output_type": "stream",
     "text": [
      "Total time for all experiments: 420.95 seconds\n"
     ]
    },
    {
     "data": {
      "text/html": [
       "<div>\n",
       "<style scoped>\n",
       "    .dataframe tbody tr th:only-of-type {\n",
       "        vertical-align: middle;\n",
       "    }\n",
       "\n",
       "    .dataframe tbody tr th {\n",
       "        vertical-align: top;\n",
       "    }\n",
       "\n",
       "    .dataframe thead th {\n",
       "        text-align: right;\n",
       "    }\n",
       "</style>\n",
       "<table border=\"1\" class=\"dataframe\">\n",
       "  <thead>\n",
       "    <tr style=\"text-align: right;\">\n",
       "      <th></th>\n",
       "      <th>dataset</th>\n",
       "      <th>eval_loss</th>\n",
       "      <th>eval_accuracy</th>\n",
       "      <th>eval_f1_weighted</th>\n",
       "      <th>eval_precision_weighted</th>\n",
       "      <th>eval_recall_weighted</th>\n",
       "      <th>eval_roc_auc</th>\n",
       "      <th>eval_average_precision</th>\n",
       "      <th>eval_runtime</th>\n",
       "      <th>eval_samples_per_second</th>\n",
       "      <th>eval_steps_per_second</th>\n",
       "      <th>epoch</th>\n",
       "    </tr>\n",
       "  </thead>\n",
       "  <tbody>\n",
       "    <tr>\n",
       "      <th>0</th>\n",
       "      <td>human_label</td>\n",
       "      <td>2.705281</td>\n",
       "      <td>0.658333</td>\n",
       "      <td>0.522697</td>\n",
       "      <td>0.433403</td>\n",
       "      <td>0.658333</td>\n",
       "      <td>0.769991</td>\n",
       "      <td>0.613153</td>\n",
       "      <td>12.5965</td>\n",
       "      <td>9.526</td>\n",
       "      <td>0.318</td>\n",
       "      <td>1.0</td>\n",
       "    </tr>\n",
       "    <tr>\n",
       "      <th>1</th>\n",
       "      <td>ai_label</td>\n",
       "      <td>1.898472</td>\n",
       "      <td>0.800000</td>\n",
       "      <td>0.799520</td>\n",
       "      <td>0.809394</td>\n",
       "      <td>0.800000</td>\n",
       "      <td>0.880602</td>\n",
       "      <td>0.868940</td>\n",
       "      <td>26.8545</td>\n",
       "      <td>7.448</td>\n",
       "      <td>0.261</td>\n",
       "      <td>1.0</td>\n",
       "    </tr>\n",
       "  </tbody>\n",
       "</table>\n",
       "</div>"
      ],
      "text/plain": [
       "       dataset  eval_loss  eval_accuracy  eval_f1_weighted  \\\n",
       "0  human_label   2.705281       0.658333          0.522697   \n",
       "1     ai_label   1.898472       0.800000          0.799520   \n",
       "\n",
       "   eval_precision_weighted  eval_recall_weighted  eval_roc_auc  \\\n",
       "0                 0.433403              0.658333      0.769991   \n",
       "1                 0.809394              0.800000      0.880602   \n",
       "\n",
       "   eval_average_precision  eval_runtime  eval_samples_per_second  \\\n",
       "0                0.613153       12.5965                    9.526   \n",
       "1                0.868940       26.8545                    7.448   \n",
       "\n",
       "   eval_steps_per_second  epoch  \n",
       "0                  0.318    1.0  \n",
       "1                  0.261    1.0  "
      ]
     },
     "metadata": {},
     "output_type": "display_data"
    }
   ],
   "source": [
    "from functools import partial\n",
    "import accelerate\n",
    "import os\n",
    "import time\n",
    "from copy import deepcopy\n",
    "from functools import partial\n",
    "\n",
    "os.environ.setdefault(\"TOKENIZERS_PARALLELISM\", \"true\")\n",
    "# Load tokenizer\n",
    "checkpoint = \"distilbert-base-uncased\"\n",
    "tokenizer = AutoTokenizer.from_pretrained(checkpoint)\n",
    "\n",
    "data_collator = DataCollatorWithPadding(\n",
    "    tokenizer=tokenizer,\n",
    "    pad_to_multiple_of=8 if torch.cuda.is_available() else None,\n",
    ")\n",
    "\n",
    "# Tokenize the dataset\n",
    "def tokenize(batch, text_col):\n",
    "    return tokenizer(batch[text_col], truncation=True, padding=True)\n",
    "\n",
    "human_dataset = split_data(human_label, \"anxiety_level\", test_size=0.2, val_size=0.1, random_state=42)\n",
    "ai_dataset = split_data(ai_label, \"anxiety_level\", test_size=0.2, val_size=0.1, random_state=42)\n",
    "\n",
    "configs = [\n",
    "    (human_dataset, \"human_label\"),\n",
    "    (ai_dataset, \"ai_label\")\n",
    "]\n",
    "\n",
    "num_proc = max(1, min(os.cpu_count() or 1, 8))\n",
    "tokenized_cache = {}\n",
    "model_cache = {}\n",
    "\n",
    "start_time = time.time()\n",
    "df_list, metrics_result = [], []\n",
    "print(\"Starting experiments...\")\n",
    "\n",
    "for df, df_name in configs:\n",
    "    print(f\"Testing {df_name}...\")\n",
    "\n",
    "    cache_key = (df_name)\n",
    "    if cache_key not in tokenized_cache:\n",
    "        map_kwargs = dict(\n",
    "            batched=True,\n",
    "            load_from_cache_file=True,\n",
    "            desc=f\"Tokenizing {df_name}\",\n",
    "        )\n",
    "        if num_proc > 1:\n",
    "            map_kwargs[\"num_proc\"] = num_proc\n",
    "\n",
    "        tokenized_dataset = df.map(partial(tokenize, text_col=\"text_all\"), **map_kwargs)\n",
    "        tokenized_dataset = tokenized_dataset.rename_column(\"anxiety_level\", \"labels\")\n",
    "        tokenized_dataset = tokenized_dataset.with_format(\"torch\")\n",
    "        tokenized_cache[cache_key] = tokenized_dataset\n",
    "    else:\n",
    "        tokenized_dataset = tokenized_cache[cache_key]\n",
    "\n",
    "    num_labels = len(set(tokenized_dataset[\"train\"][\"labels\"]))\n",
    "    if num_labels not in model_cache:\n",
    "        model_cache[num_labels] = DistilBertForSequenceClassification.from_pretrained(\n",
    "            checkpoint, num_labels=num_labels\n",
    "        )\n",
    "    model = deepcopy(model_cache[num_labels])\n",
    "\n",
    "    # simple args for quick testing\n",
    "    args = TrainingArguments(\n",
    "    output_dir=\"distilbert-text-clf\",\n",
    "    save_strategy=\"no\",\n",
    "    learning_rate=7e-5,\n",
    "    per_device_train_batch_size=16,\n",
    "    per_device_eval_batch_size=32,\n",
    "    num_train_epochs=1,\n",
    "    weight_decay=0.0,\n",
    "    logging_strategy=\"no\",\n",
    "    )\n",
    "\n",
    "    trainer = Trainer(\n",
    "        model=model,\n",
    "        args=args,\n",
    "        train_dataset=tokenized_dataset[\"train\"],\n",
    "        eval_dataset=tokenized_dataset[\"validation\"],\n",
    "        processing_class=tokenizer,\n",
    "        data_collator=data_collator,\n",
    "        compute_metrics=compute_metrics,\n",
    "    )\n",
    "\n",
    "    trainer.train()\n",
    "    metrics = trainer.evaluate(tokenized_dataset[\"test\"])\n",
    "\n",
    "    df_list.append(df_name)\n",
    "    metrics_result.append(metrics)\n",
    "\n",
    "total_time = time.time() - start_time\n",
    "print(f\"Total time for all experiments: {total_time:.2f} seconds\")\n",
    "\n",
    "metrics_df = pd.DataFrame(metrics_result)\n",
    "metrics_df[\"dataset\"] = df_list\n",
    "metrics_df = metrics_df[\n",
    "    [\"dataset\"]\n",
    "    + [col for col in metrics_df.columns if col not in {\"dataset\"}]\n",
    "]\n",
    "display(metrics_df)"
   ]
  },
  {
   "cell_type": "markdown",
   "id": "62cad529",
   "metadata": {},
   "source": [
    "**Key Finding** \n",
    "- AI-labeled runs are ahead across the board: \n",
    "    - higher accuracy (0.80 vs 0.66), \n",
    "    - weighted F1 (0.80 vs 0.52), \n",
    "    - and especially the ranking metrics—ROC AUC at 0.881 vs 0.770 and \n",
    "    - Average Precision at 0.869 vs 0.613. \n",
    "    - That suggests the AI annotations for this setup are cleaner or simply better aligned with the model’s inductive bias.\n",
    "- AI labeled data makes distilBERT model has better performance. based on the result of comparison, we will use ai_label dataset for imporved training.\n",
    "- this might due to human labeled contains more human bias, incosistency. human labeled dataset is labeled by one person in this project due to limited time, hence heavy incosistency might be introduced, this might cause by personal opionion, preference, mental fatigues. "
   ]
  },
  {
   "cell_type": "code",
   "execution_count": 9,
   "id": "dc23264a",
   "metadata": {},
   "outputs": [
    {
     "name": "stdout",
     "output_type": "stream",
     "text": [
      "Training with epochs=5, lr=0.0001, weight_decay=0.01\n"
     ]
    },
    {
     "data": {
      "text/html": [
       "\n",
       "    <div>\n",
       "      \n",
       "      <progress value='225' max='225' style='width:300px; height:20px; vertical-align: middle;'></progress>\n",
       "      [225/225 24:49, Epoch 5/5]\n",
       "    </div>\n",
       "    <table border=\"1\" class=\"dataframe\">\n",
       "  <thead>\n",
       " <tr style=\"text-align: left;\">\n",
       "      <th>Step</th>\n",
       "      <th>Training Loss</th>\n",
       "    </tr>\n",
       "  </thead>\n",
       "  <tbody>\n",
       "    <tr>\n",
       "      <td>45</td>\n",
       "      <td>2.237600</td>\n",
       "    </tr>\n",
       "    <tr>\n",
       "      <td>90</td>\n",
       "      <td>0.472000</td>\n",
       "    </tr>\n",
       "    <tr>\n",
       "      <td>135</td>\n",
       "      <td>0.290200</td>\n",
       "    </tr>\n",
       "    <tr>\n",
       "      <td>180</td>\n",
       "      <td>0.130700</td>\n",
       "    </tr>\n",
       "    <tr>\n",
       "      <td>225</td>\n",
       "      <td>0.047700</td>\n",
       "    </tr>\n",
       "  </tbody>\n",
       "</table><p>"
      ],
      "text/plain": [
       "<IPython.core.display.HTML object>"
      ]
     },
     "metadata": {},
     "output_type": "display_data"
    },
    {
     "data": {
      "text/html": [
       "\n",
       "    <div>\n",
       "      \n",
       "      <progress value='7' max='7' style='width:300px; height:20px; vertical-align: middle;'></progress>\n",
       "      [7/7 00:25]\n",
       "    </div>\n",
       "    "
      ],
      "text/plain": [
       "<IPython.core.display.HTML object>"
      ]
     },
     "metadata": {},
     "output_type": "display_data"
    },
    {
     "name": "stdout",
     "output_type": "stream",
     "text": [
      "Training with epochs=3, lr=3e-05, weight_decay=0.03\n"
     ]
    },
    {
     "data": {
      "text/html": [
       "\n",
       "    <div>\n",
       "      \n",
       "      <progress value='135' max='135' style='width:300px; height:20px; vertical-align: middle;'></progress>\n",
       "      [135/135 27:06, Epoch 3/3]\n",
       "    </div>\n",
       "    <table border=\"1\" class=\"dataframe\">\n",
       "  <thead>\n",
       " <tr style=\"text-align: left;\">\n",
       "      <th>Step</th>\n",
       "      <th>Training Loss</th>\n",
       "    </tr>\n",
       "  </thead>\n",
       "  <tbody>\n",
       "    <tr>\n",
       "      <td>45</td>\n",
       "      <td>0.050100</td>\n",
       "    </tr>\n",
       "    <tr>\n",
       "      <td>90</td>\n",
       "      <td>0.034200</td>\n",
       "    </tr>\n",
       "    <tr>\n",
       "      <td>135</td>\n",
       "      <td>0.028100</td>\n",
       "    </tr>\n",
       "  </tbody>\n",
       "</table><p>"
      ],
      "text/plain": [
       "<IPython.core.display.HTML object>"
      ]
     },
     "metadata": {},
     "output_type": "display_data"
    },
    {
     "data": {
      "text/html": [
       "\n",
       "    <div>\n",
       "      \n",
       "      <progress value='7' max='7' style='width:300px; height:20px; vertical-align: middle;'></progress>\n",
       "      [7/7 00:17]\n",
       "    </div>\n",
       "    "
      ],
      "text/plain": [
       "<IPython.core.display.HTML object>"
      ]
     },
     "metadata": {},
     "output_type": "display_data"
    },
    {
     "name": "stdout",
     "output_type": "stream",
     "text": [
      "Training with epochs=2, lr=5e-05, weight_decay=0.05\n"
     ]
    },
    {
     "data": {
      "text/html": [
       "\n",
       "    <div>\n",
       "      \n",
       "      <progress value='90' max='90' style='width:300px; height:20px; vertical-align: middle;'></progress>\n",
       "      [90/90 07:14, Epoch 2/2]\n",
       "    </div>\n",
       "    <table border=\"1\" class=\"dataframe\">\n",
       "  <thead>\n",
       " <tr style=\"text-align: left;\">\n",
       "      <th>Step</th>\n",
       "      <th>Training Loss</th>\n",
       "    </tr>\n",
       "  </thead>\n",
       "  <tbody>\n",
       "    <tr>\n",
       "      <td>45</td>\n",
       "      <td>0.065000</td>\n",
       "    </tr>\n",
       "    <tr>\n",
       "      <td>90</td>\n",
       "      <td>0.011800</td>\n",
       "    </tr>\n",
       "  </tbody>\n",
       "</table><p>"
      ],
      "text/plain": [
       "<IPython.core.display.HTML object>"
      ]
     },
     "metadata": {},
     "output_type": "display_data"
    },
    {
     "data": {
      "text/html": [
       "\n",
       "    <div>\n",
       "      \n",
       "      <progress value='7' max='7' style='width:300px; height:20px; vertical-align: middle;'></progress>\n",
       "      [7/7 00:16]\n",
       "    </div>\n",
       "    "
      ],
      "text/plain": [
       "<IPython.core.display.HTML object>"
      ]
     },
     "metadata": {},
     "output_type": "display_data"
    },
    {
     "name": "stdout",
     "output_type": "stream",
     "text": [
      "Total time for hyperparameter tuning: 3641.02 seconds\n"
     ]
    },
    {
     "data": {
      "text/html": [
       "<div>\n",
       "<style scoped>\n",
       "    .dataframe tbody tr th:only-of-type {\n",
       "        vertical-align: middle;\n",
       "    }\n",
       "\n",
       "    .dataframe tbody tr th {\n",
       "        vertical-align: top;\n",
       "    }\n",
       "\n",
       "    .dataframe thead th {\n",
       "        text-align: right;\n",
       "    }\n",
       "</style>\n",
       "<table border=\"1\" class=\"dataframe\">\n",
       "  <thead>\n",
       "    <tr style=\"text-align: right;\">\n",
       "      <th></th>\n",
       "      <th>epochs</th>\n",
       "      <th>learning_rate</th>\n",
       "      <th>weight_decay</th>\n",
       "      <th>eval_loss</th>\n",
       "      <th>eval_accuracy</th>\n",
       "      <th>eval_f1_weighted</th>\n",
       "      <th>eval_precision_weighted</th>\n",
       "      <th>eval_recall_weighted</th>\n",
       "      <th>eval_roc_auc</th>\n",
       "      <th>eval_average_precision</th>\n",
       "      <th>eval_runtime</th>\n",
       "      <th>eval_samples_per_second</th>\n",
       "      <th>eval_steps_per_second</th>\n",
       "      <th>epoch</th>\n",
       "    </tr>\n",
       "  </thead>\n",
       "  <tbody>\n",
       "    <tr>\n",
       "      <th>0</th>\n",
       "      <td>5</td>\n",
       "      <td>0.00010</td>\n",
       "      <td>0.01</td>\n",
       "      <td>0.676885</td>\n",
       "      <td>0.825</td>\n",
       "      <td>0.825109</td>\n",
       "      <td>0.826250</td>\n",
       "      <td>0.825</td>\n",
       "      <td>0.918797</td>\n",
       "      <td>0.924937</td>\n",
       "      <td>31.3425</td>\n",
       "      <td>6.381</td>\n",
       "      <td>0.223</td>\n",
       "      <td>5.0</td>\n",
       "    </tr>\n",
       "    <tr>\n",
       "      <th>1</th>\n",
       "      <td>3</td>\n",
       "      <td>0.00003</td>\n",
       "      <td>0.03</td>\n",
       "      <td>0.944411</td>\n",
       "      <td>0.830</td>\n",
       "      <td>0.829898</td>\n",
       "      <td>0.835800</td>\n",
       "      <td>0.830</td>\n",
       "      <td>0.927318</td>\n",
       "      <td>0.931835</td>\n",
       "      <td>20.4098</td>\n",
       "      <td>9.799</td>\n",
       "      <td>0.343</td>\n",
       "      <td>3.0</td>\n",
       "    </tr>\n",
       "    <tr>\n",
       "      <th>2</th>\n",
       "      <td>2</td>\n",
       "      <td>0.00005</td>\n",
       "      <td>0.05</td>\n",
       "      <td>1.271806</td>\n",
       "      <td>0.835</td>\n",
       "      <td>0.834839</td>\n",
       "      <td>0.841777</td>\n",
       "      <td>0.835</td>\n",
       "      <td>0.919749</td>\n",
       "      <td>0.923445</td>\n",
       "      <td>20.1903</td>\n",
       "      <td>9.906</td>\n",
       "      <td>0.347</td>\n",
       "      <td>2.0</td>\n",
       "    </tr>\n",
       "  </tbody>\n",
       "</table>\n",
       "</div>"
      ],
      "text/plain": [
       "   epochs  learning_rate  weight_decay  eval_loss  eval_accuracy  \\\n",
       "0       5        0.00010          0.01   0.676885          0.825   \n",
       "1       3        0.00003          0.03   0.944411          0.830   \n",
       "2       2        0.00005          0.05   1.271806          0.835   \n",
       "\n",
       "   eval_f1_weighted  eval_precision_weighted  eval_recall_weighted  \\\n",
       "0          0.825109                 0.826250                 0.825   \n",
       "1          0.829898                 0.835800                 0.830   \n",
       "2          0.834839                 0.841777                 0.835   \n",
       "\n",
       "   eval_roc_auc  eval_average_precision  eval_runtime  \\\n",
       "0      0.918797                0.924937       31.3425   \n",
       "1      0.927318                0.931835       20.4098   \n",
       "2      0.919749                0.923445       20.1903   \n",
       "\n",
       "   eval_samples_per_second  eval_steps_per_second  epoch  \n",
       "0                    6.381                  0.223    5.0  \n",
       "1                    9.799                  0.343    3.0  \n",
       "2                    9.906                  0.347    2.0  "
      ]
     },
     "metadata": {},
     "output_type": "display_data"
    }
   ],
   "source": [
    "# using cached tokenized dataset and model to do final training\n",
    "tokenized_dataset = tokenized_cache[(\"ai_label\")]\n",
    "model = deepcopy(model_cache[len(set(tokenized_dataset[\"train\"][\"labels\"]))])\n",
    "\n",
    "epochs_list = [5, 3, 2]\n",
    "learning_rate_list = [1e-4, 3e-5, 5e-5]\n",
    "weight_decay_list = [0.01, 0.03, 0.05]\n",
    "\n",
    "use_cuda_fp16 = torch.cuda.is_available()\n",
    "\n",
    "\n",
    "epoch_result, learning_rate_result, weight_decay_result, metrics_result = [], [], [], []\n",
    "start_time = time.time()\n",
    "for i in range(len(epochs_list)):\n",
    "    epochs = epochs_list[i]\n",
    "    lr = learning_rate_list[i]\n",
    "    wd = weight_decay_list[i]\n",
    "    print(f\"Training with epochs={epochs}, lr={lr}, weight_decay={wd}\")\n",
    "    args = TrainingArguments(\n",
    "        output_dir=\"distilbert-text-clf\",\n",
    "        save_strategy=\"epoch\",\n",
    "        learning_rate=lr,\n",
    "        per_device_train_batch_size=16,\n",
    "        per_device_eval_batch_size=32,\n",
    "        num_train_epochs=epochs,\n",
    "        weight_decay=wd,\n",
    "        logging_strategy=\"epoch\",\n",
    "        fp16=use_cuda_fp16\n",
    "    )\n",
    "\n",
    "    trainer = Trainer(\n",
    "        model=model,\n",
    "        args=args,\n",
    "        train_dataset=tokenized_dataset[\"train\"],\n",
    "        eval_dataset=tokenized_dataset[\"validation\"],\n",
    "        processing_class=tokenizer,\n",
    "        data_collator=data_collator,\n",
    "        compute_metrics=compute_metrics,\n",
    "    )\n",
    "\n",
    "    trainer.train()\n",
    "    metrics = trainer.evaluate(tokenized_dataset[\"test\"])\n",
    "    epoch_result.append(epochs)\n",
    "    learning_rate_result.append(lr)\n",
    "    weight_decay_result.append(wd)\n",
    "    metrics_result.append(metrics)\n",
    "\n",
    "total_time = time.time() - start_time\n",
    "print(f\"Total time for hyperparameter tuning: {total_time:.2f} seconds\")\n",
    "\n",
    "metrics_comparison = pd.DataFrame(metrics_result)\n",
    "metrics_comparison[\"epochs\"] = epoch_result\n",
    "metrics_comparison[\"learning_rate\"] = learning_rate_result\n",
    "metrics_comparison[\"weight_decay\"] = weight_decay_result\n",
    "metrics_comparison = metrics_comparison[\n",
    "    [\"epochs\", \"learning_rate\", \"weight_decay\"]\n",
    "    + [col for col in metrics_comparison.columns if col not in {\"epochs\", \"learning_rate\", \"weight_decay\"}]\n",
    "]\n",
    "display(metrics_comparison)"
   ]
  }
 ],
 "metadata": {
  "kernelspec": {
   "display_name": "garden_env",
   "language": "python",
   "name": "python3"
  },
  "language_info": {
   "codemirror_mode": {
    "name": "ipython",
    "version": 3
   },
   "file_extension": ".py",
   "mimetype": "text/x-python",
   "name": "python",
   "nbconvert_exporter": "python",
   "pygments_lexer": "ipython3",
   "version": "3.12.4"
  }
 },
 "nbformat": 4,
 "nbformat_minor": 5
}

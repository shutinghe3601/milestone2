{
  "cells": [
    {
      "cell_type": "markdown",
      "metadata": {},
      "source": [
        "[← Previous: Random Forest Classification](07_text_classification_random_forest.ipynb)\n",
        "\n",
        "# Building a Logistic Regression Classifier for Anxiety Trigger Detection\n",
        "\n",
        "**Goal:** Evaluate whether a linear classifier (Logistic Regression) can predict posts that trigger high anxiety.\n",
        "\n",
        "**Approach:** Mirror the Random Forest pipeline with identical data sources, features (TF-IDF + NMF topics + metadata), and three label strategies (hand, AI, combined).\n",
        "\n",
        "**Why Logistic Regression?** Strong baseline for high-dimensional sparse text features; fast to train, interpretable coefficients, and often competitive with tree ensembles for linear-separable patterns.\n"
      ]
    },
    {
      "cell_type": "markdown",
      "metadata": {},
      "source": [
        "---\n"
      ]
    },
    {
      "cell_type": "markdown",
      "metadata": {},
      "source": [
        "## Table of Contents\n",
        "\n",
        "1. [Setup](#1-setup)\n",
        "2. [Load Pre-trained Models](#2-load-pre-trained-models)\n",
        "3. [Create Three Label Sets](#3-create-three-label-sets)\n",
        "4. [Build Features](#4-build-features)\n",
        "5. [Train and Compare](#5-train-and-compare)\n",
        "6. [Save Model for Production](#6-save-model-for-production)\n",
        "7. [Generate Report Statistics](#7-generate-report-statistics)\n",
        "8. [Limitations and Future Work](#8-limitations-and-future-work)\n",
        "\n",
        "[Next: TODO →]\n"
      ]
    },
    {
      "cell_type": "markdown",
      "metadata": {},
      "source": [
        "---\n"
      ]
    },
    {
      "cell_type": "code",
      "execution_count": 1,
      "metadata": {},
      "outputs": [
        {
          "name": "stdout",
          "output_type": "stream",
          "text": [
            "Note: you may need to restart the kernel to use updated packages.\n"
          ]
        },
        {
          "name": "stderr",
          "output_type": "stream",
          "text": [
            "ERROR: Invalid requirement: '<<<<<<< Updated upstream': Expected package name at the start of dependency specifier\n",
            "    <<<<<<< Updated upstream\n",
            "    ^ (from line 15 of ../requirements.txt)\n"
          ]
        }
      ],
      "source": [
        "%pip install -r ../requirements.txt\n"
      ]
    },
    {
      "cell_type": "markdown",
      "metadata": {},
      "source": [
        "---\n"
      ]
    },
    {
      "cell_type": "markdown",
      "metadata": {},
      "source": [
        "## **1. Setup**\n",
        "\n",
        "Import libraries, set paths, define random seed for reproducibility.\n"
      ]
    },
    {
      "cell_type": "code",
      "execution_count": 2,
      "metadata": {},
      "outputs": [
        {
          "name": "stdout",
          "output_type": "stream",
          "text": [
            "(✓) Setup complete\n",
            "  - Data path: ..\\data\\processed\n",
            "  - Artifacts path: ..\\artifacts\n",
            "  - Random seed: 42\n",
            "  - Tokenization: 6 special terms preserved\n"
          ]
        }
      ],
      "source": [
        "# ============================================================================\n",
        "# SETUP AND IMPORTS\n",
        "# ============================================================================\n",
        "\n",
        "# Standard Library\n",
        "import os\n",
        "import json\n",
        "import warnings\n",
        "from pathlib import Path\n",
        "\n",
        "# Data Processing\n",
        "import numpy as np\n",
        "import pandas as pd\n",
        "import joblib\n",
        "\n",
        "# Machine Learning\n",
        "from sklearn.model_selection import train_test_split\n",
        "from sklearn.linear_model import LogisticRegression\n",
        "\n",
        "# Evaluation Metrics\n",
        "from sklearn.metrics import (\n",
        "    classification_report,\n",
        "    roc_auc_score,\n",
        "    average_precision_score,\n",
        "    precision_recall_curve,\n",
        ")\n",
        "\n",
        "# Sparse Matrix Operations\n",
        "from scipy.sparse import hstack, csr_matrix\n",
        "\n",
        "# Visualization\n",
        "import matplotlib.pyplot as plt\n",
        "import seaborn as sns\n",
        "\n",
        "# Configuration\n",
        "SEED = 42\n",
        "np.random.seed(SEED)\n",
        "warnings.filterwarnings(\"ignore\")\n",
        "\n",
        "# Project Paths\n",
        "DATA = Path(\"../data\")\n",
        "PROC = DATA / \"processed\"\n",
        "ART = Path(\"../artifacts\")\n",
        "\n",
        "# Tokenization rules (mirroring RF notebook)\n",
        "TEXT_COL = \"text_all\"\n",
        "PUNCT = \".,!?:;()[]{}\\\"'\" \"''-–—/\\\\\"\n",
        "TRASH = {\"[text]\", \"[image]\", \"[removed]\", \"[deleted]\"}\n",
        "KEEP_SHORT = {\"ecg\", \"sad\", \"ptsd\", \"mom\", \"dad\", \"anx\"}\n",
        "\n",
        "\n",
        "def tokenize(s: str):\n",
        "    tokens = []\n",
        "    for word in str(s).split():\n",
        "        word = word.strip().strip(PUNCT).lower()\n",
        "        if word and word not in TRASH and (len(word) >= 3 or word in KEEP_SHORT):\n",
        "            tokens.append(word)\n",
        "    return tokens\n",
        "\n",
        "\n",
        "print(\"(\\u2713) Setup complete\")\n",
        "print(f\"  - Data path: {PROC}\")\n",
        "print(f\"  - Artifacts path: {ART}\")\n",
        "print(f\"  - Random seed: {SEED}\")\n",
        "print(f\"  - Tokenization: {len(KEEP_SHORT)} special terms preserved\")"
      ]
    },
    {
      "cell_type": "markdown",
      "metadata": {},
      "source": [
        "---\n"
      ]
    },
    {
      "cell_type": "markdown",
      "metadata": {},
      "source": [
        "## **2. Load Pre-trained Models**\n",
        "\n",
        "Load main dataset, pre-trained TF-IDF and NMF components, and both label sources.\n"
      ]
    },
    {
      "cell_type": "code",
      "execution_count": 3,
      "metadata": {},
      "outputs": [
        {
          "name": "stdout",
          "output_type": "stream",
          "text": [
            "(✓) Main dataset: 6,283 posts\n",
            "(✓) TF-IDF Vectorizer: 10,000 features\n",
            "(✓) NMF Topic Model: 15 topics\n",
            "(✓) Hand labels: 599 posts\n",
            "(✓) AI labels: 1,000 posts\n",
            "\n",
            "...DATA LOADED SUCCESSFULLY...\n"
          ]
        }
      ],
      "source": [
        "# ============================================================================\n",
        "# LOAD DATA AND ARTIFACTS\n",
        "# ============================================================================\n",
        "\n",
        "\n",
        "def identity(x):\n",
        "    return x\n",
        "\n",
        "\n",
        "# Main dataset\n",
        "df = pd.read_parquet(PROC / \"reddit_anxiety_v1.parquet\")\n",
        "print(f\"(\\u2713) Main dataset: {len(df):,} posts\")\n",
        "\n",
        "# Pre-trained artifacts\n",
        "vec = joblib.load(ART / \"vec_final.joblib\")\n",
        "print(f\"(\\u2713) TF-IDF Vectorizer: {vec.max_features:,} features\")\n",
        "\n",
        "nmf = joblib.load(ART / \"nmf_final.joblib\")\n",
        "print(f\"(\\u2713) NMF Topic Model: {nmf.n_components} topics\")\n",
        "\n",
        "# Label sources\n",
        "df_hand = pd.read_csv(PROC / \"sample_human_labels.csv\")\n",
        "print(f\"(\\u2713) Hand labels: {len(df_hand):,} posts\")\n",
        "\n",
        "df_ai = pd.read_csv(PROC / \"simple_ai_labels.csv\")\n",
        "print(f\"(\\u2713) AI labels: {len(df_ai):,} posts\")\n",
        "\n",
        "print(\"\\n...DATA LOADED SUCCESSFULLY...\")"
      ]
    },
    {
      "cell_type": "code",
      "execution_count": 4,
      "metadata": {},
      "outputs": [
        {
          "name": "stdout",
          "output_type": "stream",
          "text": [
            "FEATURE DIMENSION VERIFICATION\n",
            "\n",
            "1. TF-IDF Vectorizer:\n",
            "   - Loaded from: ..\\artifacts\\vec_final.joblib\n",
            "   - Max features: 10,000\n",
            "\n",
            "2. NMF Topic Model:\n",
            "   - Loaded from: ..\\artifacts\\nmf_final.joblib\n",
            "   - Number of topics: 15\n",
            "\n",
            "3. Feature Matrix Dimensions (for 1 sample):\n",
            "   - TF-IDF shape: (1, 10000)\n",
            "   - NMF topics shape: (1, 15)\n",
            "   - Metadata features: 3 (len=164, url=0, nrc=0.000)\n",
            "\n",
            "TOTAL FEATURE COUNT: 10,018 features\n"
          ]
        }
      ],
      "source": [
        "# ============================================================================\n",
        "# VERIFICATION: CHECK FEATURE DIMENSIONS\n",
        "# ============================================================================\n",
        "\n",
        "print(\"FEATURE DIMENSION VERIFICATION\\n\")\n",
        "\n",
        "print(\n",
        "    f\"1. TF-IDF Vectorizer:\\n   - Loaded from: {ART / 'vec_final.joblib'}\\n   - Max features: {vec.max_features:,}\\n\"\n",
        ")\n",
        "\n",
        "print(\n",
        "    f\"2. NMF Topic Model:\\n   - Loaded from: {ART / 'nmf_final.joblib'}\\n   - Number of topics: {nmf.n_components}\\n\"\n",
        ")\n",
        "\n",
        "sample_text = df[TEXT_COL].iloc[0]\n",
        "sample_tokens = tokenize(sample_text)\n",
        "\n",
        "X_tfidf_sample = vec.transform([sample_tokens])\n",
        "W_topics_sample = nmf.transform(X_tfidf_sample)\n",
        "\n",
        "doc_len_val = len(sample_tokens)\n",
        "has_url_val = int(\"http\" in sample_text.lower())\n",
        "nrc_val = df.get(\"anxiety_score\", pd.Series(0)).iloc[0]\n",
        "\n",
        "print(\n",
        "    f\"3. Feature Matrix Dimensions (for 1 sample):\\n   - TF-IDF shape: {X_tfidf_sample.shape}\\n   - NMF topics shape: {W_topics_sample.shape}\\n   - Metadata features: 3 (len={doc_len_val}, url={has_url_val}, nrc={nrc_val:.3f})\\n\"\n",
        ")\n",
        "\n",
        "total_features = X_tfidf_sample.shape[1] + W_topics_sample.shape[1] + 3\n",
        "print(f\"TOTAL FEATURE COUNT: {total_features:,} features\")"
      ]
    },
    {
      "cell_type": "markdown",
      "metadata": {},
      "source": [
        "---\n"
      ]
    },
    {
      "cell_type": "markdown",
      "metadata": {},
      "source": [
        "## **3. Create Three Label Sets**\n",
        "\n",
        "Hand-annotated, AI-generated, and a combined set prioritizing hand labels on overlap.\n"
      ]
    },
    {
      "cell_type": "code",
      "execution_count": 5,
      "metadata": {},
      "outputs": [
        {
          "name": "stdout",
          "output_type": "stream",
          "text": [
            "Processing HAND labels...\n",
            "  Hand: 599 posts (pos: 114, 19.0%)\n",
            "Processing AI labels...\n",
            "  AI: 1000 posts (pos: 147, 14.7%)\n",
            "Combining labels...\n",
            "  Combined: 1006 posts (pos: 173, 17.2%)\n",
            "\n",
            "✓ Created 3 label sets: ['hand', 'ai', 'combined']\n"
          ]
        }
      ],
      "source": [
        "# ============================================================================\n",
        "# CREATE LABEL SETS FOR MODEL TRAINING\n",
        "# ============================================================================\n",
        "\n",
        "label_sets = {}\n",
        "\n",
        "# Hand labels\n",
        "print(\"Processing HAND labels...\")\n",
        "df_h = df_hand[[\"post_id\"]].copy()\n",
        "if \"anxiety_rating\" in df_hand.columns:\n",
        "    rating = pd.to_numeric(df_hand[\"anxiety_rating\"], errors=\"coerce\")\n",
        "    df_h[\"label\"] = (rating >= 4).astype(int)\n",
        "else:\n",
        "    raise ValueError(\"anxiety_rating column not found in hand-annotated data\")\n",
        "print(\n",
        "    f\"  Hand: {len(df_h)} posts (pos: {df_h['label'].sum()}, {100*df_h['label'].mean():.1f}%)\"\n",
        ")\n",
        "label_sets[\"hand\"] = df_h\n",
        "\n",
        "# AI labels\n",
        "print(\"Processing AI labels...\")\n",
        "cat = df_ai[\"ai_category\"].astype(str).str.lower()\n",
        "conf = pd.to_numeric(df_ai[\"ai_confidence\"], errors=\"coerce\").fillna(0)\n",
        "sev = pd.to_numeric(df_ai[\"ai_severity\"], errors=\"coerce\").fillna(0)\n",
        "\n",
        "df_a = df_ai[[\"post_id\"]].copy()\n",
        "df_a[\"label\"] = (\n",
        "    (cat.str.contains(\"anx\") | cat.str.contains(\"panic\")) & (sev >= 4) & (conf >= 0.5)\n",
        ").astype(int)\n",
        "print(\n",
        "    f\"  AI: {len(df_a)} posts (pos: {df_a['label'].sum()}, {100*df_a['label'].mean():.1f}%)\"\n",
        ")\n",
        "label_sets[\"ai\"] = df_a\n",
        "\n",
        "# Combined (prioritize hand)\n",
        "print(\"Combining labels...\")\n",
        "df_h_temp = df_h.copy()\n",
        "df_h_temp[\"source\"] = \"hand\"\n",
        "df_a_temp = df_a.copy()\n",
        "df_a_temp[\"source\"] = \"ai\"\n",
        "\n",
        "df_comb = pd.concat([df_h_temp, df_a_temp], ignore_index=True)\n",
        "df_comb = df_comb.sort_values(\"source\").drop_duplicates(\"post_id\", keep=\"last\")\n",
        "print(\n",
        "    f\"  Combined: {len(df_comb)} posts (pos: {df_comb['label'].sum()}, {100*df_comb['label'].mean():.1f}%)\"\n",
        ")\n",
        "label_sets[\"combined\"] = df_comb[[\"post_id\", \"label\"]]\n",
        "\n",
        "print(f\"\\n\\u2713 Created 3 label sets: {list(label_sets.keys())}\")"
      ]
    },
    {
      "cell_type": "markdown",
      "metadata": {},
      "source": [
        "## **4. Build Features**\n",
        "\n",
        "Use the same three-part feature composition: TF-IDF, NMF topic distributions, and metadata (doc length, URL flag, NRC anxiety score).\n"
      ]
    },
    {
      "cell_type": "code",
      "execution_count": 6,
      "metadata": {},
      "outputs": [
        {
          "name": "stdout",
          "output_type": "stream",
          "text": [
            "hand       | X: (599, 10018) | y:  599 (pos: 114, 19.0%)\n",
            "ai         | X: (1000, 10018) | y: 1000 (pos: 147, 14.7%)\n",
            "combined   | X: (1006, 10018) | y: 1006 (pos: 173, 17.2%)\n",
            "\n",
            "✓ Built features for all 3 datasets\n"
          ]
        }
      ],
      "source": [
        "# ============================================================================\n",
        "# BUILD FEATURES FOR EACH LABEL SET\n",
        "# ============================================================================\n",
        "\n",
        "datasets = {}\n",
        "\n",
        "for name, df_labels in label_sets.items():\n",
        "    # Match and merge labels\n",
        "    df_subset = df[df[\"post_id\"].isin(df_labels[\"post_id\"])].copy()\n",
        "    df_subset = df_subset.merge(df_labels, on=\"post_id\", how=\"inner\")\n",
        "\n",
        "    # Tokenize\n",
        "    tokens = df_subset[TEXT_COL].fillna(\"\").map(tokenize)\n",
        "\n",
        "    # Feature 1: TF-IDF\n",
        "    X_tfidf = vec.transform(tokens)\n",
        "\n",
        "    # Feature 2: NMF topics\n",
        "    W_topics = nmf.transform(X_tfidf)\n",
        "\n",
        "    # Feature 3: Metadata\n",
        "    doc_len = np.array([len(t) for t in tokens])[:, None]\n",
        "    has_url = (\n",
        "        df_subset[TEXT_COL]\n",
        "        .fillna(\"\")\n",
        "        .str.contains(\"http\", case=False)\n",
        "        .astype(int)\n",
        "        .values[:, None]\n",
        "    )\n",
        "    nrc = (\n",
        "        df_subset.get(\"anxiety_score\", pd.Series(0, index=df_subset.index))\n",
        "        .fillna(0)\n",
        "        .values[:, None]\n",
        "    )\n",
        "\n",
        "    # Combine\n",
        "    X_dense = np.hstack([W_topics, doc_len, has_url, nrc])\n",
        "    X_dense = np.nan_to_num(X_dense, nan=0.0)\n",
        "    X = hstack([X_tfidf, csr_matrix(X_dense)], format=\"csr\")\n",
        "    X.data = np.nan_to_num(X.data, nan=0.0)\n",
        "\n",
        "    y = df_subset[\"label\"].values\n",
        "    datasets[name] = {\"X\": X, \"y\": y}\n",
        "\n",
        "    print(\n",
        "        f\"{name:10s} | X: {X.shape} | y: {len(y):4d} (pos: {y.sum():3d}, {100*y.mean():4.1f}%)\"\n",
        "    )\n",
        "\n",
        "print(f\"\\n\\u2713 Built features for all 3 datasets\")"
      ]
    },
    {
      "cell_type": "markdown",
      "metadata": {},
      "source": [
        "## **5. Train and Compare**\n",
        "\n",
        "Method: 80/20 split, Logistic Regression (liblinear/saga), optimize F1 threshold. Mirrors RF notebook for fair comparison.\n"
      ]
    },
    {
      "cell_type": "code",
      "execution_count": 7,
      "metadata": {},
      "outputs": [
        {
          "name": "stdout",
          "output_type": "stream",
          "text": [
            "\n",
            "TRAINING: HAND\n",
            "============================================================\n",
            "Train: 479 samples | Test: 120 samples\n",
            "Class balance - Train: 19.0% | Test: 19.2% positive\n",
            "\n",
            "Training Logistic Regression...\n",
            "\n",
            "Performance Metrics:\n",
            "  AUC: 0.870\n",
            "  Average Precision: 0.656\n",
            "  Optimal threshold (max F1): 0.571\n",
            "\n",
            "Classification Report at threshold 0.571:\n",
            "              precision    recall  f1-score   support\n",
            "\n",
            " Low Anxiety      0.933     0.866     0.898        97\n",
            "High Anxiety      0.567     0.739     0.642        23\n",
            "\n",
            "    accuracy                          0.842       120\n",
            "   macro avg      0.750     0.803     0.770       120\n",
            "weighted avg      0.863     0.842     0.849       120\n",
            "\n",
            "\n",
            "TRAINING: AI\n",
            "============================================================\n",
            "Train: 800 samples | Test: 200 samples\n",
            "Class balance - Train: 14.8% | Test: 14.5% positive\n",
            "\n",
            "Training Logistic Regression...\n",
            "\n",
            "Performance Metrics:\n",
            "  AUC: 0.840\n",
            "  Average Precision: 0.461\n",
            "  Optimal threshold (max F1): 0.529\n",
            "\n",
            "Classification Report at threshold 0.529:\n",
            "              precision    recall  f1-score   support\n",
            "\n",
            " Low Anxiety      0.944     0.789     0.860       171\n",
            "High Anxiety      0.368     0.724     0.488        29\n",
            "\n",
            "    accuracy                          0.780       200\n",
            "   macro avg      0.656     0.757     0.674       200\n",
            "weighted avg      0.861     0.780     0.806       200\n",
            "\n",
            "\n",
            "TRAINING: COMBINED\n",
            "============================================================\n",
            "Train: 804 samples | Test: 202 samples\n",
            "Class balance - Train: 17.2% | Test: 17.3% positive\n",
            "\n",
            "Training Logistic Regression...\n",
            "\n",
            "Performance Metrics:\n",
            "  AUC: 0.878\n",
            "  Average Precision: 0.624\n",
            "  Optimal threshold (max F1): 0.735\n",
            "\n",
            "Classification Report at threshold 0.735:\n",
            "              precision    recall  f1-score   support\n",
            "\n",
            " Low Anxiety      0.917     0.928     0.923       167\n",
            "High Anxiety      0.636     0.600     0.618        35\n",
            "\n",
            "    accuracy                          0.871       202\n",
            "   macro avg      0.777     0.764     0.770       202\n",
            "weighted avg      0.869     0.871     0.870       202\n",
            "\n",
            "\n",
            "============================================================\n",
            "FINAL COMPARISON: Label Source Performance\n",
            "============================================================\n",
            "  source    n  pos_rate      auc       ap  threshold\n",
            "combined 1006  0.171968 0.877844 0.623676   0.735012\n",
            "    hand  599  0.190317 0.869565 0.656300   0.570995\n",
            "      ai 1000  0.147000 0.839887 0.461328   0.528697\n",
            "\n",
            "============================================================\n",
            "\n",
            "✓ Saved comparison results to: ..\\artifacts\\label_comparison_logreg.csv\n"
          ]
        }
      ],
      "source": [
        "# ============================================================================\n",
        "# TRAIN LOGISTIC REGRESSION ON EACH LABEL SOURCE\n",
        "# ============================================================================\n",
        "\n",
        "results = []\n",
        "\n",
        "for name in [\"hand\", \"ai\", \"combined\"]:\n",
        "    print(f\"\\nTRAINING: {name.upper()}\")\n",
        "    print(\"=\" * 60)\n",
        "\n",
        "    X = datasets[name][\"X\"]\n",
        "    y = datasets[name][\"y\"]\n",
        "\n",
        "    X_train, X_test, y_train, y_test = train_test_split(\n",
        "        X, y, test_size=0.20, stratify=y, random_state=SEED\n",
        "    )\n",
        "\n",
        "    print(f\"Train: {len(y_train)} samples | Test: {len(y_test)} samples\")\n",
        "    print(\n",
        "        f\"Class balance - Train: {y_train.mean():.1%} | Test: {y_test.mean():.1%} positive\"\n",
        "    )\n",
        "\n",
        "    # Logistic Regression (works well on high-dim sparse TF-IDF)\n",
        "    clf = LogisticRegression(\n",
        "        solver=\"liblinear\",  # robust on small, imbalanced datasets\n",
        "        penalty=\"l2\",\n",
        "        class_weight=\"balanced\",  # handle ~15-20% positives\n",
        "        max_iter=2000,\n",
        "    )\n",
        "\n",
        "    print(\"\\nTraining Logistic Regression...\")\n",
        "    clf.fit(X_train, y_train)\n",
        "\n",
        "    proba = clf.predict_proba(X_test)[:, 1]\n",
        "\n",
        "    auc = roc_auc_score(y_test, proba)\n",
        "    ap = average_precision_score(y_test, proba)\n",
        "\n",
        "    p, r, t = precision_recall_curve(y_test, proba)\n",
        "    f1 = 2 * p * r / (p + r + 1e-10)\n",
        "    best_thr = t[np.argmax(f1)] if len(t) else 0.5\n",
        "\n",
        "    y_pred = (proba >= best_thr).astype(int)\n",
        "\n",
        "    print(f\"\\nPerformance Metrics:\")\n",
        "    print(f\"  AUC: {auc:.3f}\")\n",
        "    print(f\"  Average Precision: {ap:.3f}\")\n",
        "    print(f\"  Optimal threshold (max F1): {best_thr:.3f}\")\n",
        "    print(f\"\\nClassification Report at threshold {best_thr:.3f}:\")\n",
        "    print(\n",
        "        classification_report(\n",
        "            y_test, y_pred, digits=3, target_names=[\"Low Anxiety\", \"High Anxiety\"]\n",
        "        )\n",
        "    )\n",
        "\n",
        "    results.append(\n",
        "        {\n",
        "            \"source\": name,\n",
        "            \"n\": len(y),\n",
        "            \"pos_rate\": y.mean(),\n",
        "            \"auc\": auc,\n",
        "            \"ap\": ap,\n",
        "            \"threshold\": float(best_thr),\n",
        "            \"model\": clf,\n",
        "        }\n",
        "    )\n",
        "\n",
        "# Comparison table\n",
        "_df_results = (\n",
        "    pd.DataFrame(results).sort_values(\"auc\", ascending=False).reset_index(drop=True)\n",
        ")\n",
        "print(\"\\n\" + \"=\" * 60)\n",
        "print(\"FINAL COMPARISON: Label Source Performance\")\n",
        "print(\"=\" * 60)\n",
        "print(\n",
        "    _df_results[[\"source\", \"n\", \"pos_rate\", \"auc\", \"ap\", \"threshold\"]].to_string(\n",
        "        index=False\n",
        "    )\n",
        ")\n",
        "print(\"\\n\" + \"=\" * 60)\n",
        "\n",
        "# Save comparison\n",
        "cmp_path = ART / \"label_comparison_logreg.csv\"\n",
        "_df_results.to_csv(cmp_path, index=False)\n",
        "print(f\"\\n\\u2713 Saved comparison results to: {cmp_path}\")\n",
        "\n",
        "# Expose for later cells\n",
        "df_results = _df_results"
      ]
    },
    {
      "cell_type": "markdown",
      "metadata": {},
      "source": [
        "#### **Visualize Label Source Comparison**\n"
      ]
    },
    {
      "cell_type": "code",
      "execution_count": 8,
      "metadata": {},
      "outputs": [
        {
          "data": {
            "image/png": "[encoded data removed]",
            "text/plain": [
              "<Figure size 1200x700 with 1 Axes>"
            ]
          },
          "metadata": {},
          "output_type": "display_data"
        },
        {
          "name": "stdout",
          "output_type": "stream",
          "text": [
            "✓ Saved visualization: ..\\artifacts\\images\\final_comparison_logreg.png\n"
          ]
        }
      ],
      "source": [
        "# Visualization\n",
        "fig, ax = plt.subplots(figsize=(12, 7))\n",
        "colors = {\"hand\": \"#818CF8\", \"ai\": \"#2DD4BF\", \"combined\": \"#34D399\"}\n",
        "\n",
        "x_positions = np.arange(len(df_results))\n",
        "ax.bar(\n",
        "    x_positions,\n",
        "    df_results[\"auc\"],\n",
        "    color=[colors[s] for s in df_results[\"source\"]],\n",
        "    width=0.65,\n",
        "    edgecolor=\"#1a1a1a\",\n",
        "    linewidth=1.5,\n",
        "    alpha=0.9,\n",
        ")\n",
        "\n",
        "ax.set_xticks(x_positions)\n",
        "ax.set_xticklabels(\n",
        "    [s.upper() for s in df_results[\"source\"]], fontsize=13, fontweight=\"bold\"\n",
        ")\n",
        "ax.set_ylabel(\"AUC Score\", fontsize=14, fontweight=\"bold\")\n",
        "ax.set_ylim([0.70, 1.0])\n",
        "ax.set_yticks(np.arange(0.70, 1.05, 0.05))\n",
        "ax.grid(axis=\"y\", alpha=0.2, linestyle=\"--\", linewidth=0.8)\n",
        "\n",
        "for i, (_, row) in enumerate(df_results.iterrows()):\n",
        "    ax.text(\n",
        "        i,\n",
        "        row[\"auc\"] + 0.015,\n",
        "        f'{row[\"auc\"]:.3f}\\nn={int(row[\"n\"])}',\n",
        "        ha=\"center\",\n",
        "        va=\"bottom\",\n",
        "        fontweight=\"bold\",\n",
        "        fontsize=11,\n",
        "        bbox=dict(\n",
        "            boxstyle=\"round,pad=0.5\", facecolor=\"white\", edgecolor=\"none\", alpha=0.8\n",
        "        ),\n",
        "    )\n",
        "\n",
        "plt.tight_layout()\n",
        "img_path = ART / \"images/final_comparison_logreg.png\"\n",
        "img_path.parent.mkdir(parents=True, exist_ok=True)\n",
        "plt.savefig(img_path, dpi=300, bbox_inches=\"tight\", facecolor=\"white\")\n",
        "plt.show()\n",
        "print(f\"\\u2713 Saved visualization: {img_path}\")"
      ]
    },
    {
      "cell_type": "markdown",
      "metadata": {},
      "source": [
        "## **6. Save Model for Production**\n",
        "\n",
        "Retrain the combined-label model on the full dataset and save artifacts (separate filenames from RF).\n"
      ]
    },
    {
      "cell_type": "code",
      "execution_count": 9,
      "metadata": {},
      "outputs": [
        {
          "name": "stdout",
          "output_type": "stream",
          "text": [
            "Retraining logistic regression (COMBINED) on full dataset...\n",
            "  Training samples: 1,006\n",
            "  Positive class: 173 (17.2%)\n",
            "\n",
            "Training...\n",
            "✓ Training complete\n",
            "\n",
            "✓ Model saved to: ..\\artifacts\\logreg_binary_pipe.joblib\n",
            "✓ Metadata saved to: ..\\artifacts\\triggerlens_logreg_model_meta.json\n"
          ]
        }
      ],
      "source": [
        "# ============================================================================\n",
        "# RETRAIN BEST MODEL (COMBINED) ON FULL DATASET AND SAVE\n",
        "# ============================================================================\n",
        "\n",
        "print(\"Retraining logistic regression (COMBINED) on full dataset...\")\n",
        "X_full = datasets[\"combined\"][\"X\"]\n",
        "y_full = datasets[\"combined\"][\"y\"]\n",
        "\n",
        "print(f\"  Training samples: {len(y_full):,}\")\n",
        "print(f\"  Positive class: {y_full.sum()} ({100*y_full.mean():.1f}%)\")\n",
        "\n",
        "best_model = LogisticRegression(\n",
        "    solver=\"liblinear\",\n",
        "    penalty=\"l2\",\n",
        "    class_weight=\"balanced\",\n",
        "    max_iter=4000,\n",
        ")\n",
        "\n",
        "print(\"\\nTraining...\")\n",
        "best_model.fit(X_full, y_full)\n",
        "print(\"\\u2713 Training complete\")\n",
        "\n",
        "# Save model and metadata\n",
        "model_path = (\n",
        "    ART / \"logreg_multiclass_pipe.joblib\"\n",
        "    if len(np.unique(y_full)) > 2\n",
        "    else ART / \"logreg_binary_pipe.joblib\"\n",
        ")\n",
        "joblib.dump(best_model, model_path)\n",
        "\n",
        "metadata = {\n",
        "    \"model_type\": \"LogisticRegression\",\n",
        "    \"label_source\": \"combined (hand + AI)\",\n",
        "    \"training_info\": {\n",
        "        \"n_samples\": int(len(y_full)),\n",
        "        \"n_positive\": int(y_full.sum()),\n",
        "        \"positive_rate\": float(y_full.mean()),\n",
        "    },\n",
        "    \"performance\": {\n",
        "        \"validation\": (\n",
        "            df_results[df_results[\"source\"] == \"combined\"][\n",
        "                [\"auc\", \"ap\", \"threshold\"]\n",
        "            ].to_dict(\"records\")[0]\n",
        "            if (df_results[\"source\"] == \"combined\").any()\n",
        "            else {}\n",
        "        )\n",
        "    },\n",
        "    \"features\": {\n",
        "        \"tfidf_vocab_size\": int(getattr(vec, \"max_features\", 0)),\n",
        "        \"nmf_topics\": int(getattr(nmf, \"n_components\", 0)),\n",
        "        \"metadata_features\": 3,\n",
        "        \"total_features\": int(\n",
        "            (getattr(vec, \"max_features\", 0) or 0) + getattr(nmf, \"n_components\", 0) + 3\n",
        "        ),\n",
        "    },\n",
        "    \"preprocessing\": {\n",
        "        \"vectorizer_path\": \"vec_final.joblib\",\n",
        "        \"nmf_model_path\": \"nmf_final.joblib\",\n",
        "        \"text_column\": TEXT_COL,\n",
        "    },\n",
        "    \"date_trained\": pd.Timestamp.now().isoformat(),\n",
        "    \"random_seed\": SEED,\n",
        "}\n",
        "\n",
        "meta_path = ART / \"triggerlens_logreg_model_meta.json\"\n",
        "with open(meta_path, \"w\") as f:\n",
        "    json.dump(metadata, f, indent=2)\n",
        "\n",
        "print(f\"\\n\\u2713 Model saved to: {model_path}\")\n",
        "print(f\"\\u2713 Metadata saved to: {meta_path}\")"
      ]
    },
    {
      "cell_type": "markdown",
      "metadata": {},
      "source": [
        "## **7. Generate Report Statistics**\n",
        "\n",
        "Summarize datasets and validation metrics; save a concise report file.\n"
      ]
    },
    {
      "cell_type": "code",
      "execution_count": 10,
      "metadata": {},
      "outputs": [
        {
          "name": "stdout",
          "output_type": "stream",
          "text": [
            "\n",
            " Dataset Summary:\n",
            "  Total posts collected: 6,283\n",
            "  Labeled posts (combined): 1,006\n",
            "  - Hand-labeled: 599\n",
            "  - AI-labeled: 401\n",
            "\n",
            " Model Performance (Validation):\n",
            "  source      auc       ap  threshold    n\n",
            "combined 0.877844 0.623676   0.735012 1006\n",
            "    hand 0.869565 0.656300   0.570995  599\n",
            "      ai 0.839887 0.461328   0.528697 1000\n",
            "\n",
            "✓ Saved report_statistics_logreg.txt to: ..\\artifacts\\report_statistics_logreg.txt\n"
          ]
        }
      ],
      "source": [
        "# Summary and report\n",
        "print(\"\\n Dataset Summary:\")\n",
        "print(f\"  Total posts collected: {len(df):,}\")\n",
        "print(f\"  Labeled posts (combined): {len(datasets['combined']['y']):,}\")\n",
        "print(f\"  - Hand-labeled: {len(datasets['hand']['y'])}\")\n",
        "print(f\"  - AI-labeled: {len(datasets['ai']['y']) - len(datasets['hand']['y'])}\")\n",
        "\n",
        "print(\"\\n Model Performance (Validation):\")\n",
        "print(df_results[[\"source\", \"auc\", \"ap\", \"threshold\", \"n\"]].to_string(index=False))\n",
        "\n",
        "report_path = ART / \"report_statistics_logreg.txt\"\n",
        "with open(report_path, \"w\") as f:\n",
        "    f.write(\"Logistic Regression Statistics\\n\")\n",
        "    f.write(\"=\" * 60 + \"\\n\\n\")\n",
        "    f.write(f\"Total posts: {len(df):,}\\n\")\n",
        "    f.write(f\"Labeled posts: {len(datasets['combined']['y']):,}\\n\")\n",
        "    for _, row in df_results.iterrows():\n",
        "        f.write(\n",
        "            f\"- {row['source']}: AUC = {row['auc']:.3f}, AP = {row['ap']:.3f}, thr = {row['threshold']:.3f}, n = {int(row['n'])}\\n\"\n",
        "        )\n",
        "\n",
        "print(f\"\\n\\u2713 Saved report_statistics_logreg.txt to: {report_path}\")"
      ]
    },
    {
      "cell_type": "markdown",
      "metadata": {},
      "source": [
        "## **8. Limitations and Future Work**\n",
        "\n",
        "- Single-annotator constraint remains; multi-annotator validation and agreement metrics recommended.\n",
        "- Linear model offers interpretability via coefficients; consider analyzing top positive/negative n-grams.\n",
        "- Explore calibrated probabilities (Platt scaling/Isotonic) and threshold tuning per application needs.\n"
      ]
    }
  ],
  "metadata": {
    "kernelspec": {
      "display_name": ".venv",
      "language": "python",
      "name": "python3"
    },
    "language_info": {
      "codemirror_mode": {
        "name": "ipython",
        "version": 3
      },
      "file_extension": ".py",
      "mimetype": "text/x-python",
      "name": "python",
      "nbconvert_exporter": "python",
      "pygments_lexer": "ipython3",
      "version": "3.11.3"
    }
  },
  "nbformat": 4,
  "nbformat_minor": 2
}
